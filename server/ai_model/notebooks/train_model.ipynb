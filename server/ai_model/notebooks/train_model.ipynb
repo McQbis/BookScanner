{
 "cells": [
  {
   "cell_type": "markdown",
   "metadata": {},
   "source": [
    "# Training a neural network model to generate a document deformation mesh in an image.\n",
    "\n",
    "Author: Maciej Kubiś\n",
    "\n",
    "Date: 2025-03-24\n",
    "\n",
    "The notebook will allow training of various AI models created using pytorch or tensorflow. Two architectures will be trained: FCN, U-Net"
   ]
  },
  {
   "cell_type": "code",
   "execution_count": 1,
   "metadata": {},
   "outputs": [],
   "source": [
    "import torch\n",
    "import torch.nn as nn\n",
    "import matplotlib.pyplot as plt\n",
    "import importlib.util\n",
    "import sys\n",
    "\n",
    "sys.path.append(\"../src\") \n",
    "\n",
    "spec = importlib.util.spec_from_file_location(\"data_generator\", \"../src/data_generator.py\")\n",
    "data_generator = importlib.util.module_from_spec(spec)\n",
    "spec.loader.exec_module(data_generator)\n",
    "\n",
    "spec = importlib.util.spec_from_file_location(\"neuralnet_handler\", \"../src/neuralnet_handler.py\")\n",
    "neuralnet_handler = importlib.util.module_from_spec(spec)\n",
    "spec.loader.exec_module(neuralnet_handler)"
   ]
  },
  {
   "cell_type": "markdown",
   "metadata": {},
   "source": [
    "## Configuration\n",
    "\n",
    "It is possible to set device where will be handle neural network. Image gnerator require file with any text to produce random content of documents."
   ]
  },
  {
   "cell_type": "code",
   "execution_count": null,
   "metadata": {},
   "outputs": [],
   "source": [
    "device = \"cuda\" if torch.cuda.is_available() else \"cpu\"\n",
    "generator = data_generator.DocumentImageGenerator(\"../src/assets/text.txt\")\n",
    "\n",
    "nn_handler = neuralnet_handler.NeuralNetHandler(None, generator, device, 5, 0.001, 5)"
   ]
  },
  {
   "cell_type": "markdown",
   "metadata": {},
   "source": [
    "## U-Net using PyTorch"
   ]
  },
  {
   "cell_type": "code",
   "execution_count": null,
   "metadata": {},
   "outputs": [],
   "source": [
    "class UNetTorchModel(nn.Module):\n",
    "    def __init__(self, hidden_dim=64):\n",
    "        super(UNetTorchModel, self).__init__()\n",
    "        # Encoder part\n",
    "        self.encoder = nn.Sequential(\n",
    "            nn.Conv2d(1, hidden_dim, kernel_size=3, padding=1),\n",
    "            nn.BatchNorm2d(hidden_dim),\n",
    "            nn.ReLU(inplace=True),\n",
    "            nn.MaxPool2d(kernel_size=2, stride=2),\n",
    "            \n",
    "            nn.Conv2d(hidden_dim, hidden_dim*2, kernel_size=3, padding=1),\n",
    "            nn.BatchNorm2d(hidden_dim*2),\n",
    "            nn.ReLU(inplace=True),\n",
    "            nn.MaxPool2d(kernel_size=2, stride=2),\n",
    "            \n",
    "            nn.Conv2d(hidden_dim*2, hidden_dim*4, kernel_size=3, padding=1),\n",
    "            nn.BatchNorm2d(hidden_dim*4),\n",
    "            nn.ReLU(inplace=True)\n",
    "        )\n",
    "        \n",
    "        # Decoder part\n",
    "        self.decoder = nn.Sequential(\n",
    "            nn.Conv2d(hidden_dim*4, hidden_dim*2, kernel_size=3, padding=1),\n",
    "            nn.BatchNorm2d(hidden_dim*2),\n",
    "            nn.ReLU(inplace=True),\n",
    "            nn.Upsample(scale_factor=2, mode='bilinear', align_corners=True),\n",
    "            \n",
    "            nn.Conv2d(hidden_dim*2, hidden_dim, kernel_size=3, padding=1),\n",
    "            nn.BatchNorm2d(hidden_dim),\n",
    "            nn.ReLU(inplace=True),\n",
    "            nn.Upsample(scale_factor=2, mode='bilinear', align_corners=True),\n",
    "            \n",
    "            nn.Conv2d(hidden_dim, 2, kernel_size=3, padding=1),\n",
    "        )\n",
    "        \n",
    "    def forward(self, x):\n",
    "        # Get input dimensions\n",
    "        batch_size, channels, height, width = x.shape\n",
    "        \n",
    "        # Pass through encoder\n",
    "        features = self.encoder(x)\n",
    "        \n",
    "        # Pass through decoder\n",
    "        offsets = self.decoder(features)\n",
    "        \n",
    "        # Resize to input dimensions if necessary\n",
    "        if offsets.shape[2:] != (height, width):\n",
    "            offsets = nn.functional.interpolate(offsets, size=(height, width), mode='bilinear', align_corners=True)\n",
    "        \n",
    "        return offsets\n",
    "    \n",
    "model = UNetTorchModel()\n",
    "\n",
    "nn_handler.set_model(model, \"unet_torch_model\") "
   ]
  },
  {
   "cell_type": "code",
   "execution_count": null,
   "metadata": {},
   "outputs": [],
   "source": [
    "nn_handler.train()\n",
    "\n",
    "# Clear the output before plotting\n",
    "from IPython.display import clear_output\n",
    "clear_output(wait=True)\n",
    "\n",
    "# Plot training progress\n",
    "plt.figure(figsize=(10, 5))\n",
    "plt.plot(nn_handler.get_train_losses(), label='Training Loss')\n",
    "plt.plot(nn_handler.get_val_losses(), label='Validation Loss')\n",
    "plt.xlabel('Epochs')\n",
    "plt.ylabel('Loss')\n",
    "plt.title('Training and Validation Loss U-Net PyTorch')\n",
    "plt.legend()\n",
    "plt.show()"
   ]
  },
  {
   "cell_type": "code",
   "execution_count": null,
   "metadata": {},
   "outputs": [],
   "source": [
    "nn_handler.save_model(\"../models/unet_torch_model.pth\")"
   ]
  }
 ],
 "metadata": {
  "kernelspec": {
   "display_name": ".venv",
   "language": "python",
   "name": "python3"
  },
  "language_info": {
   "codemirror_mode": {
    "name": "ipython",
    "version": 3
   },
   "file_extension": ".py",
   "mimetype": "text/x-python",
   "name": "python",
   "nbconvert_exporter": "python",
   "pygments_lexer": "ipython3",
   "version": "3.12.3"
  }
 },
 "nbformat": 4,
 "nbformat_minor": 2
}
