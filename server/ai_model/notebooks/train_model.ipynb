{
 "cells": [
  {
   "cell_type": "markdown",
   "metadata": {},
   "source": [
    "# Training a neural network model to generate a document deformation mesh in an image.\n",
    "\n",
    "Author: Maciej Kubiś\n",
    "\n",
    "Date: 2025-03-24\n",
    "\n",
    "The notebook will allow training of various AI models created using **PyTorch**. Various architectures modeled on **U-Net** will be tested."
   ]
  },
  {
   "cell_type": "code",
   "execution_count": 1,
   "metadata": {},
   "outputs": [],
   "source": [
    "import torch\n",
    "import torch.nn as nn\n",
    "import matplotlib.pyplot as plt\n",
    "import importlib.util\n",
    "import sys\n",
    "\n",
    "sys.path.append(\"../src\") \n",
    "\n",
    "spec = importlib.util.spec_from_file_location(\"data_generator\", \"../src/data_generator.py\")\n",
    "data_generator = importlib.util.module_from_spec(spec)\n",
    "spec.loader.exec_module(data_generator)\n",
    "\n",
    "spec = importlib.util.spec_from_file_location(\"neuralnet_handler\", \"../src/neuralnet_handler.py\")\n",
    "neuralnet_handler = importlib.util.module_from_spec(spec)\n",
    "spec.loader.exec_module(neuralnet_handler)"
   ]
  },
  {
   "cell_type": "markdown",
   "metadata": {},
   "source": [
    "## Configuration\n",
    "\n",
    "It is possible to set device where will be handle neural network. Image generator require file with any text to produce random content of documents."
   ]
  },
  {
   "cell_type": "code",
   "execution_count": 2,
   "metadata": {},
   "outputs": [],
   "source": [
    "device = \"cuda\" if torch.cuda.is_available() else \"cpu\"\n",
    "generator = data_generator.DocumentImageGenerator(\"../src/assets/text.txt\")\n",
    "\n",
    "nn_handler = neuralnet_handler.NeuralNetHandler(None, generator, device, 2, 0.001, 2)"
   ]
  },
  {
   "cell_type": "markdown",
   "metadata": {},
   "source": [
    "## U-Net with batch normalization"
   ]
  },
  {
   "cell_type": "code",
   "execution_count": 3,
   "metadata": {},
   "outputs": [],
   "source": [
    "class UNet(nn.Module):\n",
    "    def __init__(self, hidden_dim=64):\n",
    "        super(UNet, self).__init__()\n",
    "        # Encoder part\n",
    "        self.encoder = nn.Sequential(\n",
    "            nn.Conv2d(1, hidden_dim, kernel_size=3, padding=1),\n",
    "            nn.BatchNorm2d(hidden_dim),\n",
    "            nn.ReLU(inplace=True),\n",
    "            nn.MaxPool2d(kernel_size=2, stride=2),\n",
    "            \n",
    "            nn.Conv2d(hidden_dim, hidden_dim*2, kernel_size=3, padding=1),\n",
    "            nn.BatchNorm2d(hidden_dim*2),\n",
    "            nn.ReLU(inplace=True),\n",
    "            nn.MaxPool2d(kernel_size=2, stride=2),\n",
    "            \n",
    "            nn.Conv2d(hidden_dim*2, hidden_dim*4, kernel_size=3, padding=1),\n",
    "            nn.BatchNorm2d(hidden_dim*4),\n",
    "            nn.ReLU(inplace=True)\n",
    "        )\n",
    "        \n",
    "        # Decoder part\n",
    "        self.decoder = nn.Sequential(\n",
    "            nn.Conv2d(hidden_dim*4, hidden_dim*2, kernel_size=3, padding=1),\n",
    "            nn.BatchNorm2d(hidden_dim*2),\n",
    "            nn.ReLU(inplace=True),\n",
    "            nn.Upsample(scale_factor=2, mode='bilinear', align_corners=True),\n",
    "            \n",
    "            nn.Conv2d(hidden_dim*2, hidden_dim, kernel_size=3, padding=1),\n",
    "            nn.BatchNorm2d(hidden_dim),\n",
    "            nn.ReLU(inplace=True),\n",
    "            nn.Upsample(scale_factor=2, mode='bilinear', align_corners=True),\n",
    "            \n",
    "            nn.Conv2d(hidden_dim, 2, kernel_size=3, padding=1),\n",
    "        )\n",
    "        \n",
    "    def forward(self, x):\n",
    "        # Get input dimensions\n",
    "        batch_size, channels, height, width = x.shape\n",
    "        \n",
    "        # Pass through encoder\n",
    "        features = self.encoder(x)\n",
    "        \n",
    "        # Pass through decoder\n",
    "        offsets = self.decoder(features)\n",
    "        \n",
    "        # Resize to input dimensions if necessary\n",
    "        if offsets.shape[2:] != (height, width):\n",
    "            offsets = nn.functional.interpolate(offsets, size=(height, width), mode='bilinear', align_corners=True)\n",
    "        \n",
    "        return offsets\n",
    "    \n",
    "model = UNet()\n",
    "\n",
    "nn_handler.set_model(model, \"unet\") "
   ]
  },
  {
   "cell_type": "markdown",
   "metadata": {},
   "source": [
    "#### Function for plotting results:"
   ]
  },
  {
   "cell_type": "code",
   "execution_count": 4,
   "metadata": {},
   "outputs": [],
   "source": [
    "def plot():\n",
    "    # Clear the output before plotting\n",
    "    from IPython.display import clear_output\n",
    "    clear_output(wait=True)\n",
    "\n",
    "    # Plot training progress\n",
    "    plt.figure(figsize=(10, 5))\n",
    "    plt.plot(nn_handler.get_train_losses(), label='Training Loss')\n",
    "    plt.plot(nn_handler.get_val_losses(), label='Validation Loss')\n",
    "    plt.xlabel('Epochs')\n",
    "    plt.ylabel('Loss')\n",
    "    plt.title('Training and Validation Loss U-Net PyTorch')\n",
    "    plt.legend()\n",
    "    plt.show()"
   ]
  },
  {
   "cell_type": "markdown",
   "metadata": {},
   "source": [
    "### Training and results"
   ]
  },
  {
   "cell_type": "code",
   "execution_count": 5,
   "metadata": {},
   "outputs": [],
   "source": [
    "nn_handler.train()\n",
    "\n",
    "plot()"
   ]
  },
  {
   "cell_type": "markdown",
   "metadata": {},
   "source": [
    "#### Ensure model save"
   ]
  },
  {
   "cell_type": "code",
   "execution_count": 6,
   "metadata": {},
   "outputs": [],
   "source": [
    "nn_handler.save_model(\"../models/unet.pth\")"
   ]
  },
  {
   "cell_type": "markdown",
   "metadata": {},
   "source": [
    "## U-Net with skip connections"
   ]
  },
  {
   "cell_type": "code",
   "execution_count": null,
   "metadata": {},
   "outputs": [],
   "source": [
    "import torch\n",
    "import torch.nn as nn\n",
    "import torch.nn.functional as F\n",
    "\n",
    "class UNetWithSkip(nn.Module):\n",
    "    def __init__(self, hidden_dim=64):\n",
    "        super(UNetWithSkip, self).__init__()\n",
    "        \n",
    "        # Encoder\n",
    "        self.enc1 = nn.Sequential(\n",
    "            nn.Conv2d(1, hidden_dim, kernel_size=3, padding=1),\n",
    "            nn.BatchNorm2d(hidden_dim),\n",
    "            nn.ReLU(inplace=True),\n",
    "        )\n",
    "        self.pool1 = nn.MaxPool2d(kernel_size=2, stride=2)\n",
    "        \n",
    "        self.enc2 = nn.Sequential(\n",
    "            nn.Conv2d(hidden_dim, hidden_dim*2, kernel_size=3, padding=1),\n",
    "            nn.BatchNorm2d(hidden_dim*2),\n",
    "            nn.ReLU(inplace=True),\n",
    "        )\n",
    "        self.pool2 = nn.MaxPool2d(kernel_size=2, stride=2)\n",
    "        \n",
    "        self.bottleneck = nn.Sequential(\n",
    "            nn.Conv2d(hidden_dim*2, hidden_dim*4, kernel_size=3, padding=1),\n",
    "            nn.BatchNorm2d(hidden_dim*4),\n",
    "            nn.ReLU(inplace=True),\n",
    "        )\n",
    "        \n",
    "        # Decoder\n",
    "        self.up1 = nn.Upsample(scale_factor=2, mode='bilinear', align_corners=True)\n",
    "        self.dec1 = nn.Sequential(\n",
    "            nn.Conv2d(hidden_dim*4 + hidden_dim*2, hidden_dim*2, kernel_size=3, padding=1),\n",
    "            nn.BatchNorm2d(hidden_dim*2),\n",
    "            nn.ReLU(inplace=True),\n",
    "        )\n",
    "        \n",
    "        self.up2 = nn.Upsample(scale_factor=2, mode='bilinear', align_corners=True)\n",
    "        self.dec2 = nn.Sequential(\n",
    "            nn.Conv2d(hidden_dim*2 + hidden_dim, hidden_dim, kernel_size=3, padding=1),\n",
    "            nn.BatchNorm2d(hidden_dim),\n",
    "            nn.ReLU(inplace=True),\n",
    "        )\n",
    "        \n",
    "        self.final_conv = nn.Conv2d(hidden_dim, 2, kernel_size=3, padding=1)\n",
    "\n",
    "    def forward(self, x):\n",
    "        batch_size, channels, height, width = x.shape\n",
    "        \n",
    "        # Encoder path\n",
    "        x1 = self.enc1(x)       # shape: (B, hidden_dim, H, W)\n",
    "        x2 = self.enc2(self.pool1(x1))  # (B, hidden_dim*2, H/2, W/2)\n",
    "        x3 = self.bottleneck(self.pool2(x2))  # (B, hidden_dim*4, H/4, W/4)\n",
    "\n",
    "        # Decoder path\n",
    "        x = self.up1(x3)\n",
    "        if x.shape[2:] != x2.shape[2:]:\n",
    "            x2 = F.interpolate(x2, size=x.shape[2:], mode='bilinear', align_corners=True)\n",
    "        x = self.dec1(torch.cat([x, x2], dim=1))  # concat skip connection\n",
    "\n",
    "        x = self.up2(x)\n",
    "        if x.shape[2:] != x1.shape[2:]:\n",
    "            x1 = F.interpolate(x1, size=x.shape[2:], mode='bilinear', align_corners=True)\n",
    "        x = self.dec2(torch.cat([x, x1], dim=1))  # concat skip connection\n",
    "        \n",
    "        offsets = self.final_conv(x)\n",
    "\n",
    "        # Resize if needed\n",
    "        if offsets.shape[2:] != (height, width):\n",
    "            offsets = F.interpolate(offsets, size=(height, width), mode='bilinear', align_corners=True)\n",
    "\n",
    "        return offsets\n",
    "\n",
    "model = UNetWithSkip()\n",
    "\n",
    "nn_handler.set_model(model, \"unet_with_skip\") "
   ]
  },
  {
   "cell_type": "markdown",
   "metadata": {},
   "source": [
    "### Training and results"
   ]
  },
  {
   "cell_type": "code",
   "execution_count": 8,
   "metadata": {},
   "outputs": [],
   "source": [
    "nn_handler.train()\n",
    "\n",
    "plot()"
   ]
  },
  {
   "cell_type": "markdown",
   "metadata": {},
   "source": [
    "#### Ensure model save"
   ]
  },
  {
   "cell_type": "code",
   "execution_count": null,
   "metadata": {},
   "outputs": [],
   "source": [
    "nn_handler.save_model(\"../models/unet_with_skip.pth\")"
   ]
  },
  {
   "cell_type": "markdown",
   "metadata": {},
   "source": [
    "## Simple U-Net"
   ]
  },
  {
   "cell_type": "code",
   "execution_count": 10,
   "metadata": {},
   "outputs": [],
   "source": [
    "import torch.nn as nn\n",
    "import torch.nn.functional as F\n",
    "\n",
    "class SimpleUNet(nn.Module):\n",
    "    def __init__(self, hidden_dim=64):\n",
    "        super(SimpleUNet, self).__init__()\n",
    "        # Encoder\n",
    "        self.enc1 = nn.Sequential(\n",
    "            nn.Conv2d(1, hidden_dim, kernel_size=3, padding=1),\n",
    "            nn.ReLU(inplace=True),\n",
    "            nn.MaxPool2d(2)\n",
    "        )\n",
    "        self.enc2 = nn.Sequential(\n",
    "            nn.Conv2d(hidden_dim, hidden_dim * 2, kernel_size=3, padding=1),\n",
    "            nn.ReLU(inplace=True),\n",
    "            nn.MaxPool2d(2)\n",
    "        )\n",
    "        \n",
    "        # Decoder\n",
    "        self.dec1 = nn.Sequential(\n",
    "            nn.Conv2d(hidden_dim * 2, hidden_dim, kernel_size=3, padding=1),\n",
    "            nn.ReLU(inplace=True),\n",
    "            nn.Upsample(scale_factor=2, mode='bilinear', align_corners=True)\n",
    "        )\n",
    "        self.dec2 = nn.Sequential(\n",
    "            nn.Conv2d(hidden_dim, 2, kernel_size=3, padding=1),\n",
    "            nn.Upsample(scale_factor=2, mode='bilinear', align_corners=True)\n",
    "        )\n",
    "\n",
    "    def forward(self, x):\n",
    "        h, w = x.shape[2], x.shape[3]\n",
    "\n",
    "        # Encoder\n",
    "        x = self.enc1(x)\n",
    "        x = self.enc2(x)\n",
    "\n",
    "        # Decoder\n",
    "        x = self.dec1(x)\n",
    "        x = self.dec2(x)\n",
    "\n",
    "        # Final size correction\n",
    "        if x.shape[2:] != (h, w):\n",
    "            x = F.interpolate(x, size=(h, w), mode='bilinear', align_corners=True)\n",
    "\n",
    "        return x\n",
    "    \n",
    "model = SimpleUNet()\n",
    "\n",
    "nn_handler.set_model(model, \"simple_unet\") "
   ]
  },
  {
   "cell_type": "markdown",
   "metadata": {},
   "source": [
    "### Training and results"
   ]
  },
  {
   "cell_type": "code",
   "execution_count": 11,
   "metadata": {},
   "outputs": [],
   "source": [
    "nn_handler.train()\n",
    "\n",
    "plot()"
   ]
  },
  {
   "cell_type": "markdown",
   "metadata": {},
   "source": [
    "#### Ensure model save"
   ]
  },
  {
   "cell_type": "code",
   "execution_count": 12,
   "metadata": {},
   "outputs": [],
   "source": [
    "nn_handler.save_model(\"../models/simple_unet.pth\")"
   ]
  }
 ],
 "metadata": {
  "kernelspec": {
   "display_name": ".venv",
   "language": "python",
   "name": "python3"
  },
  "language_info": {
   "codemirror_mode": {
    "name": "ipython",
    "version": 3
   },
   "file_extension": ".py",
   "mimetype": "text/x-python",
   "name": "python",
   "nbconvert_exporter": "python",
   "pygments_lexer": "ipython3",
   "version": "3.12.3"
  }
 },
 "nbformat": 4,
 "nbformat_minor": 2
}
