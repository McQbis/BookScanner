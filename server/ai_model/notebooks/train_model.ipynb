{
 "cells": [
  {
   "cell_type": "markdown",
   "metadata": {},
   "source": [
    "# Training a neural network model to generate a document deformation mesh in an image.\n",
    "\n",
    "Author: Maciej Kubiś\n",
    "\n",
    "Date: 2025-03-24\n",
    "\n",
    "The notebook will allow training of various AI models created using **PyTorch**. Various architectures modeled on **U-Net** will be tested."
   ]
  },
  {
   "cell_type": "code",
   "execution_count": null,
   "metadata": {},
   "outputs": [],
   "source": [
    "import torch\n",
    "import torch.nn as nn\n",
    "import matplotlib.pyplot as plt\n",
    "import importlib.util\n",
    "import sys\n",
    "import torch.nn.functional as F\n",
    "from IPython.display import clear_output\n",
    "\n",
    "sys.path.append(\"../src\") \n",
    "\n",
    "spec = importlib.util.spec_from_file_location(\"data_generator\", \"../src/data_generator.py\")\n",
    "data_generator = importlib.util.module_from_spec(spec)\n",
    "spec.loader.exec_module(data_generator)\n",
    "\n",
    "spec = importlib.util.spec_from_file_location(\"neuralnet_handler\", \"../src/neuralnet_handler.py\")\n",
    "neuralnet_handler = importlib.util.module_from_spec(spec)\n",
    "spec.loader.exec_module(neuralnet_handler)"
   ]
  },
  {
   "cell_type": "markdown",
   "metadata": {},
   "source": [
    "## Configuration\n",
    "\n",
    "It is possible to set device where will be handle neural network. Image generator require file with any text to produce random content of documents."
   ]
  },
  {
   "cell_type": "code",
   "execution_count": 2,
   "metadata": {},
   "outputs": [],
   "source": [
    "device = \"cuda\" if torch.cuda.is_available() else \"cpu\"\n",
    "generator = data_generator.DocumentImageGenerator(\"../src/assets/text.txt\")\n",
    "\n",
    "nn_handler = neuralnet_handler.NeuralNetHandler(None, generator, device, 3000, 0.01, 20)"
   ]
  },
  {
   "cell_type": "markdown",
   "metadata": {},
   "source": [
    "## U-Net model\n",
    "\n",
    "\n",
    "The `UNetFlexible` is a custom implementation of the U-Net architecture designed for grid regression (e.g., predicting (x, y) offsets per pixel). It is built to work with **arbitrary input image sizes**, not just those that are powers of 2.\n",
    "\n",
    "### Architecture Overview\n",
    "\n",
    "- **Encoder**: 3 convolutional blocks with downsampling (`MaxPool2d`), each doubling the number of channels.\n",
    "- **Bottleneck**: A deeper feature extractor that expands feature capacity.\n",
    "- **Decoder**: 3 upsampling blocks using `bilinear interpolation`, followed by `Conv2d` layers and skip connections.\n",
    "- **Final Output**: A `1x1 Conv2d` layer projecting to 2 channels (for `(x, y)` offset prediction per pixel).\n",
    "\n",
    "### Skip Connections\n",
    "\n",
    "The model uses **skip connections** with dynamic interpolation (`F.interpolate`) to **align spatial dimensions** when concatenating encoder and decoder feature maps — this ensures compatibility with **any image size**, including those **not divisible by powers of 2**.\n",
    "\n",
    "### Output Behavior\n",
    "\n",
    "- Input shape: `(N, 1, H, W)` — single-channel grayscale images.\n",
    "- Output shape: `(N, 2, H, W)` — two-channel output with predicted `(x, y)` offsets for each pixel.\n",
    "\n",
    "### Customization\n",
    "\n",
    "- `base_channels`: Controls the number of filters in the first encoder block (default = 64).\n",
    "- Fully convolutional — supports dynamic image sizes at inference without needing resizing to specific dimensions."
   ]
  },
  {
   "cell_type": "code",
   "execution_count": null,
   "metadata": {},
   "outputs": [],
   "source": [
    "class UNetFlexible(nn.Module):\n",
    "    def __init__(self, base_channels=64):\n",
    "        super(UNetFlexible, self).__init__()\n",
    "\n",
    "        # Encoder\n",
    "        self.enc1 = self.conv_block(1, base_channels)\n",
    "        self.enc2 = self.conv_block(base_channels, base_channels * 2)\n",
    "        self.enc3 = self.conv_block(base_channels * 2, base_channels * 4)\n",
    "\n",
    "        self.pool = nn.MaxPool2d(2)\n",
    "\n",
    "        # Bottleneck\n",
    "        self.bottleneck = self.conv_block(base_channels * 4, base_channels * 8)\n",
    "\n",
    "        # Decoder\n",
    "        self.up3 = self.up_block(base_channels * 8, base_channels * 4)\n",
    "        self.up2 = self.up_block(base_channels * 4 * 2, base_channels * 2)\n",
    "        self.up1 = self.up_block(base_channels * 2 * 2, base_channels)\n",
    "\n",
    "        # Final layer\n",
    "        self.final_conv = nn.Conv2d(base_channels * 2, 2, kernel_size=1)  # 2 channels for (x, y) offsets\n",
    "\n",
    "    def conv_block(self, in_ch, out_ch):\n",
    "        return nn.Sequential(\n",
    "            nn.Conv2d(in_ch, out_ch, kernel_size=3, padding=1),\n",
    "            nn.BatchNorm2d(out_ch),\n",
    "            nn.ReLU(inplace=True),\n",
    "            nn.Conv2d(out_ch, out_ch, kernel_size=3, padding=1),\n",
    "            nn.BatchNorm2d(out_ch),\n",
    "            nn.ReLU(inplace=True)\n",
    "        )\n",
    "\n",
    "    def up_block(self, in_ch, out_ch):\n",
    "        return nn.Sequential(\n",
    "            nn.Upsample(scale_factor=2, mode='bilinear', align_corners=True),\n",
    "            nn.Conv2d(in_ch, out_ch, kernel_size=3, padding=1),\n",
    "            nn.BatchNorm2d(out_ch),\n",
    "            nn.ReLU(inplace=True)\n",
    "        )\n",
    "\n",
    "    def forward(self, x):\n",
    "        e1 = self.enc1(x)\n",
    "        e2 = self.enc2(self.pool(e1))\n",
    "        e3 = self.enc3(self.pool(e2))\n",
    "\n",
    "        b = self.bottleneck(self.pool(e3))\n",
    "\n",
    "        d3 = self.up3(b)\n",
    "        e3 = F.interpolate(e3, size=d3.shape[2:], mode='bilinear', align_corners=True)\n",
    "        d3 = torch.cat([d3, e3], dim=1)\n",
    "\n",
    "        d2 = self.up2(d3)\n",
    "        e2 = F.interpolate(e2, size=d2.shape[2:], mode='bilinear', align_corners=True)\n",
    "        d2 = torch.cat([d2, e2], dim=1)\n",
    "\n",
    "        d1 = self.up1(d2)\n",
    "        e1 = F.interpolate(e1, size=d1.shape[2:], mode='bilinear', align_corners=True)\n",
    "        d1 = torch.cat([d1, e1], dim=1)\n",
    "\n",
    "        out = self.final_conv(d1)\n",
    "        out = F.interpolate(out, size=x.shape[2:], mode='bilinear', align_corners=True)\n",
    "\n",
    "        return out\n",
    "\n",
    "\n",
    "model = UNetFlexible()  # You can adjust base_channels as needed\n",
    "nn_handler.set_model(model, \"unet_deform\")"
   ]
  },
  {
   "cell_type": "markdown",
   "metadata": {},
   "source": [
    "#### Function for plotting results:"
   ]
  },
  {
   "cell_type": "code",
   "execution_count": null,
   "metadata": {},
   "outputs": [],
   "source": [
    "def plot():\n",
    "    # Clear the output before plotting\n",
    "    clear_output(wait=True)\n",
    "\n",
    "    # Plot training progress\n",
    "    plt.figure(figsize=(10, 4))\n",
    "    plt.plot(nn_handler.get_train_losses(), label='Training Loss', color='blue')\n",
    "    plt.xlabel('Epochs')\n",
    "    plt.ylabel('Loss')\n",
    "    plt.title('Training Loss (U-Net)')\n",
    "    plt.grid(True)\n",
    "    plt.legend()\n",
    "    plt.xlim(left=0)\n",
    "    plt.ylim(bottom=0)\n",
    "    plt.show()\n",
    "\n",
    "    # Plot validation progress\n",
    "    plt.figure(figsize=(10, 4))\n",
    "    plt.plot(nn_handler.get_val_losses(), label='Validation Loss', color='green')\n",
    "    plt.xlabel('Evaluation Steps (every 60 epochs)')\n",
    "    plt.ylabel('Loss')\n",
    "    plt.title('Validation Loss (U-Net)')\n",
    "    plt.grid(True)\n",
    "    plt.legend()\n",
    "    plt.xlim(left=0)\n",
    "    plt.ylim(bottom=0)\n",
    "    plt.show()"
   ]
  },
  {
   "cell_type": "markdown",
   "metadata": {},
   "source": [
    "### Training and results"
   ]
  },
  {
   "cell_type": "code",
   "execution_count": 6,
   "metadata": {},
   "outputs": [],
   "source": [
    "nn_handler.train(resume_from_checkpoint=True)\n",
    "\n",
    "plot()"
   ]
  },
  {
   "cell_type": "markdown",
   "metadata": {},
   "source": [
    "#### Ensure model save"
   ]
  },
  {
   "cell_type": "code",
   "execution_count": 7,
   "metadata": {},
   "outputs": [],
   "source": [
    "nn_handler.save_model(\"../models/unet_deform.pth\")"
   ]
  }
 ],
 "metadata": {
  "kernelspec": {
   "display_name": ".venv",
   "language": "python",
   "name": "python3"
  },
  "language_info": {
   "codemirror_mode": {
    "name": "ipython",
    "version": 3
   },
   "file_extension": ".py",
   "mimetype": "text/x-python",
   "name": "python",
   "nbconvert_exporter": "python",
   "pygments_lexer": "ipython3",
   "version": "3.12.3"
  }
 },
 "nbformat": 4,
 "nbformat_minor": 2
}
