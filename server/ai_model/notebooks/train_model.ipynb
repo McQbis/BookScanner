{
 "cells": [
  {
   "cell_type": "markdown",
   "metadata": {},
   "source": [
    "# Training a neural network model to generate a document deformation mesh in an image.\n",
    "\n",
    "Author: Maciej Kubiś\n",
    "\n",
    "Date: 2025-03-24\n",
    "\n",
    "The notebook will allow training of various AI models created using pytorch or tensorflow. Two architectures will be trained: FCN, U-Net"
   ]
  },
  {
   "cell_type": "code",
   "execution_count": 1,
   "metadata": {},
   "outputs": [],
   "source": [
    "import torch\n",
    "import torch.nn as nn\n",
    "import matplotlib.pyplot as plt\n",
    "import importlib.util\n",
    "import sys\n",
    "\n",
    "sys.path.append(\"../src\") \n",
    "\n",
    "spec = importlib.util.spec_from_file_location(\"data_generator\", \"../src/data_generator.py\")\n",
    "data_generator = importlib.util.module_from_spec(spec)\n",
    "spec.loader.exec_module(data_generator)\n",
    "\n",
    "spec = importlib.util.spec_from_file_location(\"neuralnet_handler\", \"../src/neuralnet_handler.py\")\n",
    "neuralnet_handler = importlib.util.module_from_spec(spec)\n",
    "spec.loader.exec_module(neuralnet_handler)"
   ]
  },
  {
   "cell_type": "markdown",
   "metadata": {},
   "source": [
    "## Configuration\n",
    "\n",
    "It is possible to set device where will be handle neural network. Image gnerator require file with any text to produce random content of documents."
   ]
  },
  {
   "cell_type": "code",
   "execution_count": 2,
   "metadata": {},
   "outputs": [
    {
     "name": "stdout",
     "output_type": "stream",
     "text": [
      "Using device: cpu\n",
      "Model is None. Please provide a valid model using set_model() method.\n"
     ]
    }
   ],
   "source": [
    "device = \"cuda\" if torch.cuda.is_available() else \"cpu\"\n",
    "generator = data_generator.DocumentImageGenerator(\"../src/assets/text.txt\")\n",
    "# generator.set_seed(42)\n",
    "\n",
    "nn_handler = neuralnet_handler.NeuralNetHandler(None, generator, device, 2, 0.001, 300)"
   ]
  },
  {
   "cell_type": "markdown",
   "metadata": {},
   "source": [
    "## U-Net using PyTorch"
   ]
  },
  {
   "cell_type": "code",
   "execution_count": null,
   "metadata": {},
   "outputs": [],
   "source": [
    "class UNetTorchModel(nn.Module):\n",
    "    def __init__(self, hidden_dim=64):\n",
    "        super(UNetTorchModel, self).__init__()\n",
    "        # Encoder part\n",
    "        self.encoder = nn.Sequential(\n",
    "            nn.Conv2d(1, hidden_dim, kernel_size=3, padding=1),\n",
    "            nn.BatchNorm2d(hidden_dim),\n",
    "            nn.ReLU(inplace=True),\n",
    "            nn.MaxPool2d(kernel_size=2, stride=2),\n",
    "            \n",
    "            nn.Conv2d(hidden_dim, hidden_dim*2, kernel_size=3, padding=1),\n",
    "            nn.BatchNorm2d(hidden_dim*2),\n",
    "            nn.ReLU(inplace=True),\n",
    "            nn.MaxPool2d(kernel_size=2, stride=2),\n",
    "            \n",
    "            nn.Conv2d(hidden_dim*2, hidden_dim*4, kernel_size=3, padding=1),\n",
    "            nn.BatchNorm2d(hidden_dim*4),\n",
    "            nn.ReLU(inplace=True)\n",
    "        )\n",
    "        \n",
    "        # Decoder part\n",
    "        self.decoder = nn.Sequential(\n",
    "            nn.Conv2d(hidden_dim*4, hidden_dim*2, kernel_size=3, padding=1),\n",
    "            nn.BatchNorm2d(hidden_dim*2),\n",
    "            nn.ReLU(inplace=True),\n",
    "            nn.Upsample(scale_factor=2, mode='bilinear', align_corners=True),\n",
    "            \n",
    "            nn.Conv2d(hidden_dim*2, hidden_dim, kernel_size=3, padding=1),\n",
    "            nn.BatchNorm2d(hidden_dim),\n",
    "            nn.ReLU(inplace=True),\n",
    "            nn.Upsample(scale_factor=2, mode='bilinear', align_corners=True),\n",
    "            \n",
    "            nn.Conv2d(hidden_dim, 2, kernel_size=3, padding=1),\n",
    "        )\n",
    "        \n",
    "    def forward(self, x):\n",
    "        # Get input dimensions\n",
    "        batch_size, channels, height, width = x.shape\n",
    "        \n",
    "        # Pass through encoder\n",
    "        features = self.encoder(x)\n",
    "        \n",
    "        # Pass through decoder\n",
    "        offsets = self.decoder(features)\n",
    "        \n",
    "        # Resize to input dimensions if necessary\n",
    "        if offsets.shape[2:] != (height, width):\n",
    "            offsets = nn.functional.interpolate(offsets, size=(height, width), mode='bilinear', align_corners=True)\n",
    "        \n",
    "        return offsets\n",
    "    \n",
    "model = UNetTorchModel()\n",
    "\n",
    "nn_handler.set_model(model, \"unet_torch_model\") "
   ]
  },
  {
   "cell_type": "code",
   "execution_count": 4,
   "metadata": {},
   "outputs": [
    {
     "ename": "TypeError",
     "evalue": "evaluate_model() takes 5 positional arguments but 6 were given",
     "output_type": "error",
     "traceback": [
      "\u001b[0;31m---------------------------------------------------------------------------\u001b[0m",
      "\u001b[0;31mTypeError\u001b[0m                                 Traceback (most recent call last)",
      "Cell \u001b[0;32mIn[4], line 1\u001b[0m\n\u001b[0;32m----> 1\u001b[0m \u001b[43mnn_handler\u001b[49m\u001b[38;5;241;43m.\u001b[39;49m\u001b[43mtrain\u001b[49m\u001b[43m(\u001b[49m\u001b[43m)\u001b[49m\n\u001b[1;32m      3\u001b[0m \u001b[38;5;66;03m# Plot training progress\u001b[39;00m\n\u001b[1;32m      4\u001b[0m plt\u001b[38;5;241m.\u001b[39mfigure(figsize\u001b[38;5;241m=\u001b[39m(\u001b[38;5;241m10\u001b[39m, \u001b[38;5;241m5\u001b[39m))\n",
      "File \u001b[0;32m~/Pulpit/BookScanner/BookScanner/server/ai_model/notebooks/../src/neuralnet_handler.py:117\u001b[0m, in \u001b[0;36mNeuralNetHandler.train\u001b[0;34m(self)\u001b[0m\n\u001b[1;32m    115\u001b[0m \u001b[38;5;28mself\u001b[39m\u001b[38;5;241m.\u001b[39m_best_val_loss,\n\u001b[1;32m    116\u001b[0m \u001b[38;5;28mself\u001b[39m\u001b[38;5;241m.\u001b[39m_train_losses,\n\u001b[0;32m--> 117\u001b[0m \u001b[38;5;28mself\u001b[39m\u001b[38;5;241m.\u001b[39m_val_losses \u001b[38;5;241m=\u001b[39m \u001b[43mtrain_model\u001b[49m\u001b[43m(\u001b[49m\u001b[38;5;28;43mself\u001b[39;49m\u001b[38;5;241;43m.\u001b[39;49m\u001b[43m_model\u001b[49m\u001b[43m,\u001b[49m\u001b[43m \u001b[49m\n\u001b[1;32m    118\u001b[0m \u001b[43m                                \u001b[49m\u001b[38;5;28;43mself\u001b[39;49m\u001b[38;5;241;43m.\u001b[39;49m\u001b[43m_generator\u001b[49m\u001b[43m,\u001b[49m\u001b[43m \u001b[49m\n\u001b[1;32m    119\u001b[0m \u001b[43m                                \u001b[49m\u001b[38;5;28;43mself\u001b[39;49m\u001b[38;5;241;43m.\u001b[39;49m\u001b[43m_device\u001b[49m\u001b[43m,\u001b[49m\u001b[43m \u001b[49m\n\u001b[1;32m    120\u001b[0m \u001b[43m                                \u001b[49m\u001b[38;5;28;43mself\u001b[39;49m\u001b[38;5;241;43m.\u001b[39;49m\u001b[43m_epochs\u001b[49m\u001b[43m,\u001b[49m\u001b[43m \u001b[49m\n\u001b[1;32m    121\u001b[0m \u001b[43m                                \u001b[49m\u001b[38;5;28;43mself\u001b[39;49m\u001b[38;5;241;43m.\u001b[39;49m\u001b[43m_criterion\u001b[49m\u001b[43m,\u001b[49m\u001b[43m \u001b[49m\n\u001b[1;32m    122\u001b[0m \u001b[43m                                \u001b[49m\u001b[38;5;28;43mself\u001b[39;49m\u001b[38;5;241;43m.\u001b[39;49m\u001b[43m_optimizer\u001b[49m\u001b[43m,\u001b[49m\u001b[43m \u001b[49m\n\u001b[1;32m    123\u001b[0m \u001b[43m                                \u001b[49m\u001b[38;5;28;43mself\u001b[39;49m\u001b[38;5;241;43m.\u001b[39;49m\u001b[43m_num_batches\u001b[49m\u001b[43m)\u001b[49m\n",
      "File \u001b[0;32m~/Pulpit/BookScanner/BookScanner/server/ai_model/notebooks/../src/train.py:97\u001b[0m, in \u001b[0;36mtrain_model\u001b[0;34m(model, generator, device, epochs, criterion, optimizer, num_batches)\u001b[0m\n\u001b[1;32m     94\u001b[0m log_file\u001b[38;5;241m.\u001b[39mwrite(\u001b[38;5;124mf\u001b[39m\u001b[38;5;124m\"\u001b[39m\u001b[38;5;124mEpoch \u001b[39m\u001b[38;5;132;01m{\u001b[39;00mepoch\u001b[38;5;241m+\u001b[39m\u001b[38;5;241m1\u001b[39m\u001b[38;5;132;01m}\u001b[39;00m\u001b[38;5;124m/\u001b[39m\u001b[38;5;132;01m{\u001b[39;00mepochs\u001b[38;5;132;01m}\u001b[39;00m\u001b[38;5;124m completed, Avg Loss: \u001b[39m\u001b[38;5;132;01m{\u001b[39;00mavg_epoch_loss\u001b[38;5;132;01m:\u001b[39;00m\u001b[38;5;124m.6f\u001b[39m\u001b[38;5;132;01m}\u001b[39;00m\u001b[38;5;124m\"\u001b[39m)\n\u001b[1;32m     96\u001b[0m \u001b[38;5;66;03m# Validation phase\u001b[39;00m\n\u001b[0;32m---> 97\u001b[0m val_loss \u001b[38;5;241m=\u001b[39m \u001b[43mevaluate_model\u001b[49m\u001b[43m(\u001b[49m\u001b[43mmodel\u001b[49m\u001b[43m,\u001b[49m\u001b[43m \u001b[49m\u001b[43mgenerator\u001b[49m\u001b[43m,\u001b[49m\u001b[43m \u001b[49m\u001b[43mdevice\u001b[49m\u001b[43m,\u001b[49m\u001b[43m \u001b[49m\u001b[43mcriterion\u001b[49m\u001b[43m,\u001b[49m\u001b[43m \u001b[49m\u001b[43mval_losses\u001b[49m\u001b[43m,\u001b[49m\u001b[43m \u001b[49m\u001b[43mnum_batches\u001b[49m\u001b[43m)\u001b[49m\n\u001b[1;32m     99\u001b[0m val_losses\u001b[38;5;241m.\u001b[39mappend(val_loss)\n\u001b[1;32m    101\u001b[0m \u001b[38;5;66;03m# Stop training if validation loss didn't improve\u001b[39;00m\n",
      "\u001b[0;31mTypeError\u001b[0m: evaluate_model() takes 5 positional arguments but 6 were given"
     ]
    }
   ],
   "source": [
    "nn_handler.train()\n",
    "\n",
    "# Plot training progress\n",
    "plt.figure(figsize=(10, 5))\n",
    "plt.plot(nn_handler.get_train_losses(), label='Training Loss')\n",
    "plt.plot(nn_handler.get_val_losses(), label='Validation Loss')\n",
    "plt.xlabel('Epochs')\n",
    "plt.ylabel('Loss')\n",
    "plt.title('Training and Validation Loss U-Net PyTorch')\n",
    "plt.legend()\n",
    "plt.show()"
   ]
  },
  {
   "cell_type": "code",
   "execution_count": null,
   "metadata": {},
   "outputs": [],
   "source": [
    "nn_handler.save_model(\"../models/unet_torch_model.pth\")"
   ]
  }
 ],
 "metadata": {
  "kernelspec": {
   "display_name": ".venv",
   "language": "python",
   "name": "python3"
  },
  "language_info": {
   "codemirror_mode": {
    "name": "ipython",
    "version": 3
   },
   "file_extension": ".py",
   "mimetype": "text/x-python",
   "name": "python",
   "nbconvert_exporter": "python",
   "pygments_lexer": "ipython3",
   "version": "3.12.3"
  }
 },
 "nbformat": 4,
 "nbformat_minor": 2
}
