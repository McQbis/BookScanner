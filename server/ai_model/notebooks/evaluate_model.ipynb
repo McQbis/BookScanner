{
 "cells": [
  {
   "cell_type": "markdown",
   "id": "74671f6e",
   "metadata": {},
   "source": [
    "# Evaluation of models to generate a document deformation mesh in an image.\n",
    "\n",
    "Author: Maciej Kubiś\n",
    "\n",
    "Date: 2025-03-24\n",
    "\n",
    "The notebook will allow evaluation of various AI models created using **PyTorch**. Various architectures modeled on **U-Net** will be tested."
   ]
  },
  {
   "cell_type": "code",
   "execution_count": null,
   "id": "eacd4364",
   "metadata": {},
   "outputs": [],
   "source": [
    "import torch\n",
    "import torch.nn as nn\n",
    "import matplotlib.pyplot as plt\n",
    "from IPython.display import clear_output\n",
    "import os\n",
    "import numpy as np\n",
    "\n",
    "import sys\n",
    "sys.path.append(\"../src\") \n",
    "\n",
    "from data_generator import DocumentImageGenerator\n",
    "from neuralnet_handler import NeuralNetHandler\n",
    "from unet_flexible import UNetFlexible"
   ]
  },
  {
   "cell_type": "markdown",
   "id": "661f6b04",
   "metadata": {},
   "source": [
    "## Configuration"
   ]
  },
  {
   "cell_type": "code",
   "execution_count": null,
   "id": "14c2f2cb",
   "metadata": {},
   "outputs": [],
   "source": [
    "device = \"cuda\" if torch.cuda.is_available() else \"cpu\"\n",
    "generator = DocumentImageGenerator(\"../src/assets/text.txt\")\n",
    "\n",
    "nn_handler = NeuralNetHandler(None, generator, device, 40, 0.01, 20)"
   ]
  },
  {
   "cell_type": "markdown",
   "id": "60d2af72",
   "metadata": {},
   "source": [
    "## Models evaluation chart"
   ]
  },
  {
   "cell_type": "code",
   "execution_count": null,
   "id": "1c78fb2b",
   "metadata": {},
   "outputs": [],
   "source": [
    "models_folder = \"../models\"\n",
    "model_files = [\n",
    "    os.path.splitext(f)[0]\n",
    "    for f in os.listdir(models_folder)\n",
    "    if f.endswith(\".pth\") and \"checkpoint\" not in f and \"val\" not in f\n",
    "]\n",
    "\n",
    "print(\"Available models:\")\n",
    "for model in model_files:\n",
    "    print(model)\n",
    "\n",
    "loss = []\n",
    "\n",
    "for model in model_files:\n",
    "    print(f\"Evaluating model: {model}\")\n",
    "    nn_handler.set_model(f\"{models_folder}/{model}.pth\", model, UNetFlexible)\n",
    "    nn_handler.evaluate()\n",
    "    loss.append(nn_handler.get_current_val_loss())\n",
    "\n",
    "\n",
    "# X positions for bars\n",
    "x = np.arange(len(model_files))\n",
    "\n",
    "# Width of a single bar\n",
    "width = 0.35\n",
    "\n",
    "fig, ax = plt.subplots(figsize=(10, 6))\n",
    "\n",
    "# Plot bars\n",
    "bars1 = ax.bar(x - width/2, loss, width)\n",
    "\n",
    "ax.set_ylabel('Loss')\n",
    "ax.set_title('Model Loss Comparison')\n",
    "ax.set_xticks(x)\n",
    "ax.set_xticklabels(model_files, rotation=45, ha='right')\n",
    "ax.legend()\n",
    "\n",
    "for bar in bars1:\n",
    "    height = bar.get_height()\n",
    "    ax.annotate(f'{height:.4f}',\n",
    "                xy=(bar.get_x() + bar.get_width() / 2, height),\n",
    "                xytext=(0, 3),\n",
    "                textcoords=\"offset points\",\n",
    "                ha='center', va='bottom', fontsize=8)\n",
    "\n",
    "clear_output(wait=True)\n",
    "\n",
    "plt.tight_layout()\n",
    "plt.show()"
   ]
  }
 ],
 "metadata": {
  "kernelspec": {
   "display_name": ".venv",
   "language": "python",
   "name": "python3"
  },
  "language_info": {
   "codemirror_mode": {
    "name": "ipython",
    "version": 3
   },
   "file_extension": ".py",
   "mimetype": "text/x-python",
   "name": "python",
   "nbconvert_exporter": "python",
   "pygments_lexer": "ipython3",
   "version": "3.12.3"
  }
 },
 "nbformat": 4,
 "nbformat_minor": 5
}
