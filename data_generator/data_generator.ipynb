{
 "cells": [
  {
   "cell_type": "markdown",
   "metadata": {},
   "source": [
    "# Data Generator\n",
    "This notebook is designed to generate data for training an AI model.\n",
    "## Documents Generator\n",
    "To ensure the model does not become dependent on specific contexts, we generate documents with highly randomized content. This is achieved using **LibreOffice Calc**, where text from a predefined file is randomly distributed across sheets.\n",
    "\n",
    "To prepare this file, ensure it contains at least 7,000 words. Additionally, maintain a folder structure to data processing.\n",
    "### Sheets generator"
   ]
  },
  {
   "cell_type": "code",
   "execution_count": 2,
   "metadata": {},
   "outputs": [
    {
     "name": "stdout",
     "output_type": "stream",
     "text": [
      "Spreadsheet 'example.ods' created successfully!\n"
     ]
    }
   ],
   "source": [
    "from odf.opendocument import OpenDocumentSpreadsheet\n",
    "from odf.style import Style, TextProperties\n",
    "from odf.table import Table, TableRow, TableCell\n",
    "from odf.text import P\n",
    "import random\n",
    "from numpy.random import choice\n",
    "from pathlib import Path\n",
    "from typing import List\n",
    "\n",
    "# Read text for document generation\n",
    "TEXT_FILE_PATH = \"text.txt\"\n",
    "OUTPUT_DIRECTORY = Path(\"../data/documents\")\n",
    "\n",
    "def load_words(file_path: str) -> List[str]:\n",
    "    \"\"\"Load words from a text file.\"\"\"\n",
    "    with open(file_path, \"r\", encoding=\"utf-8\") as file:\n",
    "        return file.read().split()\n",
    "    \n",
    "words_from_file = load_words(TEXT_FILE_PATH)\n",
    "\n",
    "def generate_random_font_style() -> Style:\n",
    "    \"\"\"Generate a random font style for table cells.\"\"\"\n",
    "    style = Style(name=f\"Style_{random.randint(1, 1_000_000)}\", family=\"table-cell\")\n",
    "    \n",
    "    font_size = choice([\"12pt\", \"14pt\", \"17pt\", \"21pt\", \"26pt\"],\n",
    "                       p=[0.8, 0.05, 0.05, 0.05, 0.05])\n",
    "    bold = choice([\"bold\", \"normal\"], p=[0.05, 0.95])\n",
    "    italic = choice([\"italic\", \"normal\"], p=[0.05, 0.95])\n",
    "    \n",
    "    style.addElement(TextProperties(fontstyle=italic, fontweight=bold, fontsize=font_size))\n",
    "    return style\n",
    "\n",
    "def generate_random_file_content(file_name: str):\n",
    "    \"\"\"Generate an OpenDocument spreadsheet with random text formatting.\"\"\"\n",
    "    # Prepare data\n",
    "    random.shuffle(words_from_file)\n",
    "    words = words_from_file[random.randint(0, 101):random.randint(102, len(words_from_file))]\n",
    "    num_of_words = len(words)\n",
    "\n",
    "    \n",
    "    # Create a new spreadsheet document\n",
    "    doc = OpenDocumentSpreadsheet()\n",
    "    table = Table(name=file_name)\n",
    "    file_content = []\n",
    "    \n",
    "    # Generate table content\n",
    "    i = 0\n",
    "    while i < num_of_words:\n",
    "        line_length = random.randint(1, 10)\n",
    "        tab_adding = choice([True, False], p=[0.05, 0.95])\n",
    "        dash_adding = choice([True, False], p=[0.05, 0.95])\n",
    "        star_adding = choice([True, False], p=[0.05, 0.95])\n",
    "        \n",
    "        row_data = []\n",
    "        if tab_adding:\n",
    "            row_data.append(\"\")\n",
    "            tab_adding = False\n",
    "        \n",
    "        for _ in range(line_length):\n",
    "            if i >= num_of_words:\n",
    "                break\n",
    "            \n",
    "            if dash_adding:\n",
    "                row_data.append(\"-\")\n",
    "                dash_adding = False\n",
    "            elif star_adding:\n",
    "                row_data.append(\"*\")\n",
    "                star_adding = False\n",
    "            else:\n",
    "                row_data.append(words[i])\n",
    "                i += 1\n",
    "        \n",
    "        file_content.append(row_data)\n",
    "    \n",
    "    # Add rows and cells to the table\n",
    "    for row_data in file_content:\n",
    "        row = TableRow()\n",
    "        for cell_data in row_data:\n",
    "            font_style = generate_random_font_style()\n",
    "            doc.automaticstyles.addElement(font_style)\n",
    "            cell = TableCell(stylename=font_style)\n",
    "            cell.addElement(P(text=cell_data))\n",
    "            row.addElement(cell)\n",
    "        table.addElement(row)\n",
    "    \n",
    "    # Add table to document\n",
    "    doc.spreadsheet.addElement(table)\n",
    "    \n",
    "    # Ensure output directory exists\n",
    "    OUTPUT_DIRECTORY.mkdir(parents=True, exist_ok=True)\n",
    "    \n",
    "    # Save the document\n",
    "    output_path = OUTPUT_DIRECTORY / f\"{file_name}.ods\"\n",
    "    doc.save(str(output_path))\n",
    "    print(f\"Spreadsheet '{file_name}.ods' created successfully!\")\n",
    "\n",
    "# Example usage\n",
    "generate_random_file_content(\"example\")"
   ]
  },
  {
   "cell_type": "markdown",
   "metadata": {},
   "source": [
    "### Converting sheets to PDF file.\n",
    "This is necessary because it gives the content from a sheet the appearance of a document automatically."
   ]
  },
  {
   "cell_type": "code",
   "execution_count": 3,
   "metadata": {},
   "outputs": [
    {
     "name": "stderr",
     "output_type": "stream",
     "text": [
      "Warning: failed to launch javaldx - java may not function correctly\n"
     ]
    },
    {
     "name": "stdout",
     "output_type": "stream",
     "text": [
      "convert /home/kubis/Pulpit/BookScanner/BookScanner/data/documents/example.ods as a Calc document -> /home/kubis/Pulpit/BookScanner/BookScanner/data/documents/example.pdf using filter : calc_pdf_Export\n",
      "PDF '../data/documents/example.pdf' created successfully!\n"
     ]
    }
   ],
   "source": [
    "import subprocess\n",
    "import os\n",
    "\n",
    "def convert_ods_to_pdf(file_name: str):\n",
    "    \"\"\"Convert an ODS file to PDF using LibreOffice CLI.\"\"\"\n",
    "    input_path = OUTPUT_DIRECTORY / f\"{file_name}.ods\"\n",
    "    output_path = OUTPUT_DIRECTORY / f\"{file_name}.pdf\"\n",
    "    \n",
    "    if not input_path.exists():\n",
    "        print(f\"Error: File '{input_path}' not found.\")\n",
    "        return\n",
    "    \n",
    "    try:\n",
    "        subprocess.run([\n",
    "            \"libreoffice\", \"--headless\", \"--convert-to\", \"pdf\", str(input_path), \"--outdir\", str(OUTPUT_DIRECTORY)\n",
    "        ], check=True)\n",
    "        print(f\"PDF '{output_path}' created successfully!\")\n",
    "        os.remove(input_path)\n",
    "    except subprocess.CalledProcessError as e:\n",
    "        print(f\"Error during conversion: {e}\")\n",
    "\n",
    "# example usage\n",
    "convert_ods_to_pdf(\"example\")"
   ]
  },
  {
   "cell_type": "markdown",
   "metadata": {},
   "source": [
    "### Converting PDF file to JPEG file."
   ]
  },
  {
   "cell_type": "code",
   "execution_count": 4,
   "metadata": {},
   "outputs": [
    {
     "name": "stdout",
     "output_type": "stream",
     "text": [
      "All pages of 'example.pdf' converted to JPEG successfully!\n"
     ]
    }
   ],
   "source": [
    "from pdf2image import convert_from_path\n",
    "\n",
    "def convert_pdf_to_jpeg(file_name: str):\n",
    "    \"\"\"Convert all pages of a PDF file to JPEG using pdf2image.\"\"\"\n",
    "    pdf_path = OUTPUT_DIRECTORY / f\"{file_name}.pdf\"\n",
    "    output_dir = OUTPUT_DIRECTORY\n",
    "    output_dir.mkdir(parents=True, exist_ok=True)\n",
    "    \n",
    "    if not pdf_path.exists():\n",
    "        print(f\"Error: File '{pdf_path}' not found.\")\n",
    "        return\n",
    "    \n",
    "    try:\n",
    "        images = convert_from_path(str(pdf_path))\n",
    "        for i, image in enumerate(images):\n",
    "            image.save(str(output_dir / f\"{file_name}_page_{i + 1}.jpg\"), \"JPEG\")\n",
    "        print(f\"All pages of '{file_name}.pdf' converted to JPEG successfully!\")\n",
    "        os.remove(pdf_path)\n",
    "    except Exception as e:\n",
    "        print(f\"Error during conversion: {e}\")\n",
    "\n",
    "# example usage\n",
    "convert_pdf_to_jpeg(\"example\")"
   ]
  },
  {
   "cell_type": "markdown",
   "metadata": {},
   "source": [
    "### Generating 10 000 documents and converting them to JPEG files."
   ]
  },
  {
   "cell_type": "code",
   "execution_count": 5,
   "metadata": {},
   "outputs": [
    {
     "name": "stdout",
     "output_type": "stream",
     "text": [
      "Spreadsheet 'IMG_1.ods' created successfully!\n"
     ]
    },
    {
     "name": "stderr",
     "output_type": "stream",
     "text": [
      "Warning: failed to launch javaldx - java may not function correctly\n"
     ]
    },
    {
     "name": "stdout",
     "output_type": "stream",
     "text": [
      "convert /home/kubis/Pulpit/BookScanner/BookScanner/data/documents/IMG_1.ods as a Calc document -> /home/kubis/Pulpit/BookScanner/BookScanner/data/documents/IMG_1.pdf using filter : calc_pdf_Export\n",
      "PDF '../data/documents/IMG_1.pdf' created successfully!\n",
      "All pages of 'IMG_1.pdf' converted to JPEG successfully!\n",
      "Spreadsheet 'IMG_2.ods' created successfully!\n"
     ]
    },
    {
     "name": "stderr",
     "output_type": "stream",
     "text": [
      "Warning: failed to launch javaldx - java may not function correctly\n"
     ]
    },
    {
     "name": "stdout",
     "output_type": "stream",
     "text": [
      "convert /home/kubis/Pulpit/BookScanner/BookScanner/data/documents/IMG_2.ods as a Calc document -> /home/kubis/Pulpit/BookScanner/BookScanner/data/documents/IMG_2.pdf using filter : calc_pdf_Export\n",
      "PDF '../data/documents/IMG_2.pdf' created successfully!\n",
      "All pages of 'IMG_2.pdf' converted to JPEG successfully!\n",
      "Spreadsheet 'IMG_3.ods' created successfully!\n"
     ]
    },
    {
     "name": "stderr",
     "output_type": "stream",
     "text": [
      "Warning: failed to launch javaldx - java may not function correctly\n"
     ]
    },
    {
     "name": "stdout",
     "output_type": "stream",
     "text": [
      "convert /home/kubis/Pulpit/BookScanner/BookScanner/data/documents/IMG_3.ods as a Calc document -> /home/kubis/Pulpit/BookScanner/BookScanner/data/documents/IMG_3.pdf using filter : calc_pdf_Export\n",
      "PDF '../data/documents/IMG_3.pdf' created successfully!\n",
      "All pages of 'IMG_3.pdf' converted to JPEG successfully!\n",
      "Spreadsheet 'IMG_4.ods' created successfully!\n"
     ]
    },
    {
     "name": "stderr",
     "output_type": "stream",
     "text": [
      "Warning: failed to launch javaldx - java may not function correctly\n"
     ]
    },
    {
     "name": "stdout",
     "output_type": "stream",
     "text": [
      "convert /home/kubis/Pulpit/BookScanner/BookScanner/data/documents/IMG_4.ods as a Calc document -> /home/kubis/Pulpit/BookScanner/BookScanner/data/documents/IMG_4.pdf using filter : calc_pdf_Export\n",
      "PDF '../data/documents/IMG_4.pdf' created successfully!\n",
      "All pages of 'IMG_4.pdf' converted to JPEG successfully!\n",
      "Spreadsheet 'IMG_5.ods' created successfully!\n"
     ]
    },
    {
     "name": "stderr",
     "output_type": "stream",
     "text": [
      "Warning: failed to launch javaldx - java may not function correctly\n"
     ]
    },
    {
     "name": "stdout",
     "output_type": "stream",
     "text": [
      "convert /home/kubis/Pulpit/BookScanner/BookScanner/data/documents/IMG_5.ods as a Calc document -> /home/kubis/Pulpit/BookScanner/BookScanner/data/documents/IMG_5.pdf using filter : calc_pdf_Export\n",
      "PDF '../data/documents/IMG_5.pdf' created successfully!\n",
      "All pages of 'IMG_5.pdf' converted to JPEG successfully!\n",
      "Spreadsheet 'IMG_6.ods' created successfully!\n"
     ]
    },
    {
     "name": "stderr",
     "output_type": "stream",
     "text": [
      "Warning: failed to launch javaldx - java may not function correctly\n"
     ]
    },
    {
     "name": "stdout",
     "output_type": "stream",
     "text": [
      "convert /home/kubis/Pulpit/BookScanner/BookScanner/data/documents/IMG_6.ods as a Calc document -> /home/kubis/Pulpit/BookScanner/BookScanner/data/documents/IMG_6.pdf using filter : calc_pdf_Export\n",
      "PDF '../data/documents/IMG_6.pdf' created successfully!\n",
      "All pages of 'IMG_6.pdf' converted to JPEG successfully!\n",
      "Spreadsheet 'IMG_7.ods' created successfully!\n"
     ]
    },
    {
     "name": "stderr",
     "output_type": "stream",
     "text": [
      "Warning: failed to launch javaldx - java may not function correctly\n"
     ]
    },
    {
     "name": "stdout",
     "output_type": "stream",
     "text": [
      "convert /home/kubis/Pulpit/BookScanner/BookScanner/data/documents/IMG_7.ods as a Calc document -> /home/kubis/Pulpit/BookScanner/BookScanner/data/documents/IMG_7.pdf using filter : calc_pdf_Export\n",
      "PDF '../data/documents/IMG_7.pdf' created successfully!\n",
      "All pages of 'IMG_7.pdf' converted to JPEG successfully!\n",
      "Spreadsheet 'IMG_8.ods' created successfully!\n"
     ]
    },
    {
     "name": "stderr",
     "output_type": "stream",
     "text": [
      "Warning: failed to launch javaldx - java may not function correctly\n"
     ]
    },
    {
     "name": "stdout",
     "output_type": "stream",
     "text": [
      "convert /home/kubis/Pulpit/BookScanner/BookScanner/data/documents/IMG_8.ods as a Calc document -> /home/kubis/Pulpit/BookScanner/BookScanner/data/documents/IMG_8.pdf using filter : calc_pdf_Export\n",
      "PDF '../data/documents/IMG_8.pdf' created successfully!\n",
      "All pages of 'IMG_8.pdf' converted to JPEG successfully!\n",
      "Spreadsheet 'IMG_9.ods' created successfully!\n"
     ]
    },
    {
     "name": "stderr",
     "output_type": "stream",
     "text": [
      "Warning: failed to launch javaldx - java may not function correctly\n"
     ]
    },
    {
     "name": "stdout",
     "output_type": "stream",
     "text": [
      "convert /home/kubis/Pulpit/BookScanner/BookScanner/data/documents/IMG_9.ods as a Calc document -> /home/kubis/Pulpit/BookScanner/BookScanner/data/documents/IMG_9.pdf using filter : calc_pdf_Export\n",
      "PDF '../data/documents/IMG_9.pdf' created successfully!\n",
      "All pages of 'IMG_9.pdf' converted to JPEG successfully!\n"
     ]
    }
   ],
   "source": [
    "for i in range(1, 10):\n",
    "    name = f\"IMG_{i}\"\n",
    "    generate_random_file_content(name)\n",
    "    convert_ods_to_pdf(name)\n",
    "    convert_pdf_to_jpeg(name)"
   ]
  },
  {
   "cell_type": "markdown",
   "metadata": {},
   "source": [
    "## Adding documents curvature"
   ]
  },
  {
   "cell_type": "code",
   "execution_count": 6,
   "metadata": {},
   "outputs": [],
   "source": [
    "import cv2\n",
    "import numpy as np\n",
    "import math\n",
    "\n",
    "def add_padding(image, padding):\n",
    "    \"\"\"Adds padding to an image to prevent cropping after warping.\"\"\"\n",
    "    h, w, c = image.shape\n",
    "    new_h, new_w = h + 2 * padding, w + 2 * padding\n",
    "    padded_image = np.zeros((new_h, new_w, c), dtype=np.uint8)\n",
    "    padded_image[padding:padding+h, padding:padding+w] = image\n",
    "    return padded_image"
   ]
  },
  {
   "cell_type": "code",
   "execution_count": 7,
   "metadata": {},
   "outputs": [],
   "source": [
    "def get_rotation_matrix(angle_x, angle_y, angle_z):\n",
    "    \"\"\"Compute 3D rotation matrix from given angles in degrees.\"\"\"\n",
    "    ax, ay, az = map(math.radians, [angle_x, angle_y, angle_z])\n",
    "    \n",
    "    rot_x = np.array([[1, 0, 0], [0, math.cos(ax), -math.sin(ax)], [0, math.sin(ax), math.cos(ax)]], dtype=np.float32)\n",
    "    rot_y = np.array([[math.cos(ay), 0, math.sin(ay)], [0, 1, 0], [-math.sin(ay), 0, math.cos(ay)]], dtype=np.float32)\n",
    "    rot_z = np.array([[math.cos(az), -math.sin(az), 0], [math.sin(az), math.cos(az), 0], [0, 0, 1]], dtype=np.float32)\n",
    "    \n",
    "    rot_matrix = np.eye(4, dtype=np.float32)\n",
    "    rot_matrix[:3, :3] = rot_z @ rot_y @ rot_x  # Combine rotations\n",
    "    return rot_matrix"
   ]
  },
  {
   "cell_type": "code",
   "execution_count": 8,
   "metadata": {},
   "outputs": [],
   "source": [
    "def generate_mesh_grid(width, height):\n",
    "    \"\"\"Generate a mesh grid for remapping transformation.\"\"\"\n",
    "    x_map, y_map = np.meshgrid(np.arange(width, dtype=np.float32), np.arange(height, dtype=np.float32))\n",
    "    mesh_3d = np.stack([x_map, y_map, np.zeros_like(x_map), np.ones_like(x_map)], axis=-1)  # (H, W, 4)\n",
    "    return mesh_3d\n",
    "\n",
    "def apply_transformations(mesh, rotation_matrix, amplitude, frequency):\n",
    "    \"\"\"Apply both wavy distortion and 3D rotation to the transformation mesh.\"\"\"\n",
    "    h, w, _ = mesh.shape\n",
    "    flat_mesh = mesh.reshape(-1, 4).T  # Shape: (4, H*W)\n",
    "\n",
    "    low_val = random.uniform(-1.0, 1.0)\n",
    "    high_low = random.uniform(low_val, 1.0)\n",
    "\n",
    "    # Generate a vector with values ranging from -1 to 1\n",
    "    vector = np.linspace(low_val, high_low, flat_mesh.shape[1])\n",
    "    \n",
    "    # Apply wavy transformation\n",
    "    flat_mesh[1] += amplitude * np.sin(frequency * flat_mesh[0]) * vector\n",
    "    \n",
    "    # Apply 3D rotation\n",
    "    transformed_mesh = rotation_matrix @ flat_mesh\n",
    "    x_new, y_new = transformed_mesh[0], transformed_mesh[1]  # Ignore Z-axis\n",
    "    \n",
    "    return x_new.reshape(h, w).astype(np.float32), y_new.reshape(h, w).astype(np.float32)"
   ]
  },
  {
   "cell_type": "code",
   "execution_count": 9,
   "metadata": {},
   "outputs": [
    {
     "name": "stdout",
     "output_type": "stream",
     "text": [
      "Combined wavy and 3D rotated transformation for IMG_5_page_3.jpg applied successfully!\n",
      "Combined wavy and 3D rotated transformation for IMG_6_page_2.jpg applied successfully!\n",
      "Combined wavy and 3D rotated transformation for IMG_2_page_2.jpg applied successfully!\n",
      "Combined wavy and 3D rotated transformation for IMG_1_page_2.jpg applied successfully!\n",
      "Combined wavy and 3D rotated transformation for IMG_9_page_1.jpg applied successfully!\n",
      "Combined wavy and 3D rotated transformation for example_page_2.jpg applied successfully!\n",
      "Combined wavy and 3D rotated transformation for IMG_1_page_1.jpg applied successfully!\n",
      "Combined wavy and 3D rotated transformation for IMG_3_page_1.jpg applied successfully!\n",
      "Combined wavy and 3D rotated transformation for IMG_1_page_3.jpg applied successfully!\n",
      "Combined wavy and 3D rotated transformation for IMG_7_page_1.jpg applied successfully!\n",
      "Combined wavy and 3D rotated transformation for IMG_5_page_1.jpg applied successfully!\n",
      "Combined wavy and 3D rotated transformation for IMG_7_page_4.jpg applied successfully!\n",
      "Combined wavy and 3D rotated transformation for IMG_6_page_1.jpg applied successfully!\n",
      "Combined wavy and 3D rotated transformation for IMG_9_page_2.jpg applied successfully!\n",
      "Combined wavy and 3D rotated transformation for IMG_8_page_2.jpg applied successfully!\n",
      "Combined wavy and 3D rotated transformation for IMG_7_page_3.jpg applied successfully!\n",
      "Combined wavy and 3D rotated transformation for IMG_4_page_1.jpg applied successfully!\n",
      "Combined wavy and 3D rotated transformation for IMG_4_page_2.jpg applied successfully!\n",
      "Combined wavy and 3D rotated transformation for IMG_7_page_2.jpg applied successfully!\n",
      "Combined wavy and 3D rotated transformation for IMG_5_page_2.jpg applied successfully!\n",
      "Combined wavy and 3D rotated transformation for IMG_2_page_1.jpg applied successfully!\n",
      "Combined wavy and 3D rotated transformation for example_page_1.jpg applied successfully!\n",
      "Combined wavy and 3D rotated transformation for IMG_3_page_2.jpg applied successfully!\n",
      "Combined wavy and 3D rotated transformation for IMG_8_page_1.jpg applied successfully!\n"
     ]
    }
   ],
   "source": [
    "import os\n",
    "import random\n",
    "import pickle\n",
    "import lzma\n",
    "\n",
    "folder_path = \"../data/documents\"\n",
    "\n",
    "for filename in os.listdir(folder_path):\n",
    "        img_path = os.path.join(folder_path, filename)\n",
    "        img = cv2.imread(img_path)\n",
    "\n",
    "        if img is None:\n",
    "            print(f\"Warning: Failed to load image '{filename}'.\")\n",
    "            continue\n",
    "\n",
    "        # Add padding to prevent cropping\n",
    "        padding = random.randint(400, 550)\n",
    "        scaled_image = add_padding(img, padding)\n",
    "\n",
    "        # Get new dimensions\n",
    "        height, width = scaled_image.shape[:2]\n",
    "\n",
    "        # Generate mesh grid\n",
    "        mesh_3d = generate_mesh_grid(width, height)\n",
    "\n",
    "        # Define transformations\n",
    "        amplitude = random.randint(0, 100)  # Pixel displacement\n",
    "        frequency = random.uniform(0.5, 3.0) * np.pi / width  # Frequency relative to width\n",
    "        rotation_matrix = get_rotation_matrix(random.randint(-10, 10),\n",
    "                                            random.randint(-10, 10),\n",
    "                                            random.randint(-5, 5))\n",
    "        \n",
    "        # Apply combined transformations\n",
    "        x_map_final, y_map_final = apply_transformations(mesh_3d, rotation_matrix, amplitude, frequency)\n",
    "        \n",
    "        # Ensure correct data type for remap\n",
    "        x_map_final = x_map_final.astype(np.float32)\n",
    "        y_map_final = y_map_final.astype(np.float32)\n",
    "\n",
    "        # Remap image using the transformed mesh\n",
    "        final_image = cv2.remap(scaled_image, x_map_final, y_map_final, interpolation=cv2.INTER_LINEAR, borderMode=cv2.BORDER_CONSTANT)\n",
    "        cv2.imwrite(f\"../data/input/{filename}\", final_image)\n",
    "        print(f\"Combined wavy and 3D rotated transformation for {filename} applied successfully!\")\n",
    "\n",
    "        with lzma.open(f\"../data/output/{filename[:-4]}.pkl.xz\", \"wb\") as f:\n",
    "            f.write(pickle.dumps([x_map_final, y_map_final], protocol=pickle.HIGHEST_PROTOCOL))\n",
    "\n",
    "        os.remove(img_path)\n"
   ]
  },
  {
   "cell_type": "code",
   "execution_count": 10,
   "metadata": {},
   "outputs": [
    {
     "name": "stderr",
     "output_type": "stream",
     "text": [
      "[ WARN:0@1083.127] global loadsave.cpp:268 findDecoder imread_('../data/documents/example_page_1.jpg'): can't open/read file: check file path/integrity\n"
     ]
    },
    {
     "ename": "FileNotFoundError",
     "evalue": "Image not found!",
     "output_type": "error",
     "traceback": [
      "\u001b[0;31m---------------------------------------------------------------------------\u001b[0m",
      "\u001b[0;31mFileNotFoundError\u001b[0m                         Traceback (most recent call last)",
      "Cell \u001b[0;32mIn[10], line 52\u001b[0m\n\u001b[1;32m     50\u001b[0m image \u001b[38;5;241m=\u001b[39m cv2\u001b[38;5;241m.\u001b[39mimread(\u001b[38;5;124m\"\u001b[39m\u001b[38;5;124m../data/documents/example_page_1.jpg\u001b[39m\u001b[38;5;124m\"\u001b[39m)\n\u001b[1;32m     51\u001b[0m \u001b[38;5;28;01mif\u001b[39;00m image \u001b[38;5;129;01mis\u001b[39;00m \u001b[38;5;28;01mNone\u001b[39;00m:\n\u001b[0;32m---> 52\u001b[0m     \u001b[38;5;28;01mraise\u001b[39;00m \u001b[38;5;167;01mFileNotFoundError\u001b[39;00m(\u001b[38;5;124m\"\u001b[39m\u001b[38;5;124mImage not found!\u001b[39m\u001b[38;5;124m\"\u001b[39m)\n\u001b[1;32m     54\u001b[0m \u001b[38;5;66;03m# Add padding to prevent cropping\u001b[39;00m\n\u001b[1;32m     55\u001b[0m padding \u001b[38;5;241m=\u001b[39m \u001b[38;5;241m400\u001b[39m\n",
      "\u001b[0;31mFileNotFoundError\u001b[0m: Image not found!"
     ]
    }
   ],
   "source": [
    "import cv2\n",
    "import numpy as np\n",
    "import math\n",
    "import pickle\n",
    "\n",
    "def add_padding(image, padding):\n",
    "    \"\"\"Adds padding to an image to prevent cropping after warping.\"\"\"\n",
    "    h, w, c = image.shape\n",
    "    new_h, new_w = h + 2 * padding, w + 2 * padding\n",
    "    padded_image = np.zeros((new_h, new_w, c), dtype=np.uint8)\n",
    "    padded_image[padding:padding+h, padding:padding+w] = image\n",
    "    return padded_image\n",
    "\n",
    "def generate_mesh_grid(width, height):\n",
    "    \"\"\"Generate a mesh grid for remapping transformation.\"\"\"\n",
    "    x_map, y_map = np.meshgrid(np.arange(width, dtype=np.float32), np.arange(height, dtype=np.float32))\n",
    "    mesh_3d = np.stack([x_map, y_map, np.zeros_like(x_map), np.ones_like(x_map)], axis=-1)  # (H, W, 4)\n",
    "    return mesh_3d\n",
    "\n",
    "def get_rotation_matrix(angle_x, angle_y, angle_z):\n",
    "    \"\"\"Compute 3D rotation matrix from given angles in degrees.\"\"\"\n",
    "    ax, ay, az = map(math.radians, [angle_x, angle_y, angle_z])\n",
    "    \n",
    "    rot_x = np.array([[1, 0, 0], [0, math.cos(ax), -math.sin(ax)], [0, math.sin(ax), math.cos(ax)]], dtype=np.float32)\n",
    "    rot_y = np.array([[math.cos(ay), 0, math.sin(ay)], [0, 1, 0], [-math.sin(ay), 0, math.cos(ay)]], dtype=np.float32)\n",
    "    rot_z = np.array([[math.cos(az), -math.sin(az), 0], [math.sin(az), math.cos(az), 0], [0, 0, 1]], dtype=np.float32)\n",
    "    \n",
    "    rot_matrix = np.eye(4, dtype=np.float32)\n",
    "    rot_matrix[:3, :3] = rot_z @ rot_y @ rot_x  # Combine rotations\n",
    "    return rot_matrix\n",
    "\n",
    "def apply_transformations(mesh, rotation_matrix, amplitude, frequency):\n",
    "    \"\"\"Apply both wavy distortion and 3D rotation to the transformation mesh.\"\"\"\n",
    "    h, w, _ = mesh.shape\n",
    "    flat_mesh = mesh.reshape(-1, 4).T  # Shape: (4, H*W)\n",
    "\n",
    "    # Generate a vector with values ranging from -1 to 1\n",
    "    vector = np.linspace(-1.0, 1.0, flat_mesh.shape[1])\n",
    "    \n",
    "    # Apply wavy transformation\n",
    "    flat_mesh[1] += amplitude * np.sin(frequency * flat_mesh[0]) * vector\n",
    "    \n",
    "    # Apply 3D rotation\n",
    "    transformed_mesh = rotation_matrix @ flat_mesh\n",
    "    x_new, y_new = transformed_mesh[0], transformed_mesh[1]  # Ignore Z-axis\n",
    "    \n",
    "    return x_new.reshape(h, w).astype(np.float32), y_new.reshape(h, w).astype(np.float32)\n",
    "\n",
    "# Load the image\n",
    "image = cv2.imread(\"../data/documents/example_page_1.jpg\")\n",
    "if image is None:\n",
    "    raise FileNotFoundError(\"Image not found!\")\n",
    "\n",
    "# Add padding to prevent cropping\n",
    "padding = 400\n",
    "scaled_image = add_padding(image, padding)\n",
    "\n",
    "# Get new dimensions\n",
    "height, width = scaled_image.shape[:2]\n",
    "\n",
    "# Generate mesh grid\n",
    "mesh_3d = generate_mesh_grid(width, height)\n",
    "\n",
    "# Define transformations\n",
    "amplitude = 100  # Pixel displacement\n",
    "frequency = 0.1 * np.pi / width  # Frequency relative to width\n",
    "rotation_matrix = get_rotation_matrix(-10, -10, -5)\n",
    "\n",
    "# Apply combined transformations\n",
    "x_map_final, y_map_final = apply_transformations(mesh_3d, rotation_matrix, amplitude, frequency)\n",
    "\n",
    "# Ensure correct data type for remap\n",
    "x_map_final = x_map_final.astype(np.float32)\n",
    "y_map_final = y_map_final.astype(np.float32)\n",
    "\n",
    "# Zapis do pliku\n",
    "# with open(\"dane.pkl\", \"wb\") as f:\n",
    "#     np.save([x_map_final, y_map_final], f)\n",
    "\n",
    "np.savez(\"deformation_grids.npz\", x_map=x_map_final, y_map=y_map_final)\n",
    "\n",
    "# Remap image using the transformed mesh\n",
    "final_image = cv2.remap(scaled_image, x_map_final, y_map_final, interpolation=cv2.INTER_LINEAR, borderMode=cv2.BORDER_CONSTANT)\n",
    "cv2.imwrite(\"../data/input/example_page_1_transformed.jpg\", final_image)\n",
    "print(\"Combined wavy and 3D rotated transformation applied successfully!\")\n"
   ]
  }
 ],
 "metadata": {
  "kernelspec": {
   "display_name": ".venv",
   "language": "python",
   "name": "python3"
  },
  "language_info": {
   "codemirror_mode": {
    "name": "ipython",
    "version": 3
   },
   "file_extension": ".py",
   "mimetype": "text/x-python",
   "name": "python",
   "nbconvert_exporter": "python",
   "pygments_lexer": "ipython3",
   "version": "3.12.3"
  }
 },
 "nbformat": 4,
 "nbformat_minor": 2
}
