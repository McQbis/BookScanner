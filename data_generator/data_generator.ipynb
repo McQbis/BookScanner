{
 "cells": [
  {
   "cell_type": "markdown",
   "metadata": {},
   "source": []
  },
  {
   "cell_type": "code",
   "execution_count": 25,
   "metadata": {},
   "outputs": [
    {
     "name": "stdout",
     "output_type": "stream",
     "text": [
      "Spreadsheet 'example.ods' created successfully!\n"
     ]
    }
   ],
   "source": [
    "from odf.opendocument import OpenDocumentSpreadsheet\n",
    "from odf.style import Style, TextProperties\n",
    "from odf.table import Table, TableRow, TableCell\n",
    "from odf.text import P\n",
    "import random\n",
    "from numpy.random import choice\n",
    "from pathlib import Path\n",
    "from typing import List\n",
    "\n",
    "# Read text for document generation\n",
    "TEXT_FILE_PATH = \"text.txt\"\n",
    "OUTPUT_DIRECTORY = Path(\"../data/documents\")\n",
    "\n",
    "def load_words(file_path: str) -> List[str]:\n",
    "    \"\"\"Load words from a text file.\"\"\"\n",
    "    with open(file_path, \"r\", encoding=\"utf-8\") as file:\n",
    "        return file.read().split()\n",
    "    \n",
    "words_from_file = load_words(TEXT_FILE_PATH)\n",
    "\n",
    "def generate_random_font_style() -> Style:\n",
    "    \"\"\"Generate a random font style for table cells.\"\"\"\n",
    "    style = Style(name=f\"Style_{random.randint(1, 1_000_000)}\", family=\"table-cell\")\n",
    "    \n",
    "    font_size = choice([\"12pt\", \"14pt\", \"17pt\", \"21pt\", \"26pt\"],\n",
    "                       p=[0.8, 0.05, 0.05, 0.05, 0.05])\n",
    "    bold = choice([\"bold\", \"normal\"], p=[0.05, 0.95])\n",
    "    italic = choice([\"italic\", \"normal\"], p=[0.05, 0.95])\n",
    "    \n",
    "    style.addElement(TextProperties(fontstyle=italic, fontweight=bold, fontsize=font_size))\n",
    "    return style\n",
    "\n",
    "def generate_random_file_content(file_name: str):\n",
    "    \"\"\"Generate an OpenDocument spreadsheet with random text formatting.\"\"\"\n",
    "    # Prepare data\n",
    "    random.shuffle(words_from_file)\n",
    "    words = words_from_file[random.randint(0, 101):random.randint(102, len(words_from_file))]\n",
    "    num_of_words = len(words)\n",
    "\n",
    "    \n",
    "    # Create a new spreadsheet document\n",
    "    doc = OpenDocumentSpreadsheet()\n",
    "    table = Table(name=file_name)\n",
    "    file_content = []\n",
    "    \n",
    "    # Generate table content\n",
    "    i = 0\n",
    "    while i < num_of_words:\n",
    "        line_length = random.randint(1, 10)\n",
    "        tab_adding = choice([True, False], p=[0.05, 0.95])\n",
    "        dash_adding = choice([True, False], p=[0.05, 0.95])\n",
    "        star_adding = choice([True, False], p=[0.05, 0.95])\n",
    "        \n",
    "        row_data = []\n",
    "        if tab_adding:\n",
    "            row_data.append(\"\")\n",
    "            tab_adding = False\n",
    "        \n",
    "        for _ in range(line_length):\n",
    "            if i >= num_of_words:\n",
    "                break\n",
    "            \n",
    "            if dash_adding:\n",
    "                row_data.append(\"-\")\n",
    "                dash_adding = False\n",
    "            elif star_adding:\n",
    "                row_data.append(\"*\")\n",
    "                star_adding = False\n",
    "            else:\n",
    "                row_data.append(words[i])\n",
    "                i += 1\n",
    "        \n",
    "        file_content.append(row_data)\n",
    "    \n",
    "    # Add rows and cells to the table\n",
    "    for row_data in file_content:\n",
    "        row = TableRow()\n",
    "        for cell_data in row_data:\n",
    "            font_style = generate_random_font_style()\n",
    "            doc.automaticstyles.addElement(font_style)\n",
    "            cell = TableCell(stylename=font_style)\n",
    "            cell.addElement(P(text=cell_data))\n",
    "            row.addElement(cell)\n",
    "        table.addElement(row)\n",
    "    \n",
    "    # Add table to document\n",
    "    doc.spreadsheet.addElement(table)\n",
    "    \n",
    "    # Ensure output directory exists\n",
    "    OUTPUT_DIRECTORY.mkdir(parents=True, exist_ok=True)\n",
    "    \n",
    "    # Save the document\n",
    "    output_path = OUTPUT_DIRECTORY / f\"{file_name}.ods\"\n",
    "    doc.save(str(output_path))\n",
    "    print(f\"Spreadsheet '{file_name}.ods' created successfully!\")\n",
    "\n",
    "# Example usage\n",
    "generate_random_file_content(\"example\")"
   ]
  },
  {
   "cell_type": "code",
   "execution_count": 30,
   "metadata": {},
   "outputs": [
    {
     "name": "stderr",
     "output_type": "stream",
     "text": [
      "Warning: failed to launch javaldx - java may not function correctly\n"
     ]
    },
    {
     "name": "stdout",
     "output_type": "stream",
     "text": [
      "convert /home/kubis/Pulpit/BookScanner/BookScanner/data/documents/example.ods as a Calc document -> /home/kubis/Pulpit/BookScanner/BookScanner/data/documents/example.pdf using filter : calc_pdf_Export\n",
      "Overwriting: /home/kubis/Pulpit/BookScanner/BookScanner/data/documents/example.pdf\n",
      "PDF '../data/documents/example.pdf' created successfully!\n"
     ]
    }
   ],
   "source": [
    "import subprocess\n",
    "import os\n",
    "\n",
    "def convert_ods_to_pdf(file_name: str):\n",
    "    \"\"\"Convert an ODS file to PDF using LibreOffice CLI.\"\"\"\n",
    "    input_path = OUTPUT_DIRECTORY / f\"{file_name}.ods\"\n",
    "    output_path = OUTPUT_DIRECTORY / f\"{file_name}.pdf\"\n",
    "    \n",
    "    if not input_path.exists():\n",
    "        print(f\"Error: File '{input_path}' not found.\")\n",
    "        return\n",
    "    \n",
    "    try:\n",
    "        subprocess.run([\n",
    "            \"libreoffice\", \"--headless\", \"--convert-to\", \"pdf\", str(input_path), \"--outdir\", str(OUTPUT_DIRECTORY)\n",
    "        ], check=True)\n",
    "        print(f\"PDF '{output_path}' created successfully!\")\n",
    "        os.remove(input_path)\n",
    "    except subprocess.CalledProcessError as e:\n",
    "        print(f\"Error during conversion: {e}\")\n",
    "\n",
    "# example usage\n",
    "convert_ods_to_pdf(\"example\")"
   ]
  },
  {
   "cell_type": "code",
   "execution_count": 31,
   "metadata": {},
   "outputs": [
    {
     "name": "stdout",
     "output_type": "stream",
     "text": [
      "All pages of 'example.pdf' converted to JPEG successfully!\n"
     ]
    }
   ],
   "source": [
    "from pdf2image import convert_from_path\n",
    "\n",
    "def convert_pdf_to_jpeg(file_name: str):\n",
    "    \"\"\"Convert all pages of a PDF file to JPEG using pdf2image.\"\"\"\n",
    "    pdf_path = OUTPUT_DIRECTORY / f\"{file_name}.pdf\"\n",
    "    output_dir = OUTPUT_DIRECTORY\n",
    "    output_dir.mkdir(parents=True, exist_ok=True)\n",
    "    \n",
    "    if not pdf_path.exists():\n",
    "        print(f\"Error: File '{pdf_path}' not found.\")\n",
    "        return\n",
    "    \n",
    "    try:\n",
    "        images = convert_from_path(str(pdf_path))\n",
    "        for i, image in enumerate(images):\n",
    "            image.save(str(output_dir / f\"{file_name}_page_{i + 1}.jpg\"), \"JPEG\")\n",
    "        print(f\"All pages of '{file_name}.pdf' converted to JPEG successfully!\")\n",
    "        os.remove(pdf_path)\n",
    "    except Exception as e:\n",
    "        print(f\"Error during conversion: {e}\")\n",
    "\n",
    "# example usage\n",
    "convert_pdf_to_jpeg(\"example\")"
   ]
  },
  {
   "cell_type": "code",
   "execution_count": 32,
   "metadata": {},
   "outputs": [
    {
     "name": "stdout",
     "output_type": "stream",
     "text": [
      "Spreadsheet 'IMG_1.ods' created successfully!\n"
     ]
    },
    {
     "name": "stderr",
     "output_type": "stream",
     "text": [
      "Warning: failed to launch javaldx - java may not function correctly\n"
     ]
    },
    {
     "name": "stdout",
     "output_type": "stream",
     "text": [
      "convert /home/kubis/Pulpit/BookScanner/BookScanner/data/documents/IMG_1.ods as a Calc document -> /home/kubis/Pulpit/BookScanner/BookScanner/data/documents/IMG_1.pdf using filter : calc_pdf_Export\n",
      "PDF '../data/documents/IMG_1.pdf' created successfully!\n",
      "All pages of 'IMG_1.pdf' converted to JPEG successfully!\n",
      "Spreadsheet 'IMG_2.ods' created successfully!\n"
     ]
    },
    {
     "name": "stderr",
     "output_type": "stream",
     "text": [
      "Warning: failed to launch javaldx - java may not function correctly\n"
     ]
    },
    {
     "name": "stdout",
     "output_type": "stream",
     "text": [
      "convert /home/kubis/Pulpit/BookScanner/BookScanner/data/documents/IMG_2.ods as a Calc document -> /home/kubis/Pulpit/BookScanner/BookScanner/data/documents/IMG_2.pdf using filter : calc_pdf_Export\n",
      "PDF '../data/documents/IMG_2.pdf' created successfully!\n",
      "All pages of 'IMG_2.pdf' converted to JPEG successfully!\n",
      "Spreadsheet 'IMG_3.ods' created successfully!\n"
     ]
    },
    {
     "name": "stderr",
     "output_type": "stream",
     "text": [
      "Warning: failed to launch javaldx - java may not function correctly\n"
     ]
    },
    {
     "name": "stdout",
     "output_type": "stream",
     "text": [
      "convert /home/kubis/Pulpit/BookScanner/BookScanner/data/documents/IMG_3.ods as a Calc document -> /home/kubis/Pulpit/BookScanner/BookScanner/data/documents/IMG_3.pdf using filter : calc_pdf_Export\n",
      "PDF '../data/documents/IMG_3.pdf' created successfully!\n",
      "All pages of 'IMG_3.pdf' converted to JPEG successfully!\n",
      "Spreadsheet 'IMG_4.ods' created successfully!\n"
     ]
    },
    {
     "name": "stderr",
     "output_type": "stream",
     "text": [
      "Warning: failed to launch javaldx - java may not function correctly\n"
     ]
    },
    {
     "name": "stdout",
     "output_type": "stream",
     "text": [
      "convert /home/kubis/Pulpit/BookScanner/BookScanner/data/documents/IMG_4.ods as a Calc document -> /home/kubis/Pulpit/BookScanner/BookScanner/data/documents/IMG_4.pdf using filter : calc_pdf_Export\n",
      "PDF '../data/documents/IMG_4.pdf' created successfully!\n",
      "All pages of 'IMG_4.pdf' converted to JPEG successfully!\n",
      "Spreadsheet 'IMG_5.ods' created successfully!\n"
     ]
    },
    {
     "name": "stderr",
     "output_type": "stream",
     "text": [
      "Warning: failed to launch javaldx - java may not function correctly\n"
     ]
    },
    {
     "name": "stdout",
     "output_type": "stream",
     "text": [
      "convert /home/kubis/Pulpit/BookScanner/BookScanner/data/documents/IMG_5.ods as a Calc document -> /home/kubis/Pulpit/BookScanner/BookScanner/data/documents/IMG_5.pdf using filter : calc_pdf_Export\n",
      "PDF '../data/documents/IMG_5.pdf' created successfully!\n",
      "All pages of 'IMG_5.pdf' converted to JPEG successfully!\n",
      "Spreadsheet 'IMG_6.ods' created successfully!\n"
     ]
    },
    {
     "name": "stderr",
     "output_type": "stream",
     "text": [
      "Warning: failed to launch javaldx - java may not function correctly\n"
     ]
    },
    {
     "name": "stdout",
     "output_type": "stream",
     "text": [
      "convert /home/kubis/Pulpit/BookScanner/BookScanner/data/documents/IMG_6.ods as a Calc document -> /home/kubis/Pulpit/BookScanner/BookScanner/data/documents/IMG_6.pdf using filter : calc_pdf_Export\n",
      "PDF '../data/documents/IMG_6.pdf' created successfully!\n",
      "All pages of 'IMG_6.pdf' converted to JPEG successfully!\n",
      "Spreadsheet 'IMG_7.ods' created successfully!\n"
     ]
    },
    {
     "name": "stderr",
     "output_type": "stream",
     "text": [
      "Warning: failed to launch javaldx - java may not function correctly\n"
     ]
    },
    {
     "name": "stdout",
     "output_type": "stream",
     "text": [
      "convert /home/kubis/Pulpit/BookScanner/BookScanner/data/documents/IMG_7.ods as a Calc document -> /home/kubis/Pulpit/BookScanner/BookScanner/data/documents/IMG_7.pdf using filter : calc_pdf_Export\n",
      "PDF '../data/documents/IMG_7.pdf' created successfully!\n",
      "All pages of 'IMG_7.pdf' converted to JPEG successfully!\n",
      "Spreadsheet 'IMG_8.ods' created successfully!\n"
     ]
    },
    {
     "name": "stderr",
     "output_type": "stream",
     "text": [
      "Warning: failed to launch javaldx - java may not function correctly\n"
     ]
    },
    {
     "name": "stdout",
     "output_type": "stream",
     "text": [
      "convert /home/kubis/Pulpit/BookScanner/BookScanner/data/documents/IMG_8.ods as a Calc document -> /home/kubis/Pulpit/BookScanner/BookScanner/data/documents/IMG_8.pdf using filter : calc_pdf_Export\n",
      "PDF '../data/documents/IMG_8.pdf' created successfully!\n",
      "All pages of 'IMG_8.pdf' converted to JPEG successfully!\n",
      "Spreadsheet 'IMG_9.ods' created successfully!\n"
     ]
    },
    {
     "name": "stderr",
     "output_type": "stream",
     "text": [
      "Warning: failed to launch javaldx - java may not function correctly\n"
     ]
    },
    {
     "name": "stdout",
     "output_type": "stream",
     "text": [
      "convert /home/kubis/Pulpit/BookScanner/BookScanner/data/documents/IMG_9.ods as a Calc document -> /home/kubis/Pulpit/BookScanner/BookScanner/data/documents/IMG_9.pdf using filter : calc_pdf_Export\n",
      "PDF '../data/documents/IMG_9.pdf' created successfully!\n",
      "All pages of 'IMG_9.pdf' converted to JPEG successfully!\n",
      "Spreadsheet 'IMG_10.ods' created successfully!\n"
     ]
    },
    {
     "name": "stderr",
     "output_type": "stream",
     "text": [
      "Warning: failed to launch javaldx - java may not function correctly\n"
     ]
    },
    {
     "name": "stdout",
     "output_type": "stream",
     "text": [
      "convert /home/kubis/Pulpit/BookScanner/BookScanner/data/documents/IMG_10.ods as a Calc document -> /home/kubis/Pulpit/BookScanner/BookScanner/data/documents/IMG_10.pdf using filter : calc_pdf_Export\n",
      "PDF '../data/documents/IMG_10.pdf' created successfully!\n",
      "All pages of 'IMG_10.pdf' converted to JPEG successfully!\n",
      "Spreadsheet 'IMG_11.ods' created successfully!\n"
     ]
    },
    {
     "name": "stderr",
     "output_type": "stream",
     "text": [
      "Warning: failed to launch javaldx - java may not function correctly\n"
     ]
    },
    {
     "name": "stdout",
     "output_type": "stream",
     "text": [
      "convert /home/kubis/Pulpit/BookScanner/BookScanner/data/documents/IMG_11.ods as a Calc document -> /home/kubis/Pulpit/BookScanner/BookScanner/data/documents/IMG_11.pdf using filter : calc_pdf_Export\n",
      "PDF '../data/documents/IMG_11.pdf' created successfully!\n",
      "All pages of 'IMG_11.pdf' converted to JPEG successfully!\n",
      "Spreadsheet 'IMG_12.ods' created successfully!\n"
     ]
    },
    {
     "name": "stderr",
     "output_type": "stream",
     "text": [
      "Warning: failed to launch javaldx - java may not function correctly\n"
     ]
    },
    {
     "name": "stdout",
     "output_type": "stream",
     "text": [
      "convert /home/kubis/Pulpit/BookScanner/BookScanner/data/documents/IMG_12.ods as a Calc document -> /home/kubis/Pulpit/BookScanner/BookScanner/data/documents/IMG_12.pdf using filter : calc_pdf_Export\n",
      "PDF '../data/documents/IMG_12.pdf' created successfully!\n",
      "All pages of 'IMG_12.pdf' converted to JPEG successfully!\n",
      "Spreadsheet 'IMG_13.ods' created successfully!\n"
     ]
    },
    {
     "name": "stderr",
     "output_type": "stream",
     "text": [
      "Warning: failed to launch javaldx - java may not function correctly\n"
     ]
    },
    {
     "name": "stdout",
     "output_type": "stream",
     "text": [
      "convert /home/kubis/Pulpit/BookScanner/BookScanner/data/documents/IMG_13.ods as a Calc document -> /home/kubis/Pulpit/BookScanner/BookScanner/data/documents/IMG_13.pdf using filter : calc_pdf_Export\n",
      "PDF '../data/documents/IMG_13.pdf' created successfully!\n",
      "All pages of 'IMG_13.pdf' converted to JPEG successfully!\n",
      "Spreadsheet 'IMG_14.ods' created successfully!\n"
     ]
    },
    {
     "name": "stderr",
     "output_type": "stream",
     "text": [
      "Warning: failed to launch javaldx - java may not function correctly\n"
     ]
    },
    {
     "name": "stdout",
     "output_type": "stream",
     "text": [
      "convert /home/kubis/Pulpit/BookScanner/BookScanner/data/documents/IMG_14.ods as a Calc document -> /home/kubis/Pulpit/BookScanner/BookScanner/data/documents/IMG_14.pdf using filter : calc_pdf_Export\n",
      "PDF '../data/documents/IMG_14.pdf' created successfully!\n",
      "All pages of 'IMG_14.pdf' converted to JPEG successfully!\n",
      "Spreadsheet 'IMG_15.ods' created successfully!\n"
     ]
    },
    {
     "name": "stderr",
     "output_type": "stream",
     "text": [
      "Warning: failed to launch javaldx - java may not function correctly\n"
     ]
    },
    {
     "name": "stdout",
     "output_type": "stream",
     "text": [
      "convert /home/kubis/Pulpit/BookScanner/BookScanner/data/documents/IMG_15.ods as a Calc document -> /home/kubis/Pulpit/BookScanner/BookScanner/data/documents/IMG_15.pdf using filter : calc_pdf_Export\n",
      "PDF '../data/documents/IMG_15.pdf' created successfully!\n",
      "All pages of 'IMG_15.pdf' converted to JPEG successfully!\n",
      "Spreadsheet 'IMG_16.ods' created successfully!\n"
     ]
    },
    {
     "name": "stderr",
     "output_type": "stream",
     "text": [
      "Warning: failed to launch javaldx - java may not function correctly\n"
     ]
    },
    {
     "name": "stdout",
     "output_type": "stream",
     "text": [
      "convert /home/kubis/Pulpit/BookScanner/BookScanner/data/documents/IMG_16.ods as a Calc document -> /home/kubis/Pulpit/BookScanner/BookScanner/data/documents/IMG_16.pdf using filter : calc_pdf_Export\n",
      "PDF '../data/documents/IMG_16.pdf' created successfully!\n",
      "All pages of 'IMG_16.pdf' converted to JPEG successfully!\n",
      "Spreadsheet 'IMG_17.ods' created successfully!\n"
     ]
    },
    {
     "name": "stderr",
     "output_type": "stream",
     "text": [
      "Warning: failed to launch javaldx - java may not function correctly\n"
     ]
    },
    {
     "name": "stdout",
     "output_type": "stream",
     "text": [
      "convert /home/kubis/Pulpit/BookScanner/BookScanner/data/documents/IMG_17.ods as a Calc document -> /home/kubis/Pulpit/BookScanner/BookScanner/data/documents/IMG_17.pdf using filter : calc_pdf_Export\n",
      "PDF '../data/documents/IMG_17.pdf' created successfully!\n",
      "All pages of 'IMG_17.pdf' converted to JPEG successfully!\n",
      "Spreadsheet 'IMG_18.ods' created successfully!\n"
     ]
    },
    {
     "name": "stderr",
     "output_type": "stream",
     "text": [
      "Warning: failed to launch javaldx - java may not function correctly\n"
     ]
    },
    {
     "name": "stdout",
     "output_type": "stream",
     "text": [
      "convert /home/kubis/Pulpit/BookScanner/BookScanner/data/documents/IMG_18.ods as a Calc document -> /home/kubis/Pulpit/BookScanner/BookScanner/data/documents/IMG_18.pdf using filter : calc_pdf_Export\n",
      "PDF '../data/documents/IMG_18.pdf' created successfully!\n",
      "All pages of 'IMG_18.pdf' converted to JPEG successfully!\n",
      "Spreadsheet 'IMG_19.ods' created successfully!\n"
     ]
    },
    {
     "name": "stderr",
     "output_type": "stream",
     "text": [
      "Warning: failed to launch javaldx - java may not function correctly\n"
     ]
    },
    {
     "name": "stdout",
     "output_type": "stream",
     "text": [
      "convert /home/kubis/Pulpit/BookScanner/BookScanner/data/documents/IMG_19.ods as a Calc document -> /home/kubis/Pulpit/BookScanner/BookScanner/data/documents/IMG_19.pdf using filter : calc_pdf_Export\n",
      "PDF '../data/documents/IMG_19.pdf' created successfully!\n",
      "All pages of 'IMG_19.pdf' converted to JPEG successfully!\n",
      "Spreadsheet 'IMG_20.ods' created successfully!\n"
     ]
    },
    {
     "name": "stderr",
     "output_type": "stream",
     "text": [
      "Warning: failed to launch javaldx - java may not function correctly\n"
     ]
    },
    {
     "name": "stdout",
     "output_type": "stream",
     "text": [
      "convert /home/kubis/Pulpit/BookScanner/BookScanner/data/documents/IMG_20.ods as a Calc document -> /home/kubis/Pulpit/BookScanner/BookScanner/data/documents/IMG_20.pdf using filter : calc_pdf_Export\n",
      "PDF '../data/documents/IMG_20.pdf' created successfully!\n",
      "All pages of 'IMG_20.pdf' converted to JPEG successfully!\n",
      "Spreadsheet 'IMG_21.ods' created successfully!\n"
     ]
    },
    {
     "name": "stderr",
     "output_type": "stream",
     "text": [
      "Warning: failed to launch javaldx - java may not function correctly\n"
     ]
    },
    {
     "name": "stdout",
     "output_type": "stream",
     "text": [
      "convert /home/kubis/Pulpit/BookScanner/BookScanner/data/documents/IMG_21.ods as a Calc document -> /home/kubis/Pulpit/BookScanner/BookScanner/data/documents/IMG_21.pdf using filter : calc_pdf_Export\n",
      "PDF '../data/documents/IMG_21.pdf' created successfully!\n",
      "All pages of 'IMG_21.pdf' converted to JPEG successfully!\n",
      "Spreadsheet 'IMG_22.ods' created successfully!\n"
     ]
    },
    {
     "name": "stderr",
     "output_type": "stream",
     "text": [
      "Warning: failed to launch javaldx - java may not function correctly\n"
     ]
    },
    {
     "name": "stdout",
     "output_type": "stream",
     "text": [
      "convert /home/kubis/Pulpit/BookScanner/BookScanner/data/documents/IMG_22.ods as a Calc document -> /home/kubis/Pulpit/BookScanner/BookScanner/data/documents/IMG_22.pdf using filter : calc_pdf_Export\n",
      "PDF '../data/documents/IMG_22.pdf' created successfully!\n",
      "All pages of 'IMG_22.pdf' converted to JPEG successfully!\n",
      "Spreadsheet 'IMG_23.ods' created successfully!\n"
     ]
    },
    {
     "name": "stderr",
     "output_type": "stream",
     "text": [
      "Warning: failed to launch javaldx - java may not function correctly\n"
     ]
    },
    {
     "name": "stdout",
     "output_type": "stream",
     "text": [
      "convert /home/kubis/Pulpit/BookScanner/BookScanner/data/documents/IMG_23.ods as a Calc document -> /home/kubis/Pulpit/BookScanner/BookScanner/data/documents/IMG_23.pdf using filter : calc_pdf_Export\n",
      "PDF '../data/documents/IMG_23.pdf' created successfully!\n",
      "All pages of 'IMG_23.pdf' converted to JPEG successfully!\n",
      "Spreadsheet 'IMG_24.ods' created successfully!\n"
     ]
    },
    {
     "name": "stderr",
     "output_type": "stream",
     "text": [
      "Warning: failed to launch javaldx - java may not function correctly\n"
     ]
    },
    {
     "name": "stdout",
     "output_type": "stream",
     "text": [
      "convert /home/kubis/Pulpit/BookScanner/BookScanner/data/documents/IMG_24.ods as a Calc document -> /home/kubis/Pulpit/BookScanner/BookScanner/data/documents/IMG_24.pdf using filter : calc_pdf_Export\n",
      "PDF '../data/documents/IMG_24.pdf' created successfully!\n",
      "All pages of 'IMG_24.pdf' converted to JPEG successfully!\n",
      "Spreadsheet 'IMG_25.ods' created successfully!\n"
     ]
    },
    {
     "name": "stderr",
     "output_type": "stream",
     "text": [
      "Warning: failed to launch javaldx - java may not function correctly\n"
     ]
    },
    {
     "name": "stdout",
     "output_type": "stream",
     "text": [
      "convert /home/kubis/Pulpit/BookScanner/BookScanner/data/documents/IMG_25.ods as a Calc document -> /home/kubis/Pulpit/BookScanner/BookScanner/data/documents/IMG_25.pdf using filter : calc_pdf_Export\n",
      "PDF '../data/documents/IMG_25.pdf' created successfully!\n",
      "All pages of 'IMG_25.pdf' converted to JPEG successfully!\n",
      "Spreadsheet 'IMG_26.ods' created successfully!\n"
     ]
    },
    {
     "name": "stderr",
     "output_type": "stream",
     "text": [
      "Warning: failed to launch javaldx - java may not function correctly\n"
     ]
    },
    {
     "name": "stdout",
     "output_type": "stream",
     "text": [
      "convert /home/kubis/Pulpit/BookScanner/BookScanner/data/documents/IMG_26.ods as a Calc document -> /home/kubis/Pulpit/BookScanner/BookScanner/data/documents/IMG_26.pdf using filter : calc_pdf_Export\n",
      "PDF '../data/documents/IMG_26.pdf' created successfully!\n",
      "All pages of 'IMG_26.pdf' converted to JPEG successfully!\n",
      "Spreadsheet 'IMG_27.ods' created successfully!\n"
     ]
    },
    {
     "name": "stderr",
     "output_type": "stream",
     "text": [
      "Warning: failed to launch javaldx - java may not function correctly\n"
     ]
    },
    {
     "name": "stdout",
     "output_type": "stream",
     "text": [
      "convert /home/kubis/Pulpit/BookScanner/BookScanner/data/documents/IMG_27.ods as a Calc document -> /home/kubis/Pulpit/BookScanner/BookScanner/data/documents/IMG_27.pdf using filter : calc_pdf_Export\n",
      "PDF '../data/documents/IMG_27.pdf' created successfully!\n",
      "All pages of 'IMG_27.pdf' converted to JPEG successfully!\n",
      "Spreadsheet 'IMG_28.ods' created successfully!\n"
     ]
    },
    {
     "name": "stderr",
     "output_type": "stream",
     "text": [
      "Warning: failed to launch javaldx - java may not function correctly\n"
     ]
    },
    {
     "name": "stdout",
     "output_type": "stream",
     "text": [
      "convert /home/kubis/Pulpit/BookScanner/BookScanner/data/documents/IMG_28.ods as a Calc document -> /home/kubis/Pulpit/BookScanner/BookScanner/data/documents/IMG_28.pdf using filter : calc_pdf_Export\n",
      "PDF '../data/documents/IMG_28.pdf' created successfully!\n",
      "All pages of 'IMG_28.pdf' converted to JPEG successfully!\n",
      "Spreadsheet 'IMG_29.ods' created successfully!\n"
     ]
    },
    {
     "name": "stderr",
     "output_type": "stream",
     "text": [
      "Warning: failed to launch javaldx - java may not function correctly\n"
     ]
    },
    {
     "name": "stdout",
     "output_type": "stream",
     "text": [
      "convert /home/kubis/Pulpit/BookScanner/BookScanner/data/documents/IMG_29.ods as a Calc document -> /home/kubis/Pulpit/BookScanner/BookScanner/data/documents/IMG_29.pdf using filter : calc_pdf_Export\n",
      "PDF '../data/documents/IMG_29.pdf' created successfully!\n",
      "All pages of 'IMG_29.pdf' converted to JPEG successfully!\n",
      "Spreadsheet 'IMG_30.ods' created successfully!\n"
     ]
    },
    {
     "name": "stderr",
     "output_type": "stream",
     "text": [
      "Warning: failed to launch javaldx - java may not function correctly\n"
     ]
    },
    {
     "name": "stdout",
     "output_type": "stream",
     "text": [
      "convert /home/kubis/Pulpit/BookScanner/BookScanner/data/documents/IMG_30.ods as a Calc document -> /home/kubis/Pulpit/BookScanner/BookScanner/data/documents/IMG_30.pdf using filter : calc_pdf_Export\n",
      "PDF '../data/documents/IMG_30.pdf' created successfully!\n",
      "All pages of 'IMG_30.pdf' converted to JPEG successfully!\n",
      "Spreadsheet 'IMG_31.ods' created successfully!\n"
     ]
    },
    {
     "name": "stderr",
     "output_type": "stream",
     "text": [
      "Warning: failed to launch javaldx - java may not function correctly\n"
     ]
    },
    {
     "name": "stdout",
     "output_type": "stream",
     "text": [
      "convert /home/kubis/Pulpit/BookScanner/BookScanner/data/documents/IMG_31.ods as a Calc document -> /home/kubis/Pulpit/BookScanner/BookScanner/data/documents/IMG_31.pdf using filter : calc_pdf_Export\n",
      "PDF '../data/documents/IMG_31.pdf' created successfully!\n",
      "All pages of 'IMG_31.pdf' converted to JPEG successfully!\n",
      "Spreadsheet 'IMG_32.ods' created successfully!\n"
     ]
    },
    {
     "name": "stderr",
     "output_type": "stream",
     "text": [
      "Warning: failed to launch javaldx - java may not function correctly\n"
     ]
    },
    {
     "name": "stdout",
     "output_type": "stream",
     "text": [
      "convert /home/kubis/Pulpit/BookScanner/BookScanner/data/documents/IMG_32.ods as a Calc document -> /home/kubis/Pulpit/BookScanner/BookScanner/data/documents/IMG_32.pdf using filter : calc_pdf_Export\n",
      "PDF '../data/documents/IMG_32.pdf' created successfully!\n",
      "All pages of 'IMG_32.pdf' converted to JPEG successfully!\n",
      "Spreadsheet 'IMG_33.ods' created successfully!\n"
     ]
    },
    {
     "name": "stderr",
     "output_type": "stream",
     "text": [
      "Warning: failed to launch javaldx - java may not function correctly\n"
     ]
    },
    {
     "name": "stdout",
     "output_type": "stream",
     "text": [
      "convert /home/kubis/Pulpit/BookScanner/BookScanner/data/documents/IMG_33.ods as a Calc document -> /home/kubis/Pulpit/BookScanner/BookScanner/data/documents/IMG_33.pdf using filter : calc_pdf_Export\n",
      "PDF '../data/documents/IMG_33.pdf' created successfully!\n",
      "All pages of 'IMG_33.pdf' converted to JPEG successfully!\n",
      "Spreadsheet 'IMG_34.ods' created successfully!\n"
     ]
    },
    {
     "name": "stderr",
     "output_type": "stream",
     "text": [
      "Warning: failed to launch javaldx - java may not function correctly\n"
     ]
    },
    {
     "name": "stdout",
     "output_type": "stream",
     "text": [
      "convert /home/kubis/Pulpit/BookScanner/BookScanner/data/documents/IMG_34.ods as a Calc document -> /home/kubis/Pulpit/BookScanner/BookScanner/data/documents/IMG_34.pdf using filter : calc_pdf_Export\n",
      "PDF '../data/documents/IMG_34.pdf' created successfully!\n",
      "All pages of 'IMG_34.pdf' converted to JPEG successfully!\n",
      "Spreadsheet 'IMG_35.ods' created successfully!\n"
     ]
    },
    {
     "name": "stderr",
     "output_type": "stream",
     "text": [
      "Warning: failed to launch javaldx - java may not function correctly\n"
     ]
    },
    {
     "name": "stdout",
     "output_type": "stream",
     "text": [
      "convert /home/kubis/Pulpit/BookScanner/BookScanner/data/documents/IMG_35.ods as a Calc document -> /home/kubis/Pulpit/BookScanner/BookScanner/data/documents/IMG_35.pdf using filter : calc_pdf_Export\n",
      "PDF '../data/documents/IMG_35.pdf' created successfully!\n",
      "All pages of 'IMG_35.pdf' converted to JPEG successfully!\n",
      "Spreadsheet 'IMG_36.ods' created successfully!\n"
     ]
    },
    {
     "name": "stderr",
     "output_type": "stream",
     "text": [
      "Warning: failed to launch javaldx - java may not function correctly\n"
     ]
    },
    {
     "name": "stdout",
     "output_type": "stream",
     "text": [
      "convert /home/kubis/Pulpit/BookScanner/BookScanner/data/documents/IMG_36.ods as a Calc document -> /home/kubis/Pulpit/BookScanner/BookScanner/data/documents/IMG_36.pdf using filter : calc_pdf_Export\n",
      "PDF '../data/documents/IMG_36.pdf' created successfully!\n",
      "All pages of 'IMG_36.pdf' converted to JPEG successfully!\n",
      "Spreadsheet 'IMG_37.ods' created successfully!\n"
     ]
    },
    {
     "name": "stderr",
     "output_type": "stream",
     "text": [
      "Warning: failed to launch javaldx - java may not function correctly\n"
     ]
    },
    {
     "name": "stdout",
     "output_type": "stream",
     "text": [
      "convert /home/kubis/Pulpit/BookScanner/BookScanner/data/documents/IMG_37.ods as a Calc document -> /home/kubis/Pulpit/BookScanner/BookScanner/data/documents/IMG_37.pdf using filter : calc_pdf_Export\n",
      "PDF '../data/documents/IMG_37.pdf' created successfully!\n",
      "All pages of 'IMG_37.pdf' converted to JPEG successfully!\n",
      "Spreadsheet 'IMG_38.ods' created successfully!\n"
     ]
    },
    {
     "name": "stderr",
     "output_type": "stream",
     "text": [
      "Warning: failed to launch javaldx - java may not function correctly\n"
     ]
    },
    {
     "name": "stdout",
     "output_type": "stream",
     "text": [
      "convert /home/kubis/Pulpit/BookScanner/BookScanner/data/documents/IMG_38.ods as a Calc document -> /home/kubis/Pulpit/BookScanner/BookScanner/data/documents/IMG_38.pdf using filter : calc_pdf_Export\n",
      "PDF '../data/documents/IMG_38.pdf' created successfully!\n",
      "All pages of 'IMG_38.pdf' converted to JPEG successfully!\n",
      "Spreadsheet 'IMG_39.ods' created successfully!\n"
     ]
    },
    {
     "name": "stderr",
     "output_type": "stream",
     "text": [
      "Warning: failed to launch javaldx - java may not function correctly\n"
     ]
    },
    {
     "name": "stdout",
     "output_type": "stream",
     "text": [
      "convert /home/kubis/Pulpit/BookScanner/BookScanner/data/documents/IMG_39.ods as a Calc document -> /home/kubis/Pulpit/BookScanner/BookScanner/data/documents/IMG_39.pdf using filter : calc_pdf_Export\n",
      "PDF '../data/documents/IMG_39.pdf' created successfully!\n",
      "All pages of 'IMG_39.pdf' converted to JPEG successfully!\n",
      "Spreadsheet 'IMG_40.ods' created successfully!\n"
     ]
    },
    {
     "name": "stderr",
     "output_type": "stream",
     "text": [
      "Warning: failed to launch javaldx - java may not function correctly\n"
     ]
    },
    {
     "name": "stdout",
     "output_type": "stream",
     "text": [
      "convert /home/kubis/Pulpit/BookScanner/BookScanner/data/documents/IMG_40.ods as a Calc document -> /home/kubis/Pulpit/BookScanner/BookScanner/data/documents/IMG_40.pdf using filter : calc_pdf_Export\n",
      "PDF '../data/documents/IMG_40.pdf' created successfully!\n",
      "All pages of 'IMG_40.pdf' converted to JPEG successfully!\n",
      "Spreadsheet 'IMG_41.ods' created successfully!\n"
     ]
    },
    {
     "name": "stderr",
     "output_type": "stream",
     "text": [
      "Warning: failed to launch javaldx - java may not function correctly\n"
     ]
    },
    {
     "name": "stdout",
     "output_type": "stream",
     "text": [
      "convert /home/kubis/Pulpit/BookScanner/BookScanner/data/documents/IMG_41.ods as a Calc document -> /home/kubis/Pulpit/BookScanner/BookScanner/data/documents/IMG_41.pdf using filter : calc_pdf_Export\n",
      "PDF '../data/documents/IMG_41.pdf' created successfully!\n",
      "All pages of 'IMG_41.pdf' converted to JPEG successfully!\n",
      "Spreadsheet 'IMG_42.ods' created successfully!\n"
     ]
    },
    {
     "name": "stderr",
     "output_type": "stream",
     "text": [
      "Warning: failed to launch javaldx - java may not function correctly\n"
     ]
    },
    {
     "name": "stdout",
     "output_type": "stream",
     "text": [
      "convert /home/kubis/Pulpit/BookScanner/BookScanner/data/documents/IMG_42.ods as a Calc document -> /home/kubis/Pulpit/BookScanner/BookScanner/data/documents/IMG_42.pdf using filter : calc_pdf_Export\n",
      "PDF '../data/documents/IMG_42.pdf' created successfully!\n",
      "All pages of 'IMG_42.pdf' converted to JPEG successfully!\n",
      "Spreadsheet 'IMG_43.ods' created successfully!\n"
     ]
    },
    {
     "name": "stderr",
     "output_type": "stream",
     "text": [
      "Warning: failed to launch javaldx - java may not function correctly\n"
     ]
    },
    {
     "name": "stdout",
     "output_type": "stream",
     "text": [
      "convert /home/kubis/Pulpit/BookScanner/BookScanner/data/documents/IMG_43.ods as a Calc document -> /home/kubis/Pulpit/BookScanner/BookScanner/data/documents/IMG_43.pdf using filter : calc_pdf_Export\n",
      "PDF '../data/documents/IMG_43.pdf' created successfully!\n",
      "All pages of 'IMG_43.pdf' converted to JPEG successfully!\n",
      "Spreadsheet 'IMG_44.ods' created successfully!\n"
     ]
    },
    {
     "name": "stderr",
     "output_type": "stream",
     "text": [
      "Warning: failed to launch javaldx - java may not function correctly\n"
     ]
    },
    {
     "name": "stdout",
     "output_type": "stream",
     "text": [
      "convert /home/kubis/Pulpit/BookScanner/BookScanner/data/documents/IMG_44.ods as a Calc document -> /home/kubis/Pulpit/BookScanner/BookScanner/data/documents/IMG_44.pdf using filter : calc_pdf_Export\n",
      "PDF '../data/documents/IMG_44.pdf' created successfully!\n",
      "All pages of 'IMG_44.pdf' converted to JPEG successfully!\n",
      "Spreadsheet 'IMG_45.ods' created successfully!\n"
     ]
    },
    {
     "name": "stderr",
     "output_type": "stream",
     "text": [
      "Warning: failed to launch javaldx - java may not function correctly\n"
     ]
    },
    {
     "name": "stdout",
     "output_type": "stream",
     "text": [
      "convert /home/kubis/Pulpit/BookScanner/BookScanner/data/documents/IMG_45.ods as a Calc document -> /home/kubis/Pulpit/BookScanner/BookScanner/data/documents/IMG_45.pdf using filter : calc_pdf_Export\n",
      "PDF '../data/documents/IMG_45.pdf' created successfully!\n",
      "All pages of 'IMG_45.pdf' converted to JPEG successfully!\n",
      "Spreadsheet 'IMG_46.ods' created successfully!\n"
     ]
    },
    {
     "name": "stderr",
     "output_type": "stream",
     "text": [
      "Warning: failed to launch javaldx - java may not function correctly\n"
     ]
    },
    {
     "name": "stdout",
     "output_type": "stream",
     "text": [
      "convert /home/kubis/Pulpit/BookScanner/BookScanner/data/documents/IMG_46.ods as a Calc document -> /home/kubis/Pulpit/BookScanner/BookScanner/data/documents/IMG_46.pdf using filter : calc_pdf_Export\n",
      "PDF '../data/documents/IMG_46.pdf' created successfully!\n",
      "All pages of 'IMG_46.pdf' converted to JPEG successfully!\n",
      "Spreadsheet 'IMG_47.ods' created successfully!\n"
     ]
    },
    {
     "name": "stderr",
     "output_type": "stream",
     "text": [
      "Warning: failed to launch javaldx - java may not function correctly\n"
     ]
    },
    {
     "name": "stdout",
     "output_type": "stream",
     "text": [
      "convert /home/kubis/Pulpit/BookScanner/BookScanner/data/documents/IMG_47.ods as a Calc document -> /home/kubis/Pulpit/BookScanner/BookScanner/data/documents/IMG_47.pdf using filter : calc_pdf_Export\n",
      "PDF '../data/documents/IMG_47.pdf' created successfully!\n",
      "All pages of 'IMG_47.pdf' converted to JPEG successfully!\n",
      "Spreadsheet 'IMG_48.ods' created successfully!\n"
     ]
    },
    {
     "name": "stderr",
     "output_type": "stream",
     "text": [
      "Warning: failed to launch javaldx - java may not function correctly\n"
     ]
    },
    {
     "name": "stdout",
     "output_type": "stream",
     "text": [
      "convert /home/kubis/Pulpit/BookScanner/BookScanner/data/documents/IMG_48.ods as a Calc document -> /home/kubis/Pulpit/BookScanner/BookScanner/data/documents/IMG_48.pdf using filter : calc_pdf_Export\n",
      "PDF '../data/documents/IMG_48.pdf' created successfully!\n",
      "All pages of 'IMG_48.pdf' converted to JPEG successfully!\n",
      "Spreadsheet 'IMG_49.ods' created successfully!\n"
     ]
    },
    {
     "name": "stderr",
     "output_type": "stream",
     "text": [
      "Warning: failed to launch javaldx - java may not function correctly\n"
     ]
    },
    {
     "name": "stdout",
     "output_type": "stream",
     "text": [
      "convert /home/kubis/Pulpit/BookScanner/BookScanner/data/documents/IMG_49.ods as a Calc document -> /home/kubis/Pulpit/BookScanner/BookScanner/data/documents/IMG_49.pdf using filter : calc_pdf_Export\n",
      "PDF '../data/documents/IMG_49.pdf' created successfully!\n",
      "All pages of 'IMG_49.pdf' converted to JPEG successfully!\n",
      "Spreadsheet 'IMG_50.ods' created successfully!\n"
     ]
    },
    {
     "name": "stderr",
     "output_type": "stream",
     "text": [
      "Warning: failed to launch javaldx - java may not function correctly\n"
     ]
    },
    {
     "name": "stdout",
     "output_type": "stream",
     "text": [
      "convert /home/kubis/Pulpit/BookScanner/BookScanner/data/documents/IMG_50.ods as a Calc document -> /home/kubis/Pulpit/BookScanner/BookScanner/data/documents/IMG_50.pdf using filter : calc_pdf_Export\n",
      "PDF '../data/documents/IMG_50.pdf' created successfully!\n",
      "All pages of 'IMG_50.pdf' converted to JPEG successfully!\n",
      "Spreadsheet 'IMG_51.ods' created successfully!\n"
     ]
    },
    {
     "name": "stderr",
     "output_type": "stream",
     "text": [
      "Warning: failed to launch javaldx - java may not function correctly\n"
     ]
    },
    {
     "name": "stdout",
     "output_type": "stream",
     "text": [
      "convert /home/kubis/Pulpit/BookScanner/BookScanner/data/documents/IMG_51.ods as a Calc document -> /home/kubis/Pulpit/BookScanner/BookScanner/data/documents/IMG_51.pdf using filter : calc_pdf_Export\n",
      "PDF '../data/documents/IMG_51.pdf' created successfully!\n",
      "All pages of 'IMG_51.pdf' converted to JPEG successfully!\n",
      "Spreadsheet 'IMG_52.ods' created successfully!\n"
     ]
    },
    {
     "name": "stderr",
     "output_type": "stream",
     "text": [
      "Warning: failed to launch javaldx - java may not function correctly\n"
     ]
    },
    {
     "name": "stdout",
     "output_type": "stream",
     "text": [
      "convert /home/kubis/Pulpit/BookScanner/BookScanner/data/documents/IMG_52.ods as a Calc document -> /home/kubis/Pulpit/BookScanner/BookScanner/data/documents/IMG_52.pdf using filter : calc_pdf_Export\n",
      "PDF '../data/documents/IMG_52.pdf' created successfully!\n",
      "All pages of 'IMG_52.pdf' converted to JPEG successfully!\n",
      "Spreadsheet 'IMG_53.ods' created successfully!\n"
     ]
    },
    {
     "name": "stderr",
     "output_type": "stream",
     "text": [
      "Warning: failed to launch javaldx - java may not function correctly\n"
     ]
    },
    {
     "name": "stdout",
     "output_type": "stream",
     "text": [
      "convert /home/kubis/Pulpit/BookScanner/BookScanner/data/documents/IMG_53.ods as a Calc document -> /home/kubis/Pulpit/BookScanner/BookScanner/data/documents/IMG_53.pdf using filter : calc_pdf_Export\n",
      "PDF '../data/documents/IMG_53.pdf' created successfully!\n",
      "All pages of 'IMG_53.pdf' converted to JPEG successfully!\n",
      "Spreadsheet 'IMG_54.ods' created successfully!\n"
     ]
    },
    {
     "name": "stderr",
     "output_type": "stream",
     "text": [
      "Warning: failed to launch javaldx - java may not function correctly\n"
     ]
    },
    {
     "name": "stdout",
     "output_type": "stream",
     "text": [
      "convert /home/kubis/Pulpit/BookScanner/BookScanner/data/documents/IMG_54.ods as a Calc document -> /home/kubis/Pulpit/BookScanner/BookScanner/data/documents/IMG_54.pdf using filter : calc_pdf_Export\n",
      "PDF '../data/documents/IMG_54.pdf' created successfully!\n",
      "All pages of 'IMG_54.pdf' converted to JPEG successfully!\n",
      "Spreadsheet 'IMG_55.ods' created successfully!\n"
     ]
    },
    {
     "name": "stderr",
     "output_type": "stream",
     "text": [
      "Warning: failed to launch javaldx - java may not function correctly\n"
     ]
    },
    {
     "name": "stdout",
     "output_type": "stream",
     "text": [
      "convert /home/kubis/Pulpit/BookScanner/BookScanner/data/documents/IMG_55.ods as a Calc document -> /home/kubis/Pulpit/BookScanner/BookScanner/data/documents/IMG_55.pdf using filter : calc_pdf_Export\n",
      "PDF '../data/documents/IMG_55.pdf' created successfully!\n",
      "All pages of 'IMG_55.pdf' converted to JPEG successfully!\n",
      "Spreadsheet 'IMG_56.ods' created successfully!\n"
     ]
    },
    {
     "name": "stderr",
     "output_type": "stream",
     "text": [
      "Warning: failed to launch javaldx - java may not function correctly\n"
     ]
    },
    {
     "name": "stdout",
     "output_type": "stream",
     "text": [
      "convert /home/kubis/Pulpit/BookScanner/BookScanner/data/documents/IMG_56.ods as a Calc document -> /home/kubis/Pulpit/BookScanner/BookScanner/data/documents/IMG_56.pdf using filter : calc_pdf_Export\n",
      "PDF '../data/documents/IMG_56.pdf' created successfully!\n",
      "All pages of 'IMG_56.pdf' converted to JPEG successfully!\n",
      "Spreadsheet 'IMG_57.ods' created successfully!\n"
     ]
    },
    {
     "name": "stderr",
     "output_type": "stream",
     "text": [
      "Warning: failed to launch javaldx - java may not function correctly\n"
     ]
    },
    {
     "name": "stdout",
     "output_type": "stream",
     "text": [
      "convert /home/kubis/Pulpit/BookScanner/BookScanner/data/documents/IMG_57.ods as a Calc document -> /home/kubis/Pulpit/BookScanner/BookScanner/data/documents/IMG_57.pdf using filter : calc_pdf_Export\n",
      "PDF '../data/documents/IMG_57.pdf' created successfully!\n",
      "All pages of 'IMG_57.pdf' converted to JPEG successfully!\n",
      "Spreadsheet 'IMG_58.ods' created successfully!\n"
     ]
    },
    {
     "name": "stderr",
     "output_type": "stream",
     "text": [
      "Warning: failed to launch javaldx - java may not function correctly\n"
     ]
    },
    {
     "name": "stdout",
     "output_type": "stream",
     "text": [
      "convert /home/kubis/Pulpit/BookScanner/BookScanner/data/documents/IMG_58.ods as a Calc document -> /home/kubis/Pulpit/BookScanner/BookScanner/data/documents/IMG_58.pdf using filter : calc_pdf_Export\n",
      "PDF '../data/documents/IMG_58.pdf' created successfully!\n",
      "All pages of 'IMG_58.pdf' converted to JPEG successfully!\n",
      "Spreadsheet 'IMG_59.ods' created successfully!\n"
     ]
    },
    {
     "name": "stderr",
     "output_type": "stream",
     "text": [
      "Warning: failed to launch javaldx - java may not function correctly\n"
     ]
    },
    {
     "name": "stdout",
     "output_type": "stream",
     "text": [
      "convert /home/kubis/Pulpit/BookScanner/BookScanner/data/documents/IMG_59.ods as a Calc document -> /home/kubis/Pulpit/BookScanner/BookScanner/data/documents/IMG_59.pdf using filter : calc_pdf_Export\n",
      "PDF '../data/documents/IMG_59.pdf' created successfully!\n",
      "All pages of 'IMG_59.pdf' converted to JPEG successfully!\n",
      "Spreadsheet 'IMG_60.ods' created successfully!\n"
     ]
    },
    {
     "name": "stderr",
     "output_type": "stream",
     "text": [
      "Warning: failed to launch javaldx - java may not function correctly\n"
     ]
    },
    {
     "name": "stdout",
     "output_type": "stream",
     "text": [
      "convert /home/kubis/Pulpit/BookScanner/BookScanner/data/documents/IMG_60.ods as a Calc document -> /home/kubis/Pulpit/BookScanner/BookScanner/data/documents/IMG_60.pdf using filter : calc_pdf_Export\n",
      "PDF '../data/documents/IMG_60.pdf' created successfully!\n",
      "All pages of 'IMG_60.pdf' converted to JPEG successfully!\n",
      "Spreadsheet 'IMG_61.ods' created successfully!\n"
     ]
    },
    {
     "name": "stderr",
     "output_type": "stream",
     "text": [
      "Warning: failed to launch javaldx - java may not function correctly\n"
     ]
    },
    {
     "name": "stdout",
     "output_type": "stream",
     "text": [
      "convert /home/kubis/Pulpit/BookScanner/BookScanner/data/documents/IMG_61.ods as a Calc document -> /home/kubis/Pulpit/BookScanner/BookScanner/data/documents/IMG_61.pdf using filter : calc_pdf_Export\n",
      "PDF '../data/documents/IMG_61.pdf' created successfully!\n",
      "All pages of 'IMG_61.pdf' converted to JPEG successfully!\n",
      "Spreadsheet 'IMG_62.ods' created successfully!\n"
     ]
    },
    {
     "name": "stderr",
     "output_type": "stream",
     "text": [
      "Warning: failed to launch javaldx - java may not function correctly\n"
     ]
    },
    {
     "name": "stdout",
     "output_type": "stream",
     "text": [
      "convert /home/kubis/Pulpit/BookScanner/BookScanner/data/documents/IMG_62.ods as a Calc document -> /home/kubis/Pulpit/BookScanner/BookScanner/data/documents/IMG_62.pdf using filter : calc_pdf_Export\n",
      "PDF '../data/documents/IMG_62.pdf' created successfully!\n",
      "All pages of 'IMG_62.pdf' converted to JPEG successfully!\n",
      "Spreadsheet 'IMG_63.ods' created successfully!\n"
     ]
    },
    {
     "name": "stderr",
     "output_type": "stream",
     "text": [
      "Warning: failed to launch javaldx - java may not function correctly\n"
     ]
    },
    {
     "name": "stdout",
     "output_type": "stream",
     "text": [
      "convert /home/kubis/Pulpit/BookScanner/BookScanner/data/documents/IMG_63.ods as a Calc document -> /home/kubis/Pulpit/BookScanner/BookScanner/data/documents/IMG_63.pdf using filter : calc_pdf_Export\n",
      "PDF '../data/documents/IMG_63.pdf' created successfully!\n",
      "All pages of 'IMG_63.pdf' converted to JPEG successfully!\n",
      "Spreadsheet 'IMG_64.ods' created successfully!\n"
     ]
    },
    {
     "name": "stderr",
     "output_type": "stream",
     "text": [
      "Warning: failed to launch javaldx - java may not function correctly\n"
     ]
    },
    {
     "name": "stdout",
     "output_type": "stream",
     "text": [
      "convert /home/kubis/Pulpit/BookScanner/BookScanner/data/documents/IMG_64.ods as a Calc document -> /home/kubis/Pulpit/BookScanner/BookScanner/data/documents/IMG_64.pdf using filter : calc_pdf_Export\n",
      "PDF '../data/documents/IMG_64.pdf' created successfully!\n",
      "All pages of 'IMG_64.pdf' converted to JPEG successfully!\n",
      "Spreadsheet 'IMG_65.ods' created successfully!\n"
     ]
    },
    {
     "name": "stderr",
     "output_type": "stream",
     "text": [
      "Warning: failed to launch javaldx - java may not function correctly\n"
     ]
    },
    {
     "name": "stdout",
     "output_type": "stream",
     "text": [
      "convert /home/kubis/Pulpit/BookScanner/BookScanner/data/documents/IMG_65.ods as a Calc document -> /home/kubis/Pulpit/BookScanner/BookScanner/data/documents/IMG_65.pdf using filter : calc_pdf_Export\n",
      "PDF '../data/documents/IMG_65.pdf' created successfully!\n",
      "All pages of 'IMG_65.pdf' converted to JPEG successfully!\n",
      "Spreadsheet 'IMG_66.ods' created successfully!\n"
     ]
    },
    {
     "name": "stderr",
     "output_type": "stream",
     "text": [
      "Warning: failed to launch javaldx - java may not function correctly\n"
     ]
    },
    {
     "name": "stdout",
     "output_type": "stream",
     "text": [
      "convert /home/kubis/Pulpit/BookScanner/BookScanner/data/documents/IMG_66.ods as a Calc document -> /home/kubis/Pulpit/BookScanner/BookScanner/data/documents/IMG_66.pdf using filter : calc_pdf_Export\n",
      "PDF '../data/documents/IMG_66.pdf' created successfully!\n",
      "All pages of 'IMG_66.pdf' converted to JPEG successfully!\n",
      "Spreadsheet 'IMG_67.ods' created successfully!\n"
     ]
    },
    {
     "name": "stderr",
     "output_type": "stream",
     "text": [
      "Warning: failed to launch javaldx - java may not function correctly\n"
     ]
    },
    {
     "name": "stdout",
     "output_type": "stream",
     "text": [
      "convert /home/kubis/Pulpit/BookScanner/BookScanner/data/documents/IMG_67.ods as a Calc document -> /home/kubis/Pulpit/BookScanner/BookScanner/data/documents/IMG_67.pdf using filter : calc_pdf_Export\n",
      "PDF '../data/documents/IMG_67.pdf' created successfully!\n",
      "All pages of 'IMG_67.pdf' converted to JPEG successfully!\n",
      "Spreadsheet 'IMG_68.ods' created successfully!\n"
     ]
    },
    {
     "name": "stderr",
     "output_type": "stream",
     "text": [
      "Warning: failed to launch javaldx - java may not function correctly\n"
     ]
    },
    {
     "name": "stdout",
     "output_type": "stream",
     "text": [
      "convert /home/kubis/Pulpit/BookScanner/BookScanner/data/documents/IMG_68.ods as a Calc document -> /home/kubis/Pulpit/BookScanner/BookScanner/data/documents/IMG_68.pdf using filter : calc_pdf_Export\n",
      "PDF '../data/documents/IMG_68.pdf' created successfully!\n",
      "All pages of 'IMG_68.pdf' converted to JPEG successfully!\n",
      "Spreadsheet 'IMG_69.ods' created successfully!\n"
     ]
    },
    {
     "name": "stderr",
     "output_type": "stream",
     "text": [
      "Warning: failed to launch javaldx - java may not function correctly\n"
     ]
    },
    {
     "name": "stdout",
     "output_type": "stream",
     "text": [
      "convert /home/kubis/Pulpit/BookScanner/BookScanner/data/documents/IMG_69.ods as a Calc document -> /home/kubis/Pulpit/BookScanner/BookScanner/data/documents/IMG_69.pdf using filter : calc_pdf_Export\n",
      "PDF '../data/documents/IMG_69.pdf' created successfully!\n",
      "All pages of 'IMG_69.pdf' converted to JPEG successfully!\n",
      "Spreadsheet 'IMG_70.ods' created successfully!\n"
     ]
    },
    {
     "name": "stderr",
     "output_type": "stream",
     "text": [
      "Warning: failed to launch javaldx - java may not function correctly\n"
     ]
    },
    {
     "name": "stdout",
     "output_type": "stream",
     "text": [
      "convert /home/kubis/Pulpit/BookScanner/BookScanner/data/documents/IMG_70.ods as a Calc document -> /home/kubis/Pulpit/BookScanner/BookScanner/data/documents/IMG_70.pdf using filter : calc_pdf_Export\n",
      "PDF '../data/documents/IMG_70.pdf' created successfully!\n",
      "All pages of 'IMG_70.pdf' converted to JPEG successfully!\n",
      "Spreadsheet 'IMG_71.ods' created successfully!\n"
     ]
    },
    {
     "name": "stderr",
     "output_type": "stream",
     "text": [
      "Warning: failed to launch javaldx - java may not function correctly\n"
     ]
    },
    {
     "name": "stdout",
     "output_type": "stream",
     "text": [
      "convert /home/kubis/Pulpit/BookScanner/BookScanner/data/documents/IMG_71.ods as a Calc document -> /home/kubis/Pulpit/BookScanner/BookScanner/data/documents/IMG_71.pdf using filter : calc_pdf_Export\n",
      "PDF '../data/documents/IMG_71.pdf' created successfully!\n",
      "All pages of 'IMG_71.pdf' converted to JPEG successfully!\n",
      "Spreadsheet 'IMG_72.ods' created successfully!\n"
     ]
    },
    {
     "name": "stderr",
     "output_type": "stream",
     "text": [
      "Warning: failed to launch javaldx - java may not function correctly\n"
     ]
    },
    {
     "name": "stdout",
     "output_type": "stream",
     "text": [
      "convert /home/kubis/Pulpit/BookScanner/BookScanner/data/documents/IMG_72.ods as a Calc document -> /home/kubis/Pulpit/BookScanner/BookScanner/data/documents/IMG_72.pdf using filter : calc_pdf_Export\n",
      "PDF '../data/documents/IMG_72.pdf' created successfully!\n",
      "All pages of 'IMG_72.pdf' converted to JPEG successfully!\n",
      "Spreadsheet 'IMG_73.ods' created successfully!\n"
     ]
    },
    {
     "name": "stderr",
     "output_type": "stream",
     "text": [
      "Warning: failed to launch javaldx - java may not function correctly\n"
     ]
    },
    {
     "name": "stdout",
     "output_type": "stream",
     "text": [
      "convert /home/kubis/Pulpit/BookScanner/BookScanner/data/documents/IMG_73.ods as a Calc document -> /home/kubis/Pulpit/BookScanner/BookScanner/data/documents/IMG_73.pdf using filter : calc_pdf_Export\n",
      "PDF '../data/documents/IMG_73.pdf' created successfully!\n",
      "All pages of 'IMG_73.pdf' converted to JPEG successfully!\n",
      "Spreadsheet 'IMG_74.ods' created successfully!\n"
     ]
    },
    {
     "name": "stderr",
     "output_type": "stream",
     "text": [
      "Warning: failed to launch javaldx - java may not function correctly\n"
     ]
    },
    {
     "name": "stdout",
     "output_type": "stream",
     "text": [
      "convert /home/kubis/Pulpit/BookScanner/BookScanner/data/documents/IMG_74.ods as a Calc document -> /home/kubis/Pulpit/BookScanner/BookScanner/data/documents/IMG_74.pdf using filter : calc_pdf_Export\n",
      "PDF '../data/documents/IMG_74.pdf' created successfully!\n",
      "All pages of 'IMG_74.pdf' converted to JPEG successfully!\n",
      "Spreadsheet 'IMG_75.ods' created successfully!\n"
     ]
    },
    {
     "name": "stderr",
     "output_type": "stream",
     "text": [
      "Warning: failed to launch javaldx - java may not function correctly\n"
     ]
    },
    {
     "name": "stdout",
     "output_type": "stream",
     "text": [
      "convert /home/kubis/Pulpit/BookScanner/BookScanner/data/documents/IMG_75.ods as a Calc document -> /home/kubis/Pulpit/BookScanner/BookScanner/data/documents/IMG_75.pdf using filter : calc_pdf_Export\n",
      "PDF '../data/documents/IMG_75.pdf' created successfully!\n",
      "All pages of 'IMG_75.pdf' converted to JPEG successfully!\n",
      "Spreadsheet 'IMG_76.ods' created successfully!\n"
     ]
    },
    {
     "name": "stderr",
     "output_type": "stream",
     "text": [
      "Warning: failed to launch javaldx - java may not function correctly\n"
     ]
    },
    {
     "name": "stdout",
     "output_type": "stream",
     "text": [
      "convert /home/kubis/Pulpit/BookScanner/BookScanner/data/documents/IMG_76.ods as a Calc document -> /home/kubis/Pulpit/BookScanner/BookScanner/data/documents/IMG_76.pdf using filter : calc_pdf_Export\n",
      "PDF '../data/documents/IMG_76.pdf' created successfully!\n",
      "All pages of 'IMG_76.pdf' converted to JPEG successfully!\n",
      "Spreadsheet 'IMG_77.ods' created successfully!\n"
     ]
    },
    {
     "name": "stderr",
     "output_type": "stream",
     "text": [
      "Warning: failed to launch javaldx - java may not function correctly\n"
     ]
    },
    {
     "name": "stdout",
     "output_type": "stream",
     "text": [
      "convert /home/kubis/Pulpit/BookScanner/BookScanner/data/documents/IMG_77.ods as a Calc document -> /home/kubis/Pulpit/BookScanner/BookScanner/data/documents/IMG_77.pdf using filter : calc_pdf_Export\n",
      "PDF '../data/documents/IMG_77.pdf' created successfully!\n",
      "All pages of 'IMG_77.pdf' converted to JPEG successfully!\n",
      "Spreadsheet 'IMG_78.ods' created successfully!\n"
     ]
    },
    {
     "name": "stderr",
     "output_type": "stream",
     "text": [
      "Warning: failed to launch javaldx - java may not function correctly\n"
     ]
    },
    {
     "name": "stdout",
     "output_type": "stream",
     "text": [
      "convert /home/kubis/Pulpit/BookScanner/BookScanner/data/documents/IMG_78.ods as a Calc document -> /home/kubis/Pulpit/BookScanner/BookScanner/data/documents/IMG_78.pdf using filter : calc_pdf_Export\n",
      "PDF '../data/documents/IMG_78.pdf' created successfully!\n",
      "All pages of 'IMG_78.pdf' converted to JPEG successfully!\n",
      "Spreadsheet 'IMG_79.ods' created successfully!\n"
     ]
    },
    {
     "name": "stderr",
     "output_type": "stream",
     "text": [
      "Warning: failed to launch javaldx - java may not function correctly\n"
     ]
    },
    {
     "name": "stdout",
     "output_type": "stream",
     "text": [
      "convert /home/kubis/Pulpit/BookScanner/BookScanner/data/documents/IMG_79.ods as a Calc document -> /home/kubis/Pulpit/BookScanner/BookScanner/data/documents/IMG_79.pdf using filter : calc_pdf_Export\n",
      "PDF '../data/documents/IMG_79.pdf' created successfully!\n",
      "All pages of 'IMG_79.pdf' converted to JPEG successfully!\n",
      "Spreadsheet 'IMG_80.ods' created successfully!\n"
     ]
    },
    {
     "name": "stderr",
     "output_type": "stream",
     "text": [
      "Warning: failed to launch javaldx - java may not function correctly\n"
     ]
    },
    {
     "name": "stdout",
     "output_type": "stream",
     "text": [
      "convert /home/kubis/Pulpit/BookScanner/BookScanner/data/documents/IMG_80.ods as a Calc document -> /home/kubis/Pulpit/BookScanner/BookScanner/data/documents/IMG_80.pdf using filter : calc_pdf_Export\n",
      "PDF '../data/documents/IMG_80.pdf' created successfully!\n",
      "All pages of 'IMG_80.pdf' converted to JPEG successfully!\n",
      "Spreadsheet 'IMG_81.ods' created successfully!\n"
     ]
    },
    {
     "name": "stderr",
     "output_type": "stream",
     "text": [
      "Warning: failed to launch javaldx - java may not function correctly\n"
     ]
    },
    {
     "name": "stdout",
     "output_type": "stream",
     "text": [
      "convert /home/kubis/Pulpit/BookScanner/BookScanner/data/documents/IMG_81.ods as a Calc document -> /home/kubis/Pulpit/BookScanner/BookScanner/data/documents/IMG_81.pdf using filter : calc_pdf_Export\n",
      "PDF '../data/documents/IMG_81.pdf' created successfully!\n",
      "All pages of 'IMG_81.pdf' converted to JPEG successfully!\n",
      "Spreadsheet 'IMG_82.ods' created successfully!\n"
     ]
    },
    {
     "name": "stderr",
     "output_type": "stream",
     "text": [
      "Warning: failed to launch javaldx - java may not function correctly\n"
     ]
    },
    {
     "name": "stdout",
     "output_type": "stream",
     "text": [
      "convert /home/kubis/Pulpit/BookScanner/BookScanner/data/documents/IMG_82.ods as a Calc document -> /home/kubis/Pulpit/BookScanner/BookScanner/data/documents/IMG_82.pdf using filter : calc_pdf_Export\n",
      "PDF '../data/documents/IMG_82.pdf' created successfully!\n",
      "All pages of 'IMG_82.pdf' converted to JPEG successfully!\n",
      "Spreadsheet 'IMG_83.ods' created successfully!\n"
     ]
    },
    {
     "name": "stderr",
     "output_type": "stream",
     "text": [
      "Warning: failed to launch javaldx - java may not function correctly\n"
     ]
    },
    {
     "name": "stdout",
     "output_type": "stream",
     "text": [
      "convert /home/kubis/Pulpit/BookScanner/BookScanner/data/documents/IMG_83.ods as a Calc document -> /home/kubis/Pulpit/BookScanner/BookScanner/data/documents/IMG_83.pdf using filter : calc_pdf_Export\n",
      "PDF '../data/documents/IMG_83.pdf' created successfully!\n",
      "All pages of 'IMG_83.pdf' converted to JPEG successfully!\n",
      "Spreadsheet 'IMG_84.ods' created successfully!\n"
     ]
    },
    {
     "name": "stderr",
     "output_type": "stream",
     "text": [
      "Warning: failed to launch javaldx - java may not function correctly\n"
     ]
    },
    {
     "name": "stdout",
     "output_type": "stream",
     "text": [
      "convert /home/kubis/Pulpit/BookScanner/BookScanner/data/documents/IMG_84.ods as a Calc document -> /home/kubis/Pulpit/BookScanner/BookScanner/data/documents/IMG_84.pdf using filter : calc_pdf_Export\n",
      "PDF '../data/documents/IMG_84.pdf' created successfully!\n",
      "All pages of 'IMG_84.pdf' converted to JPEG successfully!\n",
      "Spreadsheet 'IMG_85.ods' created successfully!\n"
     ]
    },
    {
     "name": "stderr",
     "output_type": "stream",
     "text": [
      "Warning: failed to launch javaldx - java may not function correctly\n"
     ]
    },
    {
     "name": "stdout",
     "output_type": "stream",
     "text": [
      "convert /home/kubis/Pulpit/BookScanner/BookScanner/data/documents/IMG_85.ods as a Calc document -> /home/kubis/Pulpit/BookScanner/BookScanner/data/documents/IMG_85.pdf using filter : calc_pdf_Export\n",
      "PDF '../data/documents/IMG_85.pdf' created successfully!\n",
      "All pages of 'IMG_85.pdf' converted to JPEG successfully!\n",
      "Spreadsheet 'IMG_86.ods' created successfully!\n"
     ]
    },
    {
     "name": "stderr",
     "output_type": "stream",
     "text": [
      "Warning: failed to launch javaldx - java may not function correctly\n"
     ]
    },
    {
     "name": "stdout",
     "output_type": "stream",
     "text": [
      "convert /home/kubis/Pulpit/BookScanner/BookScanner/data/documents/IMG_86.ods as a Calc document -> /home/kubis/Pulpit/BookScanner/BookScanner/data/documents/IMG_86.pdf using filter : calc_pdf_Export\n",
      "PDF '../data/documents/IMG_86.pdf' created successfully!\n",
      "All pages of 'IMG_86.pdf' converted to JPEG successfully!\n",
      "Spreadsheet 'IMG_87.ods' created successfully!\n"
     ]
    },
    {
     "name": "stderr",
     "output_type": "stream",
     "text": [
      "Warning: failed to launch javaldx - java may not function correctly\n"
     ]
    },
    {
     "name": "stdout",
     "output_type": "stream",
     "text": [
      "convert /home/kubis/Pulpit/BookScanner/BookScanner/data/documents/IMG_87.ods as a Calc document -> /home/kubis/Pulpit/BookScanner/BookScanner/data/documents/IMG_87.pdf using filter : calc_pdf_Export\n",
      "PDF '../data/documents/IMG_87.pdf' created successfully!\n",
      "All pages of 'IMG_87.pdf' converted to JPEG successfully!\n",
      "Spreadsheet 'IMG_88.ods' created successfully!\n"
     ]
    },
    {
     "name": "stderr",
     "output_type": "stream",
     "text": [
      "Warning: failed to launch javaldx - java may not function correctly\n"
     ]
    },
    {
     "name": "stdout",
     "output_type": "stream",
     "text": [
      "convert /home/kubis/Pulpit/BookScanner/BookScanner/data/documents/IMG_88.ods as a Calc document -> /home/kubis/Pulpit/BookScanner/BookScanner/data/documents/IMG_88.pdf using filter : calc_pdf_Export\n",
      "PDF '../data/documents/IMG_88.pdf' created successfully!\n",
      "All pages of 'IMG_88.pdf' converted to JPEG successfully!\n",
      "Spreadsheet 'IMG_89.ods' created successfully!\n"
     ]
    },
    {
     "name": "stderr",
     "output_type": "stream",
     "text": [
      "Warning: failed to launch javaldx - java may not function correctly\n"
     ]
    },
    {
     "name": "stdout",
     "output_type": "stream",
     "text": [
      "convert /home/kubis/Pulpit/BookScanner/BookScanner/data/documents/IMG_89.ods as a Calc document -> /home/kubis/Pulpit/BookScanner/BookScanner/data/documents/IMG_89.pdf using filter : calc_pdf_Export\n",
      "PDF '../data/documents/IMG_89.pdf' created successfully!\n",
      "All pages of 'IMG_89.pdf' converted to JPEG successfully!\n",
      "Spreadsheet 'IMG_90.ods' created successfully!\n"
     ]
    },
    {
     "name": "stderr",
     "output_type": "stream",
     "text": [
      "Warning: failed to launch javaldx - java may not function correctly\n"
     ]
    },
    {
     "name": "stdout",
     "output_type": "stream",
     "text": [
      "convert /home/kubis/Pulpit/BookScanner/BookScanner/data/documents/IMG_90.ods as a Calc document -> /home/kubis/Pulpit/BookScanner/BookScanner/data/documents/IMG_90.pdf using filter : calc_pdf_Export\n",
      "PDF '../data/documents/IMG_90.pdf' created successfully!\n",
      "All pages of 'IMG_90.pdf' converted to JPEG successfully!\n",
      "Spreadsheet 'IMG_91.ods' created successfully!\n"
     ]
    },
    {
     "name": "stderr",
     "output_type": "stream",
     "text": [
      "Warning: failed to launch javaldx - java may not function correctly\n"
     ]
    },
    {
     "name": "stdout",
     "output_type": "stream",
     "text": [
      "convert /home/kubis/Pulpit/BookScanner/BookScanner/data/documents/IMG_91.ods as a Calc document -> /home/kubis/Pulpit/BookScanner/BookScanner/data/documents/IMG_91.pdf using filter : calc_pdf_Export\n",
      "PDF '../data/documents/IMG_91.pdf' created successfully!\n",
      "All pages of 'IMG_91.pdf' converted to JPEG successfully!\n",
      "Spreadsheet 'IMG_92.ods' created successfully!\n"
     ]
    },
    {
     "name": "stderr",
     "output_type": "stream",
     "text": [
      "Warning: failed to launch javaldx - java may not function correctly\n"
     ]
    },
    {
     "name": "stdout",
     "output_type": "stream",
     "text": [
      "convert /home/kubis/Pulpit/BookScanner/BookScanner/data/documents/IMG_92.ods as a Calc document -> /home/kubis/Pulpit/BookScanner/BookScanner/data/documents/IMG_92.pdf using filter : calc_pdf_Export\n",
      "PDF '../data/documents/IMG_92.pdf' created successfully!\n",
      "All pages of 'IMG_92.pdf' converted to JPEG successfully!\n",
      "Spreadsheet 'IMG_93.ods' created successfully!\n"
     ]
    },
    {
     "name": "stderr",
     "output_type": "stream",
     "text": [
      "Warning: failed to launch javaldx - java may not function correctly\n"
     ]
    },
    {
     "name": "stdout",
     "output_type": "stream",
     "text": [
      "convert /home/kubis/Pulpit/BookScanner/BookScanner/data/documents/IMG_93.ods as a Calc document -> /home/kubis/Pulpit/BookScanner/BookScanner/data/documents/IMG_93.pdf using filter : calc_pdf_Export\n",
      "PDF '../data/documents/IMG_93.pdf' created successfully!\n",
      "All pages of 'IMG_93.pdf' converted to JPEG successfully!\n",
      "Spreadsheet 'IMG_94.ods' created successfully!\n"
     ]
    },
    {
     "name": "stderr",
     "output_type": "stream",
     "text": [
      "Warning: failed to launch javaldx - java may not function correctly\n"
     ]
    },
    {
     "name": "stdout",
     "output_type": "stream",
     "text": [
      "convert /home/kubis/Pulpit/BookScanner/BookScanner/data/documents/IMG_94.ods as a Calc document -> /home/kubis/Pulpit/BookScanner/BookScanner/data/documents/IMG_94.pdf using filter : calc_pdf_Export\n",
      "PDF '../data/documents/IMG_94.pdf' created successfully!\n",
      "All pages of 'IMG_94.pdf' converted to JPEG successfully!\n",
      "Spreadsheet 'IMG_95.ods' created successfully!\n"
     ]
    },
    {
     "name": "stderr",
     "output_type": "stream",
     "text": [
      "Warning: failed to launch javaldx - java may not function correctly\n"
     ]
    },
    {
     "name": "stdout",
     "output_type": "stream",
     "text": [
      "convert /home/kubis/Pulpit/BookScanner/BookScanner/data/documents/IMG_95.ods as a Calc document -> /home/kubis/Pulpit/BookScanner/BookScanner/data/documents/IMG_95.pdf using filter : calc_pdf_Export\n",
      "PDF '../data/documents/IMG_95.pdf' created successfully!\n",
      "All pages of 'IMG_95.pdf' converted to JPEG successfully!\n",
      "Spreadsheet 'IMG_96.ods' created successfully!\n"
     ]
    },
    {
     "name": "stderr",
     "output_type": "stream",
     "text": [
      "Warning: failed to launch javaldx - java may not function correctly\n"
     ]
    },
    {
     "name": "stdout",
     "output_type": "stream",
     "text": [
      "convert /home/kubis/Pulpit/BookScanner/BookScanner/data/documents/IMG_96.ods as a Calc document -> /home/kubis/Pulpit/BookScanner/BookScanner/data/documents/IMG_96.pdf using filter : calc_pdf_Export\n",
      "PDF '../data/documents/IMG_96.pdf' created successfully!\n",
      "All pages of 'IMG_96.pdf' converted to JPEG successfully!\n",
      "Spreadsheet 'IMG_97.ods' created successfully!\n"
     ]
    },
    {
     "name": "stderr",
     "output_type": "stream",
     "text": [
      "Warning: failed to launch javaldx - java may not function correctly\n"
     ]
    },
    {
     "name": "stdout",
     "output_type": "stream",
     "text": [
      "convert /home/kubis/Pulpit/BookScanner/BookScanner/data/documents/IMG_97.ods as a Calc document -> /home/kubis/Pulpit/BookScanner/BookScanner/data/documents/IMG_97.pdf using filter : calc_pdf_Export\n",
      "PDF '../data/documents/IMG_97.pdf' created successfully!\n",
      "All pages of 'IMG_97.pdf' converted to JPEG successfully!\n",
      "Spreadsheet 'IMG_98.ods' created successfully!\n"
     ]
    },
    {
     "name": "stderr",
     "output_type": "stream",
     "text": [
      "Warning: failed to launch javaldx - java may not function correctly\n"
     ]
    },
    {
     "name": "stdout",
     "output_type": "stream",
     "text": [
      "convert /home/kubis/Pulpit/BookScanner/BookScanner/data/documents/IMG_98.ods as a Calc document -> /home/kubis/Pulpit/BookScanner/BookScanner/data/documents/IMG_98.pdf using filter : calc_pdf_Export\n",
      "PDF '../data/documents/IMG_98.pdf' created successfully!\n",
      "All pages of 'IMG_98.pdf' converted to JPEG successfully!\n",
      "Spreadsheet 'IMG_99.ods' created successfully!\n"
     ]
    },
    {
     "name": "stderr",
     "output_type": "stream",
     "text": [
      "Warning: failed to launch javaldx - java may not function correctly\n"
     ]
    },
    {
     "name": "stdout",
     "output_type": "stream",
     "text": [
      "convert /home/kubis/Pulpit/BookScanner/BookScanner/data/documents/IMG_99.ods as a Calc document -> /home/kubis/Pulpit/BookScanner/BookScanner/data/documents/IMG_99.pdf using filter : calc_pdf_Export\n",
      "PDF '../data/documents/IMG_99.pdf' created successfully!\n",
      "All pages of 'IMG_99.pdf' converted to JPEG successfully!\n",
      "Spreadsheet 'IMG_100.ods' created successfully!\n"
     ]
    },
    {
     "name": "stderr",
     "output_type": "stream",
     "text": [
      "Warning: failed to launch javaldx - java may not function correctly\n"
     ]
    },
    {
     "name": "stdout",
     "output_type": "stream",
     "text": [
      "convert /home/kubis/Pulpit/BookScanner/BookScanner/data/documents/IMG_100.ods as a Calc document -> /home/kubis/Pulpit/BookScanner/BookScanner/data/documents/IMG_100.pdf using filter : calc_pdf_Export\n",
      "PDF '../data/documents/IMG_100.pdf' created successfully!\n",
      "All pages of 'IMG_100.pdf' converted to JPEG successfully!\n",
      "Spreadsheet 'IMG_101.ods' created successfully!\n"
     ]
    },
    {
     "name": "stderr",
     "output_type": "stream",
     "text": [
      "Warning: failed to launch javaldx - java may not function correctly\n"
     ]
    },
    {
     "name": "stdout",
     "output_type": "stream",
     "text": [
      "convert /home/kubis/Pulpit/BookScanner/BookScanner/data/documents/IMG_101.ods as a Calc document -> /home/kubis/Pulpit/BookScanner/BookScanner/data/documents/IMG_101.pdf using filter : calc_pdf_Export\n",
      "PDF '../data/documents/IMG_101.pdf' created successfully!\n",
      "All pages of 'IMG_101.pdf' converted to JPEG successfully!\n",
      "Spreadsheet 'IMG_102.ods' created successfully!\n"
     ]
    },
    {
     "name": "stderr",
     "output_type": "stream",
     "text": [
      "Warning: failed to launch javaldx - java may not function correctly\n"
     ]
    },
    {
     "name": "stdout",
     "output_type": "stream",
     "text": [
      "convert /home/kubis/Pulpit/BookScanner/BookScanner/data/documents/IMG_102.ods as a Calc document -> /home/kubis/Pulpit/BookScanner/BookScanner/data/documents/IMG_102.pdf using filter : calc_pdf_Export\n",
      "PDF '../data/documents/IMG_102.pdf' created successfully!\n",
      "All pages of 'IMG_102.pdf' converted to JPEG successfully!\n",
      "Spreadsheet 'IMG_103.ods' created successfully!\n"
     ]
    },
    {
     "name": "stderr",
     "output_type": "stream",
     "text": [
      "Warning: failed to launch javaldx - java may not function correctly\n"
     ]
    },
    {
     "name": "stdout",
     "output_type": "stream",
     "text": [
      "convert /home/kubis/Pulpit/BookScanner/BookScanner/data/documents/IMG_103.ods as a Calc document -> /home/kubis/Pulpit/BookScanner/BookScanner/data/documents/IMG_103.pdf using filter : calc_pdf_Export\n",
      "PDF '../data/documents/IMG_103.pdf' created successfully!\n",
      "All pages of 'IMG_103.pdf' converted to JPEG successfully!\n",
      "Spreadsheet 'IMG_104.ods' created successfully!\n"
     ]
    },
    {
     "name": "stderr",
     "output_type": "stream",
     "text": [
      "Warning: failed to launch javaldx - java may not function correctly\n"
     ]
    },
    {
     "name": "stdout",
     "output_type": "stream",
     "text": [
      "convert /home/kubis/Pulpit/BookScanner/BookScanner/data/documents/IMG_104.ods as a Calc document -> /home/kubis/Pulpit/BookScanner/BookScanner/data/documents/IMG_104.pdf using filter : calc_pdf_Export\n",
      "PDF '../data/documents/IMG_104.pdf' created successfully!\n",
      "All pages of 'IMG_104.pdf' converted to JPEG successfully!\n",
      "Spreadsheet 'IMG_105.ods' created successfully!\n"
     ]
    },
    {
     "name": "stderr",
     "output_type": "stream",
     "text": [
      "Warning: failed to launch javaldx - java may not function correctly\n"
     ]
    },
    {
     "name": "stdout",
     "output_type": "stream",
     "text": [
      "convert /home/kubis/Pulpit/BookScanner/BookScanner/data/documents/IMG_105.ods as a Calc document -> /home/kubis/Pulpit/BookScanner/BookScanner/data/documents/IMG_105.pdf using filter : calc_pdf_Export\n",
      "PDF '../data/documents/IMG_105.pdf' created successfully!\n",
      "All pages of 'IMG_105.pdf' converted to JPEG successfully!\n",
      "Spreadsheet 'IMG_106.ods' created successfully!\n"
     ]
    },
    {
     "name": "stderr",
     "output_type": "stream",
     "text": [
      "Warning: failed to launch javaldx - java may not function correctly\n"
     ]
    },
    {
     "name": "stdout",
     "output_type": "stream",
     "text": [
      "convert /home/kubis/Pulpit/BookScanner/BookScanner/data/documents/IMG_106.ods as a Calc document -> /home/kubis/Pulpit/BookScanner/BookScanner/data/documents/IMG_106.pdf using filter : calc_pdf_Export\n",
      "PDF '../data/documents/IMG_106.pdf' created successfully!\n",
      "All pages of 'IMG_106.pdf' converted to JPEG successfully!\n",
      "Spreadsheet 'IMG_107.ods' created successfully!\n"
     ]
    },
    {
     "name": "stderr",
     "output_type": "stream",
     "text": [
      "Warning: failed to launch javaldx - java may not function correctly\n"
     ]
    },
    {
     "name": "stdout",
     "output_type": "stream",
     "text": [
      "convert /home/kubis/Pulpit/BookScanner/BookScanner/data/documents/IMG_107.ods as a Calc document -> /home/kubis/Pulpit/BookScanner/BookScanner/data/documents/IMG_107.pdf using filter : calc_pdf_Export\n",
      "PDF '../data/documents/IMG_107.pdf' created successfully!\n",
      "All pages of 'IMG_107.pdf' converted to JPEG successfully!\n",
      "Spreadsheet 'IMG_108.ods' created successfully!\n"
     ]
    },
    {
     "name": "stderr",
     "output_type": "stream",
     "text": [
      "Warning: failed to launch javaldx - java may not function correctly\n"
     ]
    },
    {
     "name": "stdout",
     "output_type": "stream",
     "text": [
      "convert /home/kubis/Pulpit/BookScanner/BookScanner/data/documents/IMG_108.ods as a Calc document -> /home/kubis/Pulpit/BookScanner/BookScanner/data/documents/IMG_108.pdf using filter : calc_pdf_Export\n",
      "PDF '../data/documents/IMG_108.pdf' created successfully!\n",
      "All pages of 'IMG_108.pdf' converted to JPEG successfully!\n",
      "Spreadsheet 'IMG_109.ods' created successfully!\n"
     ]
    },
    {
     "name": "stderr",
     "output_type": "stream",
     "text": [
      "Warning: failed to launch javaldx - java may not function correctly\n"
     ]
    },
    {
     "name": "stdout",
     "output_type": "stream",
     "text": [
      "convert /home/kubis/Pulpit/BookScanner/BookScanner/data/documents/IMG_109.ods as a Calc document -> /home/kubis/Pulpit/BookScanner/BookScanner/data/documents/IMG_109.pdf using filter : calc_pdf_Export\n",
      "PDF '../data/documents/IMG_109.pdf' created successfully!\n",
      "All pages of 'IMG_109.pdf' converted to JPEG successfully!\n",
      "Spreadsheet 'IMG_110.ods' created successfully!\n"
     ]
    },
    {
     "name": "stderr",
     "output_type": "stream",
     "text": [
      "Warning: failed to launch javaldx - java may not function correctly\n"
     ]
    },
    {
     "name": "stdout",
     "output_type": "stream",
     "text": [
      "convert /home/kubis/Pulpit/BookScanner/BookScanner/data/documents/IMG_110.ods as a Calc document -> /home/kubis/Pulpit/BookScanner/BookScanner/data/documents/IMG_110.pdf using filter : calc_pdf_Export\n",
      "PDF '../data/documents/IMG_110.pdf' created successfully!\n",
      "All pages of 'IMG_110.pdf' converted to JPEG successfully!\n",
      "Spreadsheet 'IMG_111.ods' created successfully!\n"
     ]
    },
    {
     "name": "stderr",
     "output_type": "stream",
     "text": [
      "Warning: failed to launch javaldx - java may not function correctly\n"
     ]
    },
    {
     "name": "stdout",
     "output_type": "stream",
     "text": [
      "convert /home/kubis/Pulpit/BookScanner/BookScanner/data/documents/IMG_111.ods as a Calc document -> /home/kubis/Pulpit/BookScanner/BookScanner/data/documents/IMG_111.pdf using filter : calc_pdf_Export\n",
      "PDF '../data/documents/IMG_111.pdf' created successfully!\n",
      "All pages of 'IMG_111.pdf' converted to JPEG successfully!\n",
      "Spreadsheet 'IMG_112.ods' created successfully!\n"
     ]
    },
    {
     "name": "stderr",
     "output_type": "stream",
     "text": [
      "Warning: failed to launch javaldx - java may not function correctly\n"
     ]
    },
    {
     "name": "stdout",
     "output_type": "stream",
     "text": [
      "convert /home/kubis/Pulpit/BookScanner/BookScanner/data/documents/IMG_112.ods as a Calc document -> /home/kubis/Pulpit/BookScanner/BookScanner/data/documents/IMG_112.pdf using filter : calc_pdf_Export\n",
      "PDF '../data/documents/IMG_112.pdf' created successfully!\n",
      "All pages of 'IMG_112.pdf' converted to JPEG successfully!\n",
      "Spreadsheet 'IMG_113.ods' created successfully!\n"
     ]
    },
    {
     "name": "stderr",
     "output_type": "stream",
     "text": [
      "Warning: failed to launch javaldx - java may not function correctly\n"
     ]
    },
    {
     "name": "stdout",
     "output_type": "stream",
     "text": [
      "convert /home/kubis/Pulpit/BookScanner/BookScanner/data/documents/IMG_113.ods as a Calc document -> /home/kubis/Pulpit/BookScanner/BookScanner/data/documents/IMG_113.pdf using filter : calc_pdf_Export\n",
      "PDF '../data/documents/IMG_113.pdf' created successfully!\n",
      "All pages of 'IMG_113.pdf' converted to JPEG successfully!\n",
      "Spreadsheet 'IMG_114.ods' created successfully!\n"
     ]
    },
    {
     "name": "stderr",
     "output_type": "stream",
     "text": [
      "Warning: failed to launch javaldx - java may not function correctly\n"
     ]
    },
    {
     "name": "stdout",
     "output_type": "stream",
     "text": [
      "convert /home/kubis/Pulpit/BookScanner/BookScanner/data/documents/IMG_114.ods as a Calc document -> /home/kubis/Pulpit/BookScanner/BookScanner/data/documents/IMG_114.pdf using filter : calc_pdf_Export\n",
      "PDF '../data/documents/IMG_114.pdf' created successfully!\n",
      "All pages of 'IMG_114.pdf' converted to JPEG successfully!\n",
      "Spreadsheet 'IMG_115.ods' created successfully!\n"
     ]
    },
    {
     "name": "stderr",
     "output_type": "stream",
     "text": [
      "Warning: failed to launch javaldx - java may not function correctly\n"
     ]
    },
    {
     "name": "stdout",
     "output_type": "stream",
     "text": [
      "convert /home/kubis/Pulpit/BookScanner/BookScanner/data/documents/IMG_115.ods as a Calc document -> /home/kubis/Pulpit/BookScanner/BookScanner/data/documents/IMG_115.pdf using filter : calc_pdf_Export\n",
      "PDF '../data/documents/IMG_115.pdf' created successfully!\n",
      "All pages of 'IMG_115.pdf' converted to JPEG successfully!\n",
      "Spreadsheet 'IMG_116.ods' created successfully!\n"
     ]
    },
    {
     "name": "stderr",
     "output_type": "stream",
     "text": [
      "Warning: failed to launch javaldx - java may not function correctly\n"
     ]
    },
    {
     "name": "stdout",
     "output_type": "stream",
     "text": [
      "convert /home/kubis/Pulpit/BookScanner/BookScanner/data/documents/IMG_116.ods as a Calc document -> /home/kubis/Pulpit/BookScanner/BookScanner/data/documents/IMG_116.pdf using filter : calc_pdf_Export\n",
      "PDF '../data/documents/IMG_116.pdf' created successfully!\n",
      "All pages of 'IMG_116.pdf' converted to JPEG successfully!\n",
      "Spreadsheet 'IMG_117.ods' created successfully!\n"
     ]
    },
    {
     "name": "stderr",
     "output_type": "stream",
     "text": [
      "Warning: failed to launch javaldx - java may not function correctly\n"
     ]
    },
    {
     "name": "stdout",
     "output_type": "stream",
     "text": [
      "convert /home/kubis/Pulpit/BookScanner/BookScanner/data/documents/IMG_117.ods as a Calc document -> /home/kubis/Pulpit/BookScanner/BookScanner/data/documents/IMG_117.pdf using filter : calc_pdf_Export\n",
      "PDF '../data/documents/IMG_117.pdf' created successfully!\n",
      "All pages of 'IMG_117.pdf' converted to JPEG successfully!\n",
      "Spreadsheet 'IMG_118.ods' created successfully!\n"
     ]
    },
    {
     "name": "stderr",
     "output_type": "stream",
     "text": [
      "Warning: failed to launch javaldx - java may not function correctly\n"
     ]
    },
    {
     "name": "stdout",
     "output_type": "stream",
     "text": [
      "convert /home/kubis/Pulpit/BookScanner/BookScanner/data/documents/IMG_118.ods as a Calc document -> /home/kubis/Pulpit/BookScanner/BookScanner/data/documents/IMG_118.pdf using filter : calc_pdf_Export\n",
      "PDF '../data/documents/IMG_118.pdf' created successfully!\n",
      "All pages of 'IMG_118.pdf' converted to JPEG successfully!\n",
      "Spreadsheet 'IMG_119.ods' created successfully!\n"
     ]
    },
    {
     "name": "stderr",
     "output_type": "stream",
     "text": [
      "Warning: failed to launch javaldx - java may not function correctly\n"
     ]
    },
    {
     "name": "stdout",
     "output_type": "stream",
     "text": [
      "convert /home/kubis/Pulpit/BookScanner/BookScanner/data/documents/IMG_119.ods as a Calc document -> /home/kubis/Pulpit/BookScanner/BookScanner/data/documents/IMG_119.pdf using filter : calc_pdf_Export\n",
      "PDF '../data/documents/IMG_119.pdf' created successfully!\n",
      "All pages of 'IMG_119.pdf' converted to JPEG successfully!\n",
      "Spreadsheet 'IMG_120.ods' created successfully!\n"
     ]
    },
    {
     "name": "stderr",
     "output_type": "stream",
     "text": [
      "Warning: failed to launch javaldx - java may not function correctly\n"
     ]
    },
    {
     "name": "stdout",
     "output_type": "stream",
     "text": [
      "convert /home/kubis/Pulpit/BookScanner/BookScanner/data/documents/IMG_120.ods as a Calc document -> /home/kubis/Pulpit/BookScanner/BookScanner/data/documents/IMG_120.pdf using filter : calc_pdf_Export\n",
      "PDF '../data/documents/IMG_120.pdf' created successfully!\n",
      "All pages of 'IMG_120.pdf' converted to JPEG successfully!\n",
      "Spreadsheet 'IMG_121.ods' created successfully!\n"
     ]
    },
    {
     "name": "stderr",
     "output_type": "stream",
     "text": [
      "Warning: failed to launch javaldx - java may not function correctly\n"
     ]
    },
    {
     "name": "stdout",
     "output_type": "stream",
     "text": [
      "convert /home/kubis/Pulpit/BookScanner/BookScanner/data/documents/IMG_121.ods as a Calc document -> /home/kubis/Pulpit/BookScanner/BookScanner/data/documents/IMG_121.pdf using filter : calc_pdf_Export\n",
      "PDF '../data/documents/IMG_121.pdf' created successfully!\n",
      "All pages of 'IMG_121.pdf' converted to JPEG successfully!\n",
      "Spreadsheet 'IMG_122.ods' created successfully!\n"
     ]
    },
    {
     "name": "stderr",
     "output_type": "stream",
     "text": [
      "Warning: failed to launch javaldx - java may not function correctly\n"
     ]
    },
    {
     "name": "stdout",
     "output_type": "stream",
     "text": [
      "convert /home/kubis/Pulpit/BookScanner/BookScanner/data/documents/IMG_122.ods as a Calc document -> /home/kubis/Pulpit/BookScanner/BookScanner/data/documents/IMG_122.pdf using filter : calc_pdf_Export\n",
      "PDF '../data/documents/IMG_122.pdf' created successfully!\n",
      "All pages of 'IMG_122.pdf' converted to JPEG successfully!\n",
      "Spreadsheet 'IMG_123.ods' created successfully!\n"
     ]
    },
    {
     "name": "stderr",
     "output_type": "stream",
     "text": [
      "Warning: failed to launch javaldx - java may not function correctly\n"
     ]
    },
    {
     "name": "stdout",
     "output_type": "stream",
     "text": [
      "convert /home/kubis/Pulpit/BookScanner/BookScanner/data/documents/IMG_123.ods as a Calc document -> /home/kubis/Pulpit/BookScanner/BookScanner/data/documents/IMG_123.pdf using filter : calc_pdf_Export\n",
      "PDF '../data/documents/IMG_123.pdf' created successfully!\n",
      "All pages of 'IMG_123.pdf' converted to JPEG successfully!\n",
      "Spreadsheet 'IMG_124.ods' created successfully!\n"
     ]
    },
    {
     "name": "stderr",
     "output_type": "stream",
     "text": [
      "Warning: failed to launch javaldx - java may not function correctly\n"
     ]
    },
    {
     "name": "stdout",
     "output_type": "stream",
     "text": [
      "convert /home/kubis/Pulpit/BookScanner/BookScanner/data/documents/IMG_124.ods as a Calc document -> /home/kubis/Pulpit/BookScanner/BookScanner/data/documents/IMG_124.pdf using filter : calc_pdf_Export\n",
      "PDF '../data/documents/IMG_124.pdf' created successfully!\n",
      "All pages of 'IMG_124.pdf' converted to JPEG successfully!\n",
      "Spreadsheet 'IMG_125.ods' created successfully!\n"
     ]
    },
    {
     "name": "stderr",
     "output_type": "stream",
     "text": [
      "Warning: failed to launch javaldx - java may not function correctly\n"
     ]
    },
    {
     "name": "stdout",
     "output_type": "stream",
     "text": [
      "convert /home/kubis/Pulpit/BookScanner/BookScanner/data/documents/IMG_125.ods as a Calc document -> /home/kubis/Pulpit/BookScanner/BookScanner/data/documents/IMG_125.pdf using filter : calc_pdf_Export\n",
      "PDF '../data/documents/IMG_125.pdf' created successfully!\n",
      "All pages of 'IMG_125.pdf' converted to JPEG successfully!\n",
      "Spreadsheet 'IMG_126.ods' created successfully!\n"
     ]
    },
    {
     "name": "stderr",
     "output_type": "stream",
     "text": [
      "Warning: failed to launch javaldx - java may not function correctly\n"
     ]
    },
    {
     "name": "stdout",
     "output_type": "stream",
     "text": [
      "convert /home/kubis/Pulpit/BookScanner/BookScanner/data/documents/IMG_126.ods as a Calc document -> /home/kubis/Pulpit/BookScanner/BookScanner/data/documents/IMG_126.pdf using filter : calc_pdf_Export\n",
      "PDF '../data/documents/IMG_126.pdf' created successfully!\n",
      "All pages of 'IMG_126.pdf' converted to JPEG successfully!\n",
      "Spreadsheet 'IMG_127.ods' created successfully!\n"
     ]
    },
    {
     "name": "stderr",
     "output_type": "stream",
     "text": [
      "Warning: failed to launch javaldx - java may not function correctly\n"
     ]
    },
    {
     "name": "stdout",
     "output_type": "stream",
     "text": [
      "convert /home/kubis/Pulpit/BookScanner/BookScanner/data/documents/IMG_127.ods as a Calc document -> /home/kubis/Pulpit/BookScanner/BookScanner/data/documents/IMG_127.pdf using filter : calc_pdf_Export\n",
      "PDF '../data/documents/IMG_127.pdf' created successfully!\n",
      "All pages of 'IMG_127.pdf' converted to JPEG successfully!\n",
      "Spreadsheet 'IMG_128.ods' created successfully!\n"
     ]
    },
    {
     "name": "stderr",
     "output_type": "stream",
     "text": [
      "Warning: failed to launch javaldx - java may not function correctly\n"
     ]
    },
    {
     "name": "stdout",
     "output_type": "stream",
     "text": [
      "convert /home/kubis/Pulpit/BookScanner/BookScanner/data/documents/IMG_128.ods as a Calc document -> /home/kubis/Pulpit/BookScanner/BookScanner/data/documents/IMG_128.pdf using filter : calc_pdf_Export\n",
      "PDF '../data/documents/IMG_128.pdf' created successfully!\n",
      "All pages of 'IMG_128.pdf' converted to JPEG successfully!\n",
      "Spreadsheet 'IMG_129.ods' created successfully!\n"
     ]
    },
    {
     "name": "stderr",
     "output_type": "stream",
     "text": [
      "Warning: failed to launch javaldx - java may not function correctly\n"
     ]
    },
    {
     "name": "stdout",
     "output_type": "stream",
     "text": [
      "convert /home/kubis/Pulpit/BookScanner/BookScanner/data/documents/IMG_129.ods as a Calc document -> /home/kubis/Pulpit/BookScanner/BookScanner/data/documents/IMG_129.pdf using filter : calc_pdf_Export\n",
      "PDF '../data/documents/IMG_129.pdf' created successfully!\n",
      "All pages of 'IMG_129.pdf' converted to JPEG successfully!\n",
      "Spreadsheet 'IMG_130.ods' created successfully!\n"
     ]
    },
    {
     "name": "stderr",
     "output_type": "stream",
     "text": [
      "Warning: failed to launch javaldx - java may not function correctly\n"
     ]
    },
    {
     "name": "stdout",
     "output_type": "stream",
     "text": [
      "convert /home/kubis/Pulpit/BookScanner/BookScanner/data/documents/IMG_130.ods as a Calc document -> /home/kubis/Pulpit/BookScanner/BookScanner/data/documents/IMG_130.pdf using filter : calc_pdf_Export\n",
      "PDF '../data/documents/IMG_130.pdf' created successfully!\n",
      "All pages of 'IMG_130.pdf' converted to JPEG successfully!\n",
      "Spreadsheet 'IMG_131.ods' created successfully!\n"
     ]
    },
    {
     "name": "stderr",
     "output_type": "stream",
     "text": [
      "Warning: failed to launch javaldx - java may not function correctly\n"
     ]
    },
    {
     "name": "stdout",
     "output_type": "stream",
     "text": [
      "convert /home/kubis/Pulpit/BookScanner/BookScanner/data/documents/IMG_131.ods as a Calc document -> /home/kubis/Pulpit/BookScanner/BookScanner/data/documents/IMG_131.pdf using filter : calc_pdf_Export\n",
      "PDF '../data/documents/IMG_131.pdf' created successfully!\n",
      "All pages of 'IMG_131.pdf' converted to JPEG successfully!\n",
      "Spreadsheet 'IMG_132.ods' created successfully!\n"
     ]
    },
    {
     "name": "stderr",
     "output_type": "stream",
     "text": [
      "Warning: failed to launch javaldx - java may not function correctly\n"
     ]
    },
    {
     "name": "stdout",
     "output_type": "stream",
     "text": [
      "convert /home/kubis/Pulpit/BookScanner/BookScanner/data/documents/IMG_132.ods as a Calc document -> /home/kubis/Pulpit/BookScanner/BookScanner/data/documents/IMG_132.pdf using filter : calc_pdf_Export\n",
      "PDF '../data/documents/IMG_132.pdf' created successfully!\n",
      "All pages of 'IMG_132.pdf' converted to JPEG successfully!\n",
      "Spreadsheet 'IMG_133.ods' created successfully!\n"
     ]
    },
    {
     "name": "stderr",
     "output_type": "stream",
     "text": [
      "Warning: failed to launch javaldx - java may not function correctly\n"
     ]
    },
    {
     "name": "stdout",
     "output_type": "stream",
     "text": [
      "convert /home/kubis/Pulpit/BookScanner/BookScanner/data/documents/IMG_133.ods as a Calc document -> /home/kubis/Pulpit/BookScanner/BookScanner/data/documents/IMG_133.pdf using filter : calc_pdf_Export\n",
      "PDF '../data/documents/IMG_133.pdf' created successfully!\n",
      "All pages of 'IMG_133.pdf' converted to JPEG successfully!\n",
      "Spreadsheet 'IMG_134.ods' created successfully!\n"
     ]
    },
    {
     "name": "stderr",
     "output_type": "stream",
     "text": [
      "Warning: failed to launch javaldx - java may not function correctly\n"
     ]
    },
    {
     "name": "stdout",
     "output_type": "stream",
     "text": [
      "convert /home/kubis/Pulpit/BookScanner/BookScanner/data/documents/IMG_134.ods as a Calc document -> /home/kubis/Pulpit/BookScanner/BookScanner/data/documents/IMG_134.pdf using filter : calc_pdf_Export\n",
      "PDF '../data/documents/IMG_134.pdf' created successfully!\n",
      "All pages of 'IMG_134.pdf' converted to JPEG successfully!\n",
      "Spreadsheet 'IMG_135.ods' created successfully!\n"
     ]
    },
    {
     "name": "stderr",
     "output_type": "stream",
     "text": [
      "Warning: failed to launch javaldx - java may not function correctly\n"
     ]
    },
    {
     "name": "stdout",
     "output_type": "stream",
     "text": [
      "convert /home/kubis/Pulpit/BookScanner/BookScanner/data/documents/IMG_135.ods as a Calc document -> /home/kubis/Pulpit/BookScanner/BookScanner/data/documents/IMG_135.pdf using filter : calc_pdf_Export\n",
      "PDF '../data/documents/IMG_135.pdf' created successfully!\n",
      "All pages of 'IMG_135.pdf' converted to JPEG successfully!\n",
      "Spreadsheet 'IMG_136.ods' created successfully!\n"
     ]
    },
    {
     "name": "stderr",
     "output_type": "stream",
     "text": [
      "Warning: failed to launch javaldx - java may not function correctly\n"
     ]
    },
    {
     "name": "stdout",
     "output_type": "stream",
     "text": [
      "convert /home/kubis/Pulpit/BookScanner/BookScanner/data/documents/IMG_136.ods as a Calc document -> /home/kubis/Pulpit/BookScanner/BookScanner/data/documents/IMG_136.pdf using filter : calc_pdf_Export\n",
      "PDF '../data/documents/IMG_136.pdf' created successfully!\n",
      "All pages of 'IMG_136.pdf' converted to JPEG successfully!\n",
      "Spreadsheet 'IMG_137.ods' created successfully!\n"
     ]
    },
    {
     "name": "stderr",
     "output_type": "stream",
     "text": [
      "Warning: failed to launch javaldx - java may not function correctly\n"
     ]
    },
    {
     "name": "stdout",
     "output_type": "stream",
     "text": [
      "convert /home/kubis/Pulpit/BookScanner/BookScanner/data/documents/IMG_137.ods as a Calc document -> /home/kubis/Pulpit/BookScanner/BookScanner/data/documents/IMG_137.pdf using filter : calc_pdf_Export\n",
      "PDF '../data/documents/IMG_137.pdf' created successfully!\n",
      "All pages of 'IMG_137.pdf' converted to JPEG successfully!\n",
      "Spreadsheet 'IMG_138.ods' created successfully!\n"
     ]
    },
    {
     "name": "stderr",
     "output_type": "stream",
     "text": [
      "Warning: failed to launch javaldx - java may not function correctly\n"
     ]
    },
    {
     "name": "stdout",
     "output_type": "stream",
     "text": [
      "convert /home/kubis/Pulpit/BookScanner/BookScanner/data/documents/IMG_138.ods as a Calc document -> /home/kubis/Pulpit/BookScanner/BookScanner/data/documents/IMG_138.pdf using filter : calc_pdf_Export\n",
      "PDF '../data/documents/IMG_138.pdf' created successfully!\n",
      "All pages of 'IMG_138.pdf' converted to JPEG successfully!\n",
      "Spreadsheet 'IMG_139.ods' created successfully!\n"
     ]
    },
    {
     "name": "stderr",
     "output_type": "stream",
     "text": [
      "Warning: failed to launch javaldx - java may not function correctly\n"
     ]
    },
    {
     "name": "stdout",
     "output_type": "stream",
     "text": [
      "convert /home/kubis/Pulpit/BookScanner/BookScanner/data/documents/IMG_139.ods as a Calc document -> /home/kubis/Pulpit/BookScanner/BookScanner/data/documents/IMG_139.pdf using filter : calc_pdf_Export\n",
      "PDF '../data/documents/IMG_139.pdf' created successfully!\n",
      "All pages of 'IMG_139.pdf' converted to JPEG successfully!\n",
      "Spreadsheet 'IMG_140.ods' created successfully!\n"
     ]
    },
    {
     "name": "stderr",
     "output_type": "stream",
     "text": [
      "Warning: failed to launch javaldx - java may not function correctly\n"
     ]
    },
    {
     "name": "stdout",
     "output_type": "stream",
     "text": [
      "convert /home/kubis/Pulpit/BookScanner/BookScanner/data/documents/IMG_140.ods as a Calc document -> /home/kubis/Pulpit/BookScanner/BookScanner/data/documents/IMG_140.pdf using filter : calc_pdf_Export\n",
      "PDF '../data/documents/IMG_140.pdf' created successfully!\n",
      "All pages of 'IMG_140.pdf' converted to JPEG successfully!\n",
      "Spreadsheet 'IMG_141.ods' created successfully!\n"
     ]
    },
    {
     "name": "stderr",
     "output_type": "stream",
     "text": [
      "Warning: failed to launch javaldx - java may not function correctly\n"
     ]
    },
    {
     "name": "stdout",
     "output_type": "stream",
     "text": [
      "convert /home/kubis/Pulpit/BookScanner/BookScanner/data/documents/IMG_141.ods as a Calc document -> /home/kubis/Pulpit/BookScanner/BookScanner/data/documents/IMG_141.pdf using filter : calc_pdf_Export\n",
      "PDF '../data/documents/IMG_141.pdf' created successfully!\n",
      "All pages of 'IMG_141.pdf' converted to JPEG successfully!\n",
      "Spreadsheet 'IMG_142.ods' created successfully!\n"
     ]
    },
    {
     "name": "stderr",
     "output_type": "stream",
     "text": [
      "Warning: failed to launch javaldx - java may not function correctly\n"
     ]
    },
    {
     "name": "stdout",
     "output_type": "stream",
     "text": [
      "convert /home/kubis/Pulpit/BookScanner/BookScanner/data/documents/IMG_142.ods as a Calc document -> /home/kubis/Pulpit/BookScanner/BookScanner/data/documents/IMG_142.pdf using filter : calc_pdf_Export\n",
      "PDF '../data/documents/IMG_142.pdf' created successfully!\n",
      "All pages of 'IMG_142.pdf' converted to JPEG successfully!\n",
      "Spreadsheet 'IMG_143.ods' created successfully!\n"
     ]
    },
    {
     "name": "stderr",
     "output_type": "stream",
     "text": [
      "Warning: failed to launch javaldx - java may not function correctly\n"
     ]
    },
    {
     "name": "stdout",
     "output_type": "stream",
     "text": [
      "convert /home/kubis/Pulpit/BookScanner/BookScanner/data/documents/IMG_143.ods as a Calc document -> /home/kubis/Pulpit/BookScanner/BookScanner/data/documents/IMG_143.pdf using filter : calc_pdf_Export\n",
      "PDF '../data/documents/IMG_143.pdf' created successfully!\n",
      "All pages of 'IMG_143.pdf' converted to JPEG successfully!\n",
      "Spreadsheet 'IMG_144.ods' created successfully!\n"
     ]
    },
    {
     "name": "stderr",
     "output_type": "stream",
     "text": [
      "Warning: failed to launch javaldx - java may not function correctly\n"
     ]
    },
    {
     "name": "stdout",
     "output_type": "stream",
     "text": [
      "convert /home/kubis/Pulpit/BookScanner/BookScanner/data/documents/IMG_144.ods as a Calc document -> /home/kubis/Pulpit/BookScanner/BookScanner/data/documents/IMG_144.pdf using filter : calc_pdf_Export\n",
      "PDF '../data/documents/IMG_144.pdf' created successfully!\n",
      "All pages of 'IMG_144.pdf' converted to JPEG successfully!\n",
      "Spreadsheet 'IMG_145.ods' created successfully!\n"
     ]
    },
    {
     "name": "stderr",
     "output_type": "stream",
     "text": [
      "Warning: failed to launch javaldx - java may not function correctly\n"
     ]
    },
    {
     "name": "stdout",
     "output_type": "stream",
     "text": [
      "convert /home/kubis/Pulpit/BookScanner/BookScanner/data/documents/IMG_145.ods as a Calc document -> /home/kubis/Pulpit/BookScanner/BookScanner/data/documents/IMG_145.pdf using filter : calc_pdf_Export\n",
      "PDF '../data/documents/IMG_145.pdf' created successfully!\n",
      "All pages of 'IMG_145.pdf' converted to JPEG successfully!\n",
      "Spreadsheet 'IMG_146.ods' created successfully!\n"
     ]
    },
    {
     "name": "stderr",
     "output_type": "stream",
     "text": [
      "Warning: failed to launch javaldx - java may not function correctly\n"
     ]
    },
    {
     "name": "stdout",
     "output_type": "stream",
     "text": [
      "convert /home/kubis/Pulpit/BookScanner/BookScanner/data/documents/IMG_146.ods as a Calc document -> /home/kubis/Pulpit/BookScanner/BookScanner/data/documents/IMG_146.pdf using filter : calc_pdf_Export\n",
      "PDF '../data/documents/IMG_146.pdf' created successfully!\n",
      "All pages of 'IMG_146.pdf' converted to JPEG successfully!\n",
      "Spreadsheet 'IMG_147.ods' created successfully!\n"
     ]
    },
    {
     "name": "stderr",
     "output_type": "stream",
     "text": [
      "Warning: failed to launch javaldx - java may not function correctly\n"
     ]
    },
    {
     "name": "stdout",
     "output_type": "stream",
     "text": [
      "convert /home/kubis/Pulpit/BookScanner/BookScanner/data/documents/IMG_147.ods as a Calc document -> /home/kubis/Pulpit/BookScanner/BookScanner/data/documents/IMG_147.pdf using filter : calc_pdf_Export\n",
      "PDF '../data/documents/IMG_147.pdf' created successfully!\n",
      "All pages of 'IMG_147.pdf' converted to JPEG successfully!\n",
      "Spreadsheet 'IMG_148.ods' created successfully!\n"
     ]
    },
    {
     "name": "stderr",
     "output_type": "stream",
     "text": [
      "Warning: failed to launch javaldx - java may not function correctly\n"
     ]
    },
    {
     "name": "stdout",
     "output_type": "stream",
     "text": [
      "convert /home/kubis/Pulpit/BookScanner/BookScanner/data/documents/IMG_148.ods as a Calc document -> /home/kubis/Pulpit/BookScanner/BookScanner/data/documents/IMG_148.pdf using filter : calc_pdf_Export\n",
      "PDF '../data/documents/IMG_148.pdf' created successfully!\n",
      "All pages of 'IMG_148.pdf' converted to JPEG successfully!\n",
      "Spreadsheet 'IMG_149.ods' created successfully!\n"
     ]
    },
    {
     "name": "stderr",
     "output_type": "stream",
     "text": [
      "Warning: failed to launch javaldx - java may not function correctly\n"
     ]
    },
    {
     "name": "stdout",
     "output_type": "stream",
     "text": [
      "convert /home/kubis/Pulpit/BookScanner/BookScanner/data/documents/IMG_149.ods as a Calc document -> /home/kubis/Pulpit/BookScanner/BookScanner/data/documents/IMG_149.pdf using filter : calc_pdf_Export\n",
      "PDF '../data/documents/IMG_149.pdf' created successfully!\n",
      "All pages of 'IMG_149.pdf' converted to JPEG successfully!\n",
      "Spreadsheet 'IMG_150.ods' created successfully!\n"
     ]
    },
    {
     "name": "stderr",
     "output_type": "stream",
     "text": [
      "Warning: failed to launch javaldx - java may not function correctly\n"
     ]
    },
    {
     "name": "stdout",
     "output_type": "stream",
     "text": [
      "convert /home/kubis/Pulpit/BookScanner/BookScanner/data/documents/IMG_150.ods as a Calc document -> /home/kubis/Pulpit/BookScanner/BookScanner/data/documents/IMG_150.pdf using filter : calc_pdf_Export\n",
      "PDF '../data/documents/IMG_150.pdf' created successfully!\n",
      "All pages of 'IMG_150.pdf' converted to JPEG successfully!\n",
      "Spreadsheet 'IMG_151.ods' created successfully!\n"
     ]
    },
    {
     "name": "stderr",
     "output_type": "stream",
     "text": [
      "Warning: failed to launch javaldx - java may not function correctly\n"
     ]
    },
    {
     "name": "stdout",
     "output_type": "stream",
     "text": [
      "convert /home/kubis/Pulpit/BookScanner/BookScanner/data/documents/IMG_151.ods as a Calc document -> /home/kubis/Pulpit/BookScanner/BookScanner/data/documents/IMG_151.pdf using filter : calc_pdf_Export\n",
      "PDF '../data/documents/IMG_151.pdf' created successfully!\n",
      "All pages of 'IMG_151.pdf' converted to JPEG successfully!\n",
      "Spreadsheet 'IMG_152.ods' created successfully!\n"
     ]
    },
    {
     "name": "stderr",
     "output_type": "stream",
     "text": [
      "Warning: failed to launch javaldx - java may not function correctly\n"
     ]
    },
    {
     "name": "stdout",
     "output_type": "stream",
     "text": [
      "convert /home/kubis/Pulpit/BookScanner/BookScanner/data/documents/IMG_152.ods as a Calc document -> /home/kubis/Pulpit/BookScanner/BookScanner/data/documents/IMG_152.pdf using filter : calc_pdf_Export\n",
      "PDF '../data/documents/IMG_152.pdf' created successfully!\n",
      "All pages of 'IMG_152.pdf' converted to JPEG successfully!\n",
      "Spreadsheet 'IMG_153.ods' created successfully!\n"
     ]
    },
    {
     "name": "stderr",
     "output_type": "stream",
     "text": [
      "Warning: failed to launch javaldx - java may not function correctly\n"
     ]
    },
    {
     "name": "stdout",
     "output_type": "stream",
     "text": [
      "convert /home/kubis/Pulpit/BookScanner/BookScanner/data/documents/IMG_153.ods as a Calc document -> /home/kubis/Pulpit/BookScanner/BookScanner/data/documents/IMG_153.pdf using filter : calc_pdf_Export\n",
      "PDF '../data/documents/IMG_153.pdf' created successfully!\n",
      "All pages of 'IMG_153.pdf' converted to JPEG successfully!\n",
      "Spreadsheet 'IMG_154.ods' created successfully!\n"
     ]
    },
    {
     "name": "stderr",
     "output_type": "stream",
     "text": [
      "Warning: failed to launch javaldx - java may not function correctly\n"
     ]
    },
    {
     "name": "stdout",
     "output_type": "stream",
     "text": [
      "convert /home/kubis/Pulpit/BookScanner/BookScanner/data/documents/IMG_154.ods as a Calc document -> /home/kubis/Pulpit/BookScanner/BookScanner/data/documents/IMG_154.pdf using filter : calc_pdf_Export\n",
      "PDF '../data/documents/IMG_154.pdf' created successfully!\n",
      "All pages of 'IMG_154.pdf' converted to JPEG successfully!\n",
      "Spreadsheet 'IMG_155.ods' created successfully!\n"
     ]
    },
    {
     "name": "stderr",
     "output_type": "stream",
     "text": [
      "Warning: failed to launch javaldx - java may not function correctly\n"
     ]
    },
    {
     "name": "stdout",
     "output_type": "stream",
     "text": [
      "convert /home/kubis/Pulpit/BookScanner/BookScanner/data/documents/IMG_155.ods as a Calc document -> /home/kubis/Pulpit/BookScanner/BookScanner/data/documents/IMG_155.pdf using filter : calc_pdf_Export\n",
      "PDF '../data/documents/IMG_155.pdf' created successfully!\n",
      "All pages of 'IMG_155.pdf' converted to JPEG successfully!\n",
      "Spreadsheet 'IMG_156.ods' created successfully!\n"
     ]
    },
    {
     "name": "stderr",
     "output_type": "stream",
     "text": [
      "Warning: failed to launch javaldx - java may not function correctly\n"
     ]
    },
    {
     "name": "stdout",
     "output_type": "stream",
     "text": [
      "convert /home/kubis/Pulpit/BookScanner/BookScanner/data/documents/IMG_156.ods as a Calc document -> /home/kubis/Pulpit/BookScanner/BookScanner/data/documents/IMG_156.pdf using filter : calc_pdf_Export\n",
      "PDF '../data/documents/IMG_156.pdf' created successfully!\n",
      "All pages of 'IMG_156.pdf' converted to JPEG successfully!\n",
      "Spreadsheet 'IMG_157.ods' created successfully!\n"
     ]
    },
    {
     "name": "stderr",
     "output_type": "stream",
     "text": [
      "Warning: failed to launch javaldx - java may not function correctly\n"
     ]
    },
    {
     "name": "stdout",
     "output_type": "stream",
     "text": [
      "convert /home/kubis/Pulpit/BookScanner/BookScanner/data/documents/IMG_157.ods as a Calc document -> /home/kubis/Pulpit/BookScanner/BookScanner/data/documents/IMG_157.pdf using filter : calc_pdf_Export\n",
      "PDF '../data/documents/IMG_157.pdf' created successfully!\n",
      "All pages of 'IMG_157.pdf' converted to JPEG successfully!\n",
      "Spreadsheet 'IMG_158.ods' created successfully!\n"
     ]
    },
    {
     "name": "stderr",
     "output_type": "stream",
     "text": [
      "Warning: failed to launch javaldx - java may not function correctly\n"
     ]
    },
    {
     "name": "stdout",
     "output_type": "stream",
     "text": [
      "convert /home/kubis/Pulpit/BookScanner/BookScanner/data/documents/IMG_158.ods as a Calc document -> /home/kubis/Pulpit/BookScanner/BookScanner/data/documents/IMG_158.pdf using filter : calc_pdf_Export\n",
      "PDF '../data/documents/IMG_158.pdf' created successfully!\n",
      "All pages of 'IMG_158.pdf' converted to JPEG successfully!\n",
      "Spreadsheet 'IMG_159.ods' created successfully!\n"
     ]
    },
    {
     "name": "stderr",
     "output_type": "stream",
     "text": [
      "Warning: failed to launch javaldx - java may not function correctly\n"
     ]
    },
    {
     "name": "stdout",
     "output_type": "stream",
     "text": [
      "convert /home/kubis/Pulpit/BookScanner/BookScanner/data/documents/IMG_159.ods as a Calc document -> /home/kubis/Pulpit/BookScanner/BookScanner/data/documents/IMG_159.pdf using filter : calc_pdf_Export\n",
      "PDF '../data/documents/IMG_159.pdf' created successfully!\n",
      "All pages of 'IMG_159.pdf' converted to JPEG successfully!\n",
      "Spreadsheet 'IMG_160.ods' created successfully!\n"
     ]
    },
    {
     "name": "stderr",
     "output_type": "stream",
     "text": [
      "Warning: failed to launch javaldx - java may not function correctly\n"
     ]
    },
    {
     "name": "stdout",
     "output_type": "stream",
     "text": [
      "convert /home/kubis/Pulpit/BookScanner/BookScanner/data/documents/IMG_160.ods as a Calc document -> /home/kubis/Pulpit/BookScanner/BookScanner/data/documents/IMG_160.pdf using filter : calc_pdf_Export\n",
      "PDF '../data/documents/IMG_160.pdf' created successfully!\n",
      "All pages of 'IMG_160.pdf' converted to JPEG successfully!\n",
      "Spreadsheet 'IMG_161.ods' created successfully!\n"
     ]
    },
    {
     "name": "stderr",
     "output_type": "stream",
     "text": [
      "Warning: failed to launch javaldx - java may not function correctly\n"
     ]
    },
    {
     "name": "stdout",
     "output_type": "stream",
     "text": [
      "convert /home/kubis/Pulpit/BookScanner/BookScanner/data/documents/IMG_161.ods as a Calc document -> /home/kubis/Pulpit/BookScanner/BookScanner/data/documents/IMG_161.pdf using filter : calc_pdf_Export\n",
      "PDF '../data/documents/IMG_161.pdf' created successfully!\n",
      "All pages of 'IMG_161.pdf' converted to JPEG successfully!\n",
      "Spreadsheet 'IMG_162.ods' created successfully!\n"
     ]
    },
    {
     "name": "stderr",
     "output_type": "stream",
     "text": [
      "Warning: failed to launch javaldx - java may not function correctly\n"
     ]
    },
    {
     "name": "stdout",
     "output_type": "stream",
     "text": [
      "convert /home/kubis/Pulpit/BookScanner/BookScanner/data/documents/IMG_162.ods as a Calc document -> /home/kubis/Pulpit/BookScanner/BookScanner/data/documents/IMG_162.pdf using filter : calc_pdf_Export\n",
      "PDF '../data/documents/IMG_162.pdf' created successfully!\n",
      "All pages of 'IMG_162.pdf' converted to JPEG successfully!\n",
      "Spreadsheet 'IMG_163.ods' created successfully!\n"
     ]
    },
    {
     "name": "stderr",
     "output_type": "stream",
     "text": [
      "Warning: failed to launch javaldx - java may not function correctly\n"
     ]
    },
    {
     "name": "stdout",
     "output_type": "stream",
     "text": [
      "convert /home/kubis/Pulpit/BookScanner/BookScanner/data/documents/IMG_163.ods as a Calc document -> /home/kubis/Pulpit/BookScanner/BookScanner/data/documents/IMG_163.pdf using filter : calc_pdf_Export\n",
      "PDF '../data/documents/IMG_163.pdf' created successfully!\n",
      "All pages of 'IMG_163.pdf' converted to JPEG successfully!\n",
      "Spreadsheet 'IMG_164.ods' created successfully!\n"
     ]
    },
    {
     "name": "stderr",
     "output_type": "stream",
     "text": [
      "Warning: failed to launch javaldx - java may not function correctly\n"
     ]
    },
    {
     "name": "stdout",
     "output_type": "stream",
     "text": [
      "convert /home/kubis/Pulpit/BookScanner/BookScanner/data/documents/IMG_164.ods as a Calc document -> /home/kubis/Pulpit/BookScanner/BookScanner/data/documents/IMG_164.pdf using filter : calc_pdf_Export\n",
      "PDF '../data/documents/IMG_164.pdf' created successfully!\n",
      "All pages of 'IMG_164.pdf' converted to JPEG successfully!\n",
      "Spreadsheet 'IMG_165.ods' created successfully!\n"
     ]
    },
    {
     "name": "stderr",
     "output_type": "stream",
     "text": [
      "Warning: failed to launch javaldx - java may not function correctly\n"
     ]
    },
    {
     "name": "stdout",
     "output_type": "stream",
     "text": [
      "convert /home/kubis/Pulpit/BookScanner/BookScanner/data/documents/IMG_165.ods as a Calc document -> /home/kubis/Pulpit/BookScanner/BookScanner/data/documents/IMG_165.pdf using filter : calc_pdf_Export\n",
      "PDF '../data/documents/IMG_165.pdf' created successfully!\n",
      "All pages of 'IMG_165.pdf' converted to JPEG successfully!\n",
      "Spreadsheet 'IMG_166.ods' created successfully!\n"
     ]
    },
    {
     "name": "stderr",
     "output_type": "stream",
     "text": [
      "Warning: failed to launch javaldx - java may not function correctly\n"
     ]
    },
    {
     "name": "stdout",
     "output_type": "stream",
     "text": [
      "convert /home/kubis/Pulpit/BookScanner/BookScanner/data/documents/IMG_166.ods as a Calc document -> /home/kubis/Pulpit/BookScanner/BookScanner/data/documents/IMG_166.pdf using filter : calc_pdf_Export\n",
      "PDF '../data/documents/IMG_166.pdf' created successfully!\n",
      "All pages of 'IMG_166.pdf' converted to JPEG successfully!\n",
      "Spreadsheet 'IMG_167.ods' created successfully!\n"
     ]
    },
    {
     "name": "stderr",
     "output_type": "stream",
     "text": [
      "Warning: failed to launch javaldx - java may not function correctly\n"
     ]
    },
    {
     "name": "stdout",
     "output_type": "stream",
     "text": [
      "convert /home/kubis/Pulpit/BookScanner/BookScanner/data/documents/IMG_167.ods as a Calc document -> /home/kubis/Pulpit/BookScanner/BookScanner/data/documents/IMG_167.pdf using filter : calc_pdf_Export\n",
      "PDF '../data/documents/IMG_167.pdf' created successfully!\n",
      "All pages of 'IMG_167.pdf' converted to JPEG successfully!\n",
      "Spreadsheet 'IMG_168.ods' created successfully!\n"
     ]
    },
    {
     "name": "stderr",
     "output_type": "stream",
     "text": [
      "Warning: failed to launch javaldx - java may not function correctly\n"
     ]
    },
    {
     "name": "stdout",
     "output_type": "stream",
     "text": [
      "convert /home/kubis/Pulpit/BookScanner/BookScanner/data/documents/IMG_168.ods as a Calc document -> /home/kubis/Pulpit/BookScanner/BookScanner/data/documents/IMG_168.pdf using filter : calc_pdf_Export\n",
      "PDF '../data/documents/IMG_168.pdf' created successfully!\n",
      "All pages of 'IMG_168.pdf' converted to JPEG successfully!\n",
      "Spreadsheet 'IMG_169.ods' created successfully!\n"
     ]
    },
    {
     "name": "stderr",
     "output_type": "stream",
     "text": [
      "Warning: failed to launch javaldx - java may not function correctly\n"
     ]
    },
    {
     "name": "stdout",
     "output_type": "stream",
     "text": [
      "convert /home/kubis/Pulpit/BookScanner/BookScanner/data/documents/IMG_169.ods as a Calc document -> /home/kubis/Pulpit/BookScanner/BookScanner/data/documents/IMG_169.pdf using filter : calc_pdf_Export\n",
      "PDF '../data/documents/IMG_169.pdf' created successfully!\n",
      "All pages of 'IMG_169.pdf' converted to JPEG successfully!\n",
      "Spreadsheet 'IMG_170.ods' created successfully!\n"
     ]
    },
    {
     "name": "stderr",
     "output_type": "stream",
     "text": [
      "Warning: failed to launch javaldx - java may not function correctly\n"
     ]
    },
    {
     "name": "stdout",
     "output_type": "stream",
     "text": [
      "convert /home/kubis/Pulpit/BookScanner/BookScanner/data/documents/IMG_170.ods as a Calc document -> /home/kubis/Pulpit/BookScanner/BookScanner/data/documents/IMG_170.pdf using filter : calc_pdf_Export\n",
      "PDF '../data/documents/IMG_170.pdf' created successfully!\n",
      "All pages of 'IMG_170.pdf' converted to JPEG successfully!\n",
      "Spreadsheet 'IMG_171.ods' created successfully!\n"
     ]
    },
    {
     "name": "stderr",
     "output_type": "stream",
     "text": [
      "Warning: failed to launch javaldx - java may not function correctly\n"
     ]
    },
    {
     "name": "stdout",
     "output_type": "stream",
     "text": [
      "convert /home/kubis/Pulpit/BookScanner/BookScanner/data/documents/IMG_171.ods as a Calc document -> /home/kubis/Pulpit/BookScanner/BookScanner/data/documents/IMG_171.pdf using filter : calc_pdf_Export\n",
      "PDF '../data/documents/IMG_171.pdf' created successfully!\n",
      "All pages of 'IMG_171.pdf' converted to JPEG successfully!\n",
      "Spreadsheet 'IMG_172.ods' created successfully!\n"
     ]
    },
    {
     "name": "stderr",
     "output_type": "stream",
     "text": [
      "Warning: failed to launch javaldx - java may not function correctly\n"
     ]
    },
    {
     "name": "stdout",
     "output_type": "stream",
     "text": [
      "convert /home/kubis/Pulpit/BookScanner/BookScanner/data/documents/IMG_172.ods as a Calc document -> /home/kubis/Pulpit/BookScanner/BookScanner/data/documents/IMG_172.pdf using filter : calc_pdf_Export\n",
      "PDF '../data/documents/IMG_172.pdf' created successfully!\n",
      "All pages of 'IMG_172.pdf' converted to JPEG successfully!\n",
      "Spreadsheet 'IMG_173.ods' created successfully!\n"
     ]
    },
    {
     "name": "stderr",
     "output_type": "stream",
     "text": [
      "Warning: failed to launch javaldx - java may not function correctly\n"
     ]
    },
    {
     "name": "stdout",
     "output_type": "stream",
     "text": [
      "convert /home/kubis/Pulpit/BookScanner/BookScanner/data/documents/IMG_173.ods as a Calc document -> /home/kubis/Pulpit/BookScanner/BookScanner/data/documents/IMG_173.pdf using filter : calc_pdf_Export\n",
      "PDF '../data/documents/IMG_173.pdf' created successfully!\n",
      "All pages of 'IMG_173.pdf' converted to JPEG successfully!\n",
      "Spreadsheet 'IMG_174.ods' created successfully!\n"
     ]
    },
    {
     "name": "stderr",
     "output_type": "stream",
     "text": [
      "Warning: failed to launch javaldx - java may not function correctly\n"
     ]
    },
    {
     "name": "stdout",
     "output_type": "stream",
     "text": [
      "convert /home/kubis/Pulpit/BookScanner/BookScanner/data/documents/IMG_174.ods as a Calc document -> /home/kubis/Pulpit/BookScanner/BookScanner/data/documents/IMG_174.pdf using filter : calc_pdf_Export\n",
      "PDF '../data/documents/IMG_174.pdf' created successfully!\n",
      "All pages of 'IMG_174.pdf' converted to JPEG successfully!\n",
      "Spreadsheet 'IMG_175.ods' created successfully!\n"
     ]
    },
    {
     "name": "stderr",
     "output_type": "stream",
     "text": [
      "Warning: failed to launch javaldx - java may not function correctly\n"
     ]
    },
    {
     "name": "stdout",
     "output_type": "stream",
     "text": [
      "convert /home/kubis/Pulpit/BookScanner/BookScanner/data/documents/IMG_175.ods as a Calc document -> /home/kubis/Pulpit/BookScanner/BookScanner/data/documents/IMG_175.pdf using filter : calc_pdf_Export\n",
      "PDF '../data/documents/IMG_175.pdf' created successfully!\n",
      "All pages of 'IMG_175.pdf' converted to JPEG successfully!\n",
      "Spreadsheet 'IMG_176.ods' created successfully!\n"
     ]
    },
    {
     "name": "stderr",
     "output_type": "stream",
     "text": [
      "Warning: failed to launch javaldx - java may not function correctly\n"
     ]
    },
    {
     "name": "stdout",
     "output_type": "stream",
     "text": [
      "convert /home/kubis/Pulpit/BookScanner/BookScanner/data/documents/IMG_176.ods as a Calc document -> /home/kubis/Pulpit/BookScanner/BookScanner/data/documents/IMG_176.pdf using filter : calc_pdf_Export\n",
      "PDF '../data/documents/IMG_176.pdf' created successfully!\n",
      "All pages of 'IMG_176.pdf' converted to JPEG successfully!\n",
      "Spreadsheet 'IMG_177.ods' created successfully!\n"
     ]
    },
    {
     "name": "stderr",
     "output_type": "stream",
     "text": [
      "Warning: failed to launch javaldx - java may not function correctly\n"
     ]
    },
    {
     "name": "stdout",
     "output_type": "stream",
     "text": [
      "convert /home/kubis/Pulpit/BookScanner/BookScanner/data/documents/IMG_177.ods as a Calc document -> /home/kubis/Pulpit/BookScanner/BookScanner/data/documents/IMG_177.pdf using filter : calc_pdf_Export\n",
      "PDF '../data/documents/IMG_177.pdf' created successfully!\n",
      "All pages of 'IMG_177.pdf' converted to JPEG successfully!\n",
      "Spreadsheet 'IMG_178.ods' created successfully!\n"
     ]
    },
    {
     "name": "stderr",
     "output_type": "stream",
     "text": [
      "Warning: failed to launch javaldx - java may not function correctly\n"
     ]
    },
    {
     "name": "stdout",
     "output_type": "stream",
     "text": [
      "convert /home/kubis/Pulpit/BookScanner/BookScanner/data/documents/IMG_178.ods as a Calc document -> /home/kubis/Pulpit/BookScanner/BookScanner/data/documents/IMG_178.pdf using filter : calc_pdf_Export\n",
      "PDF '../data/documents/IMG_178.pdf' created successfully!\n",
      "All pages of 'IMG_178.pdf' converted to JPEG successfully!\n",
      "Spreadsheet 'IMG_179.ods' created successfully!\n"
     ]
    },
    {
     "name": "stderr",
     "output_type": "stream",
     "text": [
      "Warning: failed to launch javaldx - java may not function correctly\n"
     ]
    },
    {
     "name": "stdout",
     "output_type": "stream",
     "text": [
      "convert /home/kubis/Pulpit/BookScanner/BookScanner/data/documents/IMG_179.ods as a Calc document -> /home/kubis/Pulpit/BookScanner/BookScanner/data/documents/IMG_179.pdf using filter : calc_pdf_Export\n",
      "PDF '../data/documents/IMG_179.pdf' created successfully!\n",
      "All pages of 'IMG_179.pdf' converted to JPEG successfully!\n",
      "Spreadsheet 'IMG_180.ods' created successfully!\n"
     ]
    },
    {
     "name": "stderr",
     "output_type": "stream",
     "text": [
      "Warning: failed to launch javaldx - java may not function correctly\n"
     ]
    },
    {
     "name": "stdout",
     "output_type": "stream",
     "text": [
      "convert /home/kubis/Pulpit/BookScanner/BookScanner/data/documents/IMG_180.ods as a Calc document -> /home/kubis/Pulpit/BookScanner/BookScanner/data/documents/IMG_180.pdf using filter : calc_pdf_Export\n",
      "PDF '../data/documents/IMG_180.pdf' created successfully!\n",
      "All pages of 'IMG_180.pdf' converted to JPEG successfully!\n",
      "Spreadsheet 'IMG_181.ods' created successfully!\n"
     ]
    },
    {
     "name": "stderr",
     "output_type": "stream",
     "text": [
      "Warning: failed to launch javaldx - java may not function correctly\n"
     ]
    },
    {
     "name": "stdout",
     "output_type": "stream",
     "text": [
      "convert /home/kubis/Pulpit/BookScanner/BookScanner/data/documents/IMG_181.ods as a Calc document -> /home/kubis/Pulpit/BookScanner/BookScanner/data/documents/IMG_181.pdf using filter : calc_pdf_Export\n",
      "PDF '../data/documents/IMG_181.pdf' created successfully!\n",
      "All pages of 'IMG_181.pdf' converted to JPEG successfully!\n",
      "Spreadsheet 'IMG_182.ods' created successfully!\n"
     ]
    },
    {
     "name": "stderr",
     "output_type": "stream",
     "text": [
      "Warning: failed to launch javaldx - java may not function correctly\n"
     ]
    },
    {
     "name": "stdout",
     "output_type": "stream",
     "text": [
      "convert /home/kubis/Pulpit/BookScanner/BookScanner/data/documents/IMG_182.ods as a Calc document -> /home/kubis/Pulpit/BookScanner/BookScanner/data/documents/IMG_182.pdf using filter : calc_pdf_Export\n",
      "PDF '../data/documents/IMG_182.pdf' created successfully!\n",
      "All pages of 'IMG_182.pdf' converted to JPEG successfully!\n",
      "Spreadsheet 'IMG_183.ods' created successfully!\n"
     ]
    },
    {
     "name": "stderr",
     "output_type": "stream",
     "text": [
      "Warning: failed to launch javaldx - java may not function correctly\n"
     ]
    },
    {
     "name": "stdout",
     "output_type": "stream",
     "text": [
      "convert /home/kubis/Pulpit/BookScanner/BookScanner/data/documents/IMG_183.ods as a Calc document -> /home/kubis/Pulpit/BookScanner/BookScanner/data/documents/IMG_183.pdf using filter : calc_pdf_Export\n",
      "PDF '../data/documents/IMG_183.pdf' created successfully!\n",
      "All pages of 'IMG_183.pdf' converted to JPEG successfully!\n",
      "Spreadsheet 'IMG_184.ods' created successfully!\n"
     ]
    },
    {
     "name": "stderr",
     "output_type": "stream",
     "text": [
      "Warning: failed to launch javaldx - java may not function correctly\n"
     ]
    },
    {
     "name": "stdout",
     "output_type": "stream",
     "text": [
      "convert /home/kubis/Pulpit/BookScanner/BookScanner/data/documents/IMG_184.ods as a Calc document -> /home/kubis/Pulpit/BookScanner/BookScanner/data/documents/IMG_184.pdf using filter : calc_pdf_Export\n",
      "PDF '../data/documents/IMG_184.pdf' created successfully!\n",
      "All pages of 'IMG_184.pdf' converted to JPEG successfully!\n",
      "Spreadsheet 'IMG_185.ods' created successfully!\n"
     ]
    },
    {
     "name": "stderr",
     "output_type": "stream",
     "text": [
      "Warning: failed to launch javaldx - java may not function correctly\n"
     ]
    },
    {
     "name": "stdout",
     "output_type": "stream",
     "text": [
      "convert /home/kubis/Pulpit/BookScanner/BookScanner/data/documents/IMG_185.ods as a Calc document -> /home/kubis/Pulpit/BookScanner/BookScanner/data/documents/IMG_185.pdf using filter : calc_pdf_Export\n",
      "PDF '../data/documents/IMG_185.pdf' created successfully!\n",
      "All pages of 'IMG_185.pdf' converted to JPEG successfully!\n",
      "Spreadsheet 'IMG_186.ods' created successfully!\n"
     ]
    },
    {
     "name": "stderr",
     "output_type": "stream",
     "text": [
      "Warning: failed to launch javaldx - java may not function correctly\n"
     ]
    },
    {
     "name": "stdout",
     "output_type": "stream",
     "text": [
      "convert /home/kubis/Pulpit/BookScanner/BookScanner/data/documents/IMG_186.ods as a Calc document -> /home/kubis/Pulpit/BookScanner/BookScanner/data/documents/IMG_186.pdf using filter : calc_pdf_Export\n",
      "PDF '../data/documents/IMG_186.pdf' created successfully!\n",
      "All pages of 'IMG_186.pdf' converted to JPEG successfully!\n",
      "Spreadsheet 'IMG_187.ods' created successfully!\n"
     ]
    },
    {
     "name": "stderr",
     "output_type": "stream",
     "text": [
      "Warning: failed to launch javaldx - java may not function correctly\n"
     ]
    },
    {
     "name": "stdout",
     "output_type": "stream",
     "text": [
      "convert /home/kubis/Pulpit/BookScanner/BookScanner/data/documents/IMG_187.ods as a Calc document -> /home/kubis/Pulpit/BookScanner/BookScanner/data/documents/IMG_187.pdf using filter : calc_pdf_Export\n",
      "PDF '../data/documents/IMG_187.pdf' created successfully!\n",
      "All pages of 'IMG_187.pdf' converted to JPEG successfully!\n",
      "Spreadsheet 'IMG_188.ods' created successfully!\n"
     ]
    },
    {
     "name": "stderr",
     "output_type": "stream",
     "text": [
      "Warning: failed to launch javaldx - java may not function correctly\n"
     ]
    },
    {
     "name": "stdout",
     "output_type": "stream",
     "text": [
      "convert /home/kubis/Pulpit/BookScanner/BookScanner/data/documents/IMG_188.ods as a Calc document -> /home/kubis/Pulpit/BookScanner/BookScanner/data/documents/IMG_188.pdf using filter : calc_pdf_Export\n",
      "PDF '../data/documents/IMG_188.pdf' created successfully!\n",
      "All pages of 'IMG_188.pdf' converted to JPEG successfully!\n",
      "Spreadsheet 'IMG_189.ods' created successfully!\n"
     ]
    },
    {
     "name": "stderr",
     "output_type": "stream",
     "text": [
      "Warning: failed to launch javaldx - java may not function correctly\n"
     ]
    },
    {
     "name": "stdout",
     "output_type": "stream",
     "text": [
      "convert /home/kubis/Pulpit/BookScanner/BookScanner/data/documents/IMG_189.ods as a Calc document -> /home/kubis/Pulpit/BookScanner/BookScanner/data/documents/IMG_189.pdf using filter : calc_pdf_Export\n",
      "PDF '../data/documents/IMG_189.pdf' created successfully!\n",
      "All pages of 'IMG_189.pdf' converted to JPEG successfully!\n",
      "Spreadsheet 'IMG_190.ods' created successfully!\n"
     ]
    },
    {
     "name": "stderr",
     "output_type": "stream",
     "text": [
      "Warning: failed to launch javaldx - java may not function correctly\n"
     ]
    },
    {
     "name": "stdout",
     "output_type": "stream",
     "text": [
      "convert /home/kubis/Pulpit/BookScanner/BookScanner/data/documents/IMG_190.ods as a Calc document -> /home/kubis/Pulpit/BookScanner/BookScanner/data/documents/IMG_190.pdf using filter : calc_pdf_Export\n",
      "PDF '../data/documents/IMG_190.pdf' created successfully!\n",
      "All pages of 'IMG_190.pdf' converted to JPEG successfully!\n",
      "Spreadsheet 'IMG_191.ods' created successfully!\n"
     ]
    },
    {
     "name": "stderr",
     "output_type": "stream",
     "text": [
      "Warning: failed to launch javaldx - java may not function correctly\n"
     ]
    },
    {
     "name": "stdout",
     "output_type": "stream",
     "text": [
      "convert /home/kubis/Pulpit/BookScanner/BookScanner/data/documents/IMG_191.ods as a Calc document -> /home/kubis/Pulpit/BookScanner/BookScanner/data/documents/IMG_191.pdf using filter : calc_pdf_Export\n",
      "PDF '../data/documents/IMG_191.pdf' created successfully!\n",
      "All pages of 'IMG_191.pdf' converted to JPEG successfully!\n",
      "Spreadsheet 'IMG_192.ods' created successfully!\n"
     ]
    },
    {
     "name": "stderr",
     "output_type": "stream",
     "text": [
      "Warning: failed to launch javaldx - java may not function correctly\n"
     ]
    },
    {
     "name": "stdout",
     "output_type": "stream",
     "text": [
      "convert /home/kubis/Pulpit/BookScanner/BookScanner/data/documents/IMG_192.ods as a Calc document -> /home/kubis/Pulpit/BookScanner/BookScanner/data/documents/IMG_192.pdf using filter : calc_pdf_Export\n",
      "PDF '../data/documents/IMG_192.pdf' created successfully!\n",
      "All pages of 'IMG_192.pdf' converted to JPEG successfully!\n",
      "Spreadsheet 'IMG_193.ods' created successfully!\n"
     ]
    },
    {
     "name": "stderr",
     "output_type": "stream",
     "text": [
      "Warning: failed to launch javaldx - java may not function correctly\n"
     ]
    },
    {
     "name": "stdout",
     "output_type": "stream",
     "text": [
      "convert /home/kubis/Pulpit/BookScanner/BookScanner/data/documents/IMG_193.ods as a Calc document -> /home/kubis/Pulpit/BookScanner/BookScanner/data/documents/IMG_193.pdf using filter : calc_pdf_Export\n",
      "PDF '../data/documents/IMG_193.pdf' created successfully!\n",
      "All pages of 'IMG_193.pdf' converted to JPEG successfully!\n",
      "Spreadsheet 'IMG_194.ods' created successfully!\n"
     ]
    },
    {
     "name": "stderr",
     "output_type": "stream",
     "text": [
      "Warning: failed to launch javaldx - java may not function correctly\n"
     ]
    },
    {
     "name": "stdout",
     "output_type": "stream",
     "text": [
      "convert /home/kubis/Pulpit/BookScanner/BookScanner/data/documents/IMG_194.ods as a Calc document -> /home/kubis/Pulpit/BookScanner/BookScanner/data/documents/IMG_194.pdf using filter : calc_pdf_Export\n",
      "PDF '../data/documents/IMG_194.pdf' created successfully!\n",
      "All pages of 'IMG_194.pdf' converted to JPEG successfully!\n",
      "Spreadsheet 'IMG_195.ods' created successfully!\n"
     ]
    },
    {
     "name": "stderr",
     "output_type": "stream",
     "text": [
      "Warning: failed to launch javaldx - java may not function correctly\n"
     ]
    },
    {
     "name": "stdout",
     "output_type": "stream",
     "text": [
      "convert /home/kubis/Pulpit/BookScanner/BookScanner/data/documents/IMG_195.ods as a Calc document -> /home/kubis/Pulpit/BookScanner/BookScanner/data/documents/IMG_195.pdf using filter : calc_pdf_Export\n",
      "PDF '../data/documents/IMG_195.pdf' created successfully!\n",
      "All pages of 'IMG_195.pdf' converted to JPEG successfully!\n",
      "Spreadsheet 'IMG_196.ods' created successfully!\n"
     ]
    },
    {
     "name": "stderr",
     "output_type": "stream",
     "text": [
      "Warning: failed to launch javaldx - java may not function correctly\n"
     ]
    },
    {
     "name": "stdout",
     "output_type": "stream",
     "text": [
      "convert /home/kubis/Pulpit/BookScanner/BookScanner/data/documents/IMG_196.ods as a Calc document -> /home/kubis/Pulpit/BookScanner/BookScanner/data/documents/IMG_196.pdf using filter : calc_pdf_Export\n",
      "PDF '../data/documents/IMG_196.pdf' created successfully!\n",
      "All pages of 'IMG_196.pdf' converted to JPEG successfully!\n",
      "Spreadsheet 'IMG_197.ods' created successfully!\n"
     ]
    },
    {
     "name": "stderr",
     "output_type": "stream",
     "text": [
      "Warning: failed to launch javaldx - java may not function correctly\n"
     ]
    },
    {
     "name": "stdout",
     "output_type": "stream",
     "text": [
      "convert /home/kubis/Pulpit/BookScanner/BookScanner/data/documents/IMG_197.ods as a Calc document -> /home/kubis/Pulpit/BookScanner/BookScanner/data/documents/IMG_197.pdf using filter : calc_pdf_Export\n",
      "PDF '../data/documents/IMG_197.pdf' created successfully!\n",
      "All pages of 'IMG_197.pdf' converted to JPEG successfully!\n",
      "Spreadsheet 'IMG_198.ods' created successfully!\n"
     ]
    },
    {
     "name": "stderr",
     "output_type": "stream",
     "text": [
      "Warning: failed to launch javaldx - java may not function correctly\n"
     ]
    },
    {
     "name": "stdout",
     "output_type": "stream",
     "text": [
      "convert /home/kubis/Pulpit/BookScanner/BookScanner/data/documents/IMG_198.ods as a Calc document -> /home/kubis/Pulpit/BookScanner/BookScanner/data/documents/IMG_198.pdf using filter : calc_pdf_Export\n",
      "PDF '../data/documents/IMG_198.pdf' created successfully!\n",
      "All pages of 'IMG_198.pdf' converted to JPEG successfully!\n",
      "Spreadsheet 'IMG_199.ods' created successfully!\n"
     ]
    },
    {
     "name": "stderr",
     "output_type": "stream",
     "text": [
      "Warning: failed to launch javaldx - java may not function correctly\n"
     ]
    },
    {
     "name": "stdout",
     "output_type": "stream",
     "text": [
      "convert /home/kubis/Pulpit/BookScanner/BookScanner/data/documents/IMG_199.ods as a Calc document -> /home/kubis/Pulpit/BookScanner/BookScanner/data/documents/IMG_199.pdf using filter : calc_pdf_Export\n",
      "PDF '../data/documents/IMG_199.pdf' created successfully!\n",
      "All pages of 'IMG_199.pdf' converted to JPEG successfully!\n",
      "Spreadsheet 'IMG_200.ods' created successfully!\n"
     ]
    },
    {
     "name": "stderr",
     "output_type": "stream",
     "text": [
      "Warning: failed to launch javaldx - java may not function correctly\n"
     ]
    },
    {
     "name": "stdout",
     "output_type": "stream",
     "text": [
      "convert /home/kubis/Pulpit/BookScanner/BookScanner/data/documents/IMG_200.ods as a Calc document -> /home/kubis/Pulpit/BookScanner/BookScanner/data/documents/IMG_200.pdf using filter : calc_pdf_Export\n",
      "PDF '../data/documents/IMG_200.pdf' created successfully!\n",
      "All pages of 'IMG_200.pdf' converted to JPEG successfully!\n",
      "Spreadsheet 'IMG_201.ods' created successfully!\n"
     ]
    },
    {
     "name": "stderr",
     "output_type": "stream",
     "text": [
      "Warning: failed to launch javaldx - java may not function correctly\n"
     ]
    },
    {
     "name": "stdout",
     "output_type": "stream",
     "text": [
      "convert /home/kubis/Pulpit/BookScanner/BookScanner/data/documents/IMG_201.ods as a Calc document -> /home/kubis/Pulpit/BookScanner/BookScanner/data/documents/IMG_201.pdf using filter : calc_pdf_Export\n",
      "PDF '../data/documents/IMG_201.pdf' created successfully!\n",
      "All pages of 'IMG_201.pdf' converted to JPEG successfully!\n",
      "Spreadsheet 'IMG_202.ods' created successfully!\n"
     ]
    },
    {
     "name": "stderr",
     "output_type": "stream",
     "text": [
      "Warning: failed to launch javaldx - java may not function correctly\n"
     ]
    },
    {
     "name": "stdout",
     "output_type": "stream",
     "text": [
      "convert /home/kubis/Pulpit/BookScanner/BookScanner/data/documents/IMG_202.ods as a Calc document -> /home/kubis/Pulpit/BookScanner/BookScanner/data/documents/IMG_202.pdf using filter : calc_pdf_Export\n",
      "PDF '../data/documents/IMG_202.pdf' created successfully!\n",
      "All pages of 'IMG_202.pdf' converted to JPEG successfully!\n",
      "Spreadsheet 'IMG_203.ods' created successfully!\n"
     ]
    },
    {
     "name": "stderr",
     "output_type": "stream",
     "text": [
      "Warning: failed to launch javaldx - java may not function correctly\n"
     ]
    },
    {
     "name": "stdout",
     "output_type": "stream",
     "text": [
      "convert /home/kubis/Pulpit/BookScanner/BookScanner/data/documents/IMG_203.ods as a Calc document -> /home/kubis/Pulpit/BookScanner/BookScanner/data/documents/IMG_203.pdf using filter : calc_pdf_Export\n",
      "PDF '../data/documents/IMG_203.pdf' created successfully!\n",
      "All pages of 'IMG_203.pdf' converted to JPEG successfully!\n",
      "Spreadsheet 'IMG_204.ods' created successfully!\n"
     ]
    },
    {
     "name": "stderr",
     "output_type": "stream",
     "text": [
      "Warning: failed to launch javaldx - java may not function correctly\n"
     ]
    },
    {
     "name": "stdout",
     "output_type": "stream",
     "text": [
      "convert /home/kubis/Pulpit/BookScanner/BookScanner/data/documents/IMG_204.ods as a Calc document -> /home/kubis/Pulpit/BookScanner/BookScanner/data/documents/IMG_204.pdf using filter : calc_pdf_Export\n",
      "PDF '../data/documents/IMG_204.pdf' created successfully!\n",
      "All pages of 'IMG_204.pdf' converted to JPEG successfully!\n",
      "Spreadsheet 'IMG_205.ods' created successfully!\n"
     ]
    },
    {
     "name": "stderr",
     "output_type": "stream",
     "text": [
      "Warning: failed to launch javaldx - java may not function correctly\n"
     ]
    },
    {
     "name": "stdout",
     "output_type": "stream",
     "text": [
      "convert /home/kubis/Pulpit/BookScanner/BookScanner/data/documents/IMG_205.ods as a Calc document -> /home/kubis/Pulpit/BookScanner/BookScanner/data/documents/IMG_205.pdf using filter : calc_pdf_Export\n",
      "PDF '../data/documents/IMG_205.pdf' created successfully!\n",
      "All pages of 'IMG_205.pdf' converted to JPEG successfully!\n",
      "Spreadsheet 'IMG_206.ods' created successfully!\n"
     ]
    },
    {
     "name": "stderr",
     "output_type": "stream",
     "text": [
      "Warning: failed to launch javaldx - java may not function correctly\n"
     ]
    },
    {
     "name": "stdout",
     "output_type": "stream",
     "text": [
      "convert /home/kubis/Pulpit/BookScanner/BookScanner/data/documents/IMG_206.ods as a Calc document -> /home/kubis/Pulpit/BookScanner/BookScanner/data/documents/IMG_206.pdf using filter : calc_pdf_Export\n",
      "PDF '../data/documents/IMG_206.pdf' created successfully!\n",
      "All pages of 'IMG_206.pdf' converted to JPEG successfully!\n",
      "Spreadsheet 'IMG_207.ods' created successfully!\n"
     ]
    },
    {
     "name": "stderr",
     "output_type": "stream",
     "text": [
      "Warning: failed to launch javaldx - java may not function correctly\n"
     ]
    },
    {
     "name": "stdout",
     "output_type": "stream",
     "text": [
      "convert /home/kubis/Pulpit/BookScanner/BookScanner/data/documents/IMG_207.ods as a Calc document -> /home/kubis/Pulpit/BookScanner/BookScanner/data/documents/IMG_207.pdf using filter : calc_pdf_Export\n",
      "PDF '../data/documents/IMG_207.pdf' created successfully!\n",
      "All pages of 'IMG_207.pdf' converted to JPEG successfully!\n",
      "Spreadsheet 'IMG_208.ods' created successfully!\n"
     ]
    },
    {
     "name": "stderr",
     "output_type": "stream",
     "text": [
      "Warning: failed to launch javaldx - java may not function correctly\n"
     ]
    },
    {
     "name": "stdout",
     "output_type": "stream",
     "text": [
      "convert /home/kubis/Pulpit/BookScanner/BookScanner/data/documents/IMG_208.ods as a Calc document -> /home/kubis/Pulpit/BookScanner/BookScanner/data/documents/IMG_208.pdf using filter : calc_pdf_Export\n",
      "PDF '../data/documents/IMG_208.pdf' created successfully!\n",
      "All pages of 'IMG_208.pdf' converted to JPEG successfully!\n",
      "Spreadsheet 'IMG_209.ods' created successfully!\n"
     ]
    },
    {
     "name": "stderr",
     "output_type": "stream",
     "text": [
      "Warning: failed to launch javaldx - java may not function correctly\n"
     ]
    },
    {
     "name": "stdout",
     "output_type": "stream",
     "text": [
      "convert /home/kubis/Pulpit/BookScanner/BookScanner/data/documents/IMG_209.ods as a Calc document -> /home/kubis/Pulpit/BookScanner/BookScanner/data/documents/IMG_209.pdf using filter : calc_pdf_Export\n",
      "PDF '../data/documents/IMG_209.pdf' created successfully!\n",
      "All pages of 'IMG_209.pdf' converted to JPEG successfully!\n",
      "Spreadsheet 'IMG_210.ods' created successfully!\n"
     ]
    },
    {
     "name": "stderr",
     "output_type": "stream",
     "text": [
      "Warning: failed to launch javaldx - java may not function correctly\n"
     ]
    },
    {
     "name": "stdout",
     "output_type": "stream",
     "text": [
      "convert /home/kubis/Pulpit/BookScanner/BookScanner/data/documents/IMG_210.ods as a Calc document -> /home/kubis/Pulpit/BookScanner/BookScanner/data/documents/IMG_210.pdf using filter : calc_pdf_Export\n",
      "PDF '../data/documents/IMG_210.pdf' created successfully!\n",
      "All pages of 'IMG_210.pdf' converted to JPEG successfully!\n",
      "Spreadsheet 'IMG_211.ods' created successfully!\n"
     ]
    },
    {
     "name": "stderr",
     "output_type": "stream",
     "text": [
      "Warning: failed to launch javaldx - java may not function correctly\n"
     ]
    },
    {
     "name": "stdout",
     "output_type": "stream",
     "text": [
      "convert /home/kubis/Pulpit/BookScanner/BookScanner/data/documents/IMG_211.ods as a Calc document -> /home/kubis/Pulpit/BookScanner/BookScanner/data/documents/IMG_211.pdf using filter : calc_pdf_Export\n",
      "PDF '../data/documents/IMG_211.pdf' created successfully!\n",
      "All pages of 'IMG_211.pdf' converted to JPEG successfully!\n",
      "Spreadsheet 'IMG_212.ods' created successfully!\n"
     ]
    },
    {
     "name": "stderr",
     "output_type": "stream",
     "text": [
      "Warning: failed to launch javaldx - java may not function correctly\n"
     ]
    },
    {
     "name": "stdout",
     "output_type": "stream",
     "text": [
      "convert /home/kubis/Pulpit/BookScanner/BookScanner/data/documents/IMG_212.ods as a Calc document -> /home/kubis/Pulpit/BookScanner/BookScanner/data/documents/IMG_212.pdf using filter : calc_pdf_Export\n",
      "PDF '../data/documents/IMG_212.pdf' created successfully!\n",
      "All pages of 'IMG_212.pdf' converted to JPEG successfully!\n",
      "Spreadsheet 'IMG_213.ods' created successfully!\n"
     ]
    },
    {
     "name": "stderr",
     "output_type": "stream",
     "text": [
      "Warning: failed to launch javaldx - java may not function correctly\n"
     ]
    },
    {
     "name": "stdout",
     "output_type": "stream",
     "text": [
      "convert /home/kubis/Pulpit/BookScanner/BookScanner/data/documents/IMG_213.ods as a Calc document -> /home/kubis/Pulpit/BookScanner/BookScanner/data/documents/IMG_213.pdf using filter : calc_pdf_Export\n",
      "PDF '../data/documents/IMG_213.pdf' created successfully!\n",
      "All pages of 'IMG_213.pdf' converted to JPEG successfully!\n",
      "Spreadsheet 'IMG_214.ods' created successfully!\n"
     ]
    },
    {
     "name": "stderr",
     "output_type": "stream",
     "text": [
      "Warning: failed to launch javaldx - java may not function correctly\n"
     ]
    },
    {
     "name": "stdout",
     "output_type": "stream",
     "text": [
      "convert /home/kubis/Pulpit/BookScanner/BookScanner/data/documents/IMG_214.ods as a Calc document -> /home/kubis/Pulpit/BookScanner/BookScanner/data/documents/IMG_214.pdf using filter : calc_pdf_Export\n",
      "PDF '../data/documents/IMG_214.pdf' created successfully!\n",
      "All pages of 'IMG_214.pdf' converted to JPEG successfully!\n",
      "Spreadsheet 'IMG_215.ods' created successfully!\n"
     ]
    },
    {
     "name": "stderr",
     "output_type": "stream",
     "text": [
      "Warning: failed to launch javaldx - java may not function correctly\n"
     ]
    },
    {
     "name": "stdout",
     "output_type": "stream",
     "text": [
      "convert /home/kubis/Pulpit/BookScanner/BookScanner/data/documents/IMG_215.ods as a Calc document -> /home/kubis/Pulpit/BookScanner/BookScanner/data/documents/IMG_215.pdf using filter : calc_pdf_Export\n",
      "PDF '../data/documents/IMG_215.pdf' created successfully!\n",
      "All pages of 'IMG_215.pdf' converted to JPEG successfully!\n",
      "Spreadsheet 'IMG_216.ods' created successfully!\n"
     ]
    },
    {
     "name": "stderr",
     "output_type": "stream",
     "text": [
      "Warning: failed to launch javaldx - java may not function correctly\n"
     ]
    },
    {
     "name": "stdout",
     "output_type": "stream",
     "text": [
      "convert /home/kubis/Pulpit/BookScanner/BookScanner/data/documents/IMG_216.ods as a Calc document -> /home/kubis/Pulpit/BookScanner/BookScanner/data/documents/IMG_216.pdf using filter : calc_pdf_Export\n",
      "PDF '../data/documents/IMG_216.pdf' created successfully!\n",
      "All pages of 'IMG_216.pdf' converted to JPEG successfully!\n",
      "Spreadsheet 'IMG_217.ods' created successfully!\n"
     ]
    },
    {
     "name": "stderr",
     "output_type": "stream",
     "text": [
      "Warning: failed to launch javaldx - java may not function correctly\n"
     ]
    },
    {
     "name": "stdout",
     "output_type": "stream",
     "text": [
      "convert /home/kubis/Pulpit/BookScanner/BookScanner/data/documents/IMG_217.ods as a Calc document -> /home/kubis/Pulpit/BookScanner/BookScanner/data/documents/IMG_217.pdf using filter : calc_pdf_Export\n",
      "PDF '../data/documents/IMG_217.pdf' created successfully!\n",
      "All pages of 'IMG_217.pdf' converted to JPEG successfully!\n",
      "Spreadsheet 'IMG_218.ods' created successfully!\n"
     ]
    },
    {
     "name": "stderr",
     "output_type": "stream",
     "text": [
      "Warning: failed to launch javaldx - java may not function correctly\n"
     ]
    },
    {
     "name": "stdout",
     "output_type": "stream",
     "text": [
      "convert /home/kubis/Pulpit/BookScanner/BookScanner/data/documents/IMG_218.ods as a Calc document -> /home/kubis/Pulpit/BookScanner/BookScanner/data/documents/IMG_218.pdf using filter : calc_pdf_Export\n",
      "PDF '../data/documents/IMG_218.pdf' created successfully!\n",
      "All pages of 'IMG_218.pdf' converted to JPEG successfully!\n",
      "Spreadsheet 'IMG_219.ods' created successfully!\n"
     ]
    },
    {
     "name": "stderr",
     "output_type": "stream",
     "text": [
      "Warning: failed to launch javaldx - java may not function correctly\n"
     ]
    },
    {
     "name": "stdout",
     "output_type": "stream",
     "text": [
      "convert /home/kubis/Pulpit/BookScanner/BookScanner/data/documents/IMG_219.ods as a Calc document -> /home/kubis/Pulpit/BookScanner/BookScanner/data/documents/IMG_219.pdf using filter : calc_pdf_Export\n",
      "PDF '../data/documents/IMG_219.pdf' created successfully!\n",
      "All pages of 'IMG_219.pdf' converted to JPEG successfully!\n",
      "Spreadsheet 'IMG_220.ods' created successfully!\n"
     ]
    },
    {
     "name": "stderr",
     "output_type": "stream",
     "text": [
      "Warning: failed to launch javaldx - java may not function correctly\n"
     ]
    },
    {
     "name": "stdout",
     "output_type": "stream",
     "text": [
      "convert /home/kubis/Pulpit/BookScanner/BookScanner/data/documents/IMG_220.ods as a Calc document -> /home/kubis/Pulpit/BookScanner/BookScanner/data/documents/IMG_220.pdf using filter : calc_pdf_Export\n",
      "PDF '../data/documents/IMG_220.pdf' created successfully!\n",
      "All pages of 'IMG_220.pdf' converted to JPEG successfully!\n",
      "Spreadsheet 'IMG_221.ods' created successfully!\n"
     ]
    },
    {
     "name": "stderr",
     "output_type": "stream",
     "text": [
      "Warning: failed to launch javaldx - java may not function correctly\n"
     ]
    },
    {
     "name": "stdout",
     "output_type": "stream",
     "text": [
      "convert /home/kubis/Pulpit/BookScanner/BookScanner/data/documents/IMG_221.ods as a Calc document -> /home/kubis/Pulpit/BookScanner/BookScanner/data/documents/IMG_221.pdf using filter : calc_pdf_Export\n",
      "PDF '../data/documents/IMG_221.pdf' created successfully!\n",
      "All pages of 'IMG_221.pdf' converted to JPEG successfully!\n",
      "Spreadsheet 'IMG_222.ods' created successfully!\n"
     ]
    },
    {
     "name": "stderr",
     "output_type": "stream",
     "text": [
      "Warning: failed to launch javaldx - java may not function correctly\n"
     ]
    },
    {
     "name": "stdout",
     "output_type": "stream",
     "text": [
      "convert /home/kubis/Pulpit/BookScanner/BookScanner/data/documents/IMG_222.ods as a Calc document -> /home/kubis/Pulpit/BookScanner/BookScanner/data/documents/IMG_222.pdf using filter : calc_pdf_Export\n",
      "PDF '../data/documents/IMG_222.pdf' created successfully!\n",
      "All pages of 'IMG_222.pdf' converted to JPEG successfully!\n",
      "Spreadsheet 'IMG_223.ods' created successfully!\n"
     ]
    },
    {
     "name": "stderr",
     "output_type": "stream",
     "text": [
      "Warning: failed to launch javaldx - java may not function correctly\n"
     ]
    },
    {
     "name": "stdout",
     "output_type": "stream",
     "text": [
      "convert /home/kubis/Pulpit/BookScanner/BookScanner/data/documents/IMG_223.ods as a Calc document -> /home/kubis/Pulpit/BookScanner/BookScanner/data/documents/IMG_223.pdf using filter : calc_pdf_Export\n",
      "PDF '../data/documents/IMG_223.pdf' created successfully!\n",
      "All pages of 'IMG_223.pdf' converted to JPEG successfully!\n",
      "Spreadsheet 'IMG_224.ods' created successfully!\n"
     ]
    },
    {
     "name": "stderr",
     "output_type": "stream",
     "text": [
      "Warning: failed to launch javaldx - java may not function correctly\n"
     ]
    },
    {
     "name": "stdout",
     "output_type": "stream",
     "text": [
      "convert /home/kubis/Pulpit/BookScanner/BookScanner/data/documents/IMG_224.ods as a Calc document -> /home/kubis/Pulpit/BookScanner/BookScanner/data/documents/IMG_224.pdf using filter : calc_pdf_Export\n",
      "PDF '../data/documents/IMG_224.pdf' created successfully!\n",
      "All pages of 'IMG_224.pdf' converted to JPEG successfully!\n",
      "Spreadsheet 'IMG_225.ods' created successfully!\n"
     ]
    },
    {
     "name": "stderr",
     "output_type": "stream",
     "text": [
      "Warning: failed to launch javaldx - java may not function correctly\n"
     ]
    },
    {
     "name": "stdout",
     "output_type": "stream",
     "text": [
      "convert /home/kubis/Pulpit/BookScanner/BookScanner/data/documents/IMG_225.ods as a Calc document -> /home/kubis/Pulpit/BookScanner/BookScanner/data/documents/IMG_225.pdf using filter : calc_pdf_Export\n",
      "PDF '../data/documents/IMG_225.pdf' created successfully!\n",
      "All pages of 'IMG_225.pdf' converted to JPEG successfully!\n",
      "Spreadsheet 'IMG_226.ods' created successfully!\n"
     ]
    },
    {
     "name": "stderr",
     "output_type": "stream",
     "text": [
      "Warning: failed to launch javaldx - java may not function correctly\n"
     ]
    },
    {
     "name": "stdout",
     "output_type": "stream",
     "text": [
      "convert /home/kubis/Pulpit/BookScanner/BookScanner/data/documents/IMG_226.ods as a Calc document -> /home/kubis/Pulpit/BookScanner/BookScanner/data/documents/IMG_226.pdf using filter : calc_pdf_Export\n",
      "PDF '../data/documents/IMG_226.pdf' created successfully!\n",
      "All pages of 'IMG_226.pdf' converted to JPEG successfully!\n",
      "Spreadsheet 'IMG_227.ods' created successfully!\n"
     ]
    },
    {
     "name": "stderr",
     "output_type": "stream",
     "text": [
      "Warning: failed to launch javaldx - java may not function correctly\n"
     ]
    },
    {
     "name": "stdout",
     "output_type": "stream",
     "text": [
      "convert /home/kubis/Pulpit/BookScanner/BookScanner/data/documents/IMG_227.ods as a Calc document -> /home/kubis/Pulpit/BookScanner/BookScanner/data/documents/IMG_227.pdf using filter : calc_pdf_Export\n",
      "PDF '../data/documents/IMG_227.pdf' created successfully!\n",
      "All pages of 'IMG_227.pdf' converted to JPEG successfully!\n",
      "Spreadsheet 'IMG_228.ods' created successfully!\n"
     ]
    },
    {
     "name": "stderr",
     "output_type": "stream",
     "text": [
      "Warning: failed to launch javaldx - java may not function correctly\n"
     ]
    },
    {
     "name": "stdout",
     "output_type": "stream",
     "text": [
      "convert /home/kubis/Pulpit/BookScanner/BookScanner/data/documents/IMG_228.ods as a Calc document -> /home/kubis/Pulpit/BookScanner/BookScanner/data/documents/IMG_228.pdf using filter : calc_pdf_Export\n",
      "PDF '../data/documents/IMG_228.pdf' created successfully!\n",
      "All pages of 'IMG_228.pdf' converted to JPEG successfully!\n",
      "Spreadsheet 'IMG_229.ods' created successfully!\n"
     ]
    },
    {
     "name": "stderr",
     "output_type": "stream",
     "text": [
      "Warning: failed to launch javaldx - java may not function correctly\n"
     ]
    },
    {
     "name": "stdout",
     "output_type": "stream",
     "text": [
      "convert /home/kubis/Pulpit/BookScanner/BookScanner/data/documents/IMG_229.ods as a Calc document -> /home/kubis/Pulpit/BookScanner/BookScanner/data/documents/IMG_229.pdf using filter : calc_pdf_Export\n",
      "PDF '../data/documents/IMG_229.pdf' created successfully!\n",
      "All pages of 'IMG_229.pdf' converted to JPEG successfully!\n",
      "Spreadsheet 'IMG_230.ods' created successfully!\n"
     ]
    },
    {
     "name": "stderr",
     "output_type": "stream",
     "text": [
      "Warning: failed to launch javaldx - java may not function correctly\n"
     ]
    },
    {
     "name": "stdout",
     "output_type": "stream",
     "text": [
      "convert /home/kubis/Pulpit/BookScanner/BookScanner/data/documents/IMG_230.ods as a Calc document -> /home/kubis/Pulpit/BookScanner/BookScanner/data/documents/IMG_230.pdf using filter : calc_pdf_Export\n",
      "PDF '../data/documents/IMG_230.pdf' created successfully!\n",
      "All pages of 'IMG_230.pdf' converted to JPEG successfully!\n",
      "Spreadsheet 'IMG_231.ods' created successfully!\n"
     ]
    },
    {
     "name": "stderr",
     "output_type": "stream",
     "text": [
      "Warning: failed to launch javaldx - java may not function correctly\n"
     ]
    },
    {
     "name": "stdout",
     "output_type": "stream",
     "text": [
      "convert /home/kubis/Pulpit/BookScanner/BookScanner/data/documents/IMG_231.ods as a Calc document -> /home/kubis/Pulpit/BookScanner/BookScanner/data/documents/IMG_231.pdf using filter : calc_pdf_Export\n",
      "PDF '../data/documents/IMG_231.pdf' created successfully!\n",
      "All pages of 'IMG_231.pdf' converted to JPEG successfully!\n",
      "Spreadsheet 'IMG_232.ods' created successfully!\n"
     ]
    },
    {
     "name": "stderr",
     "output_type": "stream",
     "text": [
      "Warning: failed to launch javaldx - java may not function correctly\n"
     ]
    },
    {
     "name": "stdout",
     "output_type": "stream",
     "text": [
      "convert /home/kubis/Pulpit/BookScanner/BookScanner/data/documents/IMG_232.ods as a Calc document -> /home/kubis/Pulpit/BookScanner/BookScanner/data/documents/IMG_232.pdf using filter : calc_pdf_Export\n",
      "PDF '../data/documents/IMG_232.pdf' created successfully!\n",
      "All pages of 'IMG_232.pdf' converted to JPEG successfully!\n",
      "Spreadsheet 'IMG_233.ods' created successfully!\n"
     ]
    },
    {
     "name": "stderr",
     "output_type": "stream",
     "text": [
      "Warning: failed to launch javaldx - java may not function correctly\n"
     ]
    },
    {
     "name": "stdout",
     "output_type": "stream",
     "text": [
      "convert /home/kubis/Pulpit/BookScanner/BookScanner/data/documents/IMG_233.ods as a Calc document -> /home/kubis/Pulpit/BookScanner/BookScanner/data/documents/IMG_233.pdf using filter : calc_pdf_Export\n",
      "PDF '../data/documents/IMG_233.pdf' created successfully!\n",
      "All pages of 'IMG_233.pdf' converted to JPEG successfully!\n",
      "Spreadsheet 'IMG_234.ods' created successfully!\n"
     ]
    },
    {
     "name": "stderr",
     "output_type": "stream",
     "text": [
      "Warning: failed to launch javaldx - java may not function correctly\n"
     ]
    },
    {
     "name": "stdout",
     "output_type": "stream",
     "text": [
      "convert /home/kubis/Pulpit/BookScanner/BookScanner/data/documents/IMG_234.ods as a Calc document -> /home/kubis/Pulpit/BookScanner/BookScanner/data/documents/IMG_234.pdf using filter : calc_pdf_Export\n",
      "PDF '../data/documents/IMG_234.pdf' created successfully!\n",
      "All pages of 'IMG_234.pdf' converted to JPEG successfully!\n",
      "Spreadsheet 'IMG_235.ods' created successfully!\n"
     ]
    },
    {
     "name": "stderr",
     "output_type": "stream",
     "text": [
      "Warning: failed to launch javaldx - java may not function correctly\n"
     ]
    },
    {
     "name": "stdout",
     "output_type": "stream",
     "text": [
      "convert /home/kubis/Pulpit/BookScanner/BookScanner/data/documents/IMG_235.ods as a Calc document -> /home/kubis/Pulpit/BookScanner/BookScanner/data/documents/IMG_235.pdf using filter : calc_pdf_Export\n",
      "PDF '../data/documents/IMG_235.pdf' created successfully!\n",
      "All pages of 'IMG_235.pdf' converted to JPEG successfully!\n",
      "Spreadsheet 'IMG_236.ods' created successfully!\n"
     ]
    },
    {
     "name": "stderr",
     "output_type": "stream",
     "text": [
      "Warning: failed to launch javaldx - java may not function correctly\n"
     ]
    },
    {
     "name": "stdout",
     "output_type": "stream",
     "text": [
      "convert /home/kubis/Pulpit/BookScanner/BookScanner/data/documents/IMG_236.ods as a Calc document -> /home/kubis/Pulpit/BookScanner/BookScanner/data/documents/IMG_236.pdf using filter : calc_pdf_Export\n",
      "PDF '../data/documents/IMG_236.pdf' created successfully!\n",
      "All pages of 'IMG_236.pdf' converted to JPEG successfully!\n",
      "Spreadsheet 'IMG_237.ods' created successfully!\n"
     ]
    },
    {
     "name": "stderr",
     "output_type": "stream",
     "text": [
      "Warning: failed to launch javaldx - java may not function correctly\n"
     ]
    },
    {
     "name": "stdout",
     "output_type": "stream",
     "text": [
      "convert /home/kubis/Pulpit/BookScanner/BookScanner/data/documents/IMG_237.ods as a Calc document -> /home/kubis/Pulpit/BookScanner/BookScanner/data/documents/IMG_237.pdf using filter : calc_pdf_Export\n",
      "PDF '../data/documents/IMG_237.pdf' created successfully!\n",
      "All pages of 'IMG_237.pdf' converted to JPEG successfully!\n",
      "Spreadsheet 'IMG_238.ods' created successfully!\n"
     ]
    },
    {
     "name": "stderr",
     "output_type": "stream",
     "text": [
      "Warning: failed to launch javaldx - java may not function correctly\n"
     ]
    },
    {
     "name": "stdout",
     "output_type": "stream",
     "text": [
      "convert /home/kubis/Pulpit/BookScanner/BookScanner/data/documents/IMG_238.ods as a Calc document -> /home/kubis/Pulpit/BookScanner/BookScanner/data/documents/IMG_238.pdf using filter : calc_pdf_Export\n",
      "PDF '../data/documents/IMG_238.pdf' created successfully!\n",
      "All pages of 'IMG_238.pdf' converted to JPEG successfully!\n",
      "Spreadsheet 'IMG_239.ods' created successfully!\n"
     ]
    },
    {
     "name": "stderr",
     "output_type": "stream",
     "text": [
      "Warning: failed to launch javaldx - java may not function correctly\n"
     ]
    },
    {
     "name": "stdout",
     "output_type": "stream",
     "text": [
      "convert /home/kubis/Pulpit/BookScanner/BookScanner/data/documents/IMG_239.ods as a Calc document -> /home/kubis/Pulpit/BookScanner/BookScanner/data/documents/IMG_239.pdf using filter : calc_pdf_Export\n",
      "PDF '../data/documents/IMG_239.pdf' created successfully!\n",
      "All pages of 'IMG_239.pdf' converted to JPEG successfully!\n",
      "Spreadsheet 'IMG_240.ods' created successfully!\n"
     ]
    },
    {
     "name": "stderr",
     "output_type": "stream",
     "text": [
      "Warning: failed to launch javaldx - java may not function correctly\n"
     ]
    },
    {
     "name": "stdout",
     "output_type": "stream",
     "text": [
      "convert /home/kubis/Pulpit/BookScanner/BookScanner/data/documents/IMG_240.ods as a Calc document -> /home/kubis/Pulpit/BookScanner/BookScanner/data/documents/IMG_240.pdf using filter : calc_pdf_Export\n",
      "PDF '../data/documents/IMG_240.pdf' created successfully!\n",
      "All pages of 'IMG_240.pdf' converted to JPEG successfully!\n",
      "Spreadsheet 'IMG_241.ods' created successfully!\n"
     ]
    },
    {
     "name": "stderr",
     "output_type": "stream",
     "text": [
      "Warning: failed to launch javaldx - java may not function correctly\n"
     ]
    },
    {
     "name": "stdout",
     "output_type": "stream",
     "text": [
      "convert /home/kubis/Pulpit/BookScanner/BookScanner/data/documents/IMG_241.ods as a Calc document -> /home/kubis/Pulpit/BookScanner/BookScanner/data/documents/IMG_241.pdf using filter : calc_pdf_Export\n",
      "PDF '../data/documents/IMG_241.pdf' created successfully!\n",
      "All pages of 'IMG_241.pdf' converted to JPEG successfully!\n",
      "Spreadsheet 'IMG_242.ods' created successfully!\n"
     ]
    },
    {
     "name": "stderr",
     "output_type": "stream",
     "text": [
      "Warning: failed to launch javaldx - java may not function correctly\n"
     ]
    },
    {
     "name": "stdout",
     "output_type": "stream",
     "text": [
      "convert /home/kubis/Pulpit/BookScanner/BookScanner/data/documents/IMG_242.ods as a Calc document -> /home/kubis/Pulpit/BookScanner/BookScanner/data/documents/IMG_242.pdf using filter : calc_pdf_Export\n",
      "PDF '../data/documents/IMG_242.pdf' created successfully!\n",
      "All pages of 'IMG_242.pdf' converted to JPEG successfully!\n",
      "Spreadsheet 'IMG_243.ods' created successfully!\n"
     ]
    },
    {
     "name": "stderr",
     "output_type": "stream",
     "text": [
      "Warning: failed to launch javaldx - java may not function correctly\n"
     ]
    },
    {
     "name": "stdout",
     "output_type": "stream",
     "text": [
      "convert /home/kubis/Pulpit/BookScanner/BookScanner/data/documents/IMG_243.ods as a Calc document -> /home/kubis/Pulpit/BookScanner/BookScanner/data/documents/IMG_243.pdf using filter : calc_pdf_Export\n",
      "PDF '../data/documents/IMG_243.pdf' created successfully!\n",
      "All pages of 'IMG_243.pdf' converted to JPEG successfully!\n",
      "Spreadsheet 'IMG_244.ods' created successfully!\n"
     ]
    },
    {
     "name": "stderr",
     "output_type": "stream",
     "text": [
      "Warning: failed to launch javaldx - java may not function correctly\n"
     ]
    },
    {
     "name": "stdout",
     "output_type": "stream",
     "text": [
      "convert /home/kubis/Pulpit/BookScanner/BookScanner/data/documents/IMG_244.ods as a Calc document -> /home/kubis/Pulpit/BookScanner/BookScanner/data/documents/IMG_244.pdf using filter : calc_pdf_Export\n",
      "PDF '../data/documents/IMG_244.pdf' created successfully!\n",
      "All pages of 'IMG_244.pdf' converted to JPEG successfully!\n",
      "Spreadsheet 'IMG_245.ods' created successfully!\n"
     ]
    },
    {
     "name": "stderr",
     "output_type": "stream",
     "text": [
      "Warning: failed to launch javaldx - java may not function correctly\n"
     ]
    },
    {
     "name": "stdout",
     "output_type": "stream",
     "text": [
      "convert /home/kubis/Pulpit/BookScanner/BookScanner/data/documents/IMG_245.ods as a Calc document -> /home/kubis/Pulpit/BookScanner/BookScanner/data/documents/IMG_245.pdf using filter : calc_pdf_Export\n",
      "PDF '../data/documents/IMG_245.pdf' created successfully!\n",
      "All pages of 'IMG_245.pdf' converted to JPEG successfully!\n",
      "Spreadsheet 'IMG_246.ods' created successfully!\n"
     ]
    },
    {
     "name": "stderr",
     "output_type": "stream",
     "text": [
      "Warning: failed to launch javaldx - java may not function correctly\n"
     ]
    },
    {
     "name": "stdout",
     "output_type": "stream",
     "text": [
      "convert /home/kubis/Pulpit/BookScanner/BookScanner/data/documents/IMG_246.ods as a Calc document -> /home/kubis/Pulpit/BookScanner/BookScanner/data/documents/IMG_246.pdf using filter : calc_pdf_Export\n",
      "PDF '../data/documents/IMG_246.pdf' created successfully!\n",
      "All pages of 'IMG_246.pdf' converted to JPEG successfully!\n",
      "Spreadsheet 'IMG_247.ods' created successfully!\n"
     ]
    },
    {
     "name": "stderr",
     "output_type": "stream",
     "text": [
      "Warning: failed to launch javaldx - java may not function correctly\n"
     ]
    },
    {
     "name": "stdout",
     "output_type": "stream",
     "text": [
      "convert /home/kubis/Pulpit/BookScanner/BookScanner/data/documents/IMG_247.ods as a Calc document -> /home/kubis/Pulpit/BookScanner/BookScanner/data/documents/IMG_247.pdf using filter : calc_pdf_Export\n",
      "PDF '../data/documents/IMG_247.pdf' created successfully!\n",
      "All pages of 'IMG_247.pdf' converted to JPEG successfully!\n",
      "Spreadsheet 'IMG_248.ods' created successfully!\n"
     ]
    },
    {
     "name": "stderr",
     "output_type": "stream",
     "text": [
      "Warning: failed to launch javaldx - java may not function correctly\n"
     ]
    },
    {
     "name": "stdout",
     "output_type": "stream",
     "text": [
      "convert /home/kubis/Pulpit/BookScanner/BookScanner/data/documents/IMG_248.ods as a Calc document -> /home/kubis/Pulpit/BookScanner/BookScanner/data/documents/IMG_248.pdf using filter : calc_pdf_Export\n",
      "PDF '../data/documents/IMG_248.pdf' created successfully!\n",
      "All pages of 'IMG_248.pdf' converted to JPEG successfully!\n",
      "Spreadsheet 'IMG_249.ods' created successfully!\n"
     ]
    },
    {
     "name": "stderr",
     "output_type": "stream",
     "text": [
      "Warning: failed to launch javaldx - java may not function correctly\n"
     ]
    },
    {
     "name": "stdout",
     "output_type": "stream",
     "text": [
      "convert /home/kubis/Pulpit/BookScanner/BookScanner/data/documents/IMG_249.ods as a Calc document -> /home/kubis/Pulpit/BookScanner/BookScanner/data/documents/IMG_249.pdf using filter : calc_pdf_Export\n",
      "PDF '../data/documents/IMG_249.pdf' created successfully!\n",
      "All pages of 'IMG_249.pdf' converted to JPEG successfully!\n",
      "Spreadsheet 'IMG_250.ods' created successfully!\n"
     ]
    },
    {
     "name": "stderr",
     "output_type": "stream",
     "text": [
      "Warning: failed to launch javaldx - java may not function correctly\n"
     ]
    },
    {
     "name": "stdout",
     "output_type": "stream",
     "text": [
      "convert /home/kubis/Pulpit/BookScanner/BookScanner/data/documents/IMG_250.ods as a Calc document -> /home/kubis/Pulpit/BookScanner/BookScanner/data/documents/IMG_250.pdf using filter : calc_pdf_Export\n",
      "PDF '../data/documents/IMG_250.pdf' created successfully!\n",
      "All pages of 'IMG_250.pdf' converted to JPEG successfully!\n",
      "Spreadsheet 'IMG_251.ods' created successfully!\n"
     ]
    },
    {
     "name": "stderr",
     "output_type": "stream",
     "text": [
      "Warning: failed to launch javaldx - java may not function correctly\n"
     ]
    },
    {
     "name": "stdout",
     "output_type": "stream",
     "text": [
      "convert /home/kubis/Pulpit/BookScanner/BookScanner/data/documents/IMG_251.ods as a Calc document -> /home/kubis/Pulpit/BookScanner/BookScanner/data/documents/IMG_251.pdf using filter : calc_pdf_Export\n",
      "PDF '../data/documents/IMG_251.pdf' created successfully!\n",
      "All pages of 'IMG_251.pdf' converted to JPEG successfully!\n",
      "Spreadsheet 'IMG_252.ods' created successfully!\n"
     ]
    },
    {
     "name": "stderr",
     "output_type": "stream",
     "text": [
      "Warning: failed to launch javaldx - java may not function correctly\n"
     ]
    },
    {
     "name": "stdout",
     "output_type": "stream",
     "text": [
      "convert /home/kubis/Pulpit/BookScanner/BookScanner/data/documents/IMG_252.ods as a Calc document -> /home/kubis/Pulpit/BookScanner/BookScanner/data/documents/IMG_252.pdf using filter : calc_pdf_Export\n",
      "PDF '../data/documents/IMG_252.pdf' created successfully!\n",
      "All pages of 'IMG_252.pdf' converted to JPEG successfully!\n",
      "Spreadsheet 'IMG_253.ods' created successfully!\n"
     ]
    },
    {
     "name": "stderr",
     "output_type": "stream",
     "text": [
      "Warning: failed to launch javaldx - java may not function correctly\n"
     ]
    },
    {
     "name": "stdout",
     "output_type": "stream",
     "text": [
      "convert /home/kubis/Pulpit/BookScanner/BookScanner/data/documents/IMG_253.ods as a Calc document -> /home/kubis/Pulpit/BookScanner/BookScanner/data/documents/IMG_253.pdf using filter : calc_pdf_Export\n",
      "PDF '../data/documents/IMG_253.pdf' created successfully!\n",
      "All pages of 'IMG_253.pdf' converted to JPEG successfully!\n",
      "Spreadsheet 'IMG_254.ods' created successfully!\n"
     ]
    },
    {
     "name": "stderr",
     "output_type": "stream",
     "text": [
      "Warning: failed to launch javaldx - java may not function correctly\n"
     ]
    },
    {
     "name": "stdout",
     "output_type": "stream",
     "text": [
      "convert /home/kubis/Pulpit/BookScanner/BookScanner/data/documents/IMG_254.ods as a Calc document -> /home/kubis/Pulpit/BookScanner/BookScanner/data/documents/IMG_254.pdf using filter : calc_pdf_Export\n",
      "PDF '../data/documents/IMG_254.pdf' created successfully!\n",
      "All pages of 'IMG_254.pdf' converted to JPEG successfully!\n",
      "Spreadsheet 'IMG_255.ods' created successfully!\n"
     ]
    },
    {
     "name": "stderr",
     "output_type": "stream",
     "text": [
      "Warning: failed to launch javaldx - java may not function correctly\n"
     ]
    },
    {
     "name": "stdout",
     "output_type": "stream",
     "text": [
      "convert /home/kubis/Pulpit/BookScanner/BookScanner/data/documents/IMG_255.ods as a Calc document -> /home/kubis/Pulpit/BookScanner/BookScanner/data/documents/IMG_255.pdf using filter : calc_pdf_Export\n",
      "PDF '../data/documents/IMG_255.pdf' created successfully!\n",
      "All pages of 'IMG_255.pdf' converted to JPEG successfully!\n",
      "Spreadsheet 'IMG_256.ods' created successfully!\n"
     ]
    },
    {
     "name": "stderr",
     "output_type": "stream",
     "text": [
      "Warning: failed to launch javaldx - java may not function correctly\n"
     ]
    },
    {
     "name": "stdout",
     "output_type": "stream",
     "text": [
      "convert /home/kubis/Pulpit/BookScanner/BookScanner/data/documents/IMG_256.ods as a Calc document -> /home/kubis/Pulpit/BookScanner/BookScanner/data/documents/IMG_256.pdf using filter : calc_pdf_Export\n",
      "PDF '../data/documents/IMG_256.pdf' created successfully!\n",
      "All pages of 'IMG_256.pdf' converted to JPEG successfully!\n",
      "Spreadsheet 'IMG_257.ods' created successfully!\n"
     ]
    },
    {
     "name": "stderr",
     "output_type": "stream",
     "text": [
      "Warning: failed to launch javaldx - java may not function correctly\n"
     ]
    },
    {
     "name": "stdout",
     "output_type": "stream",
     "text": [
      "convert /home/kubis/Pulpit/BookScanner/BookScanner/data/documents/IMG_257.ods as a Calc document -> /home/kubis/Pulpit/BookScanner/BookScanner/data/documents/IMG_257.pdf using filter : calc_pdf_Export\n",
      "PDF '../data/documents/IMG_257.pdf' created successfully!\n",
      "All pages of 'IMG_257.pdf' converted to JPEG successfully!\n",
      "Spreadsheet 'IMG_258.ods' created successfully!\n"
     ]
    },
    {
     "name": "stderr",
     "output_type": "stream",
     "text": [
      "Warning: failed to launch javaldx - java may not function correctly\n"
     ]
    },
    {
     "name": "stdout",
     "output_type": "stream",
     "text": [
      "convert /home/kubis/Pulpit/BookScanner/BookScanner/data/documents/IMG_258.ods as a Calc document -> /home/kubis/Pulpit/BookScanner/BookScanner/data/documents/IMG_258.pdf using filter : calc_pdf_Export\n",
      "PDF '../data/documents/IMG_258.pdf' created successfully!\n",
      "All pages of 'IMG_258.pdf' converted to JPEG successfully!\n",
      "Spreadsheet 'IMG_259.ods' created successfully!\n"
     ]
    },
    {
     "name": "stderr",
     "output_type": "stream",
     "text": [
      "Warning: failed to launch javaldx - java may not function correctly\n"
     ]
    },
    {
     "name": "stdout",
     "output_type": "stream",
     "text": [
      "convert /home/kubis/Pulpit/BookScanner/BookScanner/data/documents/IMG_259.ods as a Calc document -> /home/kubis/Pulpit/BookScanner/BookScanner/data/documents/IMG_259.pdf using filter : calc_pdf_Export\n",
      "PDF '../data/documents/IMG_259.pdf' created successfully!\n",
      "All pages of 'IMG_259.pdf' converted to JPEG successfully!\n",
      "Spreadsheet 'IMG_260.ods' created successfully!\n"
     ]
    },
    {
     "name": "stderr",
     "output_type": "stream",
     "text": [
      "Warning: failed to launch javaldx - java may not function correctly\n"
     ]
    },
    {
     "name": "stdout",
     "output_type": "stream",
     "text": [
      "convert /home/kubis/Pulpit/BookScanner/BookScanner/data/documents/IMG_260.ods as a Calc document -> /home/kubis/Pulpit/BookScanner/BookScanner/data/documents/IMG_260.pdf using filter : calc_pdf_Export\n",
      "PDF '../data/documents/IMG_260.pdf' created successfully!\n",
      "All pages of 'IMG_260.pdf' converted to JPEG successfully!\n",
      "Spreadsheet 'IMG_261.ods' created successfully!\n"
     ]
    },
    {
     "name": "stderr",
     "output_type": "stream",
     "text": [
      "Warning: failed to launch javaldx - java may not function correctly\n"
     ]
    },
    {
     "name": "stdout",
     "output_type": "stream",
     "text": [
      "convert /home/kubis/Pulpit/BookScanner/BookScanner/data/documents/IMG_261.ods as a Calc document -> /home/kubis/Pulpit/BookScanner/BookScanner/data/documents/IMG_261.pdf using filter : calc_pdf_Export\n",
      "PDF '../data/documents/IMG_261.pdf' created successfully!\n",
      "All pages of 'IMG_261.pdf' converted to JPEG successfully!\n",
      "Spreadsheet 'IMG_262.ods' created successfully!\n"
     ]
    },
    {
     "name": "stderr",
     "output_type": "stream",
     "text": [
      "Warning: failed to launch javaldx - java may not function correctly\n"
     ]
    },
    {
     "name": "stdout",
     "output_type": "stream",
     "text": [
      "convert /home/kubis/Pulpit/BookScanner/BookScanner/data/documents/IMG_262.ods as a Calc document -> /home/kubis/Pulpit/BookScanner/BookScanner/data/documents/IMG_262.pdf using filter : calc_pdf_Export\n",
      "PDF '../data/documents/IMG_262.pdf' created successfully!\n",
      "All pages of 'IMG_262.pdf' converted to JPEG successfully!\n",
      "Spreadsheet 'IMG_263.ods' created successfully!\n"
     ]
    },
    {
     "name": "stderr",
     "output_type": "stream",
     "text": [
      "Warning: failed to launch javaldx - java may not function correctly\n"
     ]
    },
    {
     "name": "stdout",
     "output_type": "stream",
     "text": [
      "convert /home/kubis/Pulpit/BookScanner/BookScanner/data/documents/IMG_263.ods as a Calc document -> /home/kubis/Pulpit/BookScanner/BookScanner/data/documents/IMG_263.pdf using filter : calc_pdf_Export\n",
      "PDF '../data/documents/IMG_263.pdf' created successfully!\n",
      "All pages of 'IMG_263.pdf' converted to JPEG successfully!\n",
      "Spreadsheet 'IMG_264.ods' created successfully!\n"
     ]
    },
    {
     "name": "stderr",
     "output_type": "stream",
     "text": [
      "Warning: failed to launch javaldx - java may not function correctly\n"
     ]
    },
    {
     "name": "stdout",
     "output_type": "stream",
     "text": [
      "convert /home/kubis/Pulpit/BookScanner/BookScanner/data/documents/IMG_264.ods as a Calc document -> /home/kubis/Pulpit/BookScanner/BookScanner/data/documents/IMG_264.pdf using filter : calc_pdf_Export\n",
      "PDF '../data/documents/IMG_264.pdf' created successfully!\n",
      "All pages of 'IMG_264.pdf' converted to JPEG successfully!\n",
      "Spreadsheet 'IMG_265.ods' created successfully!\n"
     ]
    },
    {
     "name": "stderr",
     "output_type": "stream",
     "text": [
      "Warning: failed to launch javaldx - java may not function correctly\n"
     ]
    },
    {
     "name": "stdout",
     "output_type": "stream",
     "text": [
      "convert /home/kubis/Pulpit/BookScanner/BookScanner/data/documents/IMG_265.ods as a Calc document -> /home/kubis/Pulpit/BookScanner/BookScanner/data/documents/IMG_265.pdf using filter : calc_pdf_Export\n",
      "PDF '../data/documents/IMG_265.pdf' created successfully!\n",
      "All pages of 'IMG_265.pdf' converted to JPEG successfully!\n",
      "Spreadsheet 'IMG_266.ods' created successfully!\n"
     ]
    },
    {
     "name": "stderr",
     "output_type": "stream",
     "text": [
      "Warning: failed to launch javaldx - java may not function correctly\n"
     ]
    },
    {
     "name": "stdout",
     "output_type": "stream",
     "text": [
      "convert /home/kubis/Pulpit/BookScanner/BookScanner/data/documents/IMG_266.ods as a Calc document -> /home/kubis/Pulpit/BookScanner/BookScanner/data/documents/IMG_266.pdf using filter : calc_pdf_Export\n",
      "PDF '../data/documents/IMG_266.pdf' created successfully!\n",
      "All pages of 'IMG_266.pdf' converted to JPEG successfully!\n",
      "Spreadsheet 'IMG_267.ods' created successfully!\n"
     ]
    },
    {
     "name": "stderr",
     "output_type": "stream",
     "text": [
      "Warning: failed to launch javaldx - java may not function correctly\n"
     ]
    },
    {
     "name": "stdout",
     "output_type": "stream",
     "text": [
      "convert /home/kubis/Pulpit/BookScanner/BookScanner/data/documents/IMG_267.ods as a Calc document -> /home/kubis/Pulpit/BookScanner/BookScanner/data/documents/IMG_267.pdf using filter : calc_pdf_Export\n",
      "PDF '../data/documents/IMG_267.pdf' created successfully!\n",
      "All pages of 'IMG_267.pdf' converted to JPEG successfully!\n",
      "Spreadsheet 'IMG_268.ods' created successfully!\n"
     ]
    },
    {
     "name": "stderr",
     "output_type": "stream",
     "text": [
      "Warning: failed to launch javaldx - java may not function correctly\n"
     ]
    },
    {
     "name": "stdout",
     "output_type": "stream",
     "text": [
      "convert /home/kubis/Pulpit/BookScanner/BookScanner/data/documents/IMG_268.ods as a Calc document -> /home/kubis/Pulpit/BookScanner/BookScanner/data/documents/IMG_268.pdf using filter : calc_pdf_Export\n",
      "PDF '../data/documents/IMG_268.pdf' created successfully!\n",
      "All pages of 'IMG_268.pdf' converted to JPEG successfully!\n",
      "Spreadsheet 'IMG_269.ods' created successfully!\n"
     ]
    },
    {
     "name": "stderr",
     "output_type": "stream",
     "text": [
      "Warning: failed to launch javaldx - java may not function correctly\n"
     ]
    },
    {
     "name": "stdout",
     "output_type": "stream",
     "text": [
      "convert /home/kubis/Pulpit/BookScanner/BookScanner/data/documents/IMG_269.ods as a Calc document -> /home/kubis/Pulpit/BookScanner/BookScanner/data/documents/IMG_269.pdf using filter : calc_pdf_Export\n",
      "PDF '../data/documents/IMG_269.pdf' created successfully!\n",
      "All pages of 'IMG_269.pdf' converted to JPEG successfully!\n",
      "Spreadsheet 'IMG_270.ods' created successfully!\n"
     ]
    },
    {
     "name": "stderr",
     "output_type": "stream",
     "text": [
      "Warning: failed to launch javaldx - java may not function correctly\n"
     ]
    },
    {
     "name": "stdout",
     "output_type": "stream",
     "text": [
      "convert /home/kubis/Pulpit/BookScanner/BookScanner/data/documents/IMG_270.ods as a Calc document -> /home/kubis/Pulpit/BookScanner/BookScanner/data/documents/IMG_270.pdf using filter : calc_pdf_Export\n",
      "PDF '../data/documents/IMG_270.pdf' created successfully!\n",
      "All pages of 'IMG_270.pdf' converted to JPEG successfully!\n",
      "Spreadsheet 'IMG_271.ods' created successfully!\n"
     ]
    },
    {
     "name": "stderr",
     "output_type": "stream",
     "text": [
      "Warning: failed to launch javaldx - java may not function correctly\n"
     ]
    },
    {
     "name": "stdout",
     "output_type": "stream",
     "text": [
      "convert /home/kubis/Pulpit/BookScanner/BookScanner/data/documents/IMG_271.ods as a Calc document -> /home/kubis/Pulpit/BookScanner/BookScanner/data/documents/IMG_271.pdf using filter : calc_pdf_Export\n",
      "PDF '../data/documents/IMG_271.pdf' created successfully!\n",
      "All pages of 'IMG_271.pdf' converted to JPEG successfully!\n",
      "Spreadsheet 'IMG_272.ods' created successfully!\n"
     ]
    },
    {
     "name": "stderr",
     "output_type": "stream",
     "text": [
      "Warning: failed to launch javaldx - java may not function correctly\n"
     ]
    },
    {
     "name": "stdout",
     "output_type": "stream",
     "text": [
      "convert /home/kubis/Pulpit/BookScanner/BookScanner/data/documents/IMG_272.ods as a Calc document -> /home/kubis/Pulpit/BookScanner/BookScanner/data/documents/IMG_272.pdf using filter : calc_pdf_Export\n",
      "PDF '../data/documents/IMG_272.pdf' created successfully!\n",
      "All pages of 'IMG_272.pdf' converted to JPEG successfully!\n",
      "Spreadsheet 'IMG_273.ods' created successfully!\n"
     ]
    },
    {
     "name": "stderr",
     "output_type": "stream",
     "text": [
      "Warning: failed to launch javaldx - java may not function correctly\n"
     ]
    },
    {
     "name": "stdout",
     "output_type": "stream",
     "text": [
      "convert /home/kubis/Pulpit/BookScanner/BookScanner/data/documents/IMG_273.ods as a Calc document -> /home/kubis/Pulpit/BookScanner/BookScanner/data/documents/IMG_273.pdf using filter : calc_pdf_Export\n",
      "PDF '../data/documents/IMG_273.pdf' created successfully!\n",
      "All pages of 'IMG_273.pdf' converted to JPEG successfully!\n",
      "Spreadsheet 'IMG_274.ods' created successfully!\n"
     ]
    },
    {
     "name": "stderr",
     "output_type": "stream",
     "text": [
      "Warning: failed to launch javaldx - java may not function correctly\n"
     ]
    },
    {
     "name": "stdout",
     "output_type": "stream",
     "text": [
      "convert /home/kubis/Pulpit/BookScanner/BookScanner/data/documents/IMG_274.ods as a Calc document -> /home/kubis/Pulpit/BookScanner/BookScanner/data/documents/IMG_274.pdf using filter : calc_pdf_Export\n",
      "PDF '../data/documents/IMG_274.pdf' created successfully!\n",
      "All pages of 'IMG_274.pdf' converted to JPEG successfully!\n",
      "Spreadsheet 'IMG_275.ods' created successfully!\n"
     ]
    },
    {
     "name": "stderr",
     "output_type": "stream",
     "text": [
      "Warning: failed to launch javaldx - java may not function correctly\n"
     ]
    },
    {
     "name": "stdout",
     "output_type": "stream",
     "text": [
      "convert /home/kubis/Pulpit/BookScanner/BookScanner/data/documents/IMG_275.ods as a Calc document -> /home/kubis/Pulpit/BookScanner/BookScanner/data/documents/IMG_275.pdf using filter : calc_pdf_Export\n",
      "PDF '../data/documents/IMG_275.pdf' created successfully!\n",
      "All pages of 'IMG_275.pdf' converted to JPEG successfully!\n",
      "Spreadsheet 'IMG_276.ods' created successfully!\n"
     ]
    },
    {
     "name": "stderr",
     "output_type": "stream",
     "text": [
      "Warning: failed to launch javaldx - java may not function correctly\n"
     ]
    },
    {
     "name": "stdout",
     "output_type": "stream",
     "text": [
      "convert /home/kubis/Pulpit/BookScanner/BookScanner/data/documents/IMG_276.ods as a Calc document -> /home/kubis/Pulpit/BookScanner/BookScanner/data/documents/IMG_276.pdf using filter : calc_pdf_Export\n",
      "PDF '../data/documents/IMG_276.pdf' created successfully!\n",
      "All pages of 'IMG_276.pdf' converted to JPEG successfully!\n",
      "Spreadsheet 'IMG_277.ods' created successfully!\n"
     ]
    },
    {
     "name": "stderr",
     "output_type": "stream",
     "text": [
      "Warning: failed to launch javaldx - java may not function correctly\n"
     ]
    },
    {
     "name": "stdout",
     "output_type": "stream",
     "text": [
      "convert /home/kubis/Pulpit/BookScanner/BookScanner/data/documents/IMG_277.ods as a Calc document -> /home/kubis/Pulpit/BookScanner/BookScanner/data/documents/IMG_277.pdf using filter : calc_pdf_Export\n",
      "PDF '../data/documents/IMG_277.pdf' created successfully!\n",
      "All pages of 'IMG_277.pdf' converted to JPEG successfully!\n",
      "Spreadsheet 'IMG_278.ods' created successfully!\n"
     ]
    },
    {
     "name": "stderr",
     "output_type": "stream",
     "text": [
      "Warning: failed to launch javaldx - java may not function correctly\n"
     ]
    },
    {
     "name": "stdout",
     "output_type": "stream",
     "text": [
      "convert /home/kubis/Pulpit/BookScanner/BookScanner/data/documents/IMG_278.ods as a Calc document -> /home/kubis/Pulpit/BookScanner/BookScanner/data/documents/IMG_278.pdf using filter : calc_pdf_Export\n",
      "PDF '../data/documents/IMG_278.pdf' created successfully!\n",
      "All pages of 'IMG_278.pdf' converted to JPEG successfully!\n",
      "Spreadsheet 'IMG_279.ods' created successfully!\n"
     ]
    },
    {
     "name": "stderr",
     "output_type": "stream",
     "text": [
      "Warning: failed to launch javaldx - java may not function correctly\n"
     ]
    },
    {
     "name": "stdout",
     "output_type": "stream",
     "text": [
      "convert /home/kubis/Pulpit/BookScanner/BookScanner/data/documents/IMG_279.ods as a Calc document -> /home/kubis/Pulpit/BookScanner/BookScanner/data/documents/IMG_279.pdf using filter : calc_pdf_Export\n",
      "PDF '../data/documents/IMG_279.pdf' created successfully!\n",
      "All pages of 'IMG_279.pdf' converted to JPEG successfully!\n",
      "Spreadsheet 'IMG_280.ods' created successfully!\n"
     ]
    },
    {
     "name": "stderr",
     "output_type": "stream",
     "text": [
      "Warning: failed to launch javaldx - java may not function correctly\n"
     ]
    },
    {
     "name": "stdout",
     "output_type": "stream",
     "text": [
      "convert /home/kubis/Pulpit/BookScanner/BookScanner/data/documents/IMG_280.ods as a Calc document -> /home/kubis/Pulpit/BookScanner/BookScanner/data/documents/IMG_280.pdf using filter : calc_pdf_Export\n",
      "PDF '../data/documents/IMG_280.pdf' created successfully!\n",
      "All pages of 'IMG_280.pdf' converted to JPEG successfully!\n",
      "Spreadsheet 'IMG_281.ods' created successfully!\n"
     ]
    },
    {
     "name": "stderr",
     "output_type": "stream",
     "text": [
      "Warning: failed to launch javaldx - java may not function correctly\n"
     ]
    },
    {
     "name": "stdout",
     "output_type": "stream",
     "text": [
      "convert /home/kubis/Pulpit/BookScanner/BookScanner/data/documents/IMG_281.ods as a Calc document -> /home/kubis/Pulpit/BookScanner/BookScanner/data/documents/IMG_281.pdf using filter : calc_pdf_Export\n",
      "PDF '../data/documents/IMG_281.pdf' created successfully!\n",
      "All pages of 'IMG_281.pdf' converted to JPEG successfully!\n",
      "Spreadsheet 'IMG_282.ods' created successfully!\n"
     ]
    },
    {
     "name": "stderr",
     "output_type": "stream",
     "text": [
      "Warning: failed to launch javaldx - java may not function correctly\n"
     ]
    },
    {
     "name": "stdout",
     "output_type": "stream",
     "text": [
      "convert /home/kubis/Pulpit/BookScanner/BookScanner/data/documents/IMG_282.ods as a Calc document -> /home/kubis/Pulpit/BookScanner/BookScanner/data/documents/IMG_282.pdf using filter : calc_pdf_Export\n",
      "PDF '../data/documents/IMG_282.pdf' created successfully!\n",
      "All pages of 'IMG_282.pdf' converted to JPEG successfully!\n",
      "Spreadsheet 'IMG_283.ods' created successfully!\n"
     ]
    },
    {
     "name": "stderr",
     "output_type": "stream",
     "text": [
      "Warning: failed to launch javaldx - java may not function correctly\n"
     ]
    },
    {
     "name": "stdout",
     "output_type": "stream",
     "text": [
      "convert /home/kubis/Pulpit/BookScanner/BookScanner/data/documents/IMG_283.ods as a Calc document -> /home/kubis/Pulpit/BookScanner/BookScanner/data/documents/IMG_283.pdf using filter : calc_pdf_Export\n",
      "PDF '../data/documents/IMG_283.pdf' created successfully!\n",
      "All pages of 'IMG_283.pdf' converted to JPEG successfully!\n",
      "Spreadsheet 'IMG_284.ods' created successfully!\n"
     ]
    },
    {
     "name": "stderr",
     "output_type": "stream",
     "text": [
      "Warning: failed to launch javaldx - java may not function correctly\n"
     ]
    },
    {
     "name": "stdout",
     "output_type": "stream",
     "text": [
      "convert /home/kubis/Pulpit/BookScanner/BookScanner/data/documents/IMG_284.ods as a Calc document -> /home/kubis/Pulpit/BookScanner/BookScanner/data/documents/IMG_284.pdf using filter : calc_pdf_Export\n",
      "PDF '../data/documents/IMG_284.pdf' created successfully!\n",
      "All pages of 'IMG_284.pdf' converted to JPEG successfully!\n",
      "Spreadsheet 'IMG_285.ods' created successfully!\n"
     ]
    },
    {
     "name": "stderr",
     "output_type": "stream",
     "text": [
      "Warning: failed to launch javaldx - java may not function correctly\n"
     ]
    },
    {
     "name": "stdout",
     "output_type": "stream",
     "text": [
      "convert /home/kubis/Pulpit/BookScanner/BookScanner/data/documents/IMG_285.ods as a Calc document -> /home/kubis/Pulpit/BookScanner/BookScanner/data/documents/IMG_285.pdf using filter : calc_pdf_Export\n",
      "PDF '../data/documents/IMG_285.pdf' created successfully!\n",
      "All pages of 'IMG_285.pdf' converted to JPEG successfully!\n",
      "Spreadsheet 'IMG_286.ods' created successfully!\n"
     ]
    },
    {
     "name": "stderr",
     "output_type": "stream",
     "text": [
      "Warning: failed to launch javaldx - java may not function correctly\n"
     ]
    },
    {
     "name": "stdout",
     "output_type": "stream",
     "text": [
      "convert /home/kubis/Pulpit/BookScanner/BookScanner/data/documents/IMG_286.ods as a Calc document -> /home/kubis/Pulpit/BookScanner/BookScanner/data/documents/IMG_286.pdf using filter : calc_pdf_Export\n",
      "PDF '../data/documents/IMG_286.pdf' created successfully!\n",
      "All pages of 'IMG_286.pdf' converted to JPEG successfully!\n",
      "Spreadsheet 'IMG_287.ods' created successfully!\n"
     ]
    },
    {
     "name": "stderr",
     "output_type": "stream",
     "text": [
      "Warning: failed to launch javaldx - java may not function correctly\n"
     ]
    },
    {
     "name": "stdout",
     "output_type": "stream",
     "text": [
      "convert /home/kubis/Pulpit/BookScanner/BookScanner/data/documents/IMG_287.ods as a Calc document -> /home/kubis/Pulpit/BookScanner/BookScanner/data/documents/IMG_287.pdf using filter : calc_pdf_Export\n",
      "PDF '../data/documents/IMG_287.pdf' created successfully!\n",
      "All pages of 'IMG_287.pdf' converted to JPEG successfully!\n",
      "Spreadsheet 'IMG_288.ods' created successfully!\n"
     ]
    },
    {
     "name": "stderr",
     "output_type": "stream",
     "text": [
      "Warning: failed to launch javaldx - java may not function correctly\n"
     ]
    },
    {
     "name": "stdout",
     "output_type": "stream",
     "text": [
      "convert /home/kubis/Pulpit/BookScanner/BookScanner/data/documents/IMG_288.ods as a Calc document -> /home/kubis/Pulpit/BookScanner/BookScanner/data/documents/IMG_288.pdf using filter : calc_pdf_Export\n",
      "PDF '../data/documents/IMG_288.pdf' created successfully!\n",
      "All pages of 'IMG_288.pdf' converted to JPEG successfully!\n",
      "Spreadsheet 'IMG_289.ods' created successfully!\n"
     ]
    },
    {
     "name": "stderr",
     "output_type": "stream",
     "text": [
      "Warning: failed to launch javaldx - java may not function correctly\n"
     ]
    },
    {
     "name": "stdout",
     "output_type": "stream",
     "text": [
      "convert /home/kubis/Pulpit/BookScanner/BookScanner/data/documents/IMG_289.ods as a Calc document -> /home/kubis/Pulpit/BookScanner/BookScanner/data/documents/IMG_289.pdf using filter : calc_pdf_Export\n",
      "PDF '../data/documents/IMG_289.pdf' created successfully!\n",
      "All pages of 'IMG_289.pdf' converted to JPEG successfully!\n",
      "Spreadsheet 'IMG_290.ods' created successfully!\n"
     ]
    },
    {
     "name": "stderr",
     "output_type": "stream",
     "text": [
      "Warning: failed to launch javaldx - java may not function correctly\n"
     ]
    },
    {
     "name": "stdout",
     "output_type": "stream",
     "text": [
      "convert /home/kubis/Pulpit/BookScanner/BookScanner/data/documents/IMG_290.ods as a Calc document -> /home/kubis/Pulpit/BookScanner/BookScanner/data/documents/IMG_290.pdf using filter : calc_pdf_Export\n",
      "PDF '../data/documents/IMG_290.pdf' created successfully!\n",
      "All pages of 'IMG_290.pdf' converted to JPEG successfully!\n",
      "Spreadsheet 'IMG_291.ods' created successfully!\n"
     ]
    },
    {
     "name": "stderr",
     "output_type": "stream",
     "text": [
      "Warning: failed to launch javaldx - java may not function correctly\n"
     ]
    },
    {
     "name": "stdout",
     "output_type": "stream",
     "text": [
      "convert /home/kubis/Pulpit/BookScanner/BookScanner/data/documents/IMG_291.ods as a Calc document -> /home/kubis/Pulpit/BookScanner/BookScanner/data/documents/IMG_291.pdf using filter : calc_pdf_Export\n",
      "PDF '../data/documents/IMG_291.pdf' created successfully!\n",
      "All pages of 'IMG_291.pdf' converted to JPEG successfully!\n",
      "Spreadsheet 'IMG_292.ods' created successfully!\n"
     ]
    },
    {
     "name": "stderr",
     "output_type": "stream",
     "text": [
      "Warning: failed to launch javaldx - java may not function correctly\n"
     ]
    },
    {
     "name": "stdout",
     "output_type": "stream",
     "text": [
      "convert /home/kubis/Pulpit/BookScanner/BookScanner/data/documents/IMG_292.ods as a Calc document -> /home/kubis/Pulpit/BookScanner/BookScanner/data/documents/IMG_292.pdf using filter : calc_pdf_Export\n",
      "PDF '../data/documents/IMG_292.pdf' created successfully!\n",
      "All pages of 'IMG_292.pdf' converted to JPEG successfully!\n",
      "Spreadsheet 'IMG_293.ods' created successfully!\n"
     ]
    },
    {
     "name": "stderr",
     "output_type": "stream",
     "text": [
      "Warning: failed to launch javaldx - java may not function correctly\n"
     ]
    },
    {
     "name": "stdout",
     "output_type": "stream",
     "text": [
      "convert /home/kubis/Pulpit/BookScanner/BookScanner/data/documents/IMG_293.ods as a Calc document -> /home/kubis/Pulpit/BookScanner/BookScanner/data/documents/IMG_293.pdf using filter : calc_pdf_Export\n",
      "PDF '../data/documents/IMG_293.pdf' created successfully!\n",
      "All pages of 'IMG_293.pdf' converted to JPEG successfully!\n",
      "Spreadsheet 'IMG_294.ods' created successfully!\n"
     ]
    },
    {
     "name": "stderr",
     "output_type": "stream",
     "text": [
      "Warning: failed to launch javaldx - java may not function correctly\n"
     ]
    },
    {
     "name": "stdout",
     "output_type": "stream",
     "text": [
      "convert /home/kubis/Pulpit/BookScanner/BookScanner/data/documents/IMG_294.ods as a Calc document -> /home/kubis/Pulpit/BookScanner/BookScanner/data/documents/IMG_294.pdf using filter : calc_pdf_Export\n",
      "PDF '../data/documents/IMG_294.pdf' created successfully!\n",
      "All pages of 'IMG_294.pdf' converted to JPEG successfully!\n",
      "Spreadsheet 'IMG_295.ods' created successfully!\n"
     ]
    },
    {
     "name": "stderr",
     "output_type": "stream",
     "text": [
      "Warning: failed to launch javaldx - java may not function correctly\n"
     ]
    },
    {
     "name": "stdout",
     "output_type": "stream",
     "text": [
      "convert /home/kubis/Pulpit/BookScanner/BookScanner/data/documents/IMG_295.ods as a Calc document -> /home/kubis/Pulpit/BookScanner/BookScanner/data/documents/IMG_295.pdf using filter : calc_pdf_Export\n",
      "PDF '../data/documents/IMG_295.pdf' created successfully!\n",
      "All pages of 'IMG_295.pdf' converted to JPEG successfully!\n",
      "Spreadsheet 'IMG_296.ods' created successfully!\n"
     ]
    },
    {
     "name": "stderr",
     "output_type": "stream",
     "text": [
      "Warning: failed to launch javaldx - java may not function correctly\n"
     ]
    },
    {
     "name": "stdout",
     "output_type": "stream",
     "text": [
      "convert /home/kubis/Pulpit/BookScanner/BookScanner/data/documents/IMG_296.ods as a Calc document -> /home/kubis/Pulpit/BookScanner/BookScanner/data/documents/IMG_296.pdf using filter : calc_pdf_Export\n",
      "PDF '../data/documents/IMG_296.pdf' created successfully!\n",
      "All pages of 'IMG_296.pdf' converted to JPEG successfully!\n",
      "Spreadsheet 'IMG_297.ods' created successfully!\n"
     ]
    },
    {
     "name": "stderr",
     "output_type": "stream",
     "text": [
      "Warning: failed to launch javaldx - java may not function correctly\n"
     ]
    },
    {
     "name": "stdout",
     "output_type": "stream",
     "text": [
      "convert /home/kubis/Pulpit/BookScanner/BookScanner/data/documents/IMG_297.ods as a Calc document -> /home/kubis/Pulpit/BookScanner/BookScanner/data/documents/IMG_297.pdf using filter : calc_pdf_Export\n",
      "PDF '../data/documents/IMG_297.pdf' created successfully!\n",
      "All pages of 'IMG_297.pdf' converted to JPEG successfully!\n",
      "Spreadsheet 'IMG_298.ods' created successfully!\n"
     ]
    },
    {
     "name": "stderr",
     "output_type": "stream",
     "text": [
      "Warning: failed to launch javaldx - java may not function correctly\n"
     ]
    },
    {
     "name": "stdout",
     "output_type": "stream",
     "text": [
      "convert /home/kubis/Pulpit/BookScanner/BookScanner/data/documents/IMG_298.ods as a Calc document -> /home/kubis/Pulpit/BookScanner/BookScanner/data/documents/IMG_298.pdf using filter : calc_pdf_Export\n",
      "PDF '../data/documents/IMG_298.pdf' created successfully!\n",
      "All pages of 'IMG_298.pdf' converted to JPEG successfully!\n",
      "Spreadsheet 'IMG_299.ods' created successfully!\n"
     ]
    },
    {
     "name": "stderr",
     "output_type": "stream",
     "text": [
      "Warning: failed to launch javaldx - java may not function correctly\n"
     ]
    },
    {
     "name": "stdout",
     "output_type": "stream",
     "text": [
      "convert /home/kubis/Pulpit/BookScanner/BookScanner/data/documents/IMG_299.ods as a Calc document -> /home/kubis/Pulpit/BookScanner/BookScanner/data/documents/IMG_299.pdf using filter : calc_pdf_Export\n",
      "PDF '../data/documents/IMG_299.pdf' created successfully!\n",
      "All pages of 'IMG_299.pdf' converted to JPEG successfully!\n",
      "Spreadsheet 'IMG_300.ods' created successfully!\n"
     ]
    },
    {
     "name": "stderr",
     "output_type": "stream",
     "text": [
      "Warning: failed to launch javaldx - java may not function correctly\n"
     ]
    },
    {
     "name": "stdout",
     "output_type": "stream",
     "text": [
      "convert /home/kubis/Pulpit/BookScanner/BookScanner/data/documents/IMG_300.ods as a Calc document -> /home/kubis/Pulpit/BookScanner/BookScanner/data/documents/IMG_300.pdf using filter : calc_pdf_Export\n",
      "PDF '../data/documents/IMG_300.pdf' created successfully!\n",
      "All pages of 'IMG_300.pdf' converted to JPEG successfully!\n",
      "Spreadsheet 'IMG_301.ods' created successfully!\n"
     ]
    },
    {
     "name": "stderr",
     "output_type": "stream",
     "text": [
      "Warning: failed to launch javaldx - java may not function correctly\n"
     ]
    },
    {
     "name": "stdout",
     "output_type": "stream",
     "text": [
      "convert /home/kubis/Pulpit/BookScanner/BookScanner/data/documents/IMG_301.ods as a Calc document -> /home/kubis/Pulpit/BookScanner/BookScanner/data/documents/IMG_301.pdf using filter : calc_pdf_Export\n",
      "PDF '../data/documents/IMG_301.pdf' created successfully!\n",
      "All pages of 'IMG_301.pdf' converted to JPEG successfully!\n",
      "Spreadsheet 'IMG_302.ods' created successfully!\n"
     ]
    },
    {
     "name": "stderr",
     "output_type": "stream",
     "text": [
      "Warning: failed to launch javaldx - java may not function correctly\n"
     ]
    },
    {
     "name": "stdout",
     "output_type": "stream",
     "text": [
      "convert /home/kubis/Pulpit/BookScanner/BookScanner/data/documents/IMG_302.ods as a Calc document -> /home/kubis/Pulpit/BookScanner/BookScanner/data/documents/IMG_302.pdf using filter : calc_pdf_Export\n",
      "PDF '../data/documents/IMG_302.pdf' created successfully!\n",
      "All pages of 'IMG_302.pdf' converted to JPEG successfully!\n",
      "Spreadsheet 'IMG_303.ods' created successfully!\n"
     ]
    },
    {
     "name": "stderr",
     "output_type": "stream",
     "text": [
      "Warning: failed to launch javaldx - java may not function correctly\n"
     ]
    },
    {
     "name": "stdout",
     "output_type": "stream",
     "text": [
      "convert /home/kubis/Pulpit/BookScanner/BookScanner/data/documents/IMG_303.ods as a Calc document -> /home/kubis/Pulpit/BookScanner/BookScanner/data/documents/IMG_303.pdf using filter : calc_pdf_Export\n",
      "PDF '../data/documents/IMG_303.pdf' created successfully!\n",
      "All pages of 'IMG_303.pdf' converted to JPEG successfully!\n",
      "Spreadsheet 'IMG_304.ods' created successfully!\n"
     ]
    },
    {
     "name": "stderr",
     "output_type": "stream",
     "text": [
      "Warning: failed to launch javaldx - java may not function correctly\n"
     ]
    },
    {
     "name": "stdout",
     "output_type": "stream",
     "text": [
      "convert /home/kubis/Pulpit/BookScanner/BookScanner/data/documents/IMG_304.ods as a Calc document -> /home/kubis/Pulpit/BookScanner/BookScanner/data/documents/IMG_304.pdf using filter : calc_pdf_Export\n",
      "PDF '../data/documents/IMG_304.pdf' created successfully!\n",
      "All pages of 'IMG_304.pdf' converted to JPEG successfully!\n",
      "Spreadsheet 'IMG_305.ods' created successfully!\n"
     ]
    },
    {
     "name": "stderr",
     "output_type": "stream",
     "text": [
      "Warning: failed to launch javaldx - java may not function correctly\n"
     ]
    },
    {
     "name": "stdout",
     "output_type": "stream",
     "text": [
      "convert /home/kubis/Pulpit/BookScanner/BookScanner/data/documents/IMG_305.ods as a Calc document -> /home/kubis/Pulpit/BookScanner/BookScanner/data/documents/IMG_305.pdf using filter : calc_pdf_Export\n",
      "PDF '../data/documents/IMG_305.pdf' created successfully!\n",
      "All pages of 'IMG_305.pdf' converted to JPEG successfully!\n",
      "Spreadsheet 'IMG_306.ods' created successfully!\n"
     ]
    },
    {
     "name": "stderr",
     "output_type": "stream",
     "text": [
      "Warning: failed to launch javaldx - java may not function correctly\n"
     ]
    },
    {
     "name": "stdout",
     "output_type": "stream",
     "text": [
      "convert /home/kubis/Pulpit/BookScanner/BookScanner/data/documents/IMG_306.ods as a Calc document -> /home/kubis/Pulpit/BookScanner/BookScanner/data/documents/IMG_306.pdf using filter : calc_pdf_Export\n",
      "PDF '../data/documents/IMG_306.pdf' created successfully!\n",
      "All pages of 'IMG_306.pdf' converted to JPEG successfully!\n",
      "Spreadsheet 'IMG_307.ods' created successfully!\n"
     ]
    },
    {
     "name": "stderr",
     "output_type": "stream",
     "text": [
      "Warning: failed to launch javaldx - java may not function correctly\n"
     ]
    },
    {
     "name": "stdout",
     "output_type": "stream",
     "text": [
      "convert /home/kubis/Pulpit/BookScanner/BookScanner/data/documents/IMG_307.ods as a Calc document -> /home/kubis/Pulpit/BookScanner/BookScanner/data/documents/IMG_307.pdf using filter : calc_pdf_Export\n",
      "PDF '../data/documents/IMG_307.pdf' created successfully!\n",
      "All pages of 'IMG_307.pdf' converted to JPEG successfully!\n",
      "Spreadsheet 'IMG_308.ods' created successfully!\n"
     ]
    },
    {
     "name": "stderr",
     "output_type": "stream",
     "text": [
      "Warning: failed to launch javaldx - java may not function correctly\n"
     ]
    },
    {
     "name": "stdout",
     "output_type": "stream",
     "text": [
      "convert /home/kubis/Pulpit/BookScanner/BookScanner/data/documents/IMG_308.ods as a Calc document -> /home/kubis/Pulpit/BookScanner/BookScanner/data/documents/IMG_308.pdf using filter : calc_pdf_Export\n",
      "PDF '../data/documents/IMG_308.pdf' created successfully!\n",
      "All pages of 'IMG_308.pdf' converted to JPEG successfully!\n",
      "Spreadsheet 'IMG_309.ods' created successfully!\n"
     ]
    },
    {
     "name": "stderr",
     "output_type": "stream",
     "text": [
      "Warning: failed to launch javaldx - java may not function correctly\n"
     ]
    },
    {
     "name": "stdout",
     "output_type": "stream",
     "text": [
      "convert /home/kubis/Pulpit/BookScanner/BookScanner/data/documents/IMG_309.ods as a Calc document -> /home/kubis/Pulpit/BookScanner/BookScanner/data/documents/IMG_309.pdf using filter : calc_pdf_Export\n",
      "PDF '../data/documents/IMG_309.pdf' created successfully!\n",
      "All pages of 'IMG_309.pdf' converted to JPEG successfully!\n",
      "Spreadsheet 'IMG_310.ods' created successfully!\n"
     ]
    },
    {
     "name": "stderr",
     "output_type": "stream",
     "text": [
      "Warning: failed to launch javaldx - java may not function correctly\n"
     ]
    },
    {
     "name": "stdout",
     "output_type": "stream",
     "text": [
      "convert /home/kubis/Pulpit/BookScanner/BookScanner/data/documents/IMG_310.ods as a Calc document -> /home/kubis/Pulpit/BookScanner/BookScanner/data/documents/IMG_310.pdf using filter : calc_pdf_Export\n",
      "PDF '../data/documents/IMG_310.pdf' created successfully!\n",
      "All pages of 'IMG_310.pdf' converted to JPEG successfully!\n",
      "Spreadsheet 'IMG_311.ods' created successfully!\n"
     ]
    },
    {
     "name": "stderr",
     "output_type": "stream",
     "text": [
      "Warning: failed to launch javaldx - java may not function correctly\n"
     ]
    },
    {
     "name": "stdout",
     "output_type": "stream",
     "text": [
      "convert /home/kubis/Pulpit/BookScanner/BookScanner/data/documents/IMG_311.ods as a Calc document -> /home/kubis/Pulpit/BookScanner/BookScanner/data/documents/IMG_311.pdf using filter : calc_pdf_Export\n",
      "PDF '../data/documents/IMG_311.pdf' created successfully!\n",
      "All pages of 'IMG_311.pdf' converted to JPEG successfully!\n",
      "Spreadsheet 'IMG_312.ods' created successfully!\n"
     ]
    },
    {
     "name": "stderr",
     "output_type": "stream",
     "text": [
      "Warning: failed to launch javaldx - java may not function correctly\n"
     ]
    },
    {
     "name": "stdout",
     "output_type": "stream",
     "text": [
      "convert /home/kubis/Pulpit/BookScanner/BookScanner/data/documents/IMG_312.ods as a Calc document -> /home/kubis/Pulpit/BookScanner/BookScanner/data/documents/IMG_312.pdf using filter : calc_pdf_Export\n",
      "PDF '../data/documents/IMG_312.pdf' created successfully!\n",
      "All pages of 'IMG_312.pdf' converted to JPEG successfully!\n",
      "Spreadsheet 'IMG_313.ods' created successfully!\n"
     ]
    },
    {
     "name": "stderr",
     "output_type": "stream",
     "text": [
      "Warning: failed to launch javaldx - java may not function correctly\n"
     ]
    },
    {
     "name": "stdout",
     "output_type": "stream",
     "text": [
      "convert /home/kubis/Pulpit/BookScanner/BookScanner/data/documents/IMG_313.ods as a Calc document -> /home/kubis/Pulpit/BookScanner/BookScanner/data/documents/IMG_313.pdf using filter : calc_pdf_Export\n",
      "PDF '../data/documents/IMG_313.pdf' created successfully!\n",
      "All pages of 'IMG_313.pdf' converted to JPEG successfully!\n",
      "Spreadsheet 'IMG_314.ods' created successfully!\n"
     ]
    },
    {
     "name": "stderr",
     "output_type": "stream",
     "text": [
      "Warning: failed to launch javaldx - java may not function correctly\n"
     ]
    },
    {
     "name": "stdout",
     "output_type": "stream",
     "text": [
      "convert /home/kubis/Pulpit/BookScanner/BookScanner/data/documents/IMG_314.ods as a Calc document -> /home/kubis/Pulpit/BookScanner/BookScanner/data/documents/IMG_314.pdf using filter : calc_pdf_Export\n",
      "PDF '../data/documents/IMG_314.pdf' created successfully!\n",
      "All pages of 'IMG_314.pdf' converted to JPEG successfully!\n",
      "Spreadsheet 'IMG_315.ods' created successfully!\n"
     ]
    },
    {
     "name": "stderr",
     "output_type": "stream",
     "text": [
      "Warning: failed to launch javaldx - java may not function correctly\n"
     ]
    },
    {
     "name": "stdout",
     "output_type": "stream",
     "text": [
      "convert /home/kubis/Pulpit/BookScanner/BookScanner/data/documents/IMG_315.ods as a Calc document -> /home/kubis/Pulpit/BookScanner/BookScanner/data/documents/IMG_315.pdf using filter : calc_pdf_Export\n",
      "PDF '../data/documents/IMG_315.pdf' created successfully!\n",
      "All pages of 'IMG_315.pdf' converted to JPEG successfully!\n",
      "Spreadsheet 'IMG_316.ods' created successfully!\n"
     ]
    },
    {
     "name": "stderr",
     "output_type": "stream",
     "text": [
      "Warning: failed to launch javaldx - java may not function correctly\n"
     ]
    },
    {
     "name": "stdout",
     "output_type": "stream",
     "text": [
      "convert /home/kubis/Pulpit/BookScanner/BookScanner/data/documents/IMG_316.ods as a Calc document -> /home/kubis/Pulpit/BookScanner/BookScanner/data/documents/IMG_316.pdf using filter : calc_pdf_Export\n",
      "PDF '../data/documents/IMG_316.pdf' created successfully!\n",
      "All pages of 'IMG_316.pdf' converted to JPEG successfully!\n",
      "Spreadsheet 'IMG_317.ods' created successfully!\n"
     ]
    },
    {
     "name": "stderr",
     "output_type": "stream",
     "text": [
      "Warning: failed to launch javaldx - java may not function correctly\n"
     ]
    },
    {
     "name": "stdout",
     "output_type": "stream",
     "text": [
      "convert /home/kubis/Pulpit/BookScanner/BookScanner/data/documents/IMG_317.ods as a Calc document -> /home/kubis/Pulpit/BookScanner/BookScanner/data/documents/IMG_317.pdf using filter : calc_pdf_Export\n",
      "PDF '../data/documents/IMG_317.pdf' created successfully!\n",
      "All pages of 'IMG_317.pdf' converted to JPEG successfully!\n",
      "Spreadsheet 'IMG_318.ods' created successfully!\n"
     ]
    },
    {
     "name": "stderr",
     "output_type": "stream",
     "text": [
      "Warning: failed to launch javaldx - java may not function correctly\n"
     ]
    },
    {
     "name": "stdout",
     "output_type": "stream",
     "text": [
      "convert /home/kubis/Pulpit/BookScanner/BookScanner/data/documents/IMG_318.ods as a Calc document -> /home/kubis/Pulpit/BookScanner/BookScanner/data/documents/IMG_318.pdf using filter : calc_pdf_Export\n",
      "PDF '../data/documents/IMG_318.pdf' created successfully!\n",
      "All pages of 'IMG_318.pdf' converted to JPEG successfully!\n",
      "Spreadsheet 'IMG_319.ods' created successfully!\n"
     ]
    },
    {
     "name": "stderr",
     "output_type": "stream",
     "text": [
      "Warning: failed to launch javaldx - java may not function correctly\n"
     ]
    },
    {
     "name": "stdout",
     "output_type": "stream",
     "text": [
      "convert /home/kubis/Pulpit/BookScanner/BookScanner/data/documents/IMG_319.ods as a Calc document -> /home/kubis/Pulpit/BookScanner/BookScanner/data/documents/IMG_319.pdf using filter : calc_pdf_Export\n",
      "PDF '../data/documents/IMG_319.pdf' created successfully!\n",
      "All pages of 'IMG_319.pdf' converted to JPEG successfully!\n",
      "Spreadsheet 'IMG_320.ods' created successfully!\n"
     ]
    },
    {
     "name": "stderr",
     "output_type": "stream",
     "text": [
      "Warning: failed to launch javaldx - java may not function correctly\n"
     ]
    },
    {
     "name": "stdout",
     "output_type": "stream",
     "text": [
      "convert /home/kubis/Pulpit/BookScanner/BookScanner/data/documents/IMG_320.ods as a Calc document -> /home/kubis/Pulpit/BookScanner/BookScanner/data/documents/IMG_320.pdf using filter : calc_pdf_Export\n",
      "PDF '../data/documents/IMG_320.pdf' created successfully!\n",
      "All pages of 'IMG_320.pdf' converted to JPEG successfully!\n",
      "Spreadsheet 'IMG_321.ods' created successfully!\n"
     ]
    },
    {
     "name": "stderr",
     "output_type": "stream",
     "text": [
      "Warning: failed to launch javaldx - java may not function correctly\n"
     ]
    },
    {
     "name": "stdout",
     "output_type": "stream",
     "text": [
      "convert /home/kubis/Pulpit/BookScanner/BookScanner/data/documents/IMG_321.ods as a Calc document -> /home/kubis/Pulpit/BookScanner/BookScanner/data/documents/IMG_321.pdf using filter : calc_pdf_Export\n",
      "PDF '../data/documents/IMG_321.pdf' created successfully!\n",
      "All pages of 'IMG_321.pdf' converted to JPEG successfully!\n",
      "Spreadsheet 'IMG_322.ods' created successfully!\n"
     ]
    },
    {
     "name": "stderr",
     "output_type": "stream",
     "text": [
      "Warning: failed to launch javaldx - java may not function correctly\n"
     ]
    },
    {
     "name": "stdout",
     "output_type": "stream",
     "text": [
      "convert /home/kubis/Pulpit/BookScanner/BookScanner/data/documents/IMG_322.ods as a Calc document -> /home/kubis/Pulpit/BookScanner/BookScanner/data/documents/IMG_322.pdf using filter : calc_pdf_Export\n",
      "PDF '../data/documents/IMG_322.pdf' created successfully!\n",
      "All pages of 'IMG_322.pdf' converted to JPEG successfully!\n",
      "Spreadsheet 'IMG_323.ods' created successfully!\n"
     ]
    },
    {
     "name": "stderr",
     "output_type": "stream",
     "text": [
      "Warning: failed to launch javaldx - java may not function correctly\n"
     ]
    },
    {
     "name": "stdout",
     "output_type": "stream",
     "text": [
      "convert /home/kubis/Pulpit/BookScanner/BookScanner/data/documents/IMG_323.ods as a Calc document -> /home/kubis/Pulpit/BookScanner/BookScanner/data/documents/IMG_323.pdf using filter : calc_pdf_Export\n",
      "PDF '../data/documents/IMG_323.pdf' created successfully!\n",
      "All pages of 'IMG_323.pdf' converted to JPEG successfully!\n",
      "Spreadsheet 'IMG_324.ods' created successfully!\n"
     ]
    },
    {
     "name": "stderr",
     "output_type": "stream",
     "text": [
      "Warning: failed to launch javaldx - java may not function correctly\n"
     ]
    },
    {
     "name": "stdout",
     "output_type": "stream",
     "text": [
      "convert /home/kubis/Pulpit/BookScanner/BookScanner/data/documents/IMG_324.ods as a Calc document -> /home/kubis/Pulpit/BookScanner/BookScanner/data/documents/IMG_324.pdf using filter : calc_pdf_Export\n",
      "PDF '../data/documents/IMG_324.pdf' created successfully!\n",
      "All pages of 'IMG_324.pdf' converted to JPEG successfully!\n",
      "Spreadsheet 'IMG_325.ods' created successfully!\n"
     ]
    },
    {
     "name": "stderr",
     "output_type": "stream",
     "text": [
      "Warning: failed to launch javaldx - java may not function correctly\n"
     ]
    },
    {
     "name": "stdout",
     "output_type": "stream",
     "text": [
      "convert /home/kubis/Pulpit/BookScanner/BookScanner/data/documents/IMG_325.ods as a Calc document -> /home/kubis/Pulpit/BookScanner/BookScanner/data/documents/IMG_325.pdf using filter : calc_pdf_Export\n",
      "PDF '../data/documents/IMG_325.pdf' created successfully!\n",
      "All pages of 'IMG_325.pdf' converted to JPEG successfully!\n",
      "Spreadsheet 'IMG_326.ods' created successfully!\n"
     ]
    },
    {
     "name": "stderr",
     "output_type": "stream",
     "text": [
      "Warning: failed to launch javaldx - java may not function correctly\n"
     ]
    },
    {
     "name": "stdout",
     "output_type": "stream",
     "text": [
      "convert /home/kubis/Pulpit/BookScanner/BookScanner/data/documents/IMG_326.ods as a Calc document -> /home/kubis/Pulpit/BookScanner/BookScanner/data/documents/IMG_326.pdf using filter : calc_pdf_Export\n",
      "PDF '../data/documents/IMG_326.pdf' created successfully!\n",
      "All pages of 'IMG_326.pdf' converted to JPEG successfully!\n",
      "Spreadsheet 'IMG_327.ods' created successfully!\n"
     ]
    },
    {
     "name": "stderr",
     "output_type": "stream",
     "text": [
      "Warning: failed to launch javaldx - java may not function correctly\n"
     ]
    },
    {
     "name": "stdout",
     "output_type": "stream",
     "text": [
      "convert /home/kubis/Pulpit/BookScanner/BookScanner/data/documents/IMG_327.ods as a Calc document -> /home/kubis/Pulpit/BookScanner/BookScanner/data/documents/IMG_327.pdf using filter : calc_pdf_Export\n",
      "PDF '../data/documents/IMG_327.pdf' created successfully!\n",
      "All pages of 'IMG_327.pdf' converted to JPEG successfully!\n",
      "Spreadsheet 'IMG_328.ods' created successfully!\n"
     ]
    },
    {
     "name": "stderr",
     "output_type": "stream",
     "text": [
      "Warning: failed to launch javaldx - java may not function correctly\n"
     ]
    },
    {
     "name": "stdout",
     "output_type": "stream",
     "text": [
      "convert /home/kubis/Pulpit/BookScanner/BookScanner/data/documents/IMG_328.ods as a Calc document -> /home/kubis/Pulpit/BookScanner/BookScanner/data/documents/IMG_328.pdf using filter : calc_pdf_Export\n",
      "PDF '../data/documents/IMG_328.pdf' created successfully!\n",
      "All pages of 'IMG_328.pdf' converted to JPEG successfully!\n",
      "Spreadsheet 'IMG_329.ods' created successfully!\n"
     ]
    },
    {
     "name": "stderr",
     "output_type": "stream",
     "text": [
      "Warning: failed to launch javaldx - java may not function correctly\n"
     ]
    },
    {
     "name": "stdout",
     "output_type": "stream",
     "text": [
      "convert /home/kubis/Pulpit/BookScanner/BookScanner/data/documents/IMG_329.ods as a Calc document -> /home/kubis/Pulpit/BookScanner/BookScanner/data/documents/IMG_329.pdf using filter : calc_pdf_Export\n",
      "PDF '../data/documents/IMG_329.pdf' created successfully!\n",
      "All pages of 'IMG_329.pdf' converted to JPEG successfully!\n",
      "Spreadsheet 'IMG_330.ods' created successfully!\n"
     ]
    },
    {
     "name": "stderr",
     "output_type": "stream",
     "text": [
      "Warning: failed to launch javaldx - java may not function correctly\n"
     ]
    },
    {
     "name": "stdout",
     "output_type": "stream",
     "text": [
      "convert /home/kubis/Pulpit/BookScanner/BookScanner/data/documents/IMG_330.ods as a Calc document -> /home/kubis/Pulpit/BookScanner/BookScanner/data/documents/IMG_330.pdf using filter : calc_pdf_Export\n",
      "PDF '../data/documents/IMG_330.pdf' created successfully!\n",
      "All pages of 'IMG_330.pdf' converted to JPEG successfully!\n",
      "Spreadsheet 'IMG_331.ods' created successfully!\n"
     ]
    },
    {
     "name": "stderr",
     "output_type": "stream",
     "text": [
      "Warning: failed to launch javaldx - java may not function correctly\n"
     ]
    },
    {
     "name": "stdout",
     "output_type": "stream",
     "text": [
      "convert /home/kubis/Pulpit/BookScanner/BookScanner/data/documents/IMG_331.ods as a Calc document -> /home/kubis/Pulpit/BookScanner/BookScanner/data/documents/IMG_331.pdf using filter : calc_pdf_Export\n",
      "PDF '../data/documents/IMG_331.pdf' created successfully!\n",
      "All pages of 'IMG_331.pdf' converted to JPEG successfully!\n",
      "Spreadsheet 'IMG_332.ods' created successfully!\n"
     ]
    },
    {
     "name": "stderr",
     "output_type": "stream",
     "text": [
      "Warning: failed to launch javaldx - java may not function correctly\n"
     ]
    },
    {
     "name": "stdout",
     "output_type": "stream",
     "text": [
      "convert /home/kubis/Pulpit/BookScanner/BookScanner/data/documents/IMG_332.ods as a Calc document -> /home/kubis/Pulpit/BookScanner/BookScanner/data/documents/IMG_332.pdf using filter : calc_pdf_Export\n",
      "PDF '../data/documents/IMG_332.pdf' created successfully!\n",
      "All pages of 'IMG_332.pdf' converted to JPEG successfully!\n",
      "Spreadsheet 'IMG_333.ods' created successfully!\n"
     ]
    },
    {
     "name": "stderr",
     "output_type": "stream",
     "text": [
      "Warning: failed to launch javaldx - java may not function correctly\n"
     ]
    },
    {
     "name": "stdout",
     "output_type": "stream",
     "text": [
      "convert /home/kubis/Pulpit/BookScanner/BookScanner/data/documents/IMG_333.ods as a Calc document -> /home/kubis/Pulpit/BookScanner/BookScanner/data/documents/IMG_333.pdf using filter : calc_pdf_Export\n",
      "PDF '../data/documents/IMG_333.pdf' created successfully!\n",
      "All pages of 'IMG_333.pdf' converted to JPEG successfully!\n",
      "Spreadsheet 'IMG_334.ods' created successfully!\n"
     ]
    },
    {
     "name": "stderr",
     "output_type": "stream",
     "text": [
      "Warning: failed to launch javaldx - java may not function correctly\n"
     ]
    },
    {
     "name": "stdout",
     "output_type": "stream",
     "text": [
      "convert /home/kubis/Pulpit/BookScanner/BookScanner/data/documents/IMG_334.ods as a Calc document -> /home/kubis/Pulpit/BookScanner/BookScanner/data/documents/IMG_334.pdf using filter : calc_pdf_Export\n",
      "PDF '../data/documents/IMG_334.pdf' created successfully!\n",
      "All pages of 'IMG_334.pdf' converted to JPEG successfully!\n",
      "Spreadsheet 'IMG_335.ods' created successfully!\n"
     ]
    },
    {
     "name": "stderr",
     "output_type": "stream",
     "text": [
      "Warning: failed to launch javaldx - java may not function correctly\n"
     ]
    },
    {
     "name": "stdout",
     "output_type": "stream",
     "text": [
      "convert /home/kubis/Pulpit/BookScanner/BookScanner/data/documents/IMG_335.ods as a Calc document -> /home/kubis/Pulpit/BookScanner/BookScanner/data/documents/IMG_335.pdf using filter : calc_pdf_Export\n",
      "PDF '../data/documents/IMG_335.pdf' created successfully!\n",
      "All pages of 'IMG_335.pdf' converted to JPEG successfully!\n",
      "Spreadsheet 'IMG_336.ods' created successfully!\n"
     ]
    },
    {
     "name": "stderr",
     "output_type": "stream",
     "text": [
      "Warning: failed to launch javaldx - java may not function correctly\n"
     ]
    },
    {
     "name": "stdout",
     "output_type": "stream",
     "text": [
      "convert /home/kubis/Pulpit/BookScanner/BookScanner/data/documents/IMG_336.ods as a Calc document -> /home/kubis/Pulpit/BookScanner/BookScanner/data/documents/IMG_336.pdf using filter : calc_pdf_Export\n",
      "PDF '../data/documents/IMG_336.pdf' created successfully!\n",
      "All pages of 'IMG_336.pdf' converted to JPEG successfully!\n",
      "Spreadsheet 'IMG_337.ods' created successfully!\n"
     ]
    },
    {
     "name": "stderr",
     "output_type": "stream",
     "text": [
      "Warning: failed to launch javaldx - java may not function correctly\n"
     ]
    },
    {
     "name": "stdout",
     "output_type": "stream",
     "text": [
      "convert /home/kubis/Pulpit/BookScanner/BookScanner/data/documents/IMG_337.ods as a Calc document -> /home/kubis/Pulpit/BookScanner/BookScanner/data/documents/IMG_337.pdf using filter : calc_pdf_Export\n",
      "PDF '../data/documents/IMG_337.pdf' created successfully!\n",
      "All pages of 'IMG_337.pdf' converted to JPEG successfully!\n",
      "Spreadsheet 'IMG_338.ods' created successfully!\n"
     ]
    },
    {
     "name": "stderr",
     "output_type": "stream",
     "text": [
      "Warning: failed to launch javaldx - java may not function correctly\n"
     ]
    },
    {
     "name": "stdout",
     "output_type": "stream",
     "text": [
      "convert /home/kubis/Pulpit/BookScanner/BookScanner/data/documents/IMG_338.ods as a Calc document -> /home/kubis/Pulpit/BookScanner/BookScanner/data/documents/IMG_338.pdf using filter : calc_pdf_Export\n",
      "PDF '../data/documents/IMG_338.pdf' created successfully!\n",
      "All pages of 'IMG_338.pdf' converted to JPEG successfully!\n",
      "Spreadsheet 'IMG_339.ods' created successfully!\n"
     ]
    },
    {
     "name": "stderr",
     "output_type": "stream",
     "text": [
      "Warning: failed to launch javaldx - java may not function correctly\n"
     ]
    },
    {
     "name": "stdout",
     "output_type": "stream",
     "text": [
      "convert /home/kubis/Pulpit/BookScanner/BookScanner/data/documents/IMG_339.ods as a Calc document -> /home/kubis/Pulpit/BookScanner/BookScanner/data/documents/IMG_339.pdf using filter : calc_pdf_Export\n",
      "PDF '../data/documents/IMG_339.pdf' created successfully!\n",
      "All pages of 'IMG_339.pdf' converted to JPEG successfully!\n",
      "Spreadsheet 'IMG_340.ods' created successfully!\n"
     ]
    },
    {
     "name": "stderr",
     "output_type": "stream",
     "text": [
      "Warning: failed to launch javaldx - java may not function correctly\n"
     ]
    },
    {
     "name": "stdout",
     "output_type": "stream",
     "text": [
      "convert /home/kubis/Pulpit/BookScanner/BookScanner/data/documents/IMG_340.ods as a Calc document -> /home/kubis/Pulpit/BookScanner/BookScanner/data/documents/IMG_340.pdf using filter : calc_pdf_Export\n",
      "PDF '../data/documents/IMG_340.pdf' created successfully!\n",
      "All pages of 'IMG_340.pdf' converted to JPEG successfully!\n",
      "Spreadsheet 'IMG_341.ods' created successfully!\n"
     ]
    },
    {
     "name": "stderr",
     "output_type": "stream",
     "text": [
      "Warning: failed to launch javaldx - java may not function correctly\n"
     ]
    },
    {
     "name": "stdout",
     "output_type": "stream",
     "text": [
      "convert /home/kubis/Pulpit/BookScanner/BookScanner/data/documents/IMG_341.ods as a Calc document -> /home/kubis/Pulpit/BookScanner/BookScanner/data/documents/IMG_341.pdf using filter : calc_pdf_Export\n",
      "PDF '../data/documents/IMG_341.pdf' created successfully!\n",
      "All pages of 'IMG_341.pdf' converted to JPEG successfully!\n",
      "Spreadsheet 'IMG_342.ods' created successfully!\n"
     ]
    },
    {
     "name": "stderr",
     "output_type": "stream",
     "text": [
      "Warning: failed to launch javaldx - java may not function correctly\n"
     ]
    },
    {
     "name": "stdout",
     "output_type": "stream",
     "text": [
      "convert /home/kubis/Pulpit/BookScanner/BookScanner/data/documents/IMG_342.ods as a Calc document -> /home/kubis/Pulpit/BookScanner/BookScanner/data/documents/IMG_342.pdf using filter : calc_pdf_Export\n",
      "PDF '../data/documents/IMG_342.pdf' created successfully!\n",
      "All pages of 'IMG_342.pdf' converted to JPEG successfully!\n",
      "Spreadsheet 'IMG_343.ods' created successfully!\n"
     ]
    },
    {
     "name": "stderr",
     "output_type": "stream",
     "text": [
      "Warning: failed to launch javaldx - java may not function correctly\n"
     ]
    },
    {
     "name": "stdout",
     "output_type": "stream",
     "text": [
      "convert /home/kubis/Pulpit/BookScanner/BookScanner/data/documents/IMG_343.ods as a Calc document -> /home/kubis/Pulpit/BookScanner/BookScanner/data/documents/IMG_343.pdf using filter : calc_pdf_Export\n",
      "PDF '../data/documents/IMG_343.pdf' created successfully!\n",
      "All pages of 'IMG_343.pdf' converted to JPEG successfully!\n",
      "Spreadsheet 'IMG_344.ods' created successfully!\n"
     ]
    },
    {
     "name": "stderr",
     "output_type": "stream",
     "text": [
      "Warning: failed to launch javaldx - java may not function correctly\n"
     ]
    },
    {
     "name": "stdout",
     "output_type": "stream",
     "text": [
      "convert /home/kubis/Pulpit/BookScanner/BookScanner/data/documents/IMG_344.ods as a Calc document -> /home/kubis/Pulpit/BookScanner/BookScanner/data/documents/IMG_344.pdf using filter : calc_pdf_Export\n",
      "PDF '../data/documents/IMG_344.pdf' created successfully!\n",
      "All pages of 'IMG_344.pdf' converted to JPEG successfully!\n",
      "Spreadsheet 'IMG_345.ods' created successfully!\n"
     ]
    },
    {
     "name": "stderr",
     "output_type": "stream",
     "text": [
      "Warning: failed to launch javaldx - java may not function correctly\n"
     ]
    },
    {
     "name": "stdout",
     "output_type": "stream",
     "text": [
      "convert /home/kubis/Pulpit/BookScanner/BookScanner/data/documents/IMG_345.ods as a Calc document -> /home/kubis/Pulpit/BookScanner/BookScanner/data/documents/IMG_345.pdf using filter : calc_pdf_Export\n",
      "PDF '../data/documents/IMG_345.pdf' created successfully!\n",
      "All pages of 'IMG_345.pdf' converted to JPEG successfully!\n",
      "Spreadsheet 'IMG_346.ods' created successfully!\n"
     ]
    },
    {
     "name": "stderr",
     "output_type": "stream",
     "text": [
      "Warning: failed to launch javaldx - java may not function correctly\n"
     ]
    },
    {
     "name": "stdout",
     "output_type": "stream",
     "text": [
      "convert /home/kubis/Pulpit/BookScanner/BookScanner/data/documents/IMG_346.ods as a Calc document -> /home/kubis/Pulpit/BookScanner/BookScanner/data/documents/IMG_346.pdf using filter : calc_pdf_Export\n",
      "PDF '../data/documents/IMG_346.pdf' created successfully!\n",
      "All pages of 'IMG_346.pdf' converted to JPEG successfully!\n",
      "Spreadsheet 'IMG_347.ods' created successfully!\n"
     ]
    },
    {
     "name": "stderr",
     "output_type": "stream",
     "text": [
      "Warning: failed to launch javaldx - java may not function correctly\n"
     ]
    },
    {
     "name": "stdout",
     "output_type": "stream",
     "text": [
      "convert /home/kubis/Pulpit/BookScanner/BookScanner/data/documents/IMG_347.ods as a Calc document -> /home/kubis/Pulpit/BookScanner/BookScanner/data/documents/IMG_347.pdf using filter : calc_pdf_Export\n",
      "PDF '../data/documents/IMG_347.pdf' created successfully!\n",
      "All pages of 'IMG_347.pdf' converted to JPEG successfully!\n",
      "Spreadsheet 'IMG_348.ods' created successfully!\n"
     ]
    },
    {
     "name": "stderr",
     "output_type": "stream",
     "text": [
      "Warning: failed to launch javaldx - java may not function correctly\n"
     ]
    },
    {
     "name": "stdout",
     "output_type": "stream",
     "text": [
      "convert /home/kubis/Pulpit/BookScanner/BookScanner/data/documents/IMG_348.ods as a Calc document -> /home/kubis/Pulpit/BookScanner/BookScanner/data/documents/IMG_348.pdf using filter : calc_pdf_Export\n",
      "PDF '../data/documents/IMG_348.pdf' created successfully!\n",
      "All pages of 'IMG_348.pdf' converted to JPEG successfully!\n",
      "Spreadsheet 'IMG_349.ods' created successfully!\n"
     ]
    },
    {
     "name": "stderr",
     "output_type": "stream",
     "text": [
      "Warning: failed to launch javaldx - java may not function correctly\n"
     ]
    },
    {
     "name": "stdout",
     "output_type": "stream",
     "text": [
      "convert /home/kubis/Pulpit/BookScanner/BookScanner/data/documents/IMG_349.ods as a Calc document -> /home/kubis/Pulpit/BookScanner/BookScanner/data/documents/IMG_349.pdf using filter : calc_pdf_Export\n",
      "PDF '../data/documents/IMG_349.pdf' created successfully!\n",
      "All pages of 'IMG_349.pdf' converted to JPEG successfully!\n",
      "Spreadsheet 'IMG_350.ods' created successfully!\n"
     ]
    },
    {
     "name": "stderr",
     "output_type": "stream",
     "text": [
      "Warning: failed to launch javaldx - java may not function correctly\n"
     ]
    },
    {
     "name": "stdout",
     "output_type": "stream",
     "text": [
      "convert /home/kubis/Pulpit/BookScanner/BookScanner/data/documents/IMG_350.ods as a Calc document -> /home/kubis/Pulpit/BookScanner/BookScanner/data/documents/IMG_350.pdf using filter : calc_pdf_Export\n",
      "PDF '../data/documents/IMG_350.pdf' created successfully!\n",
      "All pages of 'IMG_350.pdf' converted to JPEG successfully!\n",
      "Spreadsheet 'IMG_351.ods' created successfully!\n"
     ]
    },
    {
     "name": "stderr",
     "output_type": "stream",
     "text": [
      "Warning: failed to launch javaldx - java may not function correctly\n"
     ]
    },
    {
     "name": "stdout",
     "output_type": "stream",
     "text": [
      "convert /home/kubis/Pulpit/BookScanner/BookScanner/data/documents/IMG_351.ods as a Calc document -> /home/kubis/Pulpit/BookScanner/BookScanner/data/documents/IMG_351.pdf using filter : calc_pdf_Export\n",
      "PDF '../data/documents/IMG_351.pdf' created successfully!\n",
      "All pages of 'IMG_351.pdf' converted to JPEG successfully!\n",
      "Spreadsheet 'IMG_352.ods' created successfully!\n"
     ]
    },
    {
     "name": "stderr",
     "output_type": "stream",
     "text": [
      "Warning: failed to launch javaldx - java may not function correctly\n"
     ]
    },
    {
     "name": "stdout",
     "output_type": "stream",
     "text": [
      "convert /home/kubis/Pulpit/BookScanner/BookScanner/data/documents/IMG_352.ods as a Calc document -> /home/kubis/Pulpit/BookScanner/BookScanner/data/documents/IMG_352.pdf using filter : calc_pdf_Export\n",
      "PDF '../data/documents/IMG_352.pdf' created successfully!\n",
      "All pages of 'IMG_352.pdf' converted to JPEG successfully!\n",
      "Spreadsheet 'IMG_353.ods' created successfully!\n"
     ]
    },
    {
     "name": "stderr",
     "output_type": "stream",
     "text": [
      "Warning: failed to launch javaldx - java may not function correctly\n"
     ]
    },
    {
     "name": "stdout",
     "output_type": "stream",
     "text": [
      "convert /home/kubis/Pulpit/BookScanner/BookScanner/data/documents/IMG_353.ods as a Calc document -> /home/kubis/Pulpit/BookScanner/BookScanner/data/documents/IMG_353.pdf using filter : calc_pdf_Export\n",
      "PDF '../data/documents/IMG_353.pdf' created successfully!\n",
      "All pages of 'IMG_353.pdf' converted to JPEG successfully!\n",
      "Spreadsheet 'IMG_354.ods' created successfully!\n"
     ]
    },
    {
     "name": "stderr",
     "output_type": "stream",
     "text": [
      "Warning: failed to launch javaldx - java may not function correctly\n"
     ]
    },
    {
     "name": "stdout",
     "output_type": "stream",
     "text": [
      "convert /home/kubis/Pulpit/BookScanner/BookScanner/data/documents/IMG_354.ods as a Calc document -> /home/kubis/Pulpit/BookScanner/BookScanner/data/documents/IMG_354.pdf using filter : calc_pdf_Export\n",
      "PDF '../data/documents/IMG_354.pdf' created successfully!\n",
      "All pages of 'IMG_354.pdf' converted to JPEG successfully!\n",
      "Spreadsheet 'IMG_355.ods' created successfully!\n"
     ]
    },
    {
     "name": "stderr",
     "output_type": "stream",
     "text": [
      "Warning: failed to launch javaldx - java may not function correctly\n"
     ]
    },
    {
     "name": "stdout",
     "output_type": "stream",
     "text": [
      "convert /home/kubis/Pulpit/BookScanner/BookScanner/data/documents/IMG_355.ods as a Calc document -> /home/kubis/Pulpit/BookScanner/BookScanner/data/documents/IMG_355.pdf using filter : calc_pdf_Export\n",
      "PDF '../data/documents/IMG_355.pdf' created successfully!\n",
      "All pages of 'IMG_355.pdf' converted to JPEG successfully!\n",
      "Spreadsheet 'IMG_356.ods' created successfully!\n"
     ]
    },
    {
     "name": "stderr",
     "output_type": "stream",
     "text": [
      "Warning: failed to launch javaldx - java may not function correctly\n"
     ]
    },
    {
     "name": "stdout",
     "output_type": "stream",
     "text": [
      "convert /home/kubis/Pulpit/BookScanner/BookScanner/data/documents/IMG_356.ods as a Calc document -> /home/kubis/Pulpit/BookScanner/BookScanner/data/documents/IMG_356.pdf using filter : calc_pdf_Export\n",
      "PDF '../data/documents/IMG_356.pdf' created successfully!\n",
      "All pages of 'IMG_356.pdf' converted to JPEG successfully!\n",
      "Spreadsheet 'IMG_357.ods' created successfully!\n"
     ]
    },
    {
     "name": "stderr",
     "output_type": "stream",
     "text": [
      "Warning: failed to launch javaldx - java may not function correctly\n"
     ]
    },
    {
     "name": "stdout",
     "output_type": "stream",
     "text": [
      "convert /home/kubis/Pulpit/BookScanner/BookScanner/data/documents/IMG_357.ods as a Calc document -> /home/kubis/Pulpit/BookScanner/BookScanner/data/documents/IMG_357.pdf using filter : calc_pdf_Export\n",
      "PDF '../data/documents/IMG_357.pdf' created successfully!\n",
      "All pages of 'IMG_357.pdf' converted to JPEG successfully!\n",
      "Spreadsheet 'IMG_358.ods' created successfully!\n"
     ]
    },
    {
     "name": "stderr",
     "output_type": "stream",
     "text": [
      "Warning: failed to launch javaldx - java may not function correctly\n"
     ]
    },
    {
     "name": "stdout",
     "output_type": "stream",
     "text": [
      "convert /home/kubis/Pulpit/BookScanner/BookScanner/data/documents/IMG_358.ods as a Calc document -> /home/kubis/Pulpit/BookScanner/BookScanner/data/documents/IMG_358.pdf using filter : calc_pdf_Export\n",
      "PDF '../data/documents/IMG_358.pdf' created successfully!\n",
      "All pages of 'IMG_358.pdf' converted to JPEG successfully!\n",
      "Spreadsheet 'IMG_359.ods' created successfully!\n"
     ]
    },
    {
     "name": "stderr",
     "output_type": "stream",
     "text": [
      "Warning: failed to launch javaldx - java may not function correctly\n"
     ]
    },
    {
     "name": "stdout",
     "output_type": "stream",
     "text": [
      "convert /home/kubis/Pulpit/BookScanner/BookScanner/data/documents/IMG_359.ods as a Calc document -> /home/kubis/Pulpit/BookScanner/BookScanner/data/documents/IMG_359.pdf using filter : calc_pdf_Export\n",
      "PDF '../data/documents/IMG_359.pdf' created successfully!\n",
      "All pages of 'IMG_359.pdf' converted to JPEG successfully!\n",
      "Spreadsheet 'IMG_360.ods' created successfully!\n"
     ]
    },
    {
     "name": "stderr",
     "output_type": "stream",
     "text": [
      "Warning: failed to launch javaldx - java may not function correctly\n"
     ]
    },
    {
     "name": "stdout",
     "output_type": "stream",
     "text": [
      "convert /home/kubis/Pulpit/BookScanner/BookScanner/data/documents/IMG_360.ods as a Calc document -> /home/kubis/Pulpit/BookScanner/BookScanner/data/documents/IMG_360.pdf using filter : calc_pdf_Export\n",
      "PDF '../data/documents/IMG_360.pdf' created successfully!\n",
      "All pages of 'IMG_360.pdf' converted to JPEG successfully!\n",
      "Spreadsheet 'IMG_361.ods' created successfully!\n"
     ]
    },
    {
     "name": "stderr",
     "output_type": "stream",
     "text": [
      "Warning: failed to launch javaldx - java may not function correctly\n"
     ]
    },
    {
     "name": "stdout",
     "output_type": "stream",
     "text": [
      "convert /home/kubis/Pulpit/BookScanner/BookScanner/data/documents/IMG_361.ods as a Calc document -> /home/kubis/Pulpit/BookScanner/BookScanner/data/documents/IMG_361.pdf using filter : calc_pdf_Export\n",
      "PDF '../data/documents/IMG_361.pdf' created successfully!\n",
      "All pages of 'IMG_361.pdf' converted to JPEG successfully!\n",
      "Spreadsheet 'IMG_362.ods' created successfully!\n"
     ]
    },
    {
     "name": "stderr",
     "output_type": "stream",
     "text": [
      "Warning: failed to launch javaldx - java may not function correctly\n"
     ]
    },
    {
     "name": "stdout",
     "output_type": "stream",
     "text": [
      "convert /home/kubis/Pulpit/BookScanner/BookScanner/data/documents/IMG_362.ods as a Calc document -> /home/kubis/Pulpit/BookScanner/BookScanner/data/documents/IMG_362.pdf using filter : calc_pdf_Export\n",
      "PDF '../data/documents/IMG_362.pdf' created successfully!\n",
      "All pages of 'IMG_362.pdf' converted to JPEG successfully!\n",
      "Spreadsheet 'IMG_363.ods' created successfully!\n"
     ]
    },
    {
     "name": "stderr",
     "output_type": "stream",
     "text": [
      "Warning: failed to launch javaldx - java may not function correctly\n"
     ]
    },
    {
     "name": "stdout",
     "output_type": "stream",
     "text": [
      "convert /home/kubis/Pulpit/BookScanner/BookScanner/data/documents/IMG_363.ods as a Calc document -> /home/kubis/Pulpit/BookScanner/BookScanner/data/documents/IMG_363.pdf using filter : calc_pdf_Export\n",
      "PDF '../data/documents/IMG_363.pdf' created successfully!\n",
      "All pages of 'IMG_363.pdf' converted to JPEG successfully!\n",
      "Spreadsheet 'IMG_364.ods' created successfully!\n"
     ]
    },
    {
     "name": "stderr",
     "output_type": "stream",
     "text": [
      "Warning: failed to launch javaldx - java may not function correctly\n"
     ]
    },
    {
     "name": "stdout",
     "output_type": "stream",
     "text": [
      "convert /home/kubis/Pulpit/BookScanner/BookScanner/data/documents/IMG_364.ods as a Calc document -> /home/kubis/Pulpit/BookScanner/BookScanner/data/documents/IMG_364.pdf using filter : calc_pdf_Export\n",
      "PDF '../data/documents/IMG_364.pdf' created successfully!\n",
      "All pages of 'IMG_364.pdf' converted to JPEG successfully!\n",
      "Spreadsheet 'IMG_365.ods' created successfully!\n"
     ]
    },
    {
     "name": "stderr",
     "output_type": "stream",
     "text": [
      "Warning: failed to launch javaldx - java may not function correctly\n"
     ]
    },
    {
     "name": "stdout",
     "output_type": "stream",
     "text": [
      "convert /home/kubis/Pulpit/BookScanner/BookScanner/data/documents/IMG_365.ods as a Calc document -> /home/kubis/Pulpit/BookScanner/BookScanner/data/documents/IMG_365.pdf using filter : calc_pdf_Export\n",
      "PDF '../data/documents/IMG_365.pdf' created successfully!\n",
      "All pages of 'IMG_365.pdf' converted to JPEG successfully!\n",
      "Spreadsheet 'IMG_366.ods' created successfully!\n"
     ]
    },
    {
     "name": "stderr",
     "output_type": "stream",
     "text": [
      "Warning: failed to launch javaldx - java may not function correctly\n"
     ]
    },
    {
     "name": "stdout",
     "output_type": "stream",
     "text": [
      "convert /home/kubis/Pulpit/BookScanner/BookScanner/data/documents/IMG_366.ods as a Calc document -> /home/kubis/Pulpit/BookScanner/BookScanner/data/documents/IMG_366.pdf using filter : calc_pdf_Export\n",
      "PDF '../data/documents/IMG_366.pdf' created successfully!\n",
      "All pages of 'IMG_366.pdf' converted to JPEG successfully!\n",
      "Spreadsheet 'IMG_367.ods' created successfully!\n"
     ]
    },
    {
     "name": "stderr",
     "output_type": "stream",
     "text": [
      "Warning: failed to launch javaldx - java may not function correctly\n"
     ]
    },
    {
     "name": "stdout",
     "output_type": "stream",
     "text": [
      "convert /home/kubis/Pulpit/BookScanner/BookScanner/data/documents/IMG_367.ods as a Calc document -> /home/kubis/Pulpit/BookScanner/BookScanner/data/documents/IMG_367.pdf using filter : calc_pdf_Export\n",
      "PDF '../data/documents/IMG_367.pdf' created successfully!\n",
      "All pages of 'IMG_367.pdf' converted to JPEG successfully!\n",
      "Spreadsheet 'IMG_368.ods' created successfully!\n"
     ]
    },
    {
     "name": "stderr",
     "output_type": "stream",
     "text": [
      "Warning: failed to launch javaldx - java may not function correctly\n"
     ]
    },
    {
     "name": "stdout",
     "output_type": "stream",
     "text": [
      "convert /home/kubis/Pulpit/BookScanner/BookScanner/data/documents/IMG_368.ods as a Calc document -> /home/kubis/Pulpit/BookScanner/BookScanner/data/documents/IMG_368.pdf using filter : calc_pdf_Export\n",
      "PDF '../data/documents/IMG_368.pdf' created successfully!\n",
      "All pages of 'IMG_368.pdf' converted to JPEG successfully!\n",
      "Spreadsheet 'IMG_369.ods' created successfully!\n"
     ]
    },
    {
     "name": "stderr",
     "output_type": "stream",
     "text": [
      "Warning: failed to launch javaldx - java may not function correctly\n"
     ]
    },
    {
     "name": "stdout",
     "output_type": "stream",
     "text": [
      "convert /home/kubis/Pulpit/BookScanner/BookScanner/data/documents/IMG_369.ods as a Calc document -> /home/kubis/Pulpit/BookScanner/BookScanner/data/documents/IMG_369.pdf using filter : calc_pdf_Export\n",
      "PDF '../data/documents/IMG_369.pdf' created successfully!\n",
      "All pages of 'IMG_369.pdf' converted to JPEG successfully!\n",
      "Spreadsheet 'IMG_370.ods' created successfully!\n"
     ]
    },
    {
     "name": "stderr",
     "output_type": "stream",
     "text": [
      "Warning: failed to launch javaldx - java may not function correctly\n"
     ]
    },
    {
     "name": "stdout",
     "output_type": "stream",
     "text": [
      "convert /home/kubis/Pulpit/BookScanner/BookScanner/data/documents/IMG_370.ods as a Calc document -> /home/kubis/Pulpit/BookScanner/BookScanner/data/documents/IMG_370.pdf using filter : calc_pdf_Export\n",
      "PDF '../data/documents/IMG_370.pdf' created successfully!\n",
      "All pages of 'IMG_370.pdf' converted to JPEG successfully!\n",
      "Spreadsheet 'IMG_371.ods' created successfully!\n"
     ]
    },
    {
     "name": "stderr",
     "output_type": "stream",
     "text": [
      "Warning: failed to launch javaldx - java may not function correctly\n"
     ]
    },
    {
     "name": "stdout",
     "output_type": "stream",
     "text": [
      "convert /home/kubis/Pulpit/BookScanner/BookScanner/data/documents/IMG_371.ods as a Calc document -> /home/kubis/Pulpit/BookScanner/BookScanner/data/documents/IMG_371.pdf using filter : calc_pdf_Export\n",
      "PDF '../data/documents/IMG_371.pdf' created successfully!\n",
      "All pages of 'IMG_371.pdf' converted to JPEG successfully!\n",
      "Spreadsheet 'IMG_372.ods' created successfully!\n"
     ]
    },
    {
     "name": "stderr",
     "output_type": "stream",
     "text": [
      "Warning: failed to launch javaldx - java may not function correctly\n"
     ]
    },
    {
     "name": "stdout",
     "output_type": "stream",
     "text": [
      "convert /home/kubis/Pulpit/BookScanner/BookScanner/data/documents/IMG_372.ods as a Calc document -> /home/kubis/Pulpit/BookScanner/BookScanner/data/documents/IMG_372.pdf using filter : calc_pdf_Export\n",
      "PDF '../data/documents/IMG_372.pdf' created successfully!\n",
      "All pages of 'IMG_372.pdf' converted to JPEG successfully!\n",
      "Spreadsheet 'IMG_373.ods' created successfully!\n"
     ]
    },
    {
     "name": "stderr",
     "output_type": "stream",
     "text": [
      "Warning: failed to launch javaldx - java may not function correctly\n"
     ]
    },
    {
     "name": "stdout",
     "output_type": "stream",
     "text": [
      "convert /home/kubis/Pulpit/BookScanner/BookScanner/data/documents/IMG_373.ods as a Calc document -> /home/kubis/Pulpit/BookScanner/BookScanner/data/documents/IMG_373.pdf using filter : calc_pdf_Export\n",
      "PDF '../data/documents/IMG_373.pdf' created successfully!\n",
      "All pages of 'IMG_373.pdf' converted to JPEG successfully!\n",
      "Spreadsheet 'IMG_374.ods' created successfully!\n"
     ]
    },
    {
     "name": "stderr",
     "output_type": "stream",
     "text": [
      "Warning: failed to launch javaldx - java may not function correctly\n"
     ]
    },
    {
     "name": "stdout",
     "output_type": "stream",
     "text": [
      "convert /home/kubis/Pulpit/BookScanner/BookScanner/data/documents/IMG_374.ods as a Calc document -> /home/kubis/Pulpit/BookScanner/BookScanner/data/documents/IMG_374.pdf using filter : calc_pdf_Export\n",
      "PDF '../data/documents/IMG_374.pdf' created successfully!\n",
      "All pages of 'IMG_374.pdf' converted to JPEG successfully!\n",
      "Spreadsheet 'IMG_375.ods' created successfully!\n"
     ]
    },
    {
     "name": "stderr",
     "output_type": "stream",
     "text": [
      "Warning: failed to launch javaldx - java may not function correctly\n"
     ]
    },
    {
     "name": "stdout",
     "output_type": "stream",
     "text": [
      "convert /home/kubis/Pulpit/BookScanner/BookScanner/data/documents/IMG_375.ods as a Calc document -> /home/kubis/Pulpit/BookScanner/BookScanner/data/documents/IMG_375.pdf using filter : calc_pdf_Export\n",
      "PDF '../data/documents/IMG_375.pdf' created successfully!\n",
      "All pages of 'IMG_375.pdf' converted to JPEG successfully!\n",
      "Spreadsheet 'IMG_376.ods' created successfully!\n"
     ]
    },
    {
     "name": "stderr",
     "output_type": "stream",
     "text": [
      "Warning: failed to launch javaldx - java may not function correctly\n"
     ]
    },
    {
     "name": "stdout",
     "output_type": "stream",
     "text": [
      "convert /home/kubis/Pulpit/BookScanner/BookScanner/data/documents/IMG_376.ods as a Calc document -> /home/kubis/Pulpit/BookScanner/BookScanner/data/documents/IMG_376.pdf using filter : calc_pdf_Export\n",
      "PDF '../data/documents/IMG_376.pdf' created successfully!\n",
      "All pages of 'IMG_376.pdf' converted to JPEG successfully!\n",
      "Spreadsheet 'IMG_377.ods' created successfully!\n"
     ]
    },
    {
     "name": "stderr",
     "output_type": "stream",
     "text": [
      "Warning: failed to launch javaldx - java may not function correctly\n"
     ]
    },
    {
     "name": "stdout",
     "output_type": "stream",
     "text": [
      "convert /home/kubis/Pulpit/BookScanner/BookScanner/data/documents/IMG_377.ods as a Calc document -> /home/kubis/Pulpit/BookScanner/BookScanner/data/documents/IMG_377.pdf using filter : calc_pdf_Export\n",
      "PDF '../data/documents/IMG_377.pdf' created successfully!\n",
      "All pages of 'IMG_377.pdf' converted to JPEG successfully!\n",
      "Spreadsheet 'IMG_378.ods' created successfully!\n"
     ]
    },
    {
     "name": "stderr",
     "output_type": "stream",
     "text": [
      "Warning: failed to launch javaldx - java may not function correctly\n"
     ]
    },
    {
     "name": "stdout",
     "output_type": "stream",
     "text": [
      "convert /home/kubis/Pulpit/BookScanner/BookScanner/data/documents/IMG_378.ods as a Calc document -> /home/kubis/Pulpit/BookScanner/BookScanner/data/documents/IMG_378.pdf using filter : calc_pdf_Export\n",
      "PDF '../data/documents/IMG_378.pdf' created successfully!\n",
      "All pages of 'IMG_378.pdf' converted to JPEG successfully!\n",
      "Spreadsheet 'IMG_379.ods' created successfully!\n"
     ]
    },
    {
     "name": "stderr",
     "output_type": "stream",
     "text": [
      "Warning: failed to launch javaldx - java may not function correctly\n"
     ]
    },
    {
     "name": "stdout",
     "output_type": "stream",
     "text": [
      "convert /home/kubis/Pulpit/BookScanner/BookScanner/data/documents/IMG_379.ods as a Calc document -> /home/kubis/Pulpit/BookScanner/BookScanner/data/documents/IMG_379.pdf using filter : calc_pdf_Export\n",
      "PDF '../data/documents/IMG_379.pdf' created successfully!\n",
      "All pages of 'IMG_379.pdf' converted to JPEG successfully!\n",
      "Spreadsheet 'IMG_380.ods' created successfully!\n"
     ]
    },
    {
     "name": "stderr",
     "output_type": "stream",
     "text": [
      "Warning: failed to launch javaldx - java may not function correctly\n"
     ]
    },
    {
     "name": "stdout",
     "output_type": "stream",
     "text": [
      "convert /home/kubis/Pulpit/BookScanner/BookScanner/data/documents/IMG_380.ods as a Calc document -> /home/kubis/Pulpit/BookScanner/BookScanner/data/documents/IMG_380.pdf using filter : calc_pdf_Export\n",
      "PDF '../data/documents/IMG_380.pdf' created successfully!\n",
      "All pages of 'IMG_380.pdf' converted to JPEG successfully!\n",
      "Spreadsheet 'IMG_381.ods' created successfully!\n"
     ]
    },
    {
     "name": "stderr",
     "output_type": "stream",
     "text": [
      "Warning: failed to launch javaldx - java may not function correctly\n"
     ]
    },
    {
     "name": "stdout",
     "output_type": "stream",
     "text": [
      "convert /home/kubis/Pulpit/BookScanner/BookScanner/data/documents/IMG_381.ods as a Calc document -> /home/kubis/Pulpit/BookScanner/BookScanner/data/documents/IMG_381.pdf using filter : calc_pdf_Export\n",
      "PDF '../data/documents/IMG_381.pdf' created successfully!\n",
      "All pages of 'IMG_381.pdf' converted to JPEG successfully!\n",
      "Spreadsheet 'IMG_382.ods' created successfully!\n"
     ]
    },
    {
     "name": "stderr",
     "output_type": "stream",
     "text": [
      "Warning: failed to launch javaldx - java may not function correctly\n"
     ]
    },
    {
     "name": "stdout",
     "output_type": "stream",
     "text": [
      "convert /home/kubis/Pulpit/BookScanner/BookScanner/data/documents/IMG_382.ods as a Calc document -> /home/kubis/Pulpit/BookScanner/BookScanner/data/documents/IMG_382.pdf using filter : calc_pdf_Export\n",
      "PDF '../data/documents/IMG_382.pdf' created successfully!\n",
      "All pages of 'IMG_382.pdf' converted to JPEG successfully!\n",
      "Spreadsheet 'IMG_383.ods' created successfully!\n"
     ]
    },
    {
     "name": "stderr",
     "output_type": "stream",
     "text": [
      "Warning: failed to launch javaldx - java may not function correctly\n"
     ]
    },
    {
     "name": "stdout",
     "output_type": "stream",
     "text": [
      "convert /home/kubis/Pulpit/BookScanner/BookScanner/data/documents/IMG_383.ods as a Calc document -> /home/kubis/Pulpit/BookScanner/BookScanner/data/documents/IMG_383.pdf using filter : calc_pdf_Export\n",
      "PDF '../data/documents/IMG_383.pdf' created successfully!\n",
      "All pages of 'IMG_383.pdf' converted to JPEG successfully!\n",
      "Spreadsheet 'IMG_384.ods' created successfully!\n"
     ]
    },
    {
     "name": "stderr",
     "output_type": "stream",
     "text": [
      "Warning: failed to launch javaldx - java may not function correctly\n"
     ]
    },
    {
     "name": "stdout",
     "output_type": "stream",
     "text": [
      "convert /home/kubis/Pulpit/BookScanner/BookScanner/data/documents/IMG_384.ods as a Calc document -> /home/kubis/Pulpit/BookScanner/BookScanner/data/documents/IMG_384.pdf using filter : calc_pdf_Export\n",
      "PDF '../data/documents/IMG_384.pdf' created successfully!\n",
      "All pages of 'IMG_384.pdf' converted to JPEG successfully!\n",
      "Spreadsheet 'IMG_385.ods' created successfully!\n"
     ]
    },
    {
     "name": "stderr",
     "output_type": "stream",
     "text": [
      "Warning: failed to launch javaldx - java may not function correctly\n"
     ]
    },
    {
     "name": "stdout",
     "output_type": "stream",
     "text": [
      "convert /home/kubis/Pulpit/BookScanner/BookScanner/data/documents/IMG_385.ods as a Calc document -> /home/kubis/Pulpit/BookScanner/BookScanner/data/documents/IMG_385.pdf using filter : calc_pdf_Export\n",
      "PDF '../data/documents/IMG_385.pdf' created successfully!\n",
      "All pages of 'IMG_385.pdf' converted to JPEG successfully!\n",
      "Spreadsheet 'IMG_386.ods' created successfully!\n"
     ]
    },
    {
     "name": "stderr",
     "output_type": "stream",
     "text": [
      "Warning: failed to launch javaldx - java may not function correctly\n"
     ]
    },
    {
     "name": "stdout",
     "output_type": "stream",
     "text": [
      "convert /home/kubis/Pulpit/BookScanner/BookScanner/data/documents/IMG_386.ods as a Calc document -> /home/kubis/Pulpit/BookScanner/BookScanner/data/documents/IMG_386.pdf using filter : calc_pdf_Export\n",
      "PDF '../data/documents/IMG_386.pdf' created successfully!\n",
      "All pages of 'IMG_386.pdf' converted to JPEG successfully!\n",
      "Spreadsheet 'IMG_387.ods' created successfully!\n"
     ]
    },
    {
     "name": "stderr",
     "output_type": "stream",
     "text": [
      "Warning: failed to launch javaldx - java may not function correctly\n"
     ]
    },
    {
     "name": "stdout",
     "output_type": "stream",
     "text": [
      "convert /home/kubis/Pulpit/BookScanner/BookScanner/data/documents/IMG_387.ods as a Calc document -> /home/kubis/Pulpit/BookScanner/BookScanner/data/documents/IMG_387.pdf using filter : calc_pdf_Export\n",
      "PDF '../data/documents/IMG_387.pdf' created successfully!\n",
      "All pages of 'IMG_387.pdf' converted to JPEG successfully!\n",
      "Spreadsheet 'IMG_388.ods' created successfully!\n"
     ]
    },
    {
     "name": "stderr",
     "output_type": "stream",
     "text": [
      "Warning: failed to launch javaldx - java may not function correctly\n"
     ]
    },
    {
     "name": "stdout",
     "output_type": "stream",
     "text": [
      "convert /home/kubis/Pulpit/BookScanner/BookScanner/data/documents/IMG_388.ods as a Calc document -> /home/kubis/Pulpit/BookScanner/BookScanner/data/documents/IMG_388.pdf using filter : calc_pdf_Export\n",
      "PDF '../data/documents/IMG_388.pdf' created successfully!\n",
      "All pages of 'IMG_388.pdf' converted to JPEG successfully!\n",
      "Spreadsheet 'IMG_389.ods' created successfully!\n"
     ]
    },
    {
     "name": "stderr",
     "output_type": "stream",
     "text": [
      "Warning: failed to launch javaldx - java may not function correctly\n"
     ]
    },
    {
     "name": "stdout",
     "output_type": "stream",
     "text": [
      "convert /home/kubis/Pulpit/BookScanner/BookScanner/data/documents/IMG_389.ods as a Calc document -> /home/kubis/Pulpit/BookScanner/BookScanner/data/documents/IMG_389.pdf using filter : calc_pdf_Export\n",
      "PDF '../data/documents/IMG_389.pdf' created successfully!\n",
      "All pages of 'IMG_389.pdf' converted to JPEG successfully!\n",
      "Spreadsheet 'IMG_390.ods' created successfully!\n"
     ]
    },
    {
     "name": "stderr",
     "output_type": "stream",
     "text": [
      "Warning: failed to launch javaldx - java may not function correctly\n"
     ]
    },
    {
     "name": "stdout",
     "output_type": "stream",
     "text": [
      "convert /home/kubis/Pulpit/BookScanner/BookScanner/data/documents/IMG_390.ods as a Calc document -> /home/kubis/Pulpit/BookScanner/BookScanner/data/documents/IMG_390.pdf using filter : calc_pdf_Export\n",
      "PDF '../data/documents/IMG_390.pdf' created successfully!\n",
      "All pages of 'IMG_390.pdf' converted to JPEG successfully!\n",
      "Spreadsheet 'IMG_391.ods' created successfully!\n"
     ]
    },
    {
     "name": "stderr",
     "output_type": "stream",
     "text": [
      "Warning: failed to launch javaldx - java may not function correctly\n"
     ]
    },
    {
     "name": "stdout",
     "output_type": "stream",
     "text": [
      "convert /home/kubis/Pulpit/BookScanner/BookScanner/data/documents/IMG_391.ods as a Calc document -> /home/kubis/Pulpit/BookScanner/BookScanner/data/documents/IMG_391.pdf using filter : calc_pdf_Export\n",
      "PDF '../data/documents/IMG_391.pdf' created successfully!\n",
      "All pages of 'IMG_391.pdf' converted to JPEG successfully!\n",
      "Spreadsheet 'IMG_392.ods' created successfully!\n"
     ]
    },
    {
     "name": "stderr",
     "output_type": "stream",
     "text": [
      "Warning: failed to launch javaldx - java may not function correctly\n"
     ]
    },
    {
     "name": "stdout",
     "output_type": "stream",
     "text": [
      "convert /home/kubis/Pulpit/BookScanner/BookScanner/data/documents/IMG_392.ods as a Calc document -> /home/kubis/Pulpit/BookScanner/BookScanner/data/documents/IMG_392.pdf using filter : calc_pdf_Export\n",
      "PDF '../data/documents/IMG_392.pdf' created successfully!\n",
      "All pages of 'IMG_392.pdf' converted to JPEG successfully!\n",
      "Spreadsheet 'IMG_393.ods' created successfully!\n"
     ]
    },
    {
     "name": "stderr",
     "output_type": "stream",
     "text": [
      "Warning: failed to launch javaldx - java may not function correctly\n"
     ]
    },
    {
     "name": "stdout",
     "output_type": "stream",
     "text": [
      "convert /home/kubis/Pulpit/BookScanner/BookScanner/data/documents/IMG_393.ods as a Calc document -> /home/kubis/Pulpit/BookScanner/BookScanner/data/documents/IMG_393.pdf using filter : calc_pdf_Export\n",
      "PDF '../data/documents/IMG_393.pdf' created successfully!\n",
      "All pages of 'IMG_393.pdf' converted to JPEG successfully!\n",
      "Spreadsheet 'IMG_394.ods' created successfully!\n"
     ]
    },
    {
     "name": "stderr",
     "output_type": "stream",
     "text": [
      "Warning: failed to launch javaldx - java may not function correctly\n"
     ]
    },
    {
     "name": "stdout",
     "output_type": "stream",
     "text": [
      "convert /home/kubis/Pulpit/BookScanner/BookScanner/data/documents/IMG_394.ods as a Calc document -> /home/kubis/Pulpit/BookScanner/BookScanner/data/documents/IMG_394.pdf using filter : calc_pdf_Export\n",
      "PDF '../data/documents/IMG_394.pdf' created successfully!\n",
      "All pages of 'IMG_394.pdf' converted to JPEG successfully!\n",
      "Spreadsheet 'IMG_395.ods' created successfully!\n"
     ]
    },
    {
     "name": "stderr",
     "output_type": "stream",
     "text": [
      "Warning: failed to launch javaldx - java may not function correctly\n"
     ]
    },
    {
     "name": "stdout",
     "output_type": "stream",
     "text": [
      "convert /home/kubis/Pulpit/BookScanner/BookScanner/data/documents/IMG_395.ods as a Calc document -> /home/kubis/Pulpit/BookScanner/BookScanner/data/documents/IMG_395.pdf using filter : calc_pdf_Export\n",
      "PDF '../data/documents/IMG_395.pdf' created successfully!\n",
      "All pages of 'IMG_395.pdf' converted to JPEG successfully!\n",
      "Spreadsheet 'IMG_396.ods' created successfully!\n"
     ]
    },
    {
     "name": "stderr",
     "output_type": "stream",
     "text": [
      "Warning: failed to launch javaldx - java may not function correctly\n"
     ]
    },
    {
     "name": "stdout",
     "output_type": "stream",
     "text": [
      "convert /home/kubis/Pulpit/BookScanner/BookScanner/data/documents/IMG_396.ods as a Calc document -> /home/kubis/Pulpit/BookScanner/BookScanner/data/documents/IMG_396.pdf using filter : calc_pdf_Export\n",
      "PDF '../data/documents/IMG_396.pdf' created successfully!\n",
      "All pages of 'IMG_396.pdf' converted to JPEG successfully!\n",
      "Spreadsheet 'IMG_397.ods' created successfully!\n"
     ]
    },
    {
     "name": "stderr",
     "output_type": "stream",
     "text": [
      "Warning: failed to launch javaldx - java may not function correctly\n"
     ]
    },
    {
     "name": "stdout",
     "output_type": "stream",
     "text": [
      "convert /home/kubis/Pulpit/BookScanner/BookScanner/data/documents/IMG_397.ods as a Calc document -> /home/kubis/Pulpit/BookScanner/BookScanner/data/documents/IMG_397.pdf using filter : calc_pdf_Export\n",
      "PDF '../data/documents/IMG_397.pdf' created successfully!\n",
      "All pages of 'IMG_397.pdf' converted to JPEG successfully!\n",
      "Spreadsheet 'IMG_398.ods' created successfully!\n"
     ]
    },
    {
     "name": "stderr",
     "output_type": "stream",
     "text": [
      "Warning: failed to launch javaldx - java may not function correctly\n"
     ]
    },
    {
     "name": "stdout",
     "output_type": "stream",
     "text": [
      "convert /home/kubis/Pulpit/BookScanner/BookScanner/data/documents/IMG_398.ods as a Calc document -> /home/kubis/Pulpit/BookScanner/BookScanner/data/documents/IMG_398.pdf using filter : calc_pdf_Export\n",
      "PDF '../data/documents/IMG_398.pdf' created successfully!\n",
      "All pages of 'IMG_398.pdf' converted to JPEG successfully!\n",
      "Spreadsheet 'IMG_399.ods' created successfully!\n"
     ]
    },
    {
     "name": "stderr",
     "output_type": "stream",
     "text": [
      "Warning: failed to launch javaldx - java may not function correctly\n"
     ]
    },
    {
     "name": "stdout",
     "output_type": "stream",
     "text": [
      "convert /home/kubis/Pulpit/BookScanner/BookScanner/data/documents/IMG_399.ods as a Calc document -> /home/kubis/Pulpit/BookScanner/BookScanner/data/documents/IMG_399.pdf using filter : calc_pdf_Export\n",
      "PDF '../data/documents/IMG_399.pdf' created successfully!\n",
      "All pages of 'IMG_399.pdf' converted to JPEG successfully!\n",
      "Spreadsheet 'IMG_400.ods' created successfully!\n"
     ]
    },
    {
     "name": "stderr",
     "output_type": "stream",
     "text": [
      "Warning: failed to launch javaldx - java may not function correctly\n"
     ]
    },
    {
     "name": "stdout",
     "output_type": "stream",
     "text": [
      "convert /home/kubis/Pulpit/BookScanner/BookScanner/data/documents/IMG_400.ods as a Calc document -> /home/kubis/Pulpit/BookScanner/BookScanner/data/documents/IMG_400.pdf using filter : calc_pdf_Export\n",
      "PDF '../data/documents/IMG_400.pdf' created successfully!\n",
      "All pages of 'IMG_400.pdf' converted to JPEG successfully!\n",
      "Spreadsheet 'IMG_401.ods' created successfully!\n"
     ]
    },
    {
     "name": "stderr",
     "output_type": "stream",
     "text": [
      "Warning: failed to launch javaldx - java may not function correctly\n"
     ]
    },
    {
     "name": "stdout",
     "output_type": "stream",
     "text": [
      "convert /home/kubis/Pulpit/BookScanner/BookScanner/data/documents/IMG_401.ods as a Calc document -> /home/kubis/Pulpit/BookScanner/BookScanner/data/documents/IMG_401.pdf using filter : calc_pdf_Export\n",
      "PDF '../data/documents/IMG_401.pdf' created successfully!\n",
      "All pages of 'IMG_401.pdf' converted to JPEG successfully!\n",
      "Spreadsheet 'IMG_402.ods' created successfully!\n"
     ]
    },
    {
     "name": "stderr",
     "output_type": "stream",
     "text": [
      "Warning: failed to launch javaldx - java may not function correctly\n"
     ]
    },
    {
     "name": "stdout",
     "output_type": "stream",
     "text": [
      "convert /home/kubis/Pulpit/BookScanner/BookScanner/data/documents/IMG_402.ods as a Calc document -> /home/kubis/Pulpit/BookScanner/BookScanner/data/documents/IMG_402.pdf using filter : calc_pdf_Export\n",
      "PDF '../data/documents/IMG_402.pdf' created successfully!\n",
      "All pages of 'IMG_402.pdf' converted to JPEG successfully!\n",
      "Spreadsheet 'IMG_403.ods' created successfully!\n"
     ]
    },
    {
     "name": "stderr",
     "output_type": "stream",
     "text": [
      "Warning: failed to launch javaldx - java may not function correctly\n"
     ]
    },
    {
     "name": "stdout",
     "output_type": "stream",
     "text": [
      "convert /home/kubis/Pulpit/BookScanner/BookScanner/data/documents/IMG_403.ods as a Calc document -> /home/kubis/Pulpit/BookScanner/BookScanner/data/documents/IMG_403.pdf using filter : calc_pdf_Export\n",
      "PDF '../data/documents/IMG_403.pdf' created successfully!\n",
      "All pages of 'IMG_403.pdf' converted to JPEG successfully!\n",
      "Spreadsheet 'IMG_404.ods' created successfully!\n"
     ]
    },
    {
     "name": "stderr",
     "output_type": "stream",
     "text": [
      "Warning: failed to launch javaldx - java may not function correctly\n"
     ]
    },
    {
     "name": "stdout",
     "output_type": "stream",
     "text": [
      "convert /home/kubis/Pulpit/BookScanner/BookScanner/data/documents/IMG_404.ods as a Calc document -> /home/kubis/Pulpit/BookScanner/BookScanner/data/documents/IMG_404.pdf using filter : calc_pdf_Export\n",
      "PDF '../data/documents/IMG_404.pdf' created successfully!\n",
      "All pages of 'IMG_404.pdf' converted to JPEG successfully!\n",
      "Spreadsheet 'IMG_405.ods' created successfully!\n"
     ]
    },
    {
     "name": "stderr",
     "output_type": "stream",
     "text": [
      "Warning: failed to launch javaldx - java may not function correctly\n"
     ]
    },
    {
     "name": "stdout",
     "output_type": "stream",
     "text": [
      "convert /home/kubis/Pulpit/BookScanner/BookScanner/data/documents/IMG_405.ods as a Calc document -> /home/kubis/Pulpit/BookScanner/BookScanner/data/documents/IMG_405.pdf using filter : calc_pdf_Export\n",
      "PDF '../data/documents/IMG_405.pdf' created successfully!\n",
      "All pages of 'IMG_405.pdf' converted to JPEG successfully!\n",
      "Spreadsheet 'IMG_406.ods' created successfully!\n"
     ]
    },
    {
     "name": "stderr",
     "output_type": "stream",
     "text": [
      "Warning: failed to launch javaldx - java may not function correctly\n"
     ]
    },
    {
     "name": "stdout",
     "output_type": "stream",
     "text": [
      "convert /home/kubis/Pulpit/BookScanner/BookScanner/data/documents/IMG_406.ods as a Calc document -> /home/kubis/Pulpit/BookScanner/BookScanner/data/documents/IMG_406.pdf using filter : calc_pdf_Export\n",
      "PDF '../data/documents/IMG_406.pdf' created successfully!\n",
      "All pages of 'IMG_406.pdf' converted to JPEG successfully!\n",
      "Spreadsheet 'IMG_407.ods' created successfully!\n"
     ]
    },
    {
     "name": "stderr",
     "output_type": "stream",
     "text": [
      "Warning: failed to launch javaldx - java may not function correctly\n"
     ]
    },
    {
     "name": "stdout",
     "output_type": "stream",
     "text": [
      "convert /home/kubis/Pulpit/BookScanner/BookScanner/data/documents/IMG_407.ods as a Calc document -> /home/kubis/Pulpit/BookScanner/BookScanner/data/documents/IMG_407.pdf using filter : calc_pdf_Export\n",
      "PDF '../data/documents/IMG_407.pdf' created successfully!\n",
      "All pages of 'IMG_407.pdf' converted to JPEG successfully!\n",
      "Spreadsheet 'IMG_408.ods' created successfully!\n"
     ]
    },
    {
     "name": "stderr",
     "output_type": "stream",
     "text": [
      "Warning: failed to launch javaldx - java may not function correctly\n"
     ]
    },
    {
     "name": "stdout",
     "output_type": "stream",
     "text": [
      "convert /home/kubis/Pulpit/BookScanner/BookScanner/data/documents/IMG_408.ods as a Calc document -> /home/kubis/Pulpit/BookScanner/BookScanner/data/documents/IMG_408.pdf using filter : calc_pdf_Export\n",
      "PDF '../data/documents/IMG_408.pdf' created successfully!\n",
      "All pages of 'IMG_408.pdf' converted to JPEG successfully!\n",
      "Spreadsheet 'IMG_409.ods' created successfully!\n"
     ]
    },
    {
     "name": "stderr",
     "output_type": "stream",
     "text": [
      "Warning: failed to launch javaldx - java may not function correctly\n"
     ]
    },
    {
     "name": "stdout",
     "output_type": "stream",
     "text": [
      "convert /home/kubis/Pulpit/BookScanner/BookScanner/data/documents/IMG_409.ods as a Calc document -> /home/kubis/Pulpit/BookScanner/BookScanner/data/documents/IMG_409.pdf using filter : calc_pdf_Export\n",
      "PDF '../data/documents/IMG_409.pdf' created successfully!\n",
      "All pages of 'IMG_409.pdf' converted to JPEG successfully!\n",
      "Spreadsheet 'IMG_410.ods' created successfully!\n"
     ]
    },
    {
     "name": "stderr",
     "output_type": "stream",
     "text": [
      "Warning: failed to launch javaldx - java may not function correctly\n"
     ]
    },
    {
     "name": "stdout",
     "output_type": "stream",
     "text": [
      "convert /home/kubis/Pulpit/BookScanner/BookScanner/data/documents/IMG_410.ods as a Calc document -> /home/kubis/Pulpit/BookScanner/BookScanner/data/documents/IMG_410.pdf using filter : calc_pdf_Export\n",
      "PDF '../data/documents/IMG_410.pdf' created successfully!\n",
      "All pages of 'IMG_410.pdf' converted to JPEG successfully!\n",
      "Spreadsheet 'IMG_411.ods' created successfully!\n"
     ]
    },
    {
     "name": "stderr",
     "output_type": "stream",
     "text": [
      "Warning: failed to launch javaldx - java may not function correctly\n"
     ]
    },
    {
     "name": "stdout",
     "output_type": "stream",
     "text": [
      "convert /home/kubis/Pulpit/BookScanner/BookScanner/data/documents/IMG_411.ods as a Calc document -> /home/kubis/Pulpit/BookScanner/BookScanner/data/documents/IMG_411.pdf using filter : calc_pdf_Export\n",
      "PDF '../data/documents/IMG_411.pdf' created successfully!\n",
      "All pages of 'IMG_411.pdf' converted to JPEG successfully!\n",
      "Spreadsheet 'IMG_412.ods' created successfully!\n"
     ]
    },
    {
     "name": "stderr",
     "output_type": "stream",
     "text": [
      "Warning: failed to launch javaldx - java may not function correctly\n"
     ]
    },
    {
     "name": "stdout",
     "output_type": "stream",
     "text": [
      "convert /home/kubis/Pulpit/BookScanner/BookScanner/data/documents/IMG_412.ods as a Calc document -> /home/kubis/Pulpit/BookScanner/BookScanner/data/documents/IMG_412.pdf using filter : calc_pdf_Export\n",
      "PDF '../data/documents/IMG_412.pdf' created successfully!\n",
      "All pages of 'IMG_412.pdf' converted to JPEG successfully!\n",
      "Spreadsheet 'IMG_413.ods' created successfully!\n"
     ]
    },
    {
     "name": "stderr",
     "output_type": "stream",
     "text": [
      "Warning: failed to launch javaldx - java may not function correctly\n"
     ]
    },
    {
     "name": "stdout",
     "output_type": "stream",
     "text": [
      "convert /home/kubis/Pulpit/BookScanner/BookScanner/data/documents/IMG_413.ods as a Calc document -> /home/kubis/Pulpit/BookScanner/BookScanner/data/documents/IMG_413.pdf using filter : calc_pdf_Export\n",
      "PDF '../data/documents/IMG_413.pdf' created successfully!\n",
      "All pages of 'IMG_413.pdf' converted to JPEG successfully!\n",
      "Spreadsheet 'IMG_414.ods' created successfully!\n"
     ]
    },
    {
     "name": "stderr",
     "output_type": "stream",
     "text": [
      "Warning: failed to launch javaldx - java may not function correctly\n"
     ]
    },
    {
     "name": "stdout",
     "output_type": "stream",
     "text": [
      "convert /home/kubis/Pulpit/BookScanner/BookScanner/data/documents/IMG_414.ods as a Calc document -> /home/kubis/Pulpit/BookScanner/BookScanner/data/documents/IMG_414.pdf using filter : calc_pdf_Export\n",
      "PDF '../data/documents/IMG_414.pdf' created successfully!\n",
      "All pages of 'IMG_414.pdf' converted to JPEG successfully!\n",
      "Spreadsheet 'IMG_415.ods' created successfully!\n"
     ]
    },
    {
     "name": "stderr",
     "output_type": "stream",
     "text": [
      "Warning: failed to launch javaldx - java may not function correctly\n"
     ]
    },
    {
     "name": "stdout",
     "output_type": "stream",
     "text": [
      "convert /home/kubis/Pulpit/BookScanner/BookScanner/data/documents/IMG_415.ods as a Calc document -> /home/kubis/Pulpit/BookScanner/BookScanner/data/documents/IMG_415.pdf using filter : calc_pdf_Export\n",
      "PDF '../data/documents/IMG_415.pdf' created successfully!\n",
      "All pages of 'IMG_415.pdf' converted to JPEG successfully!\n",
      "Spreadsheet 'IMG_416.ods' created successfully!\n"
     ]
    },
    {
     "name": "stderr",
     "output_type": "stream",
     "text": [
      "Warning: failed to launch javaldx - java may not function correctly\n"
     ]
    },
    {
     "name": "stdout",
     "output_type": "stream",
     "text": [
      "convert /home/kubis/Pulpit/BookScanner/BookScanner/data/documents/IMG_416.ods as a Calc document -> /home/kubis/Pulpit/BookScanner/BookScanner/data/documents/IMG_416.pdf using filter : calc_pdf_Export\n",
      "PDF '../data/documents/IMG_416.pdf' created successfully!\n",
      "All pages of 'IMG_416.pdf' converted to JPEG successfully!\n",
      "Spreadsheet 'IMG_417.ods' created successfully!\n"
     ]
    },
    {
     "name": "stderr",
     "output_type": "stream",
     "text": [
      "Warning: failed to launch javaldx - java may not function correctly\n"
     ]
    },
    {
     "name": "stdout",
     "output_type": "stream",
     "text": [
      "convert /home/kubis/Pulpit/BookScanner/BookScanner/data/documents/IMG_417.ods as a Calc document -> /home/kubis/Pulpit/BookScanner/BookScanner/data/documents/IMG_417.pdf using filter : calc_pdf_Export\n",
      "PDF '../data/documents/IMG_417.pdf' created successfully!\n",
      "All pages of 'IMG_417.pdf' converted to JPEG successfully!\n",
      "Spreadsheet 'IMG_418.ods' created successfully!\n"
     ]
    },
    {
     "name": "stderr",
     "output_type": "stream",
     "text": [
      "Warning: failed to launch javaldx - java may not function correctly\n"
     ]
    },
    {
     "name": "stdout",
     "output_type": "stream",
     "text": [
      "convert /home/kubis/Pulpit/BookScanner/BookScanner/data/documents/IMG_418.ods as a Calc document -> /home/kubis/Pulpit/BookScanner/BookScanner/data/documents/IMG_418.pdf using filter : calc_pdf_Export\n",
      "PDF '../data/documents/IMG_418.pdf' created successfully!\n",
      "All pages of 'IMG_418.pdf' converted to JPEG successfully!\n",
      "Spreadsheet 'IMG_419.ods' created successfully!\n"
     ]
    },
    {
     "name": "stderr",
     "output_type": "stream",
     "text": [
      "Warning: failed to launch javaldx - java may not function correctly\n"
     ]
    },
    {
     "name": "stdout",
     "output_type": "stream",
     "text": [
      "convert /home/kubis/Pulpit/BookScanner/BookScanner/data/documents/IMG_419.ods as a Calc document -> /home/kubis/Pulpit/BookScanner/BookScanner/data/documents/IMG_419.pdf using filter : calc_pdf_Export\n",
      "PDF '../data/documents/IMG_419.pdf' created successfully!\n",
      "All pages of 'IMG_419.pdf' converted to JPEG successfully!\n",
      "Spreadsheet 'IMG_420.ods' created successfully!\n"
     ]
    },
    {
     "name": "stderr",
     "output_type": "stream",
     "text": [
      "Warning: failed to launch javaldx - java may not function correctly\n"
     ]
    },
    {
     "name": "stdout",
     "output_type": "stream",
     "text": [
      "convert /home/kubis/Pulpit/BookScanner/BookScanner/data/documents/IMG_420.ods as a Calc document -> /home/kubis/Pulpit/BookScanner/BookScanner/data/documents/IMG_420.pdf using filter : calc_pdf_Export\n",
      "PDF '../data/documents/IMG_420.pdf' created successfully!\n",
      "All pages of 'IMG_420.pdf' converted to JPEG successfully!\n",
      "Spreadsheet 'IMG_421.ods' created successfully!\n"
     ]
    },
    {
     "name": "stderr",
     "output_type": "stream",
     "text": [
      "Warning: failed to launch javaldx - java may not function correctly\n"
     ]
    },
    {
     "name": "stdout",
     "output_type": "stream",
     "text": [
      "convert /home/kubis/Pulpit/BookScanner/BookScanner/data/documents/IMG_421.ods as a Calc document -> /home/kubis/Pulpit/BookScanner/BookScanner/data/documents/IMG_421.pdf using filter : calc_pdf_Export\n",
      "PDF '../data/documents/IMG_421.pdf' created successfully!\n",
      "All pages of 'IMG_421.pdf' converted to JPEG successfully!\n",
      "Spreadsheet 'IMG_422.ods' created successfully!\n"
     ]
    },
    {
     "name": "stderr",
     "output_type": "stream",
     "text": [
      "Warning: failed to launch javaldx - java may not function correctly\n"
     ]
    },
    {
     "name": "stdout",
     "output_type": "stream",
     "text": [
      "convert /home/kubis/Pulpit/BookScanner/BookScanner/data/documents/IMG_422.ods as a Calc document -> /home/kubis/Pulpit/BookScanner/BookScanner/data/documents/IMG_422.pdf using filter : calc_pdf_Export\n",
      "PDF '../data/documents/IMG_422.pdf' created successfully!\n",
      "All pages of 'IMG_422.pdf' converted to JPEG successfully!\n",
      "Spreadsheet 'IMG_423.ods' created successfully!\n"
     ]
    },
    {
     "name": "stderr",
     "output_type": "stream",
     "text": [
      "Warning: failed to launch javaldx - java may not function correctly\n"
     ]
    },
    {
     "name": "stdout",
     "output_type": "stream",
     "text": [
      "convert /home/kubis/Pulpit/BookScanner/BookScanner/data/documents/IMG_423.ods as a Calc document -> /home/kubis/Pulpit/BookScanner/BookScanner/data/documents/IMG_423.pdf using filter : calc_pdf_Export\n",
      "PDF '../data/documents/IMG_423.pdf' created successfully!\n",
      "All pages of 'IMG_423.pdf' converted to JPEG successfully!\n",
      "Spreadsheet 'IMG_424.ods' created successfully!\n"
     ]
    },
    {
     "name": "stderr",
     "output_type": "stream",
     "text": [
      "Warning: failed to launch javaldx - java may not function correctly\n"
     ]
    },
    {
     "name": "stdout",
     "output_type": "stream",
     "text": [
      "convert /home/kubis/Pulpit/BookScanner/BookScanner/data/documents/IMG_424.ods as a Calc document -> /home/kubis/Pulpit/BookScanner/BookScanner/data/documents/IMG_424.pdf using filter : calc_pdf_Export\n",
      "PDF '../data/documents/IMG_424.pdf' created successfully!\n",
      "All pages of 'IMG_424.pdf' converted to JPEG successfully!\n",
      "Spreadsheet 'IMG_425.ods' created successfully!\n"
     ]
    },
    {
     "name": "stderr",
     "output_type": "stream",
     "text": [
      "Warning: failed to launch javaldx - java may not function correctly\n"
     ]
    },
    {
     "name": "stdout",
     "output_type": "stream",
     "text": [
      "convert /home/kubis/Pulpit/BookScanner/BookScanner/data/documents/IMG_425.ods as a Calc document -> /home/kubis/Pulpit/BookScanner/BookScanner/data/documents/IMG_425.pdf using filter : calc_pdf_Export\n",
      "PDF '../data/documents/IMG_425.pdf' created successfully!\n",
      "All pages of 'IMG_425.pdf' converted to JPEG successfully!\n",
      "Spreadsheet 'IMG_426.ods' created successfully!\n"
     ]
    },
    {
     "name": "stderr",
     "output_type": "stream",
     "text": [
      "Warning: failed to launch javaldx - java may not function correctly\n"
     ]
    },
    {
     "name": "stdout",
     "output_type": "stream",
     "text": [
      "convert /home/kubis/Pulpit/BookScanner/BookScanner/data/documents/IMG_426.ods as a Calc document -> /home/kubis/Pulpit/BookScanner/BookScanner/data/documents/IMG_426.pdf using filter : calc_pdf_Export\n",
      "PDF '../data/documents/IMG_426.pdf' created successfully!\n",
      "All pages of 'IMG_426.pdf' converted to JPEG successfully!\n",
      "Spreadsheet 'IMG_427.ods' created successfully!\n"
     ]
    },
    {
     "name": "stderr",
     "output_type": "stream",
     "text": [
      "Warning: failed to launch javaldx - java may not function correctly\n"
     ]
    },
    {
     "name": "stdout",
     "output_type": "stream",
     "text": [
      "convert /home/kubis/Pulpit/BookScanner/BookScanner/data/documents/IMG_427.ods as a Calc document -> /home/kubis/Pulpit/BookScanner/BookScanner/data/documents/IMG_427.pdf using filter : calc_pdf_Export\n",
      "PDF '../data/documents/IMG_427.pdf' created successfully!\n",
      "All pages of 'IMG_427.pdf' converted to JPEG successfully!\n",
      "Spreadsheet 'IMG_428.ods' created successfully!\n"
     ]
    },
    {
     "name": "stderr",
     "output_type": "stream",
     "text": [
      "Warning: failed to launch javaldx - java may not function correctly\n"
     ]
    },
    {
     "name": "stdout",
     "output_type": "stream",
     "text": [
      "convert /home/kubis/Pulpit/BookScanner/BookScanner/data/documents/IMG_428.ods as a Calc document -> /home/kubis/Pulpit/BookScanner/BookScanner/data/documents/IMG_428.pdf using filter : calc_pdf_Export\n",
      "PDF '../data/documents/IMG_428.pdf' created successfully!\n",
      "All pages of 'IMG_428.pdf' converted to JPEG successfully!\n",
      "Spreadsheet 'IMG_429.ods' created successfully!\n"
     ]
    },
    {
     "name": "stderr",
     "output_type": "stream",
     "text": [
      "Warning: failed to launch javaldx - java may not function correctly\n"
     ]
    },
    {
     "name": "stdout",
     "output_type": "stream",
     "text": [
      "convert /home/kubis/Pulpit/BookScanner/BookScanner/data/documents/IMG_429.ods as a Calc document -> /home/kubis/Pulpit/BookScanner/BookScanner/data/documents/IMG_429.pdf using filter : calc_pdf_Export\n",
      "PDF '../data/documents/IMG_429.pdf' created successfully!\n",
      "All pages of 'IMG_429.pdf' converted to JPEG successfully!\n",
      "Spreadsheet 'IMG_430.ods' created successfully!\n"
     ]
    },
    {
     "name": "stderr",
     "output_type": "stream",
     "text": [
      "Warning: failed to launch javaldx - java may not function correctly\n"
     ]
    },
    {
     "name": "stdout",
     "output_type": "stream",
     "text": [
      "convert /home/kubis/Pulpit/BookScanner/BookScanner/data/documents/IMG_430.ods as a Calc document -> /home/kubis/Pulpit/BookScanner/BookScanner/data/documents/IMG_430.pdf using filter : calc_pdf_Export\n",
      "PDF '../data/documents/IMG_430.pdf' created successfully!\n",
      "All pages of 'IMG_430.pdf' converted to JPEG successfully!\n",
      "Spreadsheet 'IMG_431.ods' created successfully!\n"
     ]
    },
    {
     "name": "stderr",
     "output_type": "stream",
     "text": [
      "Warning: failed to launch javaldx - java may not function correctly\n"
     ]
    },
    {
     "name": "stdout",
     "output_type": "stream",
     "text": [
      "convert /home/kubis/Pulpit/BookScanner/BookScanner/data/documents/IMG_431.ods as a Calc document -> /home/kubis/Pulpit/BookScanner/BookScanner/data/documents/IMG_431.pdf using filter : calc_pdf_Export\n",
      "PDF '../data/documents/IMG_431.pdf' created successfully!\n",
      "All pages of 'IMG_431.pdf' converted to JPEG successfully!\n",
      "Spreadsheet 'IMG_432.ods' created successfully!\n"
     ]
    },
    {
     "name": "stderr",
     "output_type": "stream",
     "text": [
      "Warning: failed to launch javaldx - java may not function correctly\n"
     ]
    },
    {
     "name": "stdout",
     "output_type": "stream",
     "text": [
      "convert /home/kubis/Pulpit/BookScanner/BookScanner/data/documents/IMG_432.ods as a Calc document -> /home/kubis/Pulpit/BookScanner/BookScanner/data/documents/IMG_432.pdf using filter : calc_pdf_Export\n",
      "PDF '../data/documents/IMG_432.pdf' created successfully!\n",
      "All pages of 'IMG_432.pdf' converted to JPEG successfully!\n",
      "Spreadsheet 'IMG_433.ods' created successfully!\n"
     ]
    },
    {
     "name": "stderr",
     "output_type": "stream",
     "text": [
      "Warning: failed to launch javaldx - java may not function correctly\n"
     ]
    },
    {
     "name": "stdout",
     "output_type": "stream",
     "text": [
      "convert /home/kubis/Pulpit/BookScanner/BookScanner/data/documents/IMG_433.ods as a Calc document -> /home/kubis/Pulpit/BookScanner/BookScanner/data/documents/IMG_433.pdf using filter : calc_pdf_Export\n",
      "PDF '../data/documents/IMG_433.pdf' created successfully!\n",
      "All pages of 'IMG_433.pdf' converted to JPEG successfully!\n",
      "Spreadsheet 'IMG_434.ods' created successfully!\n"
     ]
    },
    {
     "name": "stderr",
     "output_type": "stream",
     "text": [
      "Warning: failed to launch javaldx - java may not function correctly\n"
     ]
    },
    {
     "name": "stdout",
     "output_type": "stream",
     "text": [
      "convert /home/kubis/Pulpit/BookScanner/BookScanner/data/documents/IMG_434.ods as a Calc document -> /home/kubis/Pulpit/BookScanner/BookScanner/data/documents/IMG_434.pdf using filter : calc_pdf_Export\n",
      "PDF '../data/documents/IMG_434.pdf' created successfully!\n",
      "All pages of 'IMG_434.pdf' converted to JPEG successfully!\n",
      "Spreadsheet 'IMG_435.ods' created successfully!\n"
     ]
    },
    {
     "name": "stderr",
     "output_type": "stream",
     "text": [
      "Warning: failed to launch javaldx - java may not function correctly\n"
     ]
    },
    {
     "name": "stdout",
     "output_type": "stream",
     "text": [
      "convert /home/kubis/Pulpit/BookScanner/BookScanner/data/documents/IMG_435.ods as a Calc document -> /home/kubis/Pulpit/BookScanner/BookScanner/data/documents/IMG_435.pdf using filter : calc_pdf_Export\n",
      "PDF '../data/documents/IMG_435.pdf' created successfully!\n",
      "All pages of 'IMG_435.pdf' converted to JPEG successfully!\n",
      "Spreadsheet 'IMG_436.ods' created successfully!\n"
     ]
    },
    {
     "name": "stderr",
     "output_type": "stream",
     "text": [
      "Warning: failed to launch javaldx - java may not function correctly\n"
     ]
    },
    {
     "name": "stdout",
     "output_type": "stream",
     "text": [
      "convert /home/kubis/Pulpit/BookScanner/BookScanner/data/documents/IMG_436.ods as a Calc document -> /home/kubis/Pulpit/BookScanner/BookScanner/data/documents/IMG_436.pdf using filter : calc_pdf_Export\n",
      "PDF '../data/documents/IMG_436.pdf' created successfully!\n",
      "All pages of 'IMG_436.pdf' converted to JPEG successfully!\n",
      "Spreadsheet 'IMG_437.ods' created successfully!\n"
     ]
    },
    {
     "name": "stderr",
     "output_type": "stream",
     "text": [
      "Warning: failed to launch javaldx - java may not function correctly\n"
     ]
    },
    {
     "name": "stdout",
     "output_type": "stream",
     "text": [
      "convert /home/kubis/Pulpit/BookScanner/BookScanner/data/documents/IMG_437.ods as a Calc document -> /home/kubis/Pulpit/BookScanner/BookScanner/data/documents/IMG_437.pdf using filter : calc_pdf_Export\n",
      "PDF '../data/documents/IMG_437.pdf' created successfully!\n",
      "All pages of 'IMG_437.pdf' converted to JPEG successfully!\n",
      "Spreadsheet 'IMG_438.ods' created successfully!\n"
     ]
    },
    {
     "name": "stderr",
     "output_type": "stream",
     "text": [
      "Warning: failed to launch javaldx - java may not function correctly\n"
     ]
    },
    {
     "name": "stdout",
     "output_type": "stream",
     "text": [
      "convert /home/kubis/Pulpit/BookScanner/BookScanner/data/documents/IMG_438.ods as a Calc document -> /home/kubis/Pulpit/BookScanner/BookScanner/data/documents/IMG_438.pdf using filter : calc_pdf_Export\n",
      "PDF '../data/documents/IMG_438.pdf' created successfully!\n",
      "All pages of 'IMG_438.pdf' converted to JPEG successfully!\n",
      "Spreadsheet 'IMG_439.ods' created successfully!\n"
     ]
    },
    {
     "name": "stderr",
     "output_type": "stream",
     "text": [
      "Warning: failed to launch javaldx - java may not function correctly\n"
     ]
    },
    {
     "name": "stdout",
     "output_type": "stream",
     "text": [
      "convert /home/kubis/Pulpit/BookScanner/BookScanner/data/documents/IMG_439.ods as a Calc document -> /home/kubis/Pulpit/BookScanner/BookScanner/data/documents/IMG_439.pdf using filter : calc_pdf_Export\n",
      "PDF '../data/documents/IMG_439.pdf' created successfully!\n",
      "All pages of 'IMG_439.pdf' converted to JPEG successfully!\n",
      "Spreadsheet 'IMG_440.ods' created successfully!\n"
     ]
    },
    {
     "name": "stderr",
     "output_type": "stream",
     "text": [
      "Warning: failed to launch javaldx - java may not function correctly\n"
     ]
    },
    {
     "name": "stdout",
     "output_type": "stream",
     "text": [
      "convert /home/kubis/Pulpit/BookScanner/BookScanner/data/documents/IMG_440.ods as a Calc document -> /home/kubis/Pulpit/BookScanner/BookScanner/data/documents/IMG_440.pdf using filter : calc_pdf_Export\n",
      "PDF '../data/documents/IMG_440.pdf' created successfully!\n",
      "All pages of 'IMG_440.pdf' converted to JPEG successfully!\n",
      "Spreadsheet 'IMG_441.ods' created successfully!\n"
     ]
    },
    {
     "name": "stderr",
     "output_type": "stream",
     "text": [
      "Warning: failed to launch javaldx - java may not function correctly\n"
     ]
    },
    {
     "name": "stdout",
     "output_type": "stream",
     "text": [
      "convert /home/kubis/Pulpit/BookScanner/BookScanner/data/documents/IMG_441.ods as a Calc document -> /home/kubis/Pulpit/BookScanner/BookScanner/data/documents/IMG_441.pdf using filter : calc_pdf_Export\n",
      "PDF '../data/documents/IMG_441.pdf' created successfully!\n",
      "All pages of 'IMG_441.pdf' converted to JPEG successfully!\n",
      "Spreadsheet 'IMG_442.ods' created successfully!\n"
     ]
    },
    {
     "name": "stderr",
     "output_type": "stream",
     "text": [
      "Warning: failed to launch javaldx - java may not function correctly\n"
     ]
    },
    {
     "name": "stdout",
     "output_type": "stream",
     "text": [
      "convert /home/kubis/Pulpit/BookScanner/BookScanner/data/documents/IMG_442.ods as a Calc document -> /home/kubis/Pulpit/BookScanner/BookScanner/data/documents/IMG_442.pdf using filter : calc_pdf_Export\n",
      "PDF '../data/documents/IMG_442.pdf' created successfully!\n",
      "All pages of 'IMG_442.pdf' converted to JPEG successfully!\n",
      "Spreadsheet 'IMG_443.ods' created successfully!\n"
     ]
    },
    {
     "name": "stderr",
     "output_type": "stream",
     "text": [
      "Warning: failed to launch javaldx - java may not function correctly\n"
     ]
    },
    {
     "name": "stdout",
     "output_type": "stream",
     "text": [
      "convert /home/kubis/Pulpit/BookScanner/BookScanner/data/documents/IMG_443.ods as a Calc document -> /home/kubis/Pulpit/BookScanner/BookScanner/data/documents/IMG_443.pdf using filter : calc_pdf_Export\n",
      "PDF '../data/documents/IMG_443.pdf' created successfully!\n",
      "All pages of 'IMG_443.pdf' converted to JPEG successfully!\n",
      "Spreadsheet 'IMG_444.ods' created successfully!\n"
     ]
    },
    {
     "name": "stderr",
     "output_type": "stream",
     "text": [
      "Warning: failed to launch javaldx - java may not function correctly\n"
     ]
    },
    {
     "name": "stdout",
     "output_type": "stream",
     "text": [
      "convert /home/kubis/Pulpit/BookScanner/BookScanner/data/documents/IMG_444.ods as a Calc document -> /home/kubis/Pulpit/BookScanner/BookScanner/data/documents/IMG_444.pdf using filter : calc_pdf_Export\n",
      "PDF '../data/documents/IMG_444.pdf' created successfully!\n",
      "All pages of 'IMG_444.pdf' converted to JPEG successfully!\n",
      "Spreadsheet 'IMG_445.ods' created successfully!\n"
     ]
    },
    {
     "name": "stderr",
     "output_type": "stream",
     "text": [
      "Warning: failed to launch javaldx - java may not function correctly\n"
     ]
    },
    {
     "name": "stdout",
     "output_type": "stream",
     "text": [
      "convert /home/kubis/Pulpit/BookScanner/BookScanner/data/documents/IMG_445.ods as a Calc document -> /home/kubis/Pulpit/BookScanner/BookScanner/data/documents/IMG_445.pdf using filter : calc_pdf_Export\n",
      "PDF '../data/documents/IMG_445.pdf' created successfully!\n",
      "All pages of 'IMG_445.pdf' converted to JPEG successfully!\n",
      "Spreadsheet 'IMG_446.ods' created successfully!\n"
     ]
    },
    {
     "name": "stderr",
     "output_type": "stream",
     "text": [
      "Warning: failed to launch javaldx - java may not function correctly\n"
     ]
    },
    {
     "name": "stdout",
     "output_type": "stream",
     "text": [
      "convert /home/kubis/Pulpit/BookScanner/BookScanner/data/documents/IMG_446.ods as a Calc document -> /home/kubis/Pulpit/BookScanner/BookScanner/data/documents/IMG_446.pdf using filter : calc_pdf_Export\n",
      "PDF '../data/documents/IMG_446.pdf' created successfully!\n",
      "All pages of 'IMG_446.pdf' converted to JPEG successfully!\n",
      "Spreadsheet 'IMG_447.ods' created successfully!\n"
     ]
    },
    {
     "name": "stderr",
     "output_type": "stream",
     "text": [
      "Warning: failed to launch javaldx - java may not function correctly\n"
     ]
    },
    {
     "name": "stdout",
     "output_type": "stream",
     "text": [
      "convert /home/kubis/Pulpit/BookScanner/BookScanner/data/documents/IMG_447.ods as a Calc document -> /home/kubis/Pulpit/BookScanner/BookScanner/data/documents/IMG_447.pdf using filter : calc_pdf_Export\n",
      "PDF '../data/documents/IMG_447.pdf' created successfully!\n",
      "All pages of 'IMG_447.pdf' converted to JPEG successfully!\n",
      "Spreadsheet 'IMG_448.ods' created successfully!\n"
     ]
    },
    {
     "name": "stderr",
     "output_type": "stream",
     "text": [
      "Warning: failed to launch javaldx - java may not function correctly\n"
     ]
    },
    {
     "name": "stdout",
     "output_type": "stream",
     "text": [
      "convert /home/kubis/Pulpit/BookScanner/BookScanner/data/documents/IMG_448.ods as a Calc document -> /home/kubis/Pulpit/BookScanner/BookScanner/data/documents/IMG_448.pdf using filter : calc_pdf_Export\n",
      "PDF '../data/documents/IMG_448.pdf' created successfully!\n",
      "All pages of 'IMG_448.pdf' converted to JPEG successfully!\n",
      "Spreadsheet 'IMG_449.ods' created successfully!\n"
     ]
    },
    {
     "name": "stderr",
     "output_type": "stream",
     "text": [
      "Warning: failed to launch javaldx - java may not function correctly\n"
     ]
    },
    {
     "name": "stdout",
     "output_type": "stream",
     "text": [
      "convert /home/kubis/Pulpit/BookScanner/BookScanner/data/documents/IMG_449.ods as a Calc document -> /home/kubis/Pulpit/BookScanner/BookScanner/data/documents/IMG_449.pdf using filter : calc_pdf_Export\n",
      "PDF '../data/documents/IMG_449.pdf' created successfully!\n",
      "All pages of 'IMG_449.pdf' converted to JPEG successfully!\n",
      "Spreadsheet 'IMG_450.ods' created successfully!\n"
     ]
    },
    {
     "name": "stderr",
     "output_type": "stream",
     "text": [
      "Warning: failed to launch javaldx - java may not function correctly\n"
     ]
    },
    {
     "name": "stdout",
     "output_type": "stream",
     "text": [
      "convert /home/kubis/Pulpit/BookScanner/BookScanner/data/documents/IMG_450.ods as a Calc document -> /home/kubis/Pulpit/BookScanner/BookScanner/data/documents/IMG_450.pdf using filter : calc_pdf_Export\n",
      "PDF '../data/documents/IMG_450.pdf' created successfully!\n",
      "All pages of 'IMG_450.pdf' converted to JPEG successfully!\n",
      "Spreadsheet 'IMG_451.ods' created successfully!\n"
     ]
    },
    {
     "name": "stderr",
     "output_type": "stream",
     "text": [
      "Warning: failed to launch javaldx - java may not function correctly\n"
     ]
    },
    {
     "name": "stdout",
     "output_type": "stream",
     "text": [
      "convert /home/kubis/Pulpit/BookScanner/BookScanner/data/documents/IMG_451.ods as a Calc document -> /home/kubis/Pulpit/BookScanner/BookScanner/data/documents/IMG_451.pdf using filter : calc_pdf_Export\n",
      "PDF '../data/documents/IMG_451.pdf' created successfully!\n",
      "All pages of 'IMG_451.pdf' converted to JPEG successfully!\n",
      "Spreadsheet 'IMG_452.ods' created successfully!\n"
     ]
    },
    {
     "name": "stderr",
     "output_type": "stream",
     "text": [
      "Warning: failed to launch javaldx - java may not function correctly\n"
     ]
    },
    {
     "name": "stdout",
     "output_type": "stream",
     "text": [
      "convert /home/kubis/Pulpit/BookScanner/BookScanner/data/documents/IMG_452.ods as a Calc document -> /home/kubis/Pulpit/BookScanner/BookScanner/data/documents/IMG_452.pdf using filter : calc_pdf_Export\n",
      "PDF '../data/documents/IMG_452.pdf' created successfully!\n",
      "All pages of 'IMG_452.pdf' converted to JPEG successfully!\n",
      "Spreadsheet 'IMG_453.ods' created successfully!\n"
     ]
    },
    {
     "name": "stderr",
     "output_type": "stream",
     "text": [
      "Warning: failed to launch javaldx - java may not function correctly\n"
     ]
    },
    {
     "name": "stdout",
     "output_type": "stream",
     "text": [
      "convert /home/kubis/Pulpit/BookScanner/BookScanner/data/documents/IMG_453.ods as a Calc document -> /home/kubis/Pulpit/BookScanner/BookScanner/data/documents/IMG_453.pdf using filter : calc_pdf_Export\n",
      "PDF '../data/documents/IMG_453.pdf' created successfully!\n",
      "All pages of 'IMG_453.pdf' converted to JPEG successfully!\n",
      "Spreadsheet 'IMG_454.ods' created successfully!\n"
     ]
    },
    {
     "name": "stderr",
     "output_type": "stream",
     "text": [
      "Warning: failed to launch javaldx - java may not function correctly\n"
     ]
    },
    {
     "name": "stdout",
     "output_type": "stream",
     "text": [
      "convert /home/kubis/Pulpit/BookScanner/BookScanner/data/documents/IMG_454.ods as a Calc document -> /home/kubis/Pulpit/BookScanner/BookScanner/data/documents/IMG_454.pdf using filter : calc_pdf_Export\n",
      "PDF '../data/documents/IMG_454.pdf' created successfully!\n",
      "All pages of 'IMG_454.pdf' converted to JPEG successfully!\n",
      "Spreadsheet 'IMG_455.ods' created successfully!\n"
     ]
    },
    {
     "name": "stderr",
     "output_type": "stream",
     "text": [
      "Warning: failed to launch javaldx - java may not function correctly\n"
     ]
    },
    {
     "name": "stdout",
     "output_type": "stream",
     "text": [
      "convert /home/kubis/Pulpit/BookScanner/BookScanner/data/documents/IMG_455.ods as a Calc document -> /home/kubis/Pulpit/BookScanner/BookScanner/data/documents/IMG_455.pdf using filter : calc_pdf_Export\n",
      "PDF '../data/documents/IMG_455.pdf' created successfully!\n",
      "All pages of 'IMG_455.pdf' converted to JPEG successfully!\n",
      "Spreadsheet 'IMG_456.ods' created successfully!\n"
     ]
    },
    {
     "name": "stderr",
     "output_type": "stream",
     "text": [
      "Warning: failed to launch javaldx - java may not function correctly\n"
     ]
    },
    {
     "name": "stdout",
     "output_type": "stream",
     "text": [
      "convert /home/kubis/Pulpit/BookScanner/BookScanner/data/documents/IMG_456.ods as a Calc document -> /home/kubis/Pulpit/BookScanner/BookScanner/data/documents/IMG_456.pdf using filter : calc_pdf_Export\n",
      "PDF '../data/documents/IMG_456.pdf' created successfully!\n",
      "All pages of 'IMG_456.pdf' converted to JPEG successfully!\n",
      "Spreadsheet 'IMG_457.ods' created successfully!\n"
     ]
    },
    {
     "name": "stderr",
     "output_type": "stream",
     "text": [
      "Warning: failed to launch javaldx - java may not function correctly\n"
     ]
    },
    {
     "name": "stdout",
     "output_type": "stream",
     "text": [
      "convert /home/kubis/Pulpit/BookScanner/BookScanner/data/documents/IMG_457.ods as a Calc document -> /home/kubis/Pulpit/BookScanner/BookScanner/data/documents/IMG_457.pdf using filter : calc_pdf_Export\n",
      "PDF '../data/documents/IMG_457.pdf' created successfully!\n",
      "All pages of 'IMG_457.pdf' converted to JPEG successfully!\n",
      "Spreadsheet 'IMG_458.ods' created successfully!\n"
     ]
    },
    {
     "name": "stderr",
     "output_type": "stream",
     "text": [
      "Warning: failed to launch javaldx - java may not function correctly\n"
     ]
    },
    {
     "name": "stdout",
     "output_type": "stream",
     "text": [
      "convert /home/kubis/Pulpit/BookScanner/BookScanner/data/documents/IMG_458.ods as a Calc document -> /home/kubis/Pulpit/BookScanner/BookScanner/data/documents/IMG_458.pdf using filter : calc_pdf_Export\n",
      "PDF '../data/documents/IMG_458.pdf' created successfully!\n",
      "All pages of 'IMG_458.pdf' converted to JPEG successfully!\n",
      "Spreadsheet 'IMG_459.ods' created successfully!\n"
     ]
    },
    {
     "name": "stderr",
     "output_type": "stream",
     "text": [
      "Warning: failed to launch javaldx - java may not function correctly\n"
     ]
    },
    {
     "name": "stdout",
     "output_type": "stream",
     "text": [
      "convert /home/kubis/Pulpit/BookScanner/BookScanner/data/documents/IMG_459.ods as a Calc document -> /home/kubis/Pulpit/BookScanner/BookScanner/data/documents/IMG_459.pdf using filter : calc_pdf_Export\n",
      "PDF '../data/documents/IMG_459.pdf' created successfully!\n",
      "All pages of 'IMG_459.pdf' converted to JPEG successfully!\n",
      "Spreadsheet 'IMG_460.ods' created successfully!\n"
     ]
    },
    {
     "name": "stderr",
     "output_type": "stream",
     "text": [
      "Warning: failed to launch javaldx - java may not function correctly\n"
     ]
    },
    {
     "name": "stdout",
     "output_type": "stream",
     "text": [
      "convert /home/kubis/Pulpit/BookScanner/BookScanner/data/documents/IMG_460.ods as a Calc document -> /home/kubis/Pulpit/BookScanner/BookScanner/data/documents/IMG_460.pdf using filter : calc_pdf_Export\n",
      "PDF '../data/documents/IMG_460.pdf' created successfully!\n",
      "All pages of 'IMG_460.pdf' converted to JPEG successfully!\n",
      "Spreadsheet 'IMG_461.ods' created successfully!\n"
     ]
    },
    {
     "name": "stderr",
     "output_type": "stream",
     "text": [
      "Warning: failed to launch javaldx - java may not function correctly\n"
     ]
    },
    {
     "name": "stdout",
     "output_type": "stream",
     "text": [
      "convert /home/kubis/Pulpit/BookScanner/BookScanner/data/documents/IMG_461.ods as a Calc document -> /home/kubis/Pulpit/BookScanner/BookScanner/data/documents/IMG_461.pdf using filter : calc_pdf_Export\n",
      "PDF '../data/documents/IMG_461.pdf' created successfully!\n",
      "All pages of 'IMG_461.pdf' converted to JPEG successfully!\n",
      "Spreadsheet 'IMG_462.ods' created successfully!\n"
     ]
    },
    {
     "name": "stderr",
     "output_type": "stream",
     "text": [
      "Warning: failed to launch javaldx - java may not function correctly\n"
     ]
    },
    {
     "name": "stdout",
     "output_type": "stream",
     "text": [
      "convert /home/kubis/Pulpit/BookScanner/BookScanner/data/documents/IMG_462.ods as a Calc document -> /home/kubis/Pulpit/BookScanner/BookScanner/data/documents/IMG_462.pdf using filter : calc_pdf_Export\n",
      "PDF '../data/documents/IMG_462.pdf' created successfully!\n",
      "All pages of 'IMG_462.pdf' converted to JPEG successfully!\n",
      "Spreadsheet 'IMG_463.ods' created successfully!\n"
     ]
    },
    {
     "name": "stderr",
     "output_type": "stream",
     "text": [
      "Warning: failed to launch javaldx - java may not function correctly\n"
     ]
    },
    {
     "name": "stdout",
     "output_type": "stream",
     "text": [
      "convert /home/kubis/Pulpit/BookScanner/BookScanner/data/documents/IMG_463.ods as a Calc document -> /home/kubis/Pulpit/BookScanner/BookScanner/data/documents/IMG_463.pdf using filter : calc_pdf_Export\n",
      "PDF '../data/documents/IMG_463.pdf' created successfully!\n",
      "All pages of 'IMG_463.pdf' converted to JPEG successfully!\n",
      "Spreadsheet 'IMG_464.ods' created successfully!\n"
     ]
    },
    {
     "name": "stderr",
     "output_type": "stream",
     "text": [
      "Warning: failed to launch javaldx - java may not function correctly\n"
     ]
    },
    {
     "name": "stdout",
     "output_type": "stream",
     "text": [
      "convert /home/kubis/Pulpit/BookScanner/BookScanner/data/documents/IMG_464.ods as a Calc document -> /home/kubis/Pulpit/BookScanner/BookScanner/data/documents/IMG_464.pdf using filter : calc_pdf_Export\n",
      "PDF '../data/documents/IMG_464.pdf' created successfully!\n",
      "All pages of 'IMG_464.pdf' converted to JPEG successfully!\n",
      "Spreadsheet 'IMG_465.ods' created successfully!\n"
     ]
    },
    {
     "name": "stderr",
     "output_type": "stream",
     "text": [
      "Warning: failed to launch javaldx - java may not function correctly\n"
     ]
    },
    {
     "name": "stdout",
     "output_type": "stream",
     "text": [
      "convert /home/kubis/Pulpit/BookScanner/BookScanner/data/documents/IMG_465.ods as a Calc document -> /home/kubis/Pulpit/BookScanner/BookScanner/data/documents/IMG_465.pdf using filter : calc_pdf_Export\n",
      "PDF '../data/documents/IMG_465.pdf' created successfully!\n",
      "All pages of 'IMG_465.pdf' converted to JPEG successfully!\n",
      "Spreadsheet 'IMG_466.ods' created successfully!\n"
     ]
    },
    {
     "name": "stderr",
     "output_type": "stream",
     "text": [
      "Warning: failed to launch javaldx - java may not function correctly\n"
     ]
    },
    {
     "name": "stdout",
     "output_type": "stream",
     "text": [
      "convert /home/kubis/Pulpit/BookScanner/BookScanner/data/documents/IMG_466.ods as a Calc document -> /home/kubis/Pulpit/BookScanner/BookScanner/data/documents/IMG_466.pdf using filter : calc_pdf_Export\n",
      "PDF '../data/documents/IMG_466.pdf' created successfully!\n",
      "All pages of 'IMG_466.pdf' converted to JPEG successfully!\n",
      "Spreadsheet 'IMG_467.ods' created successfully!\n"
     ]
    },
    {
     "name": "stderr",
     "output_type": "stream",
     "text": [
      "Warning: failed to launch javaldx - java may not function correctly\n"
     ]
    },
    {
     "name": "stdout",
     "output_type": "stream",
     "text": [
      "convert /home/kubis/Pulpit/BookScanner/BookScanner/data/documents/IMG_467.ods as a Calc document -> /home/kubis/Pulpit/BookScanner/BookScanner/data/documents/IMG_467.pdf using filter : calc_pdf_Export\n",
      "PDF '../data/documents/IMG_467.pdf' created successfully!\n",
      "All pages of 'IMG_467.pdf' converted to JPEG successfully!\n",
      "Spreadsheet 'IMG_468.ods' created successfully!\n"
     ]
    },
    {
     "name": "stderr",
     "output_type": "stream",
     "text": [
      "Warning: failed to launch javaldx - java may not function correctly\n"
     ]
    },
    {
     "name": "stdout",
     "output_type": "stream",
     "text": [
      "convert /home/kubis/Pulpit/BookScanner/BookScanner/data/documents/IMG_468.ods as a Calc document -> /home/kubis/Pulpit/BookScanner/BookScanner/data/documents/IMG_468.pdf using filter : calc_pdf_Export\n",
      "PDF '../data/documents/IMG_468.pdf' created successfully!\n",
      "All pages of 'IMG_468.pdf' converted to JPEG successfully!\n",
      "Spreadsheet 'IMG_469.ods' created successfully!\n"
     ]
    },
    {
     "name": "stderr",
     "output_type": "stream",
     "text": [
      "Warning: failed to launch javaldx - java may not function correctly\n"
     ]
    },
    {
     "name": "stdout",
     "output_type": "stream",
     "text": [
      "convert /home/kubis/Pulpit/BookScanner/BookScanner/data/documents/IMG_469.ods as a Calc document -> /home/kubis/Pulpit/BookScanner/BookScanner/data/documents/IMG_469.pdf using filter : calc_pdf_Export\n",
      "PDF '../data/documents/IMG_469.pdf' created successfully!\n",
      "All pages of 'IMG_469.pdf' converted to JPEG successfully!\n",
      "Spreadsheet 'IMG_470.ods' created successfully!\n"
     ]
    },
    {
     "name": "stderr",
     "output_type": "stream",
     "text": [
      "Warning: failed to launch javaldx - java may not function correctly\n"
     ]
    },
    {
     "name": "stdout",
     "output_type": "stream",
     "text": [
      "convert /home/kubis/Pulpit/BookScanner/BookScanner/data/documents/IMG_470.ods as a Calc document -> /home/kubis/Pulpit/BookScanner/BookScanner/data/documents/IMG_470.pdf using filter : calc_pdf_Export\n",
      "PDF '../data/documents/IMG_470.pdf' created successfully!\n",
      "All pages of 'IMG_470.pdf' converted to JPEG successfully!\n",
      "Spreadsheet 'IMG_471.ods' created successfully!\n"
     ]
    },
    {
     "name": "stderr",
     "output_type": "stream",
     "text": [
      "Warning: failed to launch javaldx - java may not function correctly\n"
     ]
    },
    {
     "name": "stdout",
     "output_type": "stream",
     "text": [
      "convert /home/kubis/Pulpit/BookScanner/BookScanner/data/documents/IMG_471.ods as a Calc document -> /home/kubis/Pulpit/BookScanner/BookScanner/data/documents/IMG_471.pdf using filter : calc_pdf_Export\n",
      "PDF '../data/documents/IMG_471.pdf' created successfully!\n",
      "All pages of 'IMG_471.pdf' converted to JPEG successfully!\n",
      "Spreadsheet 'IMG_472.ods' created successfully!\n"
     ]
    },
    {
     "name": "stderr",
     "output_type": "stream",
     "text": [
      "Warning: failed to launch javaldx - java may not function correctly\n"
     ]
    },
    {
     "name": "stdout",
     "output_type": "stream",
     "text": [
      "convert /home/kubis/Pulpit/BookScanner/BookScanner/data/documents/IMG_472.ods as a Calc document -> /home/kubis/Pulpit/BookScanner/BookScanner/data/documents/IMG_472.pdf using filter : calc_pdf_Export\n",
      "PDF '../data/documents/IMG_472.pdf' created successfully!\n",
      "All pages of 'IMG_472.pdf' converted to JPEG successfully!\n",
      "Spreadsheet 'IMG_473.ods' created successfully!\n"
     ]
    },
    {
     "name": "stderr",
     "output_type": "stream",
     "text": [
      "Warning: failed to launch javaldx - java may not function correctly\n"
     ]
    },
    {
     "name": "stdout",
     "output_type": "stream",
     "text": [
      "convert /home/kubis/Pulpit/BookScanner/BookScanner/data/documents/IMG_473.ods as a Calc document -> /home/kubis/Pulpit/BookScanner/BookScanner/data/documents/IMG_473.pdf using filter : calc_pdf_Export\n",
      "PDF '../data/documents/IMG_473.pdf' created successfully!\n",
      "All pages of 'IMG_473.pdf' converted to JPEG successfully!\n",
      "Spreadsheet 'IMG_474.ods' created successfully!\n"
     ]
    },
    {
     "name": "stderr",
     "output_type": "stream",
     "text": [
      "Warning: failed to launch javaldx - java may not function correctly\n"
     ]
    },
    {
     "name": "stdout",
     "output_type": "stream",
     "text": [
      "convert /home/kubis/Pulpit/BookScanner/BookScanner/data/documents/IMG_474.ods as a Calc document -> /home/kubis/Pulpit/BookScanner/BookScanner/data/documents/IMG_474.pdf using filter : calc_pdf_Export\n",
      "PDF '../data/documents/IMG_474.pdf' created successfully!\n",
      "All pages of 'IMG_474.pdf' converted to JPEG successfully!\n",
      "Spreadsheet 'IMG_475.ods' created successfully!\n"
     ]
    },
    {
     "name": "stderr",
     "output_type": "stream",
     "text": [
      "Warning: failed to launch javaldx - java may not function correctly\n"
     ]
    },
    {
     "name": "stdout",
     "output_type": "stream",
     "text": [
      "convert /home/kubis/Pulpit/BookScanner/BookScanner/data/documents/IMG_475.ods as a Calc document -> /home/kubis/Pulpit/BookScanner/BookScanner/data/documents/IMG_475.pdf using filter : calc_pdf_Export\n",
      "PDF '../data/documents/IMG_475.pdf' created successfully!\n",
      "All pages of 'IMG_475.pdf' converted to JPEG successfully!\n",
      "Spreadsheet 'IMG_476.ods' created successfully!\n"
     ]
    },
    {
     "name": "stderr",
     "output_type": "stream",
     "text": [
      "Warning: failed to launch javaldx - java may not function correctly\n"
     ]
    },
    {
     "name": "stdout",
     "output_type": "stream",
     "text": [
      "convert /home/kubis/Pulpit/BookScanner/BookScanner/data/documents/IMG_476.ods as a Calc document -> /home/kubis/Pulpit/BookScanner/BookScanner/data/documents/IMG_476.pdf using filter : calc_pdf_Export\n",
      "PDF '../data/documents/IMG_476.pdf' created successfully!\n",
      "All pages of 'IMG_476.pdf' converted to JPEG successfully!\n",
      "Spreadsheet 'IMG_477.ods' created successfully!\n"
     ]
    },
    {
     "name": "stderr",
     "output_type": "stream",
     "text": [
      "Warning: failed to launch javaldx - java may not function correctly\n"
     ]
    },
    {
     "name": "stdout",
     "output_type": "stream",
     "text": [
      "convert /home/kubis/Pulpit/BookScanner/BookScanner/data/documents/IMG_477.ods as a Calc document -> /home/kubis/Pulpit/BookScanner/BookScanner/data/documents/IMG_477.pdf using filter : calc_pdf_Export\n",
      "PDF '../data/documents/IMG_477.pdf' created successfully!\n",
      "All pages of 'IMG_477.pdf' converted to JPEG successfully!\n",
      "Spreadsheet 'IMG_478.ods' created successfully!\n"
     ]
    },
    {
     "name": "stderr",
     "output_type": "stream",
     "text": [
      "Warning: failed to launch javaldx - java may not function correctly\n"
     ]
    },
    {
     "name": "stdout",
     "output_type": "stream",
     "text": [
      "convert /home/kubis/Pulpit/BookScanner/BookScanner/data/documents/IMG_478.ods as a Calc document -> /home/kubis/Pulpit/BookScanner/BookScanner/data/documents/IMG_478.pdf using filter : calc_pdf_Export\n",
      "PDF '../data/documents/IMG_478.pdf' created successfully!\n",
      "All pages of 'IMG_478.pdf' converted to JPEG successfully!\n",
      "Spreadsheet 'IMG_479.ods' created successfully!\n"
     ]
    },
    {
     "name": "stderr",
     "output_type": "stream",
     "text": [
      "Warning: failed to launch javaldx - java may not function correctly\n"
     ]
    },
    {
     "name": "stdout",
     "output_type": "stream",
     "text": [
      "convert /home/kubis/Pulpit/BookScanner/BookScanner/data/documents/IMG_479.ods as a Calc document -> /home/kubis/Pulpit/BookScanner/BookScanner/data/documents/IMG_479.pdf using filter : calc_pdf_Export\n",
      "PDF '../data/documents/IMG_479.pdf' created successfully!\n",
      "All pages of 'IMG_479.pdf' converted to JPEG successfully!\n",
      "Spreadsheet 'IMG_480.ods' created successfully!\n"
     ]
    },
    {
     "name": "stderr",
     "output_type": "stream",
     "text": [
      "Warning: failed to launch javaldx - java may not function correctly\n"
     ]
    },
    {
     "name": "stdout",
     "output_type": "stream",
     "text": [
      "convert /home/kubis/Pulpit/BookScanner/BookScanner/data/documents/IMG_480.ods as a Calc document -> /home/kubis/Pulpit/BookScanner/BookScanner/data/documents/IMG_480.pdf using filter : calc_pdf_Export\n",
      "PDF '../data/documents/IMG_480.pdf' created successfully!\n",
      "All pages of 'IMG_480.pdf' converted to JPEG successfully!\n",
      "Spreadsheet 'IMG_481.ods' created successfully!\n"
     ]
    },
    {
     "name": "stderr",
     "output_type": "stream",
     "text": [
      "Warning: failed to launch javaldx - java may not function correctly\n"
     ]
    },
    {
     "name": "stdout",
     "output_type": "stream",
     "text": [
      "convert /home/kubis/Pulpit/BookScanner/BookScanner/data/documents/IMG_481.ods as a Calc document -> /home/kubis/Pulpit/BookScanner/BookScanner/data/documents/IMG_481.pdf using filter : calc_pdf_Export\n",
      "PDF '../data/documents/IMG_481.pdf' created successfully!\n",
      "All pages of 'IMG_481.pdf' converted to JPEG successfully!\n",
      "Spreadsheet 'IMG_482.ods' created successfully!\n"
     ]
    },
    {
     "name": "stderr",
     "output_type": "stream",
     "text": [
      "Warning: failed to launch javaldx - java may not function correctly\n"
     ]
    },
    {
     "name": "stdout",
     "output_type": "stream",
     "text": [
      "convert /home/kubis/Pulpit/BookScanner/BookScanner/data/documents/IMG_482.ods as a Calc document -> /home/kubis/Pulpit/BookScanner/BookScanner/data/documents/IMG_482.pdf using filter : calc_pdf_Export\n",
      "PDF '../data/documents/IMG_482.pdf' created successfully!\n",
      "All pages of 'IMG_482.pdf' converted to JPEG successfully!\n",
      "Spreadsheet 'IMG_483.ods' created successfully!\n"
     ]
    },
    {
     "name": "stderr",
     "output_type": "stream",
     "text": [
      "Warning: failed to launch javaldx - java may not function correctly\n"
     ]
    },
    {
     "name": "stdout",
     "output_type": "stream",
     "text": [
      "convert /home/kubis/Pulpit/BookScanner/BookScanner/data/documents/IMG_483.ods as a Calc document -> /home/kubis/Pulpit/BookScanner/BookScanner/data/documents/IMG_483.pdf using filter : calc_pdf_Export\n",
      "PDF '../data/documents/IMG_483.pdf' created successfully!\n",
      "All pages of 'IMG_483.pdf' converted to JPEG successfully!\n",
      "Spreadsheet 'IMG_484.ods' created successfully!\n"
     ]
    },
    {
     "name": "stderr",
     "output_type": "stream",
     "text": [
      "Warning: failed to launch javaldx - java may not function correctly\n"
     ]
    },
    {
     "name": "stdout",
     "output_type": "stream",
     "text": [
      "convert /home/kubis/Pulpit/BookScanner/BookScanner/data/documents/IMG_484.ods as a Calc document -> /home/kubis/Pulpit/BookScanner/BookScanner/data/documents/IMG_484.pdf using filter : calc_pdf_Export\n",
      "PDF '../data/documents/IMG_484.pdf' created successfully!\n",
      "All pages of 'IMG_484.pdf' converted to JPEG successfully!\n",
      "Spreadsheet 'IMG_485.ods' created successfully!\n"
     ]
    },
    {
     "name": "stderr",
     "output_type": "stream",
     "text": [
      "Warning: failed to launch javaldx - java may not function correctly\n"
     ]
    },
    {
     "name": "stdout",
     "output_type": "stream",
     "text": [
      "convert /home/kubis/Pulpit/BookScanner/BookScanner/data/documents/IMG_485.ods as a Calc document -> /home/kubis/Pulpit/BookScanner/BookScanner/data/documents/IMG_485.pdf using filter : calc_pdf_Export\n",
      "PDF '../data/documents/IMG_485.pdf' created successfully!\n",
      "All pages of 'IMG_485.pdf' converted to JPEG successfully!\n",
      "Spreadsheet 'IMG_486.ods' created successfully!\n"
     ]
    },
    {
     "name": "stderr",
     "output_type": "stream",
     "text": [
      "Warning: failed to launch javaldx - java may not function correctly\n"
     ]
    },
    {
     "name": "stdout",
     "output_type": "stream",
     "text": [
      "convert /home/kubis/Pulpit/BookScanner/BookScanner/data/documents/IMG_486.ods as a Calc document -> /home/kubis/Pulpit/BookScanner/BookScanner/data/documents/IMG_486.pdf using filter : calc_pdf_Export\n",
      "PDF '../data/documents/IMG_486.pdf' created successfully!\n",
      "All pages of 'IMG_486.pdf' converted to JPEG successfully!\n",
      "Spreadsheet 'IMG_487.ods' created successfully!\n"
     ]
    },
    {
     "name": "stderr",
     "output_type": "stream",
     "text": [
      "Warning: failed to launch javaldx - java may not function correctly\n"
     ]
    },
    {
     "name": "stdout",
     "output_type": "stream",
     "text": [
      "convert /home/kubis/Pulpit/BookScanner/BookScanner/data/documents/IMG_487.ods as a Calc document -> /home/kubis/Pulpit/BookScanner/BookScanner/data/documents/IMG_487.pdf using filter : calc_pdf_Export\n",
      "PDF '../data/documents/IMG_487.pdf' created successfully!\n",
      "All pages of 'IMG_487.pdf' converted to JPEG successfully!\n",
      "Spreadsheet 'IMG_488.ods' created successfully!\n"
     ]
    },
    {
     "name": "stderr",
     "output_type": "stream",
     "text": [
      "Warning: failed to launch javaldx - java may not function correctly\n"
     ]
    },
    {
     "name": "stdout",
     "output_type": "stream",
     "text": [
      "convert /home/kubis/Pulpit/BookScanner/BookScanner/data/documents/IMG_488.ods as a Calc document -> /home/kubis/Pulpit/BookScanner/BookScanner/data/documents/IMG_488.pdf using filter : calc_pdf_Export\n",
      "PDF '../data/documents/IMG_488.pdf' created successfully!\n",
      "All pages of 'IMG_488.pdf' converted to JPEG successfully!\n",
      "Spreadsheet 'IMG_489.ods' created successfully!\n"
     ]
    },
    {
     "name": "stderr",
     "output_type": "stream",
     "text": [
      "Warning: failed to launch javaldx - java may not function correctly\n"
     ]
    },
    {
     "name": "stdout",
     "output_type": "stream",
     "text": [
      "convert /home/kubis/Pulpit/BookScanner/BookScanner/data/documents/IMG_489.ods as a Calc document -> /home/kubis/Pulpit/BookScanner/BookScanner/data/documents/IMG_489.pdf using filter : calc_pdf_Export\n",
      "PDF '../data/documents/IMG_489.pdf' created successfully!\n",
      "All pages of 'IMG_489.pdf' converted to JPEG successfully!\n",
      "Spreadsheet 'IMG_490.ods' created successfully!\n"
     ]
    },
    {
     "name": "stderr",
     "output_type": "stream",
     "text": [
      "Warning: failed to launch javaldx - java may not function correctly\n"
     ]
    },
    {
     "name": "stdout",
     "output_type": "stream",
     "text": [
      "convert /home/kubis/Pulpit/BookScanner/BookScanner/data/documents/IMG_490.ods as a Calc document -> /home/kubis/Pulpit/BookScanner/BookScanner/data/documents/IMG_490.pdf using filter : calc_pdf_Export\n",
      "PDF '../data/documents/IMG_490.pdf' created successfully!\n",
      "All pages of 'IMG_490.pdf' converted to JPEG successfully!\n",
      "Spreadsheet 'IMG_491.ods' created successfully!\n"
     ]
    },
    {
     "name": "stderr",
     "output_type": "stream",
     "text": [
      "Warning: failed to launch javaldx - java may not function correctly\n"
     ]
    },
    {
     "name": "stdout",
     "output_type": "stream",
     "text": [
      "convert /home/kubis/Pulpit/BookScanner/BookScanner/data/documents/IMG_491.ods as a Calc document -> /home/kubis/Pulpit/BookScanner/BookScanner/data/documents/IMG_491.pdf using filter : calc_pdf_Export\n",
      "PDF '../data/documents/IMG_491.pdf' created successfully!\n",
      "All pages of 'IMG_491.pdf' converted to JPEG successfully!\n",
      "Spreadsheet 'IMG_492.ods' created successfully!\n"
     ]
    },
    {
     "name": "stderr",
     "output_type": "stream",
     "text": [
      "Warning: failed to launch javaldx - java may not function correctly\n"
     ]
    },
    {
     "name": "stdout",
     "output_type": "stream",
     "text": [
      "convert /home/kubis/Pulpit/BookScanner/BookScanner/data/documents/IMG_492.ods as a Calc document -> /home/kubis/Pulpit/BookScanner/BookScanner/data/documents/IMG_492.pdf using filter : calc_pdf_Export\n",
      "PDF '../data/documents/IMG_492.pdf' created successfully!\n",
      "All pages of 'IMG_492.pdf' converted to JPEG successfully!\n",
      "Spreadsheet 'IMG_493.ods' created successfully!\n"
     ]
    },
    {
     "name": "stderr",
     "output_type": "stream",
     "text": [
      "Warning: failed to launch javaldx - java may not function correctly\n"
     ]
    },
    {
     "name": "stdout",
     "output_type": "stream",
     "text": [
      "convert /home/kubis/Pulpit/BookScanner/BookScanner/data/documents/IMG_493.ods as a Calc document -> /home/kubis/Pulpit/BookScanner/BookScanner/data/documents/IMG_493.pdf using filter : calc_pdf_Export\n",
      "PDF '../data/documents/IMG_493.pdf' created successfully!\n",
      "All pages of 'IMG_493.pdf' converted to JPEG successfully!\n",
      "Spreadsheet 'IMG_494.ods' created successfully!\n"
     ]
    },
    {
     "name": "stderr",
     "output_type": "stream",
     "text": [
      "Warning: failed to launch javaldx - java may not function correctly\n"
     ]
    },
    {
     "name": "stdout",
     "output_type": "stream",
     "text": [
      "convert /home/kubis/Pulpit/BookScanner/BookScanner/data/documents/IMG_494.ods as a Calc document -> /home/kubis/Pulpit/BookScanner/BookScanner/data/documents/IMG_494.pdf using filter : calc_pdf_Export\n",
      "PDF '../data/documents/IMG_494.pdf' created successfully!\n",
      "All pages of 'IMG_494.pdf' converted to JPEG successfully!\n",
      "Spreadsheet 'IMG_495.ods' created successfully!\n"
     ]
    },
    {
     "name": "stderr",
     "output_type": "stream",
     "text": [
      "Warning: failed to launch javaldx - java may not function correctly\n"
     ]
    },
    {
     "name": "stdout",
     "output_type": "stream",
     "text": [
      "convert /home/kubis/Pulpit/BookScanner/BookScanner/data/documents/IMG_495.ods as a Calc document -> /home/kubis/Pulpit/BookScanner/BookScanner/data/documents/IMG_495.pdf using filter : calc_pdf_Export\n",
      "PDF '../data/documents/IMG_495.pdf' created successfully!\n",
      "All pages of 'IMG_495.pdf' converted to JPEG successfully!\n",
      "Spreadsheet 'IMG_496.ods' created successfully!\n"
     ]
    },
    {
     "name": "stderr",
     "output_type": "stream",
     "text": [
      "Warning: failed to launch javaldx - java may not function correctly\n"
     ]
    },
    {
     "name": "stdout",
     "output_type": "stream",
     "text": [
      "convert /home/kubis/Pulpit/BookScanner/BookScanner/data/documents/IMG_496.ods as a Calc document -> /home/kubis/Pulpit/BookScanner/BookScanner/data/documents/IMG_496.pdf using filter : calc_pdf_Export\n",
      "PDF '../data/documents/IMG_496.pdf' created successfully!\n",
      "All pages of 'IMG_496.pdf' converted to JPEG successfully!\n",
      "Spreadsheet 'IMG_497.ods' created successfully!\n"
     ]
    },
    {
     "name": "stderr",
     "output_type": "stream",
     "text": [
      "Warning: failed to launch javaldx - java may not function correctly\n"
     ]
    },
    {
     "name": "stdout",
     "output_type": "stream",
     "text": [
      "convert /home/kubis/Pulpit/BookScanner/BookScanner/data/documents/IMG_497.ods as a Calc document -> /home/kubis/Pulpit/BookScanner/BookScanner/data/documents/IMG_497.pdf using filter : calc_pdf_Export\n",
      "PDF '../data/documents/IMG_497.pdf' created successfully!\n",
      "All pages of 'IMG_497.pdf' converted to JPEG successfully!\n",
      "Spreadsheet 'IMG_498.ods' created successfully!\n"
     ]
    },
    {
     "name": "stderr",
     "output_type": "stream",
     "text": [
      "Warning: failed to launch javaldx - java may not function correctly\n"
     ]
    },
    {
     "name": "stdout",
     "output_type": "stream",
     "text": [
      "convert /home/kubis/Pulpit/BookScanner/BookScanner/data/documents/IMG_498.ods as a Calc document -> /home/kubis/Pulpit/BookScanner/BookScanner/data/documents/IMG_498.pdf using filter : calc_pdf_Export\n",
      "PDF '../data/documents/IMG_498.pdf' created successfully!\n",
      "All pages of 'IMG_498.pdf' converted to JPEG successfully!\n",
      "Spreadsheet 'IMG_499.ods' created successfully!\n"
     ]
    },
    {
     "name": "stderr",
     "output_type": "stream",
     "text": [
      "Warning: failed to launch javaldx - java may not function correctly\n"
     ]
    },
    {
     "name": "stdout",
     "output_type": "stream",
     "text": [
      "convert /home/kubis/Pulpit/BookScanner/BookScanner/data/documents/IMG_499.ods as a Calc document -> /home/kubis/Pulpit/BookScanner/BookScanner/data/documents/IMG_499.pdf using filter : calc_pdf_Export\n",
      "PDF '../data/documents/IMG_499.pdf' created successfully!\n",
      "All pages of 'IMG_499.pdf' converted to JPEG successfully!\n",
      "Spreadsheet 'IMG_500.ods' created successfully!\n"
     ]
    },
    {
     "name": "stderr",
     "output_type": "stream",
     "text": [
      "Warning: failed to launch javaldx - java may not function correctly\n"
     ]
    },
    {
     "name": "stdout",
     "output_type": "stream",
     "text": [
      "convert /home/kubis/Pulpit/BookScanner/BookScanner/data/documents/IMG_500.ods as a Calc document -> /home/kubis/Pulpit/BookScanner/BookScanner/data/documents/IMG_500.pdf using filter : calc_pdf_Export\n",
      "PDF '../data/documents/IMG_500.pdf' created successfully!\n",
      "All pages of 'IMG_500.pdf' converted to JPEG successfully!\n"
     ]
    }
   ],
   "source": [
    "for i in range(1, 501):\n",
    "    name = f\"IMG_{i}\"\n",
    "    generate_random_file_content(name)\n",
    "    convert_ods_to_pdf(name)\n",
    "    convert_pdf_to_jpeg(name)"
   ]
  }
 ],
 "metadata": {
  "kernelspec": {
   "display_name": ".venv",
   "language": "python",
   "name": "python3"
  },
  "language_info": {
   "codemirror_mode": {
    "name": "ipython",
    "version": 3
   },
   "file_extension": ".py",
   "mimetype": "text/x-python",
   "name": "python",
   "nbconvert_exporter": "python",
   "pygments_lexer": "ipython3",
   "version": "3.12.3"
  }
 },
 "nbformat": 4,
 "nbformat_minor": 2
}
