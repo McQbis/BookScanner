{
 "cells": [
  {
   "cell_type": "markdown",
   "metadata": {},
   "source": [
    "# Data Generator\n",
    "This notebook is designed to generate data for training an AI model.\n",
    "## Documents Generator\n",
    "To ensure the model does not become dependent on specific contexts, we generate documents with highly randomized content. This is achieved using **LibreOffice Calc**, where text from a predefined file is randomly distributed across sheets.\n",
    "\n",
    "To prepare this file, ensure it contains at least 7,000 words. Additionally, maintain a folder structure to data processing.\n",
    "### Sheets generator"
   ]
  },
  {
   "cell_type": "code",
   "execution_count": null,
   "metadata": {},
   "outputs": [],
   "source": [
    "from odf.opendocument import OpenDocumentSpreadsheet\n",
    "from odf.style import Style, TextProperties\n",
    "from odf.table import Table, TableRow, TableCell\n",
    "from odf.text import P\n",
    "import random\n",
    "from numpy.random import choice\n",
    "from pathlib import Path\n",
    "from typing import List\n",
    "\n",
    "# Read text for document generation\n",
    "TEXT_FILE_PATH = \"text.txt\"\n",
    "OUTPUT_DIRECTORY = Path(\"../data/documents\")\n",
    "\n",
    "def load_words(file_path: str) -> List[str]:\n",
    "    \"\"\"Load words from a text file.\"\"\"\n",
    "    with open(file_path, \"r\", encoding=\"utf-8\") as file:\n",
    "        return file.read().split()\n",
    "    \n",
    "words_from_file = load_words(TEXT_FILE_PATH)\n",
    "\n",
    "def generate_random_font_style() -> Style:\n",
    "    \"\"\"Generate a random font style for table cells.\"\"\"\n",
    "    style = Style(name=f\"Style_{random.randint(1, 1_000_000)}\", family=\"table-cell\")\n",
    "    \n",
    "    font_size = choice([\"12pt\", \"14pt\", \"17pt\", \"21pt\", \"26pt\"],\n",
    "                       p=[0.8, 0.05, 0.05, 0.05, 0.05])\n",
    "    bold = choice([\"bold\", \"normal\"], p=[0.05, 0.95])\n",
    "    italic = choice([\"italic\", \"normal\"], p=[0.05, 0.95])\n",
    "    \n",
    "    style.addElement(TextProperties(fontstyle=italic, fontweight=bold, fontsize=font_size))\n",
    "    return style\n",
    "\n",
    "def generate_random_file_content(file_name: str):\n",
    "    \"\"\"Generate an OpenDocument spreadsheet with random text formatting.\"\"\"\n",
    "    # Prepare data\n",
    "    random.shuffle(words_from_file)\n",
    "    words = words_from_file[random.randint(0, 101):random.randint(102, len(words_from_file))]\n",
    "    num_of_words = len(words)\n",
    "\n",
    "    \n",
    "    # Create a new spreadsheet document\n",
    "    doc = OpenDocumentSpreadsheet()\n",
    "    table = Table(name=file_name)\n",
    "    file_content = []\n",
    "    \n",
    "    # Generate table content\n",
    "    i = 0\n",
    "    while i < num_of_words:\n",
    "        line_length = random.randint(1, 10)\n",
    "        tab_adding = choice([True, False], p=[0.05, 0.95])\n",
    "        dash_adding = choice([True, False], p=[0.05, 0.95])\n",
    "        star_adding = choice([True, False], p=[0.05, 0.95])\n",
    "        \n",
    "        row_data = []\n",
    "        if tab_adding:\n",
    "            row_data.append(\"\")\n",
    "            tab_adding = False\n",
    "        \n",
    "        for _ in range(line_length):\n",
    "            if i >= num_of_words:\n",
    "                break\n",
    "            \n",
    "            if dash_adding:\n",
    "                row_data.append(\"-\")\n",
    "                dash_adding = False\n",
    "            elif star_adding:\n",
    "                row_data.append(\"*\")\n",
    "                star_adding = False\n",
    "            else:\n",
    "                row_data.append(words[i])\n",
    "                i += 1\n",
    "        \n",
    "        file_content.append(row_data)\n",
    "    \n",
    "    # Add rows and cells to the table\n",
    "    for row_data in file_content:\n",
    "        row = TableRow()\n",
    "        for cell_data in row_data:\n",
    "            font_style = generate_random_font_style()\n",
    "            doc.automaticstyles.addElement(font_style)\n",
    "            cell = TableCell(stylename=font_style)\n",
    "            cell.addElement(P(text=cell_data))\n",
    "            row.addElement(cell)\n",
    "        table.addElement(row)\n",
    "    \n",
    "    # Add table to document\n",
    "    doc.spreadsheet.addElement(table)\n",
    "    \n",
    "    # Ensure output directory exists\n",
    "    OUTPUT_DIRECTORY.mkdir(parents=True, exist_ok=True)\n",
    "    \n",
    "    # Save the document\n",
    "    output_path = OUTPUT_DIRECTORY / f\"{file_name}.ods\"\n",
    "    doc.save(str(output_path))\n",
    "    print(f\"Spreadsheet '{file_name}.ods' created successfully!\")\n",
    "\n",
    "# Example usage\n",
    "generate_random_file_content(\"example\")"
   ]
  },
  {
   "cell_type": "markdown",
   "metadata": {},
   "source": [
    "### Converting sheets to PDF file.\n",
    "This is necessary because it gives the content from a sheet the appearance of a document automatically."
   ]
  },
  {
   "cell_type": "code",
   "execution_count": null,
   "metadata": {},
   "outputs": [],
   "source": [
    "import subprocess\n",
    "import os\n",
    "\n",
    "def convert_ods_to_pdf(file_name: str):\n",
    "    \"\"\"Convert an ODS file to PDF using LibreOffice CLI.\"\"\"\n",
    "    input_path = OUTPUT_DIRECTORY / f\"{file_name}.ods\"\n",
    "    output_path = OUTPUT_DIRECTORY / f\"{file_name}.pdf\"\n",
    "    \n",
    "    if not input_path.exists():\n",
    "        print(f\"Error: File '{input_path}' not found.\")\n",
    "        return\n",
    "    \n",
    "    try:\n",
    "        subprocess.run([\n",
    "            \"libreoffice\", \"--headless\", \"--convert-to\", \"pdf\", str(input_path), \"--outdir\", str(OUTPUT_DIRECTORY)\n",
    "        ], check=True)\n",
    "        print(f\"PDF '{output_path}' created successfully!\")\n",
    "        os.remove(input_path)\n",
    "    except subprocess.CalledProcessError as e:\n",
    "        print(f\"Error during conversion: {e}\")\n",
    "\n",
    "# example usage\n",
    "convert_ods_to_pdf(\"example\")"
   ]
  },
  {
   "cell_type": "markdown",
   "metadata": {},
   "source": [
    "### Converting PDF file to JPEG file."
   ]
  },
  {
   "cell_type": "code",
   "execution_count": null,
   "metadata": {},
   "outputs": [],
   "source": [
    "from pdf2image import convert_from_path\n",
    "\n",
    "def convert_pdf_to_jpeg(file_name: str):\n",
    "    \"\"\"Convert all pages of a PDF file to JPEG using pdf2image.\"\"\"\n",
    "    pdf_path = OUTPUT_DIRECTORY / f\"{file_name}.pdf\"\n",
    "    output_dir = OUTPUT_DIRECTORY\n",
    "    output_dir.mkdir(parents=True, exist_ok=True)\n",
    "    \n",
    "    if not pdf_path.exists():\n",
    "        print(f\"Error: File '{pdf_path}' not found.\")\n",
    "        return\n",
    "    \n",
    "    try:\n",
    "        images = convert_from_path(str(pdf_path))\n",
    "        for i, image in enumerate(images):\n",
    "            image.save(str(output_dir / f\"{file_name}_page_{i + 1}.jpg\"), \"JPEG\")\n",
    "        print(f\"All pages of '{file_name}.pdf' converted to JPEG successfully!\")\n",
    "        os.remove(pdf_path)\n",
    "    except Exception as e:\n",
    "        print(f\"Error during conversion: {e}\")\n",
    "\n",
    "# example usage\n",
    "convert_pdf_to_jpeg(\"example\")"
   ]
  },
  {
   "cell_type": "markdown",
   "metadata": {},
   "source": [
    "### Generating 500 documents and converting them to JPEG files."
   ]
  },
  {
   "cell_type": "code",
   "execution_count": null,
   "metadata": {},
   "outputs": [],
   "source": [
    "for i in range(1, 501):\n",
    "    name = f\"IMG_{i}\"\n",
    "    generate_random_file_content(name)\n",
    "    convert_ods_to_pdf(name)\n",
    "    convert_pdf_to_jpeg(name)"
   ]
  },
  {
   "cell_type": "markdown",
   "metadata": {},
   "source": [
    "## Adding documents curvature"
   ]
  }
 ],
 "metadata": {
  "kernelspec": {
   "display_name": ".venv",
   "language": "python",
   "name": "python3"
  },
  "language_info": {
   "codemirror_mode": {
    "name": "ipython",
    "version": 3
   },
   "file_extension": ".py",
   "mimetype": "text/x-python",
   "name": "python",
   "nbconvert_exporter": "python",
   "pygments_lexer": "ipython3",
   "version": "3.12.3"
  }
 },
 "nbformat": 4,
 "nbformat_minor": 2
}
